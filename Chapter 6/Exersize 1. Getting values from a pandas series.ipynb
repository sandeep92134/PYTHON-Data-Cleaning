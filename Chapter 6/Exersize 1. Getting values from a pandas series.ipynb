{
  "nbformat": 4,
  "nbformat_minor": 0,
  "metadata": {
    "colab": {
      "name": "Untitled1.ipynb",
      "provenance": [],
      "authorship_tag": "ABX9TyNjBdNL2o8ZZLB5TW2ygtd2",
      "include_colab_link": true
    },
    "kernelspec": {
      "name": "python3",
      "display_name": "Python 3"
    },
    "language_info": {
      "name": "python"
    }
  },
  "cells": [
    {
      "cell_type": "markdown",
      "metadata": {
        "id": "view-in-github",
        "colab_type": "text"
      },
      "source": [
        "<a href=\"https://colab.research.google.com/github/sandeep92134/PYTHON-Data-Cleaning/blob/master/Chapter%206/Exersize%201.%20Getting%20values%20from%20a%20pandas%20series.ipynb\" target=\"_parent\"><img src=\"https://colab.research.google.com/assets/colab-badge.svg\" alt=\"Open In Colab\"/></a>"
      ]
    },
    {
      "cell_type": "code",
      "metadata": {
        "id": "L1y77XhXXgCr"
      },
      "source": [
        "# Import pandas and the required NLS data:\n",
        "import pandas as pd\n",
        "nls97 = pd.read_csv(\"https://raw.githubusercontent.com/sandeep92134/PYTHON-Data-Cleaning/master/Chapter%206/datasets/nls97b.csv\")\n",
        "nls97.set_index(\"personid\", inplace=True)"
      ],
      "execution_count": 1,
      "outputs": []
    },
    {
      "cell_type": "code",
      "metadata": {
        "colab": {
          "base_uri": "https://localhost:8080/"
        },
        "id": "dcHJcckoXqFa",
        "outputId": "661fcb76-6778-4ffe-f03c-9740518dc825"
      },
      "source": [
        "# Create a series from the GPA overall column.\n",
        "gpaoverall = nls97.gpaoverall\n",
        "type(gpaoverall)"
      ],
      "execution_count": 2,
      "outputs": [
        {
          "output_type": "execute_result",
          "data": {
            "text/plain": [
              "pandas.core.series.Series"
            ]
          },
          "metadata": {
            "tags": []
          },
          "execution_count": 2
        }
      ]
    },
    {
      "cell_type": "code",
      "metadata": {
        "colab": {
          "base_uri": "https://localhost:8080/"
        },
        "id": "kN4T1QePYIlk",
        "outputId": "9bd80dc6-1ed8-480b-ab4e-f0133f85cca7"
      },
      "source": [
        "gpaoverall.head()"
      ],
      "execution_count": 3,
      "outputs": [
        {
          "output_type": "execute_result",
          "data": {
            "text/plain": [
              "personid\n",
              "100061    3.06\n",
              "100139     NaN\n",
              "100284     NaN\n",
              "100292    3.45\n",
              "100583    2.91\n",
              "Name: gpaoverall, dtype: float64"
            ]
          },
          "metadata": {
            "tags": []
          },
          "execution_count": 3
        }
      ]
    },
    {
      "cell_type": "code",
      "metadata": {
        "colab": {
          "base_uri": "https://localhost:8080/"
        },
        "id": "BiXJv75dYYJr",
        "outputId": "f2a2230c-8c40-4b99-bab3-358dc8aa6b7c"
      },
      "source": [
        "gpaoverall.index"
      ],
      "execution_count": 4,
      "outputs": [
        {
          "output_type": "execute_result",
          "data": {
            "text/plain": [
              "Int64Index([100061, 100139, 100284, 100292, 100583, 100833, 100931, 101089,\n",
              "            101122, 101132,\n",
              "            ...\n",
              "            998997, 999031, 999053, 999087, 999103, 999291, 999406, 999543,\n",
              "            999698, 999963],\n",
              "           dtype='int64', name='personid', length=8984)"
            ]
          },
          "metadata": {
            "tags": []
          },
          "execution_count": 4
        }
      ]
    },
    {
      "cell_type": "code",
      "metadata": {
        "colab": {
          "base_uri": "https://localhost:8080/"
        },
        "id": "vwAY1wqzYfcx",
        "outputId": "12aff1d9-a5c1-4248-9abd-fb37b27e2185"
      },
      "source": [
        " # Select GPA values using the bracket operator\n",
        " gpaoverall[:5]"
      ],
      "execution_count": 5,
      "outputs": [
        {
          "output_type": "execute_result",
          "data": {
            "text/plain": [
              "personid\n",
              "100061    3.06\n",
              "100139     NaN\n",
              "100284     NaN\n",
              "100292    3.45\n",
              "100583    2.91\n",
              "Name: gpaoverall, dtype: float64"
            ]
          },
          "metadata": {
            "tags": []
          },
          "execution_count": 5
        }
      ]
    },
    {
      "cell_type": "code",
      "metadata": {
        "colab": {
          "base_uri": "https://localhost:8080/"
        },
        "id": "sKRVHADGaAG6",
        "outputId": "95ba3f9a-92b5-410e-e872-da0a7fd2dcc6"
      },
      "source": [
        "gpaoverall.tail()"
      ],
      "execution_count": 6,
      "outputs": [
        {
          "output_type": "execute_result",
          "data": {
            "text/plain": [
              "personid\n",
              "999291    3.11\n",
              "999406    2.17\n",
              "999543     NaN\n",
              "999698     NaN\n",
              "999963    3.78\n",
              "Name: gpaoverall, dtype: float64"
            ]
          },
          "metadata": {
            "tags": []
          },
          "execution_count": 6
        }
      ]
    },
    {
      "cell_type": "code",
      "metadata": {
        "colab": {
          "base_uri": "https://localhost:8080/"
        },
        "id": "ziL3ULenaTCz",
        "outputId": "9510e376-230f-4f0b-e987-add9a880b5e8"
      },
      "source": [
        "gpaoverall[-5:]"
      ],
      "execution_count": 7,
      "outputs": [
        {
          "output_type": "execute_result",
          "data": {
            "text/plain": [
              "personid\n",
              "999291    3.11\n",
              "999406    2.17\n",
              "999543     NaN\n",
              "999698     NaN\n",
              "999963    3.78\n",
              "Name: gpaoverall, dtype: float64"
            ]
          },
          "metadata": {
            "tags": []
          },
          "execution_count": 7
        }
      ]
    },
    {
      "cell_type": "code",
      "metadata": {
        "colab": {
          "base_uri": "https://localhost:8080/"
        },
        "id": "ino2J2kwaoT2",
        "outputId": "c9c6fe1f-4680-431d-9915-c32cfeb3abf5"
      },
      "source": [
        "# Select values using the loc accessor.\n",
        "gpaoverall.loc[100061]"
      ],
      "execution_count": 8,
      "outputs": [
        {
          "output_type": "execute_result",
          "data": {
            "text/plain": [
              "3.06"
            ]
          },
          "metadata": {
            "tags": []
          },
          "execution_count": 8
        }
      ]
    },
    {
      "cell_type": "code",
      "metadata": {
        "colab": {
          "base_uri": "https://localhost:8080/"
        },
        "id": "EG3e2gRMpB3_",
        "outputId": "96b9c537-0791-447d-f9f3-f63891601867"
      },
      "source": [
        "gpaoverall.loc[[100061]]"
      ],
      "execution_count": 9,
      "outputs": [
        {
          "output_type": "execute_result",
          "data": {
            "text/plain": [
              "personid\n",
              "100061    3.06\n",
              "Name: gpaoverall, dtype: float64"
            ]
          },
          "metadata": {
            "tags": []
          },
          "execution_count": 9
        }
      ]
    },
    {
      "cell_type": "code",
      "metadata": {
        "colab": {
          "base_uri": "https://localhost:8080/"
        },
        "id": "JgxYP0WMpGOP",
        "outputId": "00236f11-3efc-4204-a546-2b0c6c65e85b"
      },
      "source": [
        "gpaoverall.loc[[100061,100139,100284]]"
      ],
      "execution_count": 10,
      "outputs": [
        {
          "output_type": "execute_result",
          "data": {
            "text/plain": [
              "personid\n",
              "100061    3.06\n",
              "100139     NaN\n",
              "100284     NaN\n",
              "Name: gpaoverall, dtype: float64"
            ]
          },
          "metadata": {
            "tags": []
          },
          "execution_count": 10
        }
      ]
    },
    {
      "cell_type": "code",
      "metadata": {
        "colab": {
          "base_uri": "https://localhost:8080/"
        },
        "id": "ItG_lK57pH-i",
        "outputId": "51f67f82-8f7a-48e6-c62f-b38e13406f60"
      },
      "source": [
        "gpaoverall.loc[100061:100833]"
      ],
      "execution_count": 11,
      "outputs": [
        {
          "output_type": "execute_result",
          "data": {
            "text/plain": [
              "personid\n",
              "100061    3.06\n",
              "100139     NaN\n",
              "100284     NaN\n",
              "100292    3.45\n",
              "100583    2.91\n",
              "100833    2.46\n",
              "Name: gpaoverall, dtype: float64"
            ]
          },
          "metadata": {
            "tags": []
          },
          "execution_count": 11
        }
      ]
    },
    {
      "cell_type": "code",
      "metadata": {
        "colab": {
          "base_uri": "https://localhost:8080/"
        },
        "id": "OONzh-BpapEy",
        "outputId": "c7ea8c99-3811-4af4-f225-29f105171dbf"
      },
      "source": [
        "# Select values using the iloc accessor.\n",
        "gpaoverall.iloc[[0]]"
      ],
      "execution_count": 12,
      "outputs": [
        {
          "output_type": "execute_result",
          "data": {
            "text/plain": [
              "personid\n",
              "100061    3.06\n",
              "Name: gpaoverall, dtype: float64"
            ]
          },
          "metadata": {
            "tags": []
          },
          "execution_count": 12
        }
      ]
    },
    {
      "cell_type": "code",
      "metadata": {
        "colab": {
          "base_uri": "https://localhost:8080/"
        },
        "id": "x3J00tBTo6je",
        "outputId": "2f327a45-926e-41b7-c255-c6d3261f7879"
      },
      "source": [
        "gpaoverall.iloc[[0,1,2,3,4]]"
      ],
      "execution_count": 13,
      "outputs": [
        {
          "output_type": "execute_result",
          "data": {
            "text/plain": [
              "personid\n",
              "100061    3.06\n",
              "100139     NaN\n",
              "100284     NaN\n",
              "100292    3.45\n",
              "100583    2.91\n",
              "Name: gpaoverall, dtype: float64"
            ]
          },
          "metadata": {
            "tags": []
          },
          "execution_count": 13
        }
      ]
    },
    {
      "cell_type": "code",
      "metadata": {
        "colab": {
          "base_uri": "https://localhost:8080/"
        },
        "id": "iiMo3r_Ao8nZ",
        "outputId": "888f8cee-dc11-4827-9454-8862efc3a10b"
      },
      "source": [
        "gpaoverall.iloc[:5]"
      ],
      "execution_count": 14,
      "outputs": [
        {
          "output_type": "execute_result",
          "data": {
            "text/plain": [
              "personid\n",
              "100061    3.06\n",
              "100139     NaN\n",
              "100284     NaN\n",
              "100292    3.45\n",
              "100583    2.91\n",
              "Name: gpaoverall, dtype: float64"
            ]
          },
          "metadata": {
            "tags": []
          },
          "execution_count": 14
        }
      ]
    },
    {
      "cell_type": "code",
      "metadata": {
        "colab": {
          "base_uri": "https://localhost:8080/"
        },
        "id": "iWJ1M517o-kI",
        "outputId": "c08004bf-e990-4dc2-b162-84175fd96873"
      },
      "source": [
        "gpaoverall.iloc[-5:]"
      ],
      "execution_count": 15,
      "outputs": [
        {
          "output_type": "execute_result",
          "data": {
            "text/plain": [
              "personid\n",
              "999291    3.11\n",
              "999406    2.17\n",
              "999543     NaN\n",
              "999698     NaN\n",
              "999963    3.78\n",
              "Name: gpaoverall, dtype: float64"
            ]
          },
          "metadata": {
            "tags": []
          },
          "execution_count": 15
        }
      ]
    }
  ]
}