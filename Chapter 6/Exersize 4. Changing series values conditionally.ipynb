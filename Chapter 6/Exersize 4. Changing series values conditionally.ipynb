{
  "nbformat": 4,
  "nbformat_minor": 0,
  "metadata": {
    "colab": {
      "name": "Untitled4.ipynb",
      "provenance": [],
      "authorship_tag": "ABX9TyPxio7CWJIHHCM7460yOkC4",
      "include_colab_link": true
    },
    "kernelspec": {
      "name": "python3",
      "display_name": "Python 3"
    },
    "language_info": {
      "name": "python"
    }
  },
  "cells": [
    {
      "cell_type": "markdown",
      "metadata": {
        "id": "view-in-github",
        "colab_type": "text"
      },
      "source": [
        "<a href=\"https://colab.research.google.com/github/sandeep92134/PYTHON-Data-Cleaning/blob/master/Chapter%206/Exersize%204.%20Changing%20series%20values%20conditionally.ipynb\" target=\"_parent\"><img src=\"https://colab.research.google.com/assets/colab-badge.svg\" alt=\"Open In Colab\"/></a>"
      ]
    },
    {
      "cell_type": "code",
      "metadata": {
        "id": "BA2tzFrxj3Iw"
      },
      "source": [
        "import pandas as pd\n",
        "import numpy as np\n",
        "nls97 = pd.read_csv(\"https://raw.githubusercontent.com/sandeep92134/PYTHON-Data-Cleaning/master/Chapter%206/datasets/nls97b.csv\")\n",
        "nls97.set_index(\"personid\", inplace=True)\n",
        "landtemps = pd.read_csv(\"https://raw.githubusercontent.com/sandeep92134/PYTHON-Data-Cleaning/master/Chapter%206/datasets/landtemps2019avgs.csv\")"
      ],
      "execution_count": 1,
      "outputs": []
    },
    {
      "cell_type": "code",
      "metadata": {
        "colab": {
          "base_uri": "https://localhost:8080/"
        },
        "id": "tE4V8ejbkTiQ",
        "outputId": "a00b2c39-db00-4e94-9113-8797c0c88c9e"
      },
      "source": [
        "landtemps.elevation.quantile(np.arange(0.2,1.1,0.2))"
      ],
      "execution_count": 2,
      "outputs": [
        {
          "output_type": "execute_result",
          "data": {
            "text/plain": [
              "0.2      48.0\n",
              "0.4     190.5\n",
              "0.6     393.2\n",
              "0.8    1066.8\n",
              "1.0    9999.0\n",
              "Name: elevation, dtype: float64"
            ]
          },
          "metadata": {
            "tags": []
          },
          "execution_count": 2
        }
      ]
    },
    {
      "cell_type": "code",
      "metadata": {
        "colab": {
          "base_uri": "https://localhost:8080/",
          "height": 142
        },
        "id": "JdLGf51-kmqJ",
        "outputId": "0f546b4d-f32a-44e1-a5ff-6508dd134734"
      },
      "source": [
        "landtemps['elevation_group'] = np.where(landtemps.elevation>landtemps.elevation.quantile(0.8),'High','Low')\n",
        "landtemps.elevation_group = landtemps.elevation_group.astype('category')\n",
        "landtemps.groupby(['elevation_group'])['elevation'].\\\n",
        "agg(['count','min','max'])"
      ],
      "execution_count": 3,
      "outputs": [
        {
          "output_type": "execute_result",
          "data": {
            "text/html": [
              "<div>\n",
              "<style scoped>\n",
              "    .dataframe tbody tr th:only-of-type {\n",
              "        vertical-align: middle;\n",
              "    }\n",
              "\n",
              "    .dataframe tbody tr th {\n",
              "        vertical-align: top;\n",
              "    }\n",
              "\n",
              "    .dataframe thead th {\n",
              "        text-align: right;\n",
              "    }\n",
              "</style>\n",
              "<table border=\"1\" class=\"dataframe\">\n",
              "  <thead>\n",
              "    <tr style=\"text-align: right;\">\n",
              "      <th></th>\n",
              "      <th>count</th>\n",
              "      <th>min</th>\n",
              "      <th>max</th>\n",
              "    </tr>\n",
              "    <tr>\n",
              "      <th>elevation_group</th>\n",
              "      <th></th>\n",
              "      <th></th>\n",
              "      <th></th>\n",
              "    </tr>\n",
              "  </thead>\n",
              "  <tbody>\n",
              "    <tr>\n",
              "      <th>High</th>\n",
              "      <td>2409</td>\n",
              "      <td>1067.0</td>\n",
              "      <td>9999.0</td>\n",
              "    </tr>\n",
              "    <tr>\n",
              "      <th>Low</th>\n",
              "      <td>9686</td>\n",
              "      <td>-350.0</td>\n",
              "      <td>1066.8</td>\n",
              "    </tr>\n",
              "  </tbody>\n",
              "</table>\n",
              "</div>"
            ],
            "text/plain": [
              "                 count     min     max\n",
              "elevation_group                       \n",
              "High              2409  1067.0  9999.0\n",
              "Low               9686  -350.0  1066.8"
            ]
          },
          "metadata": {
            "tags": []
          },
          "execution_count": 3
        }
      ]
    },
    {
      "cell_type": "code",
      "metadata": {
        "colab": {
          "base_uri": "https://localhost:8080/"
        },
        "id": "XIxaJRydknn1",
        "outputId": "b0e5dd1d-4c58-44f2-b259-7fd791c9e1a5"
      },
      "source": [
        "landtemps.elevation.median()"
      ],
      "execution_count": 4,
      "outputs": [
        {
          "output_type": "execute_result",
          "data": {
            "text/plain": [
              "271.3"
            ]
          },
          "metadata": {
            "tags": []
          },
          "execution_count": 4
        }
      ]
    },
    {
      "cell_type": "code",
      "metadata": {
        "colab": {
          "base_uri": "https://localhost:8080/",
          "height": 173
        },
        "id": "r1ideAyJkwbU",
        "outputId": "f724c1f5-a03e-4e97-fe59-990d96153556"
      },
      "source": [
        "landtemps['elevation_group'] = np.where(landtemps.elevation>\n",
        "landtemps.elevation.quantile(0.8),'High',np.where(landtemps.elevation>\n",
        "landtemps.elevation.median(),'Medium','Low'))\n",
        "landtemps.elevation_group = landtemps.elevation_group.astype('category')\n",
        "landtemps.groupby(['elevation_group'])['elevation'].agg(['count','min','max'])"
      ],
      "execution_count": 5,
      "outputs": [
        {
          "output_type": "execute_result",
          "data": {
            "text/html": [
              "<div>\n",
              "<style scoped>\n",
              "    .dataframe tbody tr th:only-of-type {\n",
              "        vertical-align: middle;\n",
              "    }\n",
              "\n",
              "    .dataframe tbody tr th {\n",
              "        vertical-align: top;\n",
              "    }\n",
              "\n",
              "    .dataframe thead th {\n",
              "        text-align: right;\n",
              "    }\n",
              "</style>\n",
              "<table border=\"1\" class=\"dataframe\">\n",
              "  <thead>\n",
              "    <tr style=\"text-align: right;\">\n",
              "      <th></th>\n",
              "      <th>count</th>\n",
              "      <th>min</th>\n",
              "      <th>max</th>\n",
              "    </tr>\n",
              "    <tr>\n",
              "      <th>elevation_group</th>\n",
              "      <th></th>\n",
              "      <th></th>\n",
              "      <th></th>\n",
              "    </tr>\n",
              "  </thead>\n",
              "  <tbody>\n",
              "    <tr>\n",
              "      <th>High</th>\n",
              "      <td>2409</td>\n",
              "      <td>1067.0</td>\n",
              "      <td>9999.0</td>\n",
              "    </tr>\n",
              "    <tr>\n",
              "      <th>Low</th>\n",
              "      <td>6056</td>\n",
              "      <td>-350.0</td>\n",
              "      <td>271.3</td>\n",
              "    </tr>\n",
              "    <tr>\n",
              "      <th>Medium</th>\n",
              "      <td>3630</td>\n",
              "      <td>271.4</td>\n",
              "      <td>1066.8</td>\n",
              "    </tr>\n",
              "  </tbody>\n",
              "</table>\n",
              "</div>"
            ],
            "text/plain": [
              "                 count     min     max\n",
              "elevation_group                       \n",
              "High              2409  1067.0  9999.0\n",
              "Low               6056  -350.0   271.3\n",
              "Medium            3630   271.4  1066.8"
            ]
          },
          "metadata": {
            "tags": []
          },
          "execution_count": 5
        }
      ]
    },
    {
      "cell_type": "code",
      "metadata": {
        "colab": {
          "base_uri": "https://localhost:8080/",
          "height": 235
        },
        "id": "uU1Mo8oFk5Md",
        "outputId": "ea2e844b-affe-4a82-e72f-ec5cbc77577a"
      },
      "source": [
        "test = [(nls97.gpaoverall<2) & (nls97.highestdegree=='0. None'), nls97.highestdegree=='0. None', nls97.gpaoverall<2]\n",
        "result = ['1. Low GPA and No Diploma','2. No Diploma','3. Low GPA']\n",
        "nls97['hsachieve'] = np.select(test, result, '4. Did Okay')\n",
        "nls97[['hsachieve','gpaoverall','highestdegree']].head()"
      ],
      "execution_count": 6,
      "outputs": [
        {
          "output_type": "execute_result",
          "data": {
            "text/html": [
              "<div>\n",
              "<style scoped>\n",
              "    .dataframe tbody tr th:only-of-type {\n",
              "        vertical-align: middle;\n",
              "    }\n",
              "\n",
              "    .dataframe tbody tr th {\n",
              "        vertical-align: top;\n",
              "    }\n",
              "\n",
              "    .dataframe thead th {\n",
              "        text-align: right;\n",
              "    }\n",
              "</style>\n",
              "<table border=\"1\" class=\"dataframe\">\n",
              "  <thead>\n",
              "    <tr style=\"text-align: right;\">\n",
              "      <th></th>\n",
              "      <th>hsachieve</th>\n",
              "      <th>gpaoverall</th>\n",
              "      <th>highestdegree</th>\n",
              "    </tr>\n",
              "    <tr>\n",
              "      <th>personid</th>\n",
              "      <th></th>\n",
              "      <th></th>\n",
              "      <th></th>\n",
              "    </tr>\n",
              "  </thead>\n",
              "  <tbody>\n",
              "    <tr>\n",
              "      <th>100061</th>\n",
              "      <td>4. Did Okay</td>\n",
              "      <td>3.06</td>\n",
              "      <td>2. High School</td>\n",
              "    </tr>\n",
              "    <tr>\n",
              "      <th>100139</th>\n",
              "      <td>4. Did Okay</td>\n",
              "      <td>NaN</td>\n",
              "      <td>2. High School</td>\n",
              "    </tr>\n",
              "    <tr>\n",
              "      <th>100284</th>\n",
              "      <td>2. No Diploma</td>\n",
              "      <td>NaN</td>\n",
              "      <td>0. None</td>\n",
              "    </tr>\n",
              "    <tr>\n",
              "      <th>100292</th>\n",
              "      <td>4. Did Okay</td>\n",
              "      <td>3.45</td>\n",
              "      <td>4. Bachelors</td>\n",
              "    </tr>\n",
              "    <tr>\n",
              "      <th>100583</th>\n",
              "      <td>4. Did Okay</td>\n",
              "      <td>2.91</td>\n",
              "      <td>2. High School</td>\n",
              "    </tr>\n",
              "  </tbody>\n",
              "</table>\n",
              "</div>"
            ],
            "text/plain": [
              "              hsachieve  gpaoverall   highestdegree\n",
              "personid                                           \n",
              "100061      4. Did Okay        3.06  2. High School\n",
              "100139      4. Did Okay         NaN  2. High School\n",
              "100284    2. No Diploma         NaN         0. None\n",
              "100292      4. Did Okay        3.45    4. Bachelors\n",
              "100583      4. Did Okay        2.91  2. High School"
            ]
          },
          "metadata": {
            "tags": []
          },
          "execution_count": 6
        }
      ]
    },
    {
      "cell_type": "code",
      "metadata": {
        "colab": {
          "base_uri": "https://localhost:8080/"
        },
        "id": "86T0J3uSlBgh",
        "outputId": "032ca84d-ded4-4afb-a045-a3d0239aa548"
      },
      "source": [
        "nls97.hsachieve.value_counts().sort_index()"
      ],
      "execution_count": 7,
      "outputs": [
        {
          "output_type": "execute_result",
          "data": {
            "text/plain": [
              "1. Low GPA and No Diploma      95\n",
              "2. No Diploma                 858\n",
              "3. Low GPA                    459\n",
              "4. Did Okay                  7572\n",
              "Name: hsachieve, dtype: int64"
            ]
          },
          "metadata": {
            "tags": []
          },
          "execution_count": 7
        }
      ]
    },
    {
      "cell_type": "code",
      "metadata": {
        "colab": {
          "base_uri": "https://localhost:8080/",
          "height": 359
        },
        "id": "-9v91zYXlHZk",
        "outputId": "1317f58e-0bbd-4cbf-db79-e05eb0cbcca9"
      },
      "source": [
        "nls97.loc[[100292,100583,100139], 'colenrfeb00':'colenroct04'].T"
      ],
      "execution_count": 8,
      "outputs": [
        {
          "output_type": "execute_result",
          "data": {
            "text/html": [
              "<div>\n",
              "<style scoped>\n",
              "    .dataframe tbody tr th:only-of-type {\n",
              "        vertical-align: middle;\n",
              "    }\n",
              "\n",
              "    .dataframe tbody tr th {\n",
              "        vertical-align: top;\n",
              "    }\n",
              "\n",
              "    .dataframe thead th {\n",
              "        text-align: right;\n",
              "    }\n",
              "</style>\n",
              "<table border=\"1\" class=\"dataframe\">\n",
              "  <thead>\n",
              "    <tr style=\"text-align: right;\">\n",
              "      <th>personid</th>\n",
              "      <th>100292</th>\n",
              "      <th>100583</th>\n",
              "      <th>100139</th>\n",
              "    </tr>\n",
              "  </thead>\n",
              "  <tbody>\n",
              "    <tr>\n",
              "      <th>colenrfeb00</th>\n",
              "      <td>1. Not enrolled</td>\n",
              "      <td>1. Not enrolled</td>\n",
              "      <td>1. Not enrolled</td>\n",
              "    </tr>\n",
              "    <tr>\n",
              "      <th>colenroct00</th>\n",
              "      <td>3. 4-year college</td>\n",
              "      <td>1. Not enrolled</td>\n",
              "      <td>1. Not enrolled</td>\n",
              "    </tr>\n",
              "    <tr>\n",
              "      <th>colenrfeb01</th>\n",
              "      <td>3. 4-year college</td>\n",
              "      <td>1. Not enrolled</td>\n",
              "      <td>1. Not enrolled</td>\n",
              "    </tr>\n",
              "    <tr>\n",
              "      <th>colenroct01</th>\n",
              "      <td>3. 4-year college</td>\n",
              "      <td>3. 4-year college</td>\n",
              "      <td>1. Not enrolled</td>\n",
              "    </tr>\n",
              "    <tr>\n",
              "      <th>colenrfeb02</th>\n",
              "      <td>3. 4-year college</td>\n",
              "      <td>3. 4-year college</td>\n",
              "      <td>1. Not enrolled</td>\n",
              "    </tr>\n",
              "    <tr>\n",
              "      <th>colenroct02</th>\n",
              "      <td>3. 4-year college</td>\n",
              "      <td>1. Not enrolled</td>\n",
              "      <td>1. Not enrolled</td>\n",
              "    </tr>\n",
              "    <tr>\n",
              "      <th>colenrfeb03</th>\n",
              "      <td>3. 4-year college</td>\n",
              "      <td>1. Not enrolled</td>\n",
              "      <td>1. Not enrolled</td>\n",
              "    </tr>\n",
              "    <tr>\n",
              "      <th>colenroct03</th>\n",
              "      <td>3. 4-year college</td>\n",
              "      <td>1. Not enrolled</td>\n",
              "      <td>1. Not enrolled</td>\n",
              "    </tr>\n",
              "    <tr>\n",
              "      <th>colenrfeb04</th>\n",
              "      <td>3. 4-year college</td>\n",
              "      <td>1. Not enrolled</td>\n",
              "      <td>1. Not enrolled</td>\n",
              "    </tr>\n",
              "    <tr>\n",
              "      <th>colenroct04</th>\n",
              "      <td>1. Not enrolled</td>\n",
              "      <td>1. Not enrolled</td>\n",
              "      <td>1. Not enrolled</td>\n",
              "    </tr>\n",
              "  </tbody>\n",
              "</table>\n",
              "</div>"
            ],
            "text/plain": [
              "personid                100292             100583           100139\n",
              "colenrfeb00    1. Not enrolled    1. Not enrolled  1. Not enrolled\n",
              "colenroct00  3. 4-year college    1. Not enrolled  1. Not enrolled\n",
              "colenrfeb01  3. 4-year college    1. Not enrolled  1. Not enrolled\n",
              "colenroct01  3. 4-year college  3. 4-year college  1. Not enrolled\n",
              "colenrfeb02  3. 4-year college  3. 4-year college  1. Not enrolled\n",
              "colenroct02  3. 4-year college    1. Not enrolled  1. Not enrolled\n",
              "colenrfeb03  3. 4-year college    1. Not enrolled  1. Not enrolled\n",
              "colenroct03  3. 4-year college    1. Not enrolled  1. Not enrolled\n",
              "colenrfeb04  3. 4-year college    1. Not enrolled  1. Not enrolled\n",
              "colenroct04    1. Not enrolled    1. Not enrolled  1. Not enrolled"
            ]
          },
          "metadata": {
            "tags": []
          },
          "execution_count": 8
        }
      ]
    },
    {
      "cell_type": "code",
      "metadata": {
        "id": "Bwl61IZOlPFd"
      },
      "source": [
        "nls97['baenrollment'] = nls97.filter(like=\"colenr\").\\\n",
        "  apply(lambda x: x.str[0:1]=='3').\\\n",
        "  any(axis=1)"
      ],
      "execution_count": 13,
      "outputs": []
    },
    {
      "cell_type": "code",
      "metadata": {
        "colab": {
          "base_uri": "https://localhost:8080/",
          "height": 80
        },
        "id": "r_usnjMWlu4G",
        "outputId": "d603bd33-5c2e-4e7d-ff37-5936f65443af"
      },
      "source": [
        "nls97.loc[[100292,100583,100139], ['baenrollment']].T"
      ],
      "execution_count": 14,
      "outputs": [
        {
          "output_type": "execute_result",
          "data": {
            "text/html": [
              "<div>\n",
              "<style scoped>\n",
              "    .dataframe tbody tr th:only-of-type {\n",
              "        vertical-align: middle;\n",
              "    }\n",
              "\n",
              "    .dataframe tbody tr th {\n",
              "        vertical-align: top;\n",
              "    }\n",
              "\n",
              "    .dataframe thead th {\n",
              "        text-align: right;\n",
              "    }\n",
              "</style>\n",
              "<table border=\"1\" class=\"dataframe\">\n",
              "  <thead>\n",
              "    <tr style=\"text-align: right;\">\n",
              "      <th>personid</th>\n",
              "      <th>100292</th>\n",
              "      <th>100583</th>\n",
              "      <th>100139</th>\n",
              "    </tr>\n",
              "  </thead>\n",
              "  <tbody>\n",
              "    <tr>\n",
              "      <th>baenrollment</th>\n",
              "      <td>True</td>\n",
              "      <td>True</td>\n",
              "      <td>False</td>\n",
              "    </tr>\n",
              "  </tbody>\n",
              "</table>\n",
              "</div>"
            ],
            "text/plain": [
              "personid      100292  100583  100139\n",
              "baenrollment    True    True   False"
            ]
          },
          "metadata": {
            "tags": []
          },
          "execution_count": 14
        }
      ]
    },
    {
      "cell_type": "code",
      "metadata": {
        "colab": {
          "base_uri": "https://localhost:8080/"
        },
        "id": "99s26SINlkXh",
        "outputId": "84ea8022-dfed-41a7-b756-480141985786"
      },
      "source": [
        "nls97.baenrollment.value_counts()"
      ],
      "execution_count": 16,
      "outputs": [
        {
          "output_type": "execute_result",
          "data": {
            "text/plain": [
              "False    5085\n",
              "True     3899\n",
              "Name: baenrollment, dtype: int64"
            ]
          },
          "metadata": {
            "tags": []
          },
          "execution_count": 16
        }
      ]
    },
    {
      "cell_type": "code",
      "metadata": {
        "id": "_UYozFmNmYH2"
      },
      "source": [
        "# use apply and lambda to create a more complicated categorical series\n",
        "def getsleepdeprivedreason(row):\n",
        "  sleepdeprivedreason = \"Unknown\"\n",
        "  if (row.nightlyhrssleep>=6):\n",
        "    sleepdeprivedreason = \"Not Sleep Deprived\"\n",
        "  elif (row.nightlyhrssleep>0):\n",
        "    if (row.weeksworked16+row.weeksworked17 < 80):\n",
        "      if (row.childathome>2):\n",
        "        sleepdeprivedreason = \"Child Rearing\"\n",
        "      else:\n",
        "        sleepdeprivedreason = \"Other Reasons\"\n",
        "    else:\n",
        "      if (row.wageincome>=62000 or row.highestgradecompleted>=16):\n",
        "        sleepdeprivedreason = \"Work Pressure\"\n",
        "      else:\n",
        "        sleepdeprivedreason = \"Income Pressure\"\n",
        "  else:\n",
        "    sleepdeprivedreason = \"Unknown\"\n",
        "  return sleepdeprivedreason"
      ],
      "execution_count": 17,
      "outputs": []
    },
    {
      "cell_type": "code",
      "metadata": {
        "colab": {
          "base_uri": "https://localhost:8080/"
        },
        "id": "Dns_ibJZmrpK",
        "outputId": "ebf27ef0-924e-45c3-9862-0003d22c27fe"
      },
      "source": [
        "nls97['sleepdeprivedreason'] = nls97.apply(getsleepdeprivedreason, axis=1)\n",
        "nls97.sleepdeprivedreason = nls97.sleepdeprivedreason.astype('category')\n",
        "nls97.sleepdeprivedreason.value_counts()"
      ],
      "execution_count": 18,
      "outputs": [
        {
          "output_type": "execute_result",
          "data": {
            "text/plain": [
              "Not Sleep Deprived    5595\n",
              "Unknown               2286\n",
              "Income Pressure        462\n",
              "Work Pressure          281\n",
              "Other Reasons          272\n",
              "Child Rearing           88\n",
              "Name: sleepdeprivedreason, dtype: int64"
            ]
          },
          "metadata": {
            "tags": []
          },
          "execution_count": 18
        }
      ]
    }
  ]
}