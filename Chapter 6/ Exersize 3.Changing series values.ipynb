{
  "nbformat": 4,
  "nbformat_minor": 0,
  "metadata": {
    "colab": {
      "name": "Untitled3.ipynb",
      "provenance": [],
      "authorship_tag": "ABX9TyOzeX/Fq6Mu2K6OgAO597lX",
      "include_colab_link": true
    },
    "kernelspec": {
      "name": "python3",
      "display_name": "Python 3"
    },
    "language_info": {
      "name": "python"
    }
  },
  "cells": [
    {
      "cell_type": "markdown",
      "metadata": {
        "id": "view-in-github",
        "colab_type": "text"
      },
      "source": [
        "<a href=\"https://colab.research.google.com/github/sandeep92134/PYTHON-Data-Cleaning/blob/master/Chapter%206/%20Exersize%203.Changing%20series%20values.ipynb\" target=\"_parent\"><img src=\"https://colab.research.google.com/assets/colab-badge.svg\" alt=\"Open In Colab\"/></a>"
      ]
    },
    {
      "cell_type": "code",
      "metadata": {
        "id": "LnGiI0JSxsZl"
      },
      "source": [
        "import pandas as pd\n",
        "nls97 = pd.read_csv(\"https://raw.githubusercontent.com/sandeep92134/PYTHON-Data-Cleaning/master/Chapter%206/datasets/nls97b.csv\")\n",
        "nls97.set_index(\"personid\", inplace=True)"
      ],
      "execution_count": 1,
      "outputs": []
    },
    {
      "cell_type": "code",
      "metadata": {
        "colab": {
          "base_uri": "https://localhost:8080/"
        },
        "id": "gHkcPFzYyUwY",
        "outputId": "d5e3921b-6c2d-4a97-8b32-56b80bb04652"
      },
      "source": [
        "nls97.gpaoverall.head()"
      ],
      "execution_count": 2,
      "outputs": [
        {
          "output_type": "execute_result",
          "data": {
            "text/plain": [
              "personid\n",
              "100061    3.06\n",
              "100139     NaN\n",
              "100284     NaN\n",
              "100292    3.45\n",
              "100583    2.91\n",
              "Name: gpaoverall, dtype: float64"
            ]
          },
          "metadata": {
            "tags": []
          },
          "execution_count": 2
        }
      ]
    },
    {
      "cell_type": "code",
      "metadata": {
        "id": "GcPCTrv0zIYE"
      },
      "source": [
        "gpaoverall100 = nls97['gpaoverall'] * 100"
      ],
      "execution_count": 3,
      "outputs": []
    },
    {
      "cell_type": "code",
      "metadata": {
        "colab": {
          "base_uri": "https://localhost:8080/"
        },
        "id": "4Tcrmt5zzaFg",
        "outputId": "823f6063-f9bb-4105-a261-f635f56d896f"
      },
      "source": [
        "gpaoverall100.head()"
      ],
      "execution_count": 4,
      "outputs": [
        {
          "output_type": "execute_result",
          "data": {
            "text/plain": [
              "personid\n",
              "100061    306.0\n",
              "100139      NaN\n",
              "100284      NaN\n",
              "100292    345.0\n",
              "100583    291.0\n",
              "Name: gpaoverall, dtype: float64"
            ]
          },
          "metadata": {
            "tags": []
          },
          "execution_count": 4
        }
      ]
    },
    {
      "cell_type": "code",
      "metadata": {
        "colab": {
          "base_uri": "https://localhost:8080/"
        },
        "id": "cb8mC6xOzf7c",
        "outputId": "ec74cf66-cc42-4aab-8892-c0afe222aa71"
      },
      "source": [
        "nls97.loc[[100061], 'gpaoverall'] = 3\n",
        "nls97.loc[[100139,100284,100292],'gpaoverall'] = 0\n",
        "nls97.gpaoverall.head()"
      ],
      "execution_count": 5,
      "outputs": [
        {
          "output_type": "execute_result",
          "data": {
            "text/plain": [
              "personid\n",
              "100061    3.00\n",
              "100139    0.00\n",
              "100284    0.00\n",
              "100292    0.00\n",
              "100583    2.91\n",
              "Name: gpaoverall, dtype: float64"
            ]
          },
          "metadata": {
            "tags": []
          },
          "execution_count": 5
        }
      ]
    },
    {
      "cell_type": "code",
      "metadata": {
        "colab": {
          "base_uri": "https://localhost:8080/"
        },
        "id": "4H_J8677zr7U",
        "outputId": "0472199a-ad0a-4e8b-c170-ddcd9f22369c"
      },
      "source": [
        "nls97['childnum'] = nls97.childathome + nls97.childnotathome\n",
        "nls97.childnum.value_counts().sort_index()"
      ],
      "execution_count": 6,
      "outputs": [
        {
          "output_type": "execute_result",
          "data": {
            "text/plain": [
              "0.0       23\n",
              "1.0     1364\n",
              "2.0     1729\n",
              "3.0     1020\n",
              "4.0      420\n",
              "5.0      149\n",
              "6.0       55\n",
              "7.0       21\n",
              "8.0        7\n",
              "9.0        1\n",
              "12.0       2\n",
              "Name: childnum, dtype: int64"
            ]
          },
          "metadata": {
            "tags": []
          },
          "execution_count": 6
        }
      ]
    },
    {
      "cell_type": "code",
      "metadata": {
        "colab": {
          "base_uri": "https://localhost:8080/"
        },
        "id": "Bzfe3nukz6xv",
        "outputId": "46fa3af0-3cae-42de-e855-0b8a13dba9b9"
      },
      "source": [
        "nls97.loc[100061:100292,'gpaoverall'] = nls97.gpaoverall.mean()\n",
        "nls97.gpaoverall.head()"
      ],
      "execution_count": 7,
      "outputs": [
        {
          "output_type": "execute_result",
          "data": {
            "text/plain": [
              "personid\n",
              "100061    2.816885\n",
              "100139    2.816885\n",
              "100284    2.816885\n",
              "100292    2.816885\n",
              "100583    2.910000\n",
              "Name: gpaoverall, dtype: float64"
            ]
          },
          "metadata": {
            "tags": []
          },
          "execution_count": 7
        }
      ]
    },
    {
      "cell_type": "code",
      "metadata": {
        "colab": {
          "base_uri": "https://localhost:8080/"
        },
        "id": "rIL3e08Q0iQO",
        "outputId": "c017421e-a188-4a46-a783-b6c346650edb"
      },
      "source": [
        "nls97.iloc[0, 13] = 2\n",
        "nls97.iloc[1:4, 13] = 1\n",
        "nls97.gpaoverall.head()"
      ],
      "execution_count": 8,
      "outputs": [
        {
          "output_type": "execute_result",
          "data": {
            "text/plain": [
              "personid\n",
              "100061    2.00\n",
              "100139    1.00\n",
              "100284    1.00\n",
              "100292    1.00\n",
              "100583    2.91\n",
              "Name: gpaoverall, dtype: float64"
            ]
          },
          "metadata": {
            "tags": []
          },
          "execution_count": 8
        }
      ]
    },
    {
      "cell_type": "code",
      "metadata": {
        "colab": {
          "base_uri": "https://localhost:8080/"
        },
        "id": "HUjvOTE60t0S",
        "outputId": "58a1e288-d378-4175-f1d6-7251166e94b8"
      },
      "source": [
        "nls97.gpaoverall.nlargest()"
      ],
      "execution_count": 9,
      "outputs": [
        {
          "output_type": "execute_result",
          "data": {
            "text/plain": [
              "personid\n",
              "312410    4.17\n",
              "639701    4.11\n",
              "850001    4.10\n",
              "279096    4.08\n",
              "620216    4.07\n",
              "Name: gpaoverall, dtype: float64"
            ]
          },
          "metadata": {
            "tags": []
          },
          "execution_count": 9
        }
      ]
    },
    {
      "cell_type": "code",
      "metadata": {
        "colab": {
          "base_uri": "https://localhost:8080/"
        },
        "id": "iuEhgah_09EW",
        "outputId": "4a1f5521-a7e6-4580-e859-ade5f6d4f95a"
      },
      "source": [
        "nls97.loc[nls97.gpaoverall>4, 'gpaoverall'] = 4\n",
        "nls97.gpaoverall.nlargest()"
      ],
      "execution_count": 10,
      "outputs": [
        {
          "output_type": "execute_result",
          "data": {
            "text/plain": [
              "personid\n",
              "112756    4.0\n",
              "119784    4.0\n",
              "160193    4.0\n",
              "250666    4.0\n",
              "271961    4.0\n",
              "Name: gpaoverall, dtype: float64"
            ]
          },
          "metadata": {
            "tags": []
          },
          "execution_count": 10
        }
      ]
    },
    {
      "cell_type": "code",
      "metadata": {
        "colab": {
          "base_uri": "https://localhost:8080/"
        },
        "id": "Y-UQoeCE1GSN",
        "outputId": "a37e6a13-e0bd-4393-ab8e-85691556522b"
      },
      "source": [
        "type(nls97.loc[[100061], 'gpaoverall'])"
      ],
      "execution_count": 11,
      "outputs": [
        {
          "output_type": "execute_result",
          "data": {
            "text/plain": [
              "pandas.core.series.Series"
            ]
          },
          "metadata": {
            "tags": []
          },
          "execution_count": 11
        }
      ]
    },
    {
      "cell_type": "code",
      "metadata": {
        "colab": {
          "base_uri": "https://localhost:8080/"
        },
        "id": "6g3ICeSM1tUU",
        "outputId": "5e084f4e-8a5a-440c-87bd-0e44f216f29e"
      },
      "source": [
        "type(nls97.loc[[100061], ['gpaoverall']])"
      ],
      "execution_count": 12,
      "outputs": [
        {
          "output_type": "execute_result",
          "data": {
            "text/plain": [
              "pandas.core.frame.DataFrame"
            ]
          },
          "metadata": {
            "tags": []
          },
          "execution_count": 12
        }
      ]
    }
  ]
}