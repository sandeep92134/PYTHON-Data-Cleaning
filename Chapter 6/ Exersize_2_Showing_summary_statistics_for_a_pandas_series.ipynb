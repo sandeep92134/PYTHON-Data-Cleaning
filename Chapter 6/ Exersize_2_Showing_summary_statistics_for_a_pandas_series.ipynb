{
  "nbformat": 4,
  "nbformat_minor": 0,
  "metadata": {
    "colab": {
      "name": "Exersize 2. Showing summary statistics for a pandas series.ipynb",
      "provenance": [],
      "authorship_tag": "ABX9TyPxDXWGocuWCV1wPwHBzDL9",
      "include_colab_link": true
    },
    "kernelspec": {
      "name": "python3",
      "display_name": "Python 3"
    },
    "language_info": {
      "name": "python"
    }
  },
  "cells": [
    {
      "cell_type": "markdown",
      "metadata": {
        "id": "view-in-github",
        "colab_type": "text"
      },
      "source": [
        "<a href=\"https://colab.research.google.com/github/sandeep92134/PYTHON-Data-Cleaning/blob/master/Chapter%206/%20Exersize_2_Showing_summary_statistics_for_a_pandas_series.ipynb\" target=\"_parent\"><img src=\"https://colab.research.google.com/assets/colab-badge.svg\" alt=\"Open In Colab\"/></a>"
      ]
    },
    {
      "cell_type": "code",
      "metadata": {
        "id": "LAxLMSZXtGnn"
      },
      "source": [
        "import pandas as pd\n",
        "import numpy as np\n",
        "nls97 = pd.read_csv(\"https://raw.githubusercontent.com/sandeep92134/PYTHON-Data-Cleaning/master/Chapter%206/datasets/nls97b.csv\")\n",
        "nls97.set_index(\"personid\", inplace=True)"
      ],
      "execution_count": 1,
      "outputs": []
    },
    {
      "cell_type": "code",
      "metadata": {
        "colab": {
          "base_uri": "https://localhost:8080/"
        },
        "id": "-26InjEot_49",
        "outputId": "c7c9b693-f982-42d7-b0b7-b85bdd04c4b9"
      },
      "source": [
        "gpaoverall = nls97.gpaoverall\n",
        "gpaoverall.mean()"
      ],
      "execution_count": 2,
      "outputs": [
        {
          "output_type": "execute_result",
          "data": {
            "text/plain": [
              "2.8184077281812145"
            ]
          },
          "metadata": {
            "tags": []
          },
          "execution_count": 2
        }
      ]
    },
    {
      "cell_type": "code",
      "metadata": {
        "colab": {
          "base_uri": "https://localhost:8080/"
        },
        "id": "MOUD85a_uMhg",
        "outputId": "7d5b8a14-69ef-4281-ac64-f4fe2f4ea5ba"
      },
      "source": [
        "gpaoverall.describe()"
      ],
      "execution_count": 3,
      "outputs": [
        {
          "output_type": "execute_result",
          "data": {
            "text/plain": [
              "count    6004.000000\n",
              "mean        2.818408\n",
              "std         0.616357\n",
              "min         0.100000\n",
              "25%         2.430000\n",
              "50%         2.860000\n",
              "75%         3.260000\n",
              "max         4.170000\n",
              "Name: gpaoverall, dtype: float64"
            ]
          },
          "metadata": {
            "tags": []
          },
          "execution_count": 3
        }
      ]
    },
    {
      "cell_type": "code",
      "metadata": {
        "colab": {
          "base_uri": "https://localhost:8080/"
        },
        "id": "iIl33DesuRkJ",
        "outputId": "a331d321-75a5-444f-c6b6-6731a63b9111"
      },
      "source": [
        "gpaoverall.quantile(np.arange(0.1,1.1,0.1))"
      ],
      "execution_count": 4,
      "outputs": [
        {
          "output_type": "execute_result",
          "data": {
            "text/plain": [
              "0.1    2.02\n",
              "0.2    2.31\n",
              "0.3    2.52\n",
              "0.4    2.70\n",
              "0.5    2.86\n",
              "0.6    3.01\n",
              "0.7    3.17\n",
              "0.8    3.36\n",
              "0.9    3.60\n",
              "1.0    4.17\n",
              "Name: gpaoverall, dtype: float64"
            ]
          },
          "metadata": {
            "tags": []
          },
          "execution_count": 4
        }
      ]
    },
    {
      "cell_type": "code",
      "metadata": {
        "colab": {
          "base_uri": "https://localhost:8080/"
        },
        "id": "VnlrvPLquWhZ",
        "outputId": "bc0e8847-fb2b-41b3-a724-d7076b833696"
      },
      "source": [
        "gpaoverall.loc[gpaoverall.between(3,3.5)].head(5)"
      ],
      "execution_count": 5,
      "outputs": [
        {
          "output_type": "execute_result",
          "data": {
            "text/plain": [
              "personid\n",
              "100061    3.06\n",
              "100292    3.45\n",
              "101526    3.37\n",
              "101527    3.26\n",
              "102125    3.14\n",
              "Name: gpaoverall, dtype: float64"
            ]
          },
          "metadata": {
            "tags": []
          },
          "execution_count": 5
        }
      ]
    },
    {
      "cell_type": "code",
      "metadata": {
        "colab": {
          "base_uri": "https://localhost:8080/"
        },
        "id": "1f_UB32FuihV",
        "outputId": "5d9eb819-444f-42df-904b-c45ccc456ab2"
      },
      "source": [
        "gpaoverall.loc[gpaoverall.between(3,3.5)].sum()"
      ],
      "execution_count": 6,
      "outputs": [
        {
          "output_type": "execute_result",
          "data": {
            "text/plain": [
              "5416.26"
            ]
          },
          "metadata": {
            "tags": []
          },
          "execution_count": 6
        }
      ]
    },
    {
      "cell_type": "code",
      "metadata": {
        "colab": {
          "base_uri": "https://localhost:8080/"
        },
        "id": "PPAH24_hukv4",
        "outputId": "3a042025-5ba5-4bf9-d7a2-6fb24fd759b9"
      },
      "source": [
        "gpaoverall.loc[(gpaoverall<2) | (gpaoverall>4)].sample(5, random_state=2)"
      ],
      "execution_count": 7,
      "outputs": [
        {
          "output_type": "execute_result",
          "data": {
            "text/plain": [
              "personid\n",
              "932782    1.90\n",
              "561335    1.82\n",
              "850001    4.10\n",
              "292455    1.97\n",
              "644271    1.97\n",
              "Name: gpaoverall, dtype: float64"
            ]
          },
          "metadata": {
            "tags": []
          },
          "execution_count": 7
        }
      ]
    },
    {
      "cell_type": "code",
      "metadata": {
        "colab": {
          "base_uri": "https://localhost:8080/"
        },
        "id": "S3LJqJJqu5Zj",
        "outputId": "ce1370f4-e78f-4d42-de5b-045964475720"
      },
      "source": [
        "gpaoverall.loc[gpaoverall>gpaoverall.quantile(0.99)].\\\n",
        "...   agg(['count','min','max'])"
      ],
      "execution_count": 8,
      "outputs": [
        {
          "output_type": "execute_result",
          "data": {
            "text/plain": [
              "count    60.00\n",
              "min       3.98\n",
              "max       4.17\n",
              "Name: gpaoverall, dtype: float64"
            ]
          },
          "metadata": {
            "tags": []
          },
          "execution_count": 8
        }
      ]
    },
    {
      "cell_type": "code",
      "metadata": {
        "colab": {
          "base_uri": "https://localhost:8080/"
        },
        "id": "7zJK6tnKvGFX",
        "outputId": "c4758b93-50d8-4d05-8d6d-f6c6809a5841"
      },
      "source": [
        "# run tests across all values\n",
        "(gpaoverall>4).any() # any person has GPA greater than 4"
      ],
      "execution_count": 10,
      "outputs": [
        {
          "output_type": "execute_result",
          "data": {
            "text/plain": [
              "True"
            ]
          },
          "metadata": {
            "tags": []
          },
          "execution_count": 10
        }
      ]
    },
    {
      "cell_type": "code",
      "metadata": {
        "colab": {
          "base_uri": "https://localhost:8080/"
        },
        "id": "8i-kmej9v2Fi",
        "outputId": "9b6f7591-de47-4c32-8672-69c5308955c6"
      },
      "source": [
        "(gpaoverall>=0).all() # all people have GPA greater than 0"
      ],
      "execution_count": 11,
      "outputs": [
        {
          "output_type": "execute_result",
          "data": {
            "text/plain": [
              "False"
            ]
          },
          "metadata": {
            "tags": []
          },
          "execution_count": 11
        }
      ]
    },
    {
      "cell_type": "code",
      "metadata": {
        "colab": {
          "base_uri": "https://localhost:8080/"
        },
        "id": "VNb0LJthv18m",
        "outputId": "44a8b85f-9950-4eb7-c215-1bbed3eba083"
      },
      "source": [
        "(gpaoverall>=0).sum() # of people with GPA greater than 0"
      ],
      "execution_count": 12,
      "outputs": [
        {
          "output_type": "execute_result",
          "data": {
            "text/plain": [
              "6004"
            ]
          },
          "metadata": {
            "tags": []
          },
          "execution_count": 12
        }
      ]
    },
    {
      "cell_type": "code",
      "metadata": {
        "colab": {
          "base_uri": "https://localhost:8080/"
        },
        "id": "pUxwea68v1w1",
        "outputId": "c89d86e2-1feb-438a-9c66-5795c3ae00c4"
      },
      "source": [
        "(gpaoverall==0).sum() # of people with GPA equal to 0"
      ],
      "execution_count": 13,
      "outputs": [
        {
          "output_type": "execute_result",
          "data": {
            "text/plain": [
              "0"
            ]
          },
          "metadata": {
            "tags": []
          },
          "execution_count": 13
        }
      ]
    },
    {
      "cell_type": "code",
      "metadata": {
        "colab": {
          "base_uri": "https://localhost:8080/"
        },
        "id": "zwfyosDLvgXF",
        "outputId": "dc4c272e-1355-4ef9-a710-27b16a038e09"
      },
      "source": [
        "gpaoverall.isnull().sum() # of people with missing value for GPA"
      ],
      "execution_count": 14,
      "outputs": [
        {
          "output_type": "execute_result",
          "data": {
            "text/plain": [
              "2980"
            ]
          },
          "metadata": {
            "tags": []
          },
          "execution_count": 14
        }
      ]
    },
    {
      "cell_type": "code",
      "metadata": {
        "colab": {
          "base_uri": "https://localhost:8080/"
        },
        "id": "xyi7kEAsvzdW",
        "outputId": "2f0934a6-2df7-44e9-f413-1f4972f9403f"
      },
      "source": [
        "nls97.loc[nls97.wageincome > nls97.wageincome.quantile(0.75),'gpaoverall'].mean()"
      ],
      "execution_count": 15,
      "outputs": [
        {
          "output_type": "execute_result",
          "data": {
            "text/plain": [
              "3.0804171011470256"
            ]
          },
          "metadata": {
            "tags": []
          },
          "execution_count": 15
        }
      ]
    },
    {
      "cell_type": "code",
      "metadata": {
        "colab": {
          "base_uri": "https://localhost:8080/"
        },
        "id": "ULkHG_6CvzH7",
        "outputId": "513e9562-6762-4d94-eeb8-97ac08c8492d"
      },
      "source": [
        "nls97.loc[nls97.wageincome < nls97.wageincome.quantile(0.25),'gpaoverall'].mean()"
      ],
      "execution_count": 16,
      "outputs": [
        {
          "output_type": "execute_result",
          "data": {
            "text/plain": [
              "2.720143415906124"
            ]
          },
          "metadata": {
            "tags": []
          },
          "execution_count": 16
        }
      ]
    },
    {
      "cell_type": "code",
      "metadata": {
        "colab": {
          "base_uri": "https://localhost:8080/"
        },
        "id": "dKliAhJWwZz4",
        "outputId": "e18a0a4e-358b-43cc-8211-736fd60d1122"
      },
      "source": [
        "nls97.maritalstatus.describe()"
      ],
      "execution_count": 17,
      "outputs": [
        {
          "output_type": "execute_result",
          "data": {
            "text/plain": [
              "count        6672\n",
              "unique          5\n",
              "top       Married\n",
              "freq         3066\n",
              "Name: maritalstatus, dtype: object"
            ]
          },
          "metadata": {
            "tags": []
          },
          "execution_count": 17
        }
      ]
    },
    {
      "cell_type": "code",
      "metadata": {
        "colab": {
          "base_uri": "https://localhost:8080/"
        },
        "id": "Bnk5qKQ5wikY",
        "outputId": "705b3003-0bca-4988-9814-eb69ad35bf15"
      },
      "source": [
        " nls97.maritalstatus.value_counts()"
      ],
      "execution_count": 18,
      "outputs": [
        {
          "output_type": "execute_result",
          "data": {
            "text/plain": [
              "Married          3066\n",
              "Never-married    2766\n",
              "Divorced          663\n",
              "Separated         154\n",
              "Widowed            23\n",
              "Name: maritalstatus, dtype: int64"
            ]
          },
          "metadata": {
            "tags": []
          },
          "execution_count": 18
        }
      ]
    },
    {
      "cell_type": "code",
      "metadata": {
        "colab": {
          "base_uri": "https://localhost:8080/"
        },
        "id": "4SOhgkWiwmaY",
        "outputId": "f118ca7f-c07b-49be-de67-e717a36a9d0f"
      },
      "source": [
        "(gpaoverall > 4)"
      ],
      "execution_count": 19,
      "outputs": [
        {
          "output_type": "execute_result",
          "data": {
            "text/plain": [
              "personid\n",
              "100061    False\n",
              "100139    False\n",
              "100284    False\n",
              "100292    False\n",
              "100583    False\n",
              "          ...  \n",
              "999291    False\n",
              "999406    False\n",
              "999543    False\n",
              "999698    False\n",
              "999963    False\n",
              "Name: gpaoverall, Length: 8984, dtype: bool"
            ]
          },
          "metadata": {
            "tags": []
          },
          "execution_count": 19
        }
      ]
    }
  ]
}