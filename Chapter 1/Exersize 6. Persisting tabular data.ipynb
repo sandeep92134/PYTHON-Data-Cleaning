{
  "nbformat": 4,
  "nbformat_minor": 0,
  "metadata": {
    "colab": {
      "name": "Untitled10.ipynb",
      "provenance": [],
      "authorship_tag": "ABX9TyOa+N4sQFlcuYg2jJgGDmmm",
      "include_colab_link": true
    },
    "kernelspec": {
      "name": "python3",
      "display_name": "Python 3"
    }
  },
  "cells": [
    {
      "cell_type": "markdown",
      "metadata": {
        "id": "view-in-github",
        "colab_type": "text"
      },
      "source": [
        "<a href=\"https://colab.research.google.com/github/sandeep92134/PYTHON-Data-Cleaning/blob/master/Chapter%201/Exersize%206.%20Persisting%20tabular%20data.ipynb\" target=\"_parent\"><img src=\"https://colab.research.google.com/assets/colab-badge.svg\" alt=\"Open In Colab\"/></a>"
      ]
    },
    {
      "cell_type": "code",
      "metadata": {
        "id": "TYfO5gdvR6wY",
        "colab": {
          "base_uri": "https://localhost:8080/"
        },
        "outputId": "8941664a-e484-4027-f271-2e628f5d5b68"
      },
      "source": [
        "pip install pyarrow"
      ],
      "execution_count": 1,
      "outputs": [
        {
          "output_type": "stream",
          "text": [
            "Requirement already satisfied: pyarrow in /usr/local/lib/python3.6/dist-packages (0.14.1)\n",
            "Requirement already satisfied: six>=1.0.0 in /usr/local/lib/python3.6/dist-packages (from pyarrow) (1.15.0)\n",
            "Requirement already satisfied: numpy>=1.14 in /usr/local/lib/python3.6/dist-packages (from pyarrow) (1.19.5)\n"
          ],
          "name": "stdout"
        }
      ]
    },
    {
      "cell_type": "code",
      "metadata": {
        "id": "lN2Z7qYMTAUK"
      },
      "source": [
        "import pandas as pd\r\n",
        "import pyarrow"
      ],
      "execution_count": 2,
      "outputs": []
    },
    {
      "cell_type": "code",
      "metadata": {
        "id": "roZYKRHZTD3S",
        "colab": {
          "base_uri": "https://localhost:8080/"
        },
        "outputId": "d2d5e174-d279-47e8-9ce0-225246b184c0"
      },
      "source": [
        "# import the land temperature data\r\n",
        "landtemps = pd.read_csv('https://raw.githubusercontent.com/sandeep92134/PYTHON-Data-Cleaning/master/Chapter%201/datasets/landtempssample.csv',\r\n",
        "    names=['stationid','year','month','avgtemp','latitude',\r\n",
        "      'longitude','elevation','station','countryid','country'],\r\n",
        "    skiprows=1,\r\n",
        "    parse_dates=[['month','year']],\r\n",
        "    low_memory=False)\r\n",
        "\r\n",
        "landtemps.rename(columns={'month_year':'measuredate'}, inplace=True)\r\n",
        "landtemps.dropna(subset=['avgtemp'], inplace=True)\r\n",
        "landtemps.dtypes"
      ],
      "execution_count": 3,
      "outputs": [
        {
          "output_type": "execute_result",
          "data": {
            "text/plain": [
              "measuredate    datetime64[ns]\n",
              "stationid              object\n",
              "avgtemp               float64\n",
              "latitude              float64\n",
              "longitude             float64\n",
              "elevation             float64\n",
              "station                object\n",
              "countryid              object\n",
              "country                object\n",
              "dtype: object"
            ]
          },
          "metadata": {
            "tags": []
          },
          "execution_count": 3
        }
      ]
    },
    {
      "cell_type": "code",
      "metadata": {
        "id": "kBJv1B3Sq8_W"
      },
      "source": [
        "landtemps.set_index(['measuredate','stationid'], inplace=True)"
      ],
      "execution_count": 4,
      "outputs": []
    },
    {
      "cell_type": "code",
      "metadata": {
        "colab": {
          "base_uri": "https://localhost:8080/"
        },
        "id": "B3QEc8YFrAzT",
        "outputId": "080ca534-04a8-42a4-f21d-be21534cc3f3"
      },
      "source": [
        "# write extreme values of temperature out to Excel and CSV files\r\n",
        "extremevals = landtemps[(landtemps.avgtemp < landtemps.avgtemp.quantile(.001)) | (landtemps.avgtemp > landtemps.avgtemp.quantile(.999))]\r\n",
        "extremevals.shape"
      ],
      "execution_count": 5,
      "outputs": [
        {
          "output_type": "execute_result",
          "data": {
            "text/plain": [
              "(158, 7)"
            ]
          },
          "metadata": {
            "tags": []
          },
          "execution_count": 5
        }
      ]
    },
    {
      "cell_type": "code",
      "metadata": {
        "colab": {
          "base_uri": "https://localhost:8080/",
          "height": 297
        },
        "id": "HwptGh3hrF5J",
        "outputId": "7febaa4a-ded3-4193-be96-d3930869dc2d"
      },
      "source": [
        "extremevals.sample(7)"
      ],
      "execution_count": 6,
      "outputs": [
        {
          "output_type": "execute_result",
          "data": {
            "text/html": [
              "<div>\n",
              "<style scoped>\n",
              "    .dataframe tbody tr th:only-of-type {\n",
              "        vertical-align: middle;\n",
              "    }\n",
              "\n",
              "    .dataframe tbody tr th {\n",
              "        vertical-align: top;\n",
              "    }\n",
              "\n",
              "    .dataframe thead th {\n",
              "        text-align: right;\n",
              "    }\n",
              "</style>\n",
              "<table border=\"1\" class=\"dataframe\">\n",
              "  <thead>\n",
              "    <tr style=\"text-align: right;\">\n",
              "      <th></th>\n",
              "      <th></th>\n",
              "      <th>avgtemp</th>\n",
              "      <th>latitude</th>\n",
              "      <th>longitude</th>\n",
              "      <th>elevation</th>\n",
              "      <th>station</th>\n",
              "      <th>countryid</th>\n",
              "      <th>country</th>\n",
              "    </tr>\n",
              "    <tr>\n",
              "      <th>measuredate</th>\n",
              "      <th>stationid</th>\n",
              "      <th></th>\n",
              "      <th></th>\n",
              "      <th></th>\n",
              "      <th></th>\n",
              "      <th></th>\n",
              "      <th></th>\n",
              "      <th></th>\n",
              "    </tr>\n",
              "  </thead>\n",
              "  <tbody>\n",
              "    <tr>\n",
              "      <th>1998-05-01</th>\n",
              "      <th>NG000001080</th>\n",
              "      <td>34.73</td>\n",
              "      <td>13.4700</td>\n",
              "      <td>7.0800</td>\n",
              "      <td>388.0</td>\n",
              "      <td>MARADI</td>\n",
              "      <td>NG</td>\n",
              "      <td>Niger</td>\n",
              "    </tr>\n",
              "    <tr>\n",
              "      <th>1942-07-01</th>\n",
              "      <th>USC00024977</th>\n",
              "      <td>34.84</td>\n",
              "      <td>33.4992</td>\n",
              "      <td>-112.3631</td>\n",
              "      <td>317.0</td>\n",
              "      <td>LITCHFIELD_PARK</td>\n",
              "      <td>US</td>\n",
              "      <td>United States</td>\n",
              "    </tr>\n",
              "    <tr>\n",
              "      <th>1996-05-01</th>\n",
              "      <th>SU000062600</th>\n",
              "      <td>34.68</td>\n",
              "      <td>21.8200</td>\n",
              "      <td>31.3500</td>\n",
              "      <td>190.0</td>\n",
              "      <td>WADI_HALFA</td>\n",
              "      <td>SU</td>\n",
              "      <td>Sudan</td>\n",
              "    </tr>\n",
              "    <tr>\n",
              "      <th>2004-06-01</th>\n",
              "      <th>MUM00041304</th>\n",
              "      <td>34.99</td>\n",
              "      <td>18.1330</td>\n",
              "      <td>55.1830</td>\n",
              "      <td>273.0</td>\n",
              "      <td>MARMUL</td>\n",
              "      <td>MU</td>\n",
              "      <td>Oman</td>\n",
              "    </tr>\n",
              "    <tr>\n",
              "      <th>1981-02-01</th>\n",
              "      <th>RSM00024371</th>\n",
              "      <td>-35.38</td>\n",
              "      <td>66.8000</td>\n",
              "      <td>136.6800</td>\n",
              "      <td>274.0</td>\n",
              "      <td>UST_CHARKY</td>\n",
              "      <td>RS</td>\n",
              "      <td>Russia</td>\n",
              "    </tr>\n",
              "    <tr>\n",
              "      <th>2019-06-01</th>\n",
              "      <th>SU000062641</th>\n",
              "      <td>36.50</td>\n",
              "      <td>19.5830</td>\n",
              "      <td>37.2170</td>\n",
              "      <td>42.0</td>\n",
              "      <td>PORT_SUDAN</td>\n",
              "      <td>SU</td>\n",
              "      <td>Sudan</td>\n",
              "    </tr>\n",
              "    <tr>\n",
              "      <th>1965-12-01</th>\n",
              "      <th>RSXLT854187</th>\n",
              "      <td>-35.59</td>\n",
              "      <td>70.6667</td>\n",
              "      <td>154.1500</td>\n",
              "      <td>2.0</td>\n",
              "      <td>ALAZEYA</td>\n",
              "      <td>RS</td>\n",
              "      <td>Russia</td>\n",
              "    </tr>\n",
              "  </tbody>\n",
              "</table>\n",
              "</div>"
            ],
            "text/plain": [
              "                         avgtemp  latitude  ...  countryid        country\n",
              "measuredate stationid                       ...                          \n",
              "1998-05-01  NG000001080    34.73   13.4700  ...         NG          Niger\n",
              "1942-07-01  USC00024977    34.84   33.4992  ...         US  United States\n",
              "1996-05-01  SU000062600    34.68   21.8200  ...         SU          Sudan\n",
              "2004-06-01  MUM00041304    34.99   18.1330  ...         MU           Oman\n",
              "1981-02-01  RSM00024371   -35.38   66.8000  ...         RS         Russia\n",
              "2019-06-01  SU000062641    36.50   19.5830  ...         SU          Sudan\n",
              "1965-12-01  RSXLT854187   -35.59   70.6667  ...         RS         Russia\n",
              "\n",
              "[7 rows x 7 columns]"
            ]
          },
          "metadata": {
            "tags": []
          },
          "execution_count": 6
        }
      ]
    },
    {
      "cell_type": "code",
      "metadata": {
        "id": "d8WMPUWsrKBz"
      },
      "source": [
        "extremevals.to_excel('/content/tempext.xlsx')\r\n",
        "extremevals.to_csv('https://raw.githubusercontent.com/sandeep92134/PYTHON-Data-Cleaning/master/Chapter%201/Views/tempext.csv')"
      ],
      "execution_count": null,
      "outputs": []
    },
    {
      "cell_type": "code",
      "metadata": {
        "id": "nqCeWzYvrXJY"
      },
      "source": [
        "landtemps.to_pickle('/content/landtemps.pkl')\r\n",
        "landtemps.reset_index(inplace=True)\r\n",
        "landtemps.to_feather(\"/content/landtemps.ftr\")"
      ],
      "execution_count": 8,
      "outputs": []
    },
    {
      "cell_type": "code",
      "metadata": {
        "colab": {
          "base_uri": "https://localhost:8080/",
          "height": 297
        },
        "id": "9dsnOStRuVOR",
        "outputId": "36d774a0-bdd6-48bf-c964-1a4295ddc3d7"
      },
      "source": [
        "landtemps = pd.read_pickle('/content/landtemps.pkl')\r\n",
        "landtemps.head(2).T"
      ],
      "execution_count": 9,
      "outputs": [
        {
          "output_type": "execute_result",
          "data": {
            "text/html": [
              "<div>\n",
              "<style scoped>\n",
              "    .dataframe tbody tr th:only-of-type {\n",
              "        vertical-align: middle;\n",
              "    }\n",
              "\n",
              "    .dataframe tbody tr th {\n",
              "        vertical-align: top;\n",
              "    }\n",
              "\n",
              "    .dataframe thead tr th {\n",
              "        text-align: left;\n",
              "    }\n",
              "</style>\n",
              "<table border=\"1\" class=\"dataframe\">\n",
              "  <thead>\n",
              "    <tr>\n",
              "      <th>measuredate</th>\n",
              "      <th>2000-04-01</th>\n",
              "      <th>1940-05-01</th>\n",
              "    </tr>\n",
              "    <tr>\n",
              "      <th>stationid</th>\n",
              "      <th>USS0010K01S</th>\n",
              "      <th>CI000085406</th>\n",
              "    </tr>\n",
              "  </thead>\n",
              "  <tbody>\n",
              "    <tr>\n",
              "      <th>avgtemp</th>\n",
              "      <td>5.27</td>\n",
              "      <td>18.04</td>\n",
              "    </tr>\n",
              "    <tr>\n",
              "      <th>latitude</th>\n",
              "      <td>39.9</td>\n",
              "      <td>-18.35</td>\n",
              "    </tr>\n",
              "    <tr>\n",
              "      <th>longitude</th>\n",
              "      <td>-110.75</td>\n",
              "      <td>-70.333</td>\n",
              "    </tr>\n",
              "    <tr>\n",
              "      <th>elevation</th>\n",
              "      <td>2773.7</td>\n",
              "      <td>58</td>\n",
              "    </tr>\n",
              "    <tr>\n",
              "      <th>station</th>\n",
              "      <td>INDIAN_CANYON</td>\n",
              "      <td>ARICA</td>\n",
              "    </tr>\n",
              "    <tr>\n",
              "      <th>countryid</th>\n",
              "      <td>US</td>\n",
              "      <td>CI</td>\n",
              "    </tr>\n",
              "    <tr>\n",
              "      <th>country</th>\n",
              "      <td>United States</td>\n",
              "      <td>Chile</td>\n",
              "    </tr>\n",
              "  </tbody>\n",
              "</table>\n",
              "</div>"
            ],
            "text/plain": [
              "measuredate     2000-04-01  1940-05-01\n",
              "stationid      USS0010K01S CI000085406\n",
              "avgtemp               5.27       18.04\n",
              "latitude              39.9      -18.35\n",
              "longitude          -110.75     -70.333\n",
              "elevation           2773.7          58\n",
              "station      INDIAN_CANYON       ARICA\n",
              "countryid               US          CI\n",
              "country      United States       Chile"
            ]
          },
          "metadata": {
            "tags": []
          },
          "execution_count": 9
        }
      ]
    },
    {
      "cell_type": "code",
      "metadata": {
        "colab": {
          "base_uri": "https://localhost:8080/",
          "height": 328
        },
        "id": "KT4EgFasuhAc",
        "outputId": "5e73e754-8781-4b14-e1a6-3059c0687a86"
      },
      "source": [
        "landtemps = pd.read_feather('/content/landtemps.ftr')\r\n",
        "landtemps.head(2).T"
      ],
      "execution_count": 10,
      "outputs": [
        {
          "output_type": "execute_result",
          "data": {
            "text/html": [
              "<div>\n",
              "<style scoped>\n",
              "    .dataframe tbody tr th:only-of-type {\n",
              "        vertical-align: middle;\n",
              "    }\n",
              "\n",
              "    .dataframe tbody tr th {\n",
              "        vertical-align: top;\n",
              "    }\n",
              "\n",
              "    .dataframe thead th {\n",
              "        text-align: right;\n",
              "    }\n",
              "</style>\n",
              "<table border=\"1\" class=\"dataframe\">\n",
              "  <thead>\n",
              "    <tr style=\"text-align: right;\">\n",
              "      <th></th>\n",
              "      <th>0</th>\n",
              "      <th>1</th>\n",
              "    </tr>\n",
              "  </thead>\n",
              "  <tbody>\n",
              "    <tr>\n",
              "      <th>measuredate</th>\n",
              "      <td>2000-04-01 00:00:00</td>\n",
              "      <td>1940-05-01 00:00:00</td>\n",
              "    </tr>\n",
              "    <tr>\n",
              "      <th>stationid</th>\n",
              "      <td>USS0010K01S</td>\n",
              "      <td>CI000085406</td>\n",
              "    </tr>\n",
              "    <tr>\n",
              "      <th>avgtemp</th>\n",
              "      <td>5.27</td>\n",
              "      <td>18.04</td>\n",
              "    </tr>\n",
              "    <tr>\n",
              "      <th>latitude</th>\n",
              "      <td>39.9</td>\n",
              "      <td>-18.35</td>\n",
              "    </tr>\n",
              "    <tr>\n",
              "      <th>longitude</th>\n",
              "      <td>-110.75</td>\n",
              "      <td>-70.333</td>\n",
              "    </tr>\n",
              "    <tr>\n",
              "      <th>elevation</th>\n",
              "      <td>2773.7</td>\n",
              "      <td>58</td>\n",
              "    </tr>\n",
              "    <tr>\n",
              "      <th>station</th>\n",
              "      <td>INDIAN_CANYON</td>\n",
              "      <td>ARICA</td>\n",
              "    </tr>\n",
              "    <tr>\n",
              "      <th>countryid</th>\n",
              "      <td>US</td>\n",
              "      <td>CI</td>\n",
              "    </tr>\n",
              "    <tr>\n",
              "      <th>country</th>\n",
              "      <td>United States</td>\n",
              "      <td>Chile</td>\n",
              "    </tr>\n",
              "  </tbody>\n",
              "</table>\n",
              "</div>"
            ],
            "text/plain": [
              "                               0                    1\n",
              "measuredate  2000-04-01 00:00:00  1940-05-01 00:00:00\n",
              "stationid            USS0010K01S          CI000085406\n",
              "avgtemp                     5.27                18.04\n",
              "latitude                    39.9               -18.35\n",
              "longitude                -110.75              -70.333\n",
              "elevation                 2773.7                   58\n",
              "station            INDIAN_CANYON                ARICA\n",
              "countryid                     US                   CI\n",
              "country            United States                Chile"
            ]
          },
          "metadata": {
            "tags": []
          },
          "execution_count": 10
        }
      ]
    },
    {
      "cell_type": "code",
      "metadata": {
        "id": "u6pMwSOUwieQ"
      },
      "source": [
        ""
      ],
      "execution_count": null,
      "outputs": []
    }
  ]
}