{
  "nbformat": 4,
  "nbformat_minor": 0,
  "metadata": {
    "colab": {
      "name": "Importing_csv Files .ipynb",
      "provenance": [],
      "authorship_tag": "ABX9TyNEXOeLIMh4ncKDFwxtyZVT",
      "include_colab_link": true
    },
    "kernelspec": {
      "name": "python3",
      "display_name": "Python 3"
    }
  },
  "cells": [
    {
      "cell_type": "markdown",
      "metadata": {
        "id": "view-in-github",
        "colab_type": "text"
      },
      "source": [
        "<a href=\"https://colab.research.google.com/github/sandeep92134/PYTHON-Data-Cleaning/blob/master/Chapter%201/Exersize%201%3AImporting_csv_Files_.ipynb\" target=\"_parent\"><img src=\"https://colab.research.google.com/assets/colab-badge.svg\" alt=\"Open In Colab\"/></a>"
      ]
    },
    {
      "cell_type": "code",
      "metadata": {
        "id": "4jut6L6n7KqI"
      },
      "source": [
        "import pandas as pd\r\n",
        "pd.options.display.float_format = '{:,.2f}'.format\r\n",
        "pd.set_option('display.width', 75)\r\n",
        "pd.set_option('display.max_columns', 5)"
      ],
      "execution_count": 1,
      "outputs": []
    },
    {
      "cell_type": "code",
      "metadata": {
        "id": "8AfPtFFv7KVN"
      },
      "source": [
        "# import the land temperature data\r\n",
        "landtemps = pd.read_csv('https://raw.githubusercontent.com/sandeep92134/PYTHON-Data-Cleaning/master/Chapter%201/datasets/landtempssample.csv',names=['stationid','year','month','avgtemp','latitude','longitude','elevation','station','countryid','country'],skiprows=1,parse_dates=[['month','year']],low_memory=False)"
      ],
      "execution_count": 2,
      "outputs": []
    },
    {
      "cell_type": "code",
      "metadata": {
        "colab": {
          "base_uri": "https://localhost:8080/"
        },
        "id": "McrJgf28vh1B",
        "outputId": "25e10b6d-82ef-4a1c-fcf9-9845906634d8"
      },
      "source": [
        "type(landtemps)"
      ],
      "execution_count": 3,
      "outputs": [
        {
          "output_type": "execute_result",
          "data": {
            "text/plain": [
              "pandas.core.frame.DataFrame"
            ]
          },
          "metadata": {
            "tags": []
          },
          "execution_count": 3
        }
      ]
    },
    {
      "cell_type": "code",
      "metadata": {
        "colab": {
          "base_uri": "https://localhost:8080/"
        },
        "id": "jREq0Gjj3jdr",
        "outputId": "6b741bf9-1587-4c57-a1a0-e316aa73ebb3"
      },
      "source": [
        "# show enough data to get a sense of how the import went\r\n",
        "landtemps.head(7)\r\n",
        "landtemps.dtypes\r\n",
        "landtemps.shape"
      ],
      "execution_count": 4,
      "outputs": [
        {
          "output_type": "execute_result",
          "data": {
            "text/plain": [
              "(92178, 9)"
            ]
          },
          "metadata": {
            "tags": []
          },
          "execution_count": 4
        }
      ]
    },
    {
      "cell_type": "code",
      "metadata": {
        "colab": {
          "base_uri": "https://localhost:8080/"
        },
        "id": "o5-uzfxX6uwF",
        "outputId": "25dcd935-edd1-477b-ee8c-2025a13eba87"
      },
      "source": [
        "# fix the column name for the date\r\n",
        "landtemps.rename(columns={'month_year':'measuredate'}, inplace=True)\r\n",
        "landtemps.dtypes\r\n",
        "landtemps.avgtemp.describe()\r\n",
        "landtemps.isnull().sum()"
      ],
      "execution_count": 5,
      "outputs": [
        {
          "output_type": "execute_result",
          "data": {
            "text/plain": [
              "measuredate        0\n",
              "stationid          0\n",
              "avgtemp        13297\n",
              "latitude           0\n",
              "longitude          0\n",
              "elevation          1\n",
              "station            1\n",
              "countryid          1\n",
              "country            5\n",
              "dtype: int64"
            ]
          },
          "metadata": {
            "tags": []
          },
          "execution_count": 5
        }
      ]
    },
    {
      "cell_type": "code",
      "metadata": {
        "colab": {
          "base_uri": "https://localhost:8080/"
        },
        "id": "ciXr1go46xae",
        "outputId": "7b936d17-b669-449a-9c16-0de0097769f4"
      },
      "source": [
        "# remove rows with missing values\r\n",
        "landtemps.dropna(subset=['avgtemp'], inplace=True)\r\n",
        "landtemps.shape"
      ],
      "execution_count": 6,
      "outputs": [
        {
          "output_type": "execute_result",
          "data": {
            "text/plain": [
              "(78881, 9)"
            ]
          },
          "metadata": {
            "tags": []
          },
          "execution_count": 6
        }
      ]
    },
    {
      "cell_type": "code",
      "metadata": {
        "id": "uYKcsaYD8PXD"
      },
      "source": [
        ""
      ],
      "execution_count": null,
      "outputs": []
    }
  ]
}