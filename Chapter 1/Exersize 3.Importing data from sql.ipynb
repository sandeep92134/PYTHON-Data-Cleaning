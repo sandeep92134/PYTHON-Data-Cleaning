{
  "nbformat": 4,
  "nbformat_minor": 0,
  "metadata": {
    "colab": {
      "name": "Untitled9.ipynb",
      "provenance": [],
      "authorship_tag": "ABX9TyOhXvqv+oUPHLSkgcbLsKEw",
      "include_colab_link": true
    },
    "kernelspec": {
      "name": "python3",
      "display_name": "Python 3"
    }
  },
  "cells": [
    {
      "cell_type": "markdown",
      "metadata": {
        "id": "view-in-github",
        "colab_type": "text"
      },
      "source": [
        "<a href=\"https://colab.research.google.com/github/sandeep92134/PYTHON-Data-Cleaning/blob/master/Chapter%201/Exersize%203.Importing%20data%20from%20sql.ipynb\" target=\"_parent\"><img src=\"https://colab.research.google.com/assets/colab-badge.svg\" alt=\"Open In Colab\"/></a>"
      ]
    },
    {
      "cell_type": "code",
      "metadata": {
        "colab": {
          "base_uri": "https://localhost:8080/"
        },
        "id": "63eEnhDKx2oO",
        "outputId": "fc0edde0-44ec-4ee7-b83d-ff65ba376eed"
      },
      "source": [
        "pip install pymssql"
      ],
      "execution_count": 1,
      "outputs": [
        {
          "output_type": "stream",
          "text": [
            "Collecting pymssql\n",
            "\u001b[?25l  Downloading https://files.pythonhosted.org/packages/fe/aa/59c7c8a2cf1ef0726cd4c64bff7072147db8cbb6b4379fb0c3d7c67331b9/pymssql-2.1.5-cp36-cp36m-manylinux1_x86_64.whl (1.3MB)\n",
            "\u001b[K     |████████████████████████████████| 1.3MB 5.6MB/s \n",
            "\u001b[?25hInstalling collected packages: pymssql\n",
            "Successfully installed pymssql-2.1.5\n"
          ],
          "name": "stdout"
        }
      ]
    },
    {
      "cell_type": "code",
      "metadata": {
        "colab": {
          "base_uri": "https://localhost:8080/"
        },
        "id": "ZQWqV-UUyPA0",
        "outputId": "22fa9ad3-2c76-4d2e-b22d-11111770f1f3"
      },
      "source": [
        "pip install mysql-connector-python"
      ],
      "execution_count": 2,
      "outputs": [
        {
          "output_type": "stream",
          "text": [
            "Collecting mysql-connector-python\n",
            "\u001b[?25l  Downloading https://files.pythonhosted.org/packages/cc/ec/102bf59d0cdeb3b8fc82d6669bf96d57d133e44811ff57ad5e941bd8588d/mysql_connector_python-8.0.23-cp36-cp36m-manylinux1_x86_64.whl (18.0MB)\n",
            "\u001b[K     |████████████████████████████████| 18.1MB 1.4MB/s \n",
            "\u001b[?25hRequirement already satisfied: protobuf>=3.0.0 in /usr/local/lib/python3.6/dist-packages (from mysql-connector-python) (3.12.4)\n",
            "Requirement already satisfied: six>=1.9 in /usr/local/lib/python3.6/dist-packages (from protobuf>=3.0.0->mysql-connector-python) (1.15.0)\n",
            "Requirement already satisfied: setuptools in /usr/local/lib/python3.6/dist-packages (from protobuf>=3.0.0->mysql-connector-python) (53.0.0)\n",
            "Installing collected packages: mysql-connector-python\n",
            "Successfully installed mysql-connector-python-8.0.23\n"
          ],
          "name": "stdout"
        }
      ]
    },
    {
      "cell_type": "code",
      "metadata": {
        "id": "B0NaxUAOxxHF"
      },
      "source": [
        "import pandas as pd\r\n",
        "import numpy as np\r\n",
        "import pymssql\r\n",
        "import mysql.connector\r\n",
        "pd.set_option('display.width', 75)\r\n",
        "pd.set_option('display.max_columns', 5)\r\n",
        "pd.options.display.float_format = '{:,.2f}'.format"
      ],
      "execution_count": 3,
      "outputs": []
    },
    {
      "cell_type": "code",
      "metadata": {
        "id": "MpXGI5R6yu_M"
      },
      "source": [
        "# set sql select statement to pull the data\r\n",
        "query = \"SELECT studentid, school, sex, age, famsize,\\\r\n",
        "  medu AS mothereducation, fedu AS fathereducation,\\\r\n",
        "  traveltime, studytime, failures, famrel, freetime,\\\r\n",
        "  goout, g1 AS gradeperiod1, g2 AS gradeperiod2,\\\r\n",
        "  g3 AS gradeperiod3 From studentmath\"\r\n",
        "\r\n",
        "server = \"pdcc.c9sqqzd5fulv.us-west-2.rds.amazonaws.com\"\r\n",
        "user = \"pdccuser\"\r\n",
        "password = \"pdccpass\"\r\n",
        "database = \"pdcctest\"\r\n",
        "conn = pymssql.connect(server=server,\r\n",
        "  user=user, password=password, database=database)\r\n",
        " \r\n",
        "studentmath = pd.read_sql(query,conn)\r\n",
        "conn.close()"
      ],
      "execution_count": 5,
      "outputs": []
    },
    {
      "cell_type": "code",
      "metadata": {
        "colab": {
          "base_uri": "https://localhost:8080/"
        },
        "id": "4f5ERwley87f",
        "outputId": "bc6422e0-f52a-4c2c-bc20-9115882f40d1"
      },
      "source": [
        "studentmath.dtypes"
      ],
      "execution_count": 6,
      "outputs": [
        {
          "output_type": "execute_result",
          "data": {
            "text/plain": [
              "studentid          object\n",
              "school             object\n",
              "sex                object\n",
              "age                 int64\n",
              "famsize            object\n",
              "mothereducation     int64\n",
              "fathereducation     int64\n",
              "traveltime          int64\n",
              "studytime           int64\n",
              "failures            int64\n",
              "famrel              int64\n",
              "freetime            int64\n",
              "goout               int64\n",
              "gradeperiod1        int64\n",
              "gradeperiod2        int64\n",
              "gradeperiod3        int64\n",
              "dtype: object"
            ]
          },
          "metadata": {
            "tags": []
          },
          "execution_count": 6
        }
      ]
    },
    {
      "cell_type": "code",
      "metadata": {
        "colab": {
          "base_uri": "https://localhost:8080/",
          "height": 233
        },
        "id": "uRZZrx1bzFmM",
        "outputId": "4b892ef8-35e5-49f3-9ecf-16809553c0e2"
      },
      "source": [
        "studentmath.head()"
      ],
      "execution_count": 7,
      "outputs": [
        {
          "output_type": "execute_result",
          "data": {
            "text/html": [
              "<div>\n",
              "<style scoped>\n",
              "    .dataframe tbody tr th:only-of-type {\n",
              "        vertical-align: middle;\n",
              "    }\n",
              "\n",
              "    .dataframe tbody tr th {\n",
              "        vertical-align: top;\n",
              "    }\n",
              "\n",
              "    .dataframe thead th {\n",
              "        text-align: right;\n",
              "    }\n",
              "</style>\n",
              "<table border=\"1\" class=\"dataframe\">\n",
              "  <thead>\n",
              "    <tr style=\"text-align: right;\">\n",
              "      <th></th>\n",
              "      <th>studentid</th>\n",
              "      <th>school</th>\n",
              "      <th>...</th>\n",
              "      <th>gradeperiod2</th>\n",
              "      <th>gradeperiod3</th>\n",
              "    </tr>\n",
              "  </thead>\n",
              "  <tbody>\n",
              "    <tr>\n",
              "      <th>0</th>\n",
              "      <td>001</td>\n",
              "      <td>GP</td>\n",
              "      <td>...</td>\n",
              "      <td>6</td>\n",
              "      <td>6</td>\n",
              "    </tr>\n",
              "    <tr>\n",
              "      <th>1</th>\n",
              "      <td>002</td>\n",
              "      <td>GP</td>\n",
              "      <td>...</td>\n",
              "      <td>5</td>\n",
              "      <td>6</td>\n",
              "    </tr>\n",
              "    <tr>\n",
              "      <th>2</th>\n",
              "      <td>003</td>\n",
              "      <td>GP</td>\n",
              "      <td>...</td>\n",
              "      <td>8</td>\n",
              "      <td>10</td>\n",
              "    </tr>\n",
              "    <tr>\n",
              "      <th>3</th>\n",
              "      <td>004</td>\n",
              "      <td>GP</td>\n",
              "      <td>...</td>\n",
              "      <td>14</td>\n",
              "      <td>15</td>\n",
              "    </tr>\n",
              "    <tr>\n",
              "      <th>4</th>\n",
              "      <td>005</td>\n",
              "      <td>GP</td>\n",
              "      <td>...</td>\n",
              "      <td>10</td>\n",
              "      <td>10</td>\n",
              "    </tr>\n",
              "  </tbody>\n",
              "</table>\n",
              "<p>5 rows × 16 columns</p>\n",
              "</div>"
            ],
            "text/plain": [
              "  studentid school  ... gradeperiod2  gradeperiod3\n",
              "0       001     GP  ...            6             6\n",
              "1       002     GP  ...            5             6\n",
              "2       003     GP  ...            8            10\n",
              "3       004     GP  ...           14            15\n",
              "4       005     GP  ...           10            10\n",
              "\n",
              "[5 rows x 16 columns]"
            ]
          },
          "metadata": {
            "tags": []
          },
          "execution_count": 7
        }
      ]
    },
    {
      "cell_type": "markdown",
      "metadata": {
        "id": "k3KD8FSY4ed2"
      },
      "source": [
        "## alternate"
      ]
    },
    {
      "cell_type": "code",
      "metadata": {
        "id": "PQlAkC3e4VX4"
      },
      "source": [
        "host = \"pdccmysql.c9sqqzd5fulv.us-west-2.rds.amazonaws.com\"\r\n",
        "user = \"pdccuser\"\r\n",
        "password = \"pdccpass\"\r\n",
        "database = \"pdccschema\"\r\n",
        "connmysql = mysql.connector.connect(host=host,\r\n",
        "  database=database,user=user,password=password)\r\n",
        "studentmath = pd.read_sql(sqlselect,connmysql)\r\n",
        "connmysql.close()"
      ],
      "execution_count": null,
      "outputs": []
    },
    {
      "cell_type": "code",
      "metadata": {
        "colab": {
          "base_uri": "https://localhost:8080/"
        },
        "id": "_p4PJRDRzP9u",
        "outputId": "9c16660d-9b8d-4ee0-95bb-842b74e1d0d6"
      },
      "source": [
        "# rearrange columns and set an index\r\n",
        "newcolorder = ['studentid', 'gradeperiod1', 'gradeperiod2',\r\n",
        "  'gradeperiod3', 'school', 'sex', 'age', 'famsize',\r\n",
        "  'mothereducation', 'fathereducation', 'traveltime',\r\n",
        "  'studytime', 'freetime', 'failures', 'famrel',\r\n",
        "  'goout']\r\n",
        "\r\n",
        "studentmath = studentmath[newcolorder]\r\n",
        "studentmath.studentid.count()"
      ],
      "execution_count": 9,
      "outputs": [
        {
          "output_type": "execute_result",
          "data": {
            "text/plain": [
              "395"
            ]
          },
          "metadata": {
            "tags": []
          },
          "execution_count": 9
        }
      ]
    },
    {
      "cell_type": "code",
      "metadata": {
        "colab": {
          "base_uri": "https://localhost:8080/"
        },
        "id": "y8e4Zn_62vvJ",
        "outputId": "9774847b-b82c-4216-80ab-3bb4a28458ff"
      },
      "source": [
        "studentmath.studentid.nunique()"
      ],
      "execution_count": 10,
      "outputs": [
        {
          "output_type": "execute_result",
          "data": {
            "text/plain": [
              "395"
            ]
          },
          "metadata": {
            "tags": []
          },
          "execution_count": 10
        }
      ]
    },
    {
      "cell_type": "code",
      "metadata": {
        "colab": {
          "base_uri": "https://localhost:8080/"
        },
        "id": "AsT-1sb31Yyl",
        "outputId": "bad67b15-3019-4d7c-a6f0-b5a68053e2a3"
      },
      "source": [
        "studentmath.set_index('studentid', inplace=True)\r\n",
        "studentmath.count()"
      ],
      "execution_count": 11,
      "outputs": [
        {
          "output_type": "execute_result",
          "data": {
            "text/plain": [
              "gradeperiod1       395\n",
              "gradeperiod2       395\n",
              "gradeperiod3       395\n",
              "school             395\n",
              "sex                395\n",
              "age                395\n",
              "famsize            395\n",
              "mothereducation    395\n",
              "fathereducation    395\n",
              "traveltime         395\n",
              "studytime          395\n",
              "freetime           395\n",
              "failures           395\n",
              "famrel             395\n",
              "goout              395\n",
              "dtype: int64"
            ]
          },
          "metadata": {
            "tags": []
          },
          "execution_count": 11
        }
      ]
    },
    {
      "cell_type": "code",
      "metadata": {
        "colab": {
          "base_uri": "https://localhost:8080/"
        },
        "id": "bLy3aEe41ooh",
        "outputId": "1cc25eee-59c9-41fb-d20f-9651f68fe1dd"
      },
      "source": [
        "# add codes to data values\r\n",
        "setvalues={\"famrel\":{1:\"1:very bad\",2:\"2:bad\",3:\"3:neutral\",\r\n",
        "    4:\"4:good\",5:\"5:excellent\"},\r\n",
        "  \"freetime\":{1:\"1:very low\",2:\"2:low\",3:\"3:neutral\",\r\n",
        "    4:\"4:high\",5:\"5:very high\"},\r\n",
        "  \"goout\":{1:\"1:very low\",2:\"2:low\",3:\"3:neutral\",\r\n",
        "    4:\"4:high\",5:\"5:very high\"},\r\n",
        "  \"mothereducation\":{0:np.nan,1:\"1:k-4\",2:\"2:5-9\",\r\n",
        "    3:\"3:secondary ed\",4:\"4:higher ed\"},\r\n",
        "  \"fathereducation\":{0:np.nan,1:\"1:k-4\",2:\"2:5-9\",\r\n",
        "    3:\"3:secondary ed\",4:\"4:higher ed\"}}\r\n",
        "\r\n",
        "studentmath.replace(setvalues, inplace=True)\r\n",
        "setvalueskeys = [k for k in setvalues]\r\n",
        "studentmath[setvalueskeys].memory_usage(index=False)"
      ],
      "execution_count": 12,
      "outputs": [
        {
          "output_type": "execute_result",
          "data": {
            "text/plain": [
              "famrel             3160\n",
              "freetime           3160\n",
              "goout              3160\n",
              "mothereducation    3160\n",
              "fathereducation    3160\n",
              "dtype: int64"
            ]
          },
          "metadata": {
            "tags": []
          },
          "execution_count": 12
        }
      ]
    },
    {
      "cell_type": "code",
      "metadata": {
        "colab": {
          "base_uri": "https://localhost:8080/"
        },
        "id": "Lq9IP73k1u5d",
        "outputId": "803fc223-e86d-40f2-f4be-5d68fa079ff7"
      },
      "source": [
        "for col in studentmath[setvalueskeys].columns:\r\n",
        "    studentmath[col] = studentmath[col].astype('category')\r\n",
        "\r\n",
        "studentmath[setvalueskeys].memory_usage(index=False)"
      ],
      "execution_count": 13,
      "outputs": [
        {
          "output_type": "execute_result",
          "data": {
            "text/plain": [
              "famrel             595\n",
              "freetime           595\n",
              "goout              595\n",
              "mothereducation    587\n",
              "fathereducation    587\n",
              "dtype: int64"
            ]
          },
          "metadata": {
            "tags": []
          },
          "execution_count": 13
        }
      ]
    },
    {
      "cell_type": "code",
      "metadata": {
        "colab": {
          "base_uri": "https://localhost:8080/"
        },
        "id": "-4tXcb6z3JDy",
        "outputId": "65f2f056-3509-4227-e569-00c123c11023"
      },
      "source": [
        "# take a closer look at the new values\r\n",
        "studentmath['famrel'].value_counts(sort=False, normalize=True)"
      ],
      "execution_count": 14,
      "outputs": [
        {
          "output_type": "execute_result",
          "data": {
            "text/plain": [
              "1:very bad    0.02\n",
              "2:bad         0.05\n",
              "3:neutral     0.17\n",
              "4:good        0.49\n",
              "5:excellent   0.27\n",
              "Name: famrel, dtype: float64"
            ]
          },
          "metadata": {
            "tags": []
          },
          "execution_count": 14
        }
      ]
    },
    {
      "cell_type": "code",
      "metadata": {
        "colab": {
          "base_uri": "https://localhost:8080/",
          "height": 204
        },
        "id": "cBwQjAyd3fAf",
        "outputId": "3868e0ea-d72f-4044-f00b-525cdacb488c"
      },
      "source": [
        "studentmath[['freetime','goout']].\\\r\n",
        "  apply(pd.Series.value_counts, sort=False, normalize=True)"
      ],
      "execution_count": 15,
      "outputs": [
        {
          "output_type": "execute_result",
          "data": {
            "text/html": [
              "<div>\n",
              "<style scoped>\n",
              "    .dataframe tbody tr th:only-of-type {\n",
              "        vertical-align: middle;\n",
              "    }\n",
              "\n",
              "    .dataframe tbody tr th {\n",
              "        vertical-align: top;\n",
              "    }\n",
              "\n",
              "    .dataframe thead th {\n",
              "        text-align: right;\n",
              "    }\n",
              "</style>\n",
              "<table border=\"1\" class=\"dataframe\">\n",
              "  <thead>\n",
              "    <tr style=\"text-align: right;\">\n",
              "      <th></th>\n",
              "      <th>freetime</th>\n",
              "      <th>goout</th>\n",
              "    </tr>\n",
              "  </thead>\n",
              "  <tbody>\n",
              "    <tr>\n",
              "      <th>1:very low</th>\n",
              "      <td>0.05</td>\n",
              "      <td>0.06</td>\n",
              "    </tr>\n",
              "    <tr>\n",
              "      <th>2:low</th>\n",
              "      <td>0.16</td>\n",
              "      <td>0.26</td>\n",
              "    </tr>\n",
              "    <tr>\n",
              "      <th>3:neutral</th>\n",
              "      <td>0.40</td>\n",
              "      <td>0.33</td>\n",
              "    </tr>\n",
              "    <tr>\n",
              "      <th>4:high</th>\n",
              "      <td>0.29</td>\n",
              "      <td>0.22</td>\n",
              "    </tr>\n",
              "    <tr>\n",
              "      <th>5:very high</th>\n",
              "      <td>0.10</td>\n",
              "      <td>0.13</td>\n",
              "    </tr>\n",
              "  </tbody>\n",
              "</table>\n",
              "</div>"
            ],
            "text/plain": [
              "             freetime  goout\n",
              "1:very low       0.05   0.06\n",
              "2:low            0.16   0.26\n",
              "3:neutral        0.40   0.33\n",
              "4:high           0.29   0.22\n",
              "5:very high      0.10   0.13"
            ]
          },
          "metadata": {
            "tags": []
          },
          "execution_count": 15
        }
      ]
    },
    {
      "cell_type": "code",
      "metadata": {
        "colab": {
          "base_uri": "https://localhost:8080/",
          "height": 173
        },
        "id": "ibsH7go73mn4",
        "outputId": "7904a570-4c08-46ce-858d-2a10d73c85b2"
      },
      "source": [
        "studentmath[['mothereducation','fathereducation']].\\\r\n",
        "  apply(pd.Series.value_counts, sort=False, normalize=True)"
      ],
      "execution_count": 16,
      "outputs": [
        {
          "output_type": "execute_result",
          "data": {
            "text/html": [
              "<div>\n",
              "<style scoped>\n",
              "    .dataframe tbody tr th:only-of-type {\n",
              "        vertical-align: middle;\n",
              "    }\n",
              "\n",
              "    .dataframe tbody tr th {\n",
              "        vertical-align: top;\n",
              "    }\n",
              "\n",
              "    .dataframe thead th {\n",
              "        text-align: right;\n",
              "    }\n",
              "</style>\n",
              "<table border=\"1\" class=\"dataframe\">\n",
              "  <thead>\n",
              "    <tr style=\"text-align: right;\">\n",
              "      <th></th>\n",
              "      <th>mothereducation</th>\n",
              "      <th>fathereducation</th>\n",
              "    </tr>\n",
              "  </thead>\n",
              "  <tbody>\n",
              "    <tr>\n",
              "      <th>1:k-4</th>\n",
              "      <td>0.15</td>\n",
              "      <td>0.21</td>\n",
              "    </tr>\n",
              "    <tr>\n",
              "      <th>2:5-9</th>\n",
              "      <td>0.26</td>\n",
              "      <td>0.29</td>\n",
              "    </tr>\n",
              "    <tr>\n",
              "      <th>3:secondary ed</th>\n",
              "      <td>0.25</td>\n",
              "      <td>0.25</td>\n",
              "    </tr>\n",
              "    <tr>\n",
              "      <th>4:higher ed</th>\n",
              "      <td>0.33</td>\n",
              "      <td>0.24</td>\n",
              "    </tr>\n",
              "  </tbody>\n",
              "</table>\n",
              "</div>"
            ],
            "text/plain": [
              "                mothereducation  fathereducation\n",
              "1:k-4                      0.15             0.21\n",
              "2:5-9                      0.26             0.29\n",
              "3:secondary ed             0.25             0.25\n",
              "4:higher ed                0.33             0.24"
            ]
          },
          "metadata": {
            "tags": []
          },
          "execution_count": 16
        }
      ]
    },
    {
      "cell_type": "code",
      "metadata": {
        "id": "_n_eAcce3va1"
      },
      "source": [
        ""
      ],
      "execution_count": null,
      "outputs": []
    }
  ]
}