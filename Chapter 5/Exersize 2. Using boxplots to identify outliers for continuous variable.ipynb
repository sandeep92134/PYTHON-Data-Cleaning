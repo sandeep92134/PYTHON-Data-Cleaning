{
  "nbformat": 4,
  "nbformat_minor": 0,
  "metadata": {
    "colab": {
      "name": "Untitled9.ipynb",
      "provenance": [],
      "authorship_tag": "ABX9TyOyhBkdZPDdYNcHmc1mPhf3",
      "include_colab_link": true
    },
    "kernelspec": {
      "name": "python3",
      "display_name": "Python 3"
    }
  },
  "cells": [
    {
      "cell_type": "markdown",
      "metadata": {
        "id": "view-in-github",
        "colab_type": "text"
      },
      "source": [
        "<a href=\"https://colab.research.google.com/github/sandeep92134/PYTHON-Data-Cleaning/blob/master/Chapter%205/Exersize%202.%20Using%20boxplots%20to%20identify%20outliers%20for%20continuous%20variable.ipynb\" target=\"_parent\"><img src=\"https://colab.research.google.com/assets/colab-badge.svg\" alt=\"Open In Colab\"/></a>"
      ]
    },
    {
      "cell_type": "code",
      "metadata": {
        "id": "AI7cxcsWdx58"
      },
      "source": [
        " import pandas as pd\r\n",
        " import matplotlib.pyplot as plt\r\n",
        " nls97 = pd.read_csv(\"https://raw.githubusercontent.com/sandeep92134/PYTHON-Data-Cleaning/master/Chapter%205/datasets/nls97.csv\")\r\n",
        " nls97.set_index(\"personid\", inplace=True)\r\n",
        " covidtotals = pd.read_csv(\"https://raw.githubusercontent.com/sandeep92134/PYTHON-Data-Cleaning/master/Chapter%205/datasets/covidtotals.csv\", parse_dates=[\"lastdate\"])\r\n",
        " covidtotals.set_index(\"iso_code\", inplace=True)"
      ],
      "execution_count": 1,
      "outputs": []
    },
    {
      "cell_type": "code",
      "metadata": {
        "colab": {
          "base_uri": "https://localhost:8080/",
          "height": 265
        },
        "id": "hLwbkGjSeQCg",
        "outputId": "95d54b8f-ead7-497a-c192-9f169d3245bd"
      },
      "source": [
        " nls97.satverbal.describe()\r\n",
        " plt.boxplot(nls97.satverbal.dropna(), labels=['SAT Verbal'])\r\n",
        " plt.annotate('outlier threshold', xy=(1.05,780), xytext=(1.15,780), size=7, arrowprops=dict(facecolor='black', headwidth=2, width=0.5, shrink=0.02))\r\n",
        " plt.annotate('3rd quartile', xy=(1.08,570), xytext=(1.15,570), size=7, arrowprops=dict(facecolor='black', headwidth=2, width=0.5, shrink=0.02))\r\n",
        " plt.annotate('median', xy=(1.08,500), xytext=(1.15,500), size=7, arrowprops=dict(facecolor='black', headwidth=2, width=0.5, shrink=0.02))\r\n",
        " plt.annotate('1st quartile', xy=(1.08,430), xytext=(1.15,430), size=7, arrowprops=dict(facecolor='black', headwidth=2, width=0.5, shrink=0.02))\r\n",
        " plt.annotate('outlier threshold', xy=(1.05,220), xytext=(1.15,220), size=7, arrowprops=dict(facecolor='black', headwidth=2, width=0.5, shrink=0.02))\r\n",
        " #plt.annotate('outlier threshold', xy=(1.95,15), xytext=(1.55,15), size=7, arrowprops=dict(facecolor='black', headwidth=2, width=0.5, shrink=0.02))\r\n",
        " plt.show()"
      ],
      "execution_count": 2,
      "outputs": [
        {
          "output_type": "display_data",
          "data": {
            "image/png": "[encoded data removed]",
            "text/plain": [
              "<Figure size 432x288 with 1 Axes>"
            ]
          },
          "metadata": {
            "tags": [],
            "needs_background": "light"
          }
        }
      ]
    },
    {
      "cell_type": "code",
      "metadata": {
        "colab": {
          "base_uri": "https://localhost:8080/",
          "height": 297
        },
        "id": "xwiWwHonephv",
        "outputId": "71a50ff3-20c3-48d2-c9a0-d82d6c79162c"
      },
      "source": [
        " weeksworked = nls97.loc[:, ['highestdegree','weeksworked16', 'weeksworked17']]\r\n",
        " \r\n",
        " weeksworked.describe()"
      ],
      "execution_count": 3,
      "outputs": [
        {
          "output_type": "execute_result",
          "data": {
            "text/html": [
              "<div>\n",
              "<style scoped>\n",
              "    .dataframe tbody tr th:only-of-type {\n",
              "        vertical-align: middle;\n",
              "    }\n",
              "\n",
              "    .dataframe tbody tr th {\n",
              "        vertical-align: top;\n",
              "    }\n",
              "\n",
              "    .dataframe thead th {\n",
              "        text-align: right;\n",
              "    }\n",
              "</style>\n",
              "<table border=\"1\" class=\"dataframe\">\n",
              "  <thead>\n",
              "    <tr style=\"text-align: right;\">\n",
              "      <th></th>\n",
              "      <th>weeksworked16</th>\n",
              "      <th>weeksworked17</th>\n",
              "    </tr>\n",
              "  </thead>\n",
              "  <tbody>\n",
              "    <tr>\n",
              "      <th>count</th>\n",
              "      <td>7068.000000</td>\n",
              "      <td>6670.000000</td>\n",
              "    </tr>\n",
              "    <tr>\n",
              "      <th>mean</th>\n",
              "      <td>39.127476</td>\n",
              "      <td>39.016642</td>\n",
              "    </tr>\n",
              "    <tr>\n",
              "      <th>std</th>\n",
              "      <td>21.336629</td>\n",
              "      <td>19.465974</td>\n",
              "    </tr>\n",
              "    <tr>\n",
              "      <th>min</th>\n",
              "      <td>0.000000</td>\n",
              "      <td>0.000000</td>\n",
              "    </tr>\n",
              "    <tr>\n",
              "      <th>25%</th>\n",
              "      <td>23.000000</td>\n",
              "      <td>37.000000</td>\n",
              "    </tr>\n",
              "    <tr>\n",
              "      <th>50%</th>\n",
              "      <td>53.000000</td>\n",
              "      <td>49.000000</td>\n",
              "    </tr>\n",
              "    <tr>\n",
              "      <th>75%</th>\n",
              "      <td>53.000000</td>\n",
              "      <td>52.000000</td>\n",
              "    </tr>\n",
              "    <tr>\n",
              "      <th>max</th>\n",
              "      <td>53.000000</td>\n",
              "      <td>52.000000</td>\n",
              "    </tr>\n",
              "  </tbody>\n",
              "</table>\n",
              "</div>"
            ],
            "text/plain": [
              "       weeksworked16  weeksworked17\n",
              "count    7068.000000    6670.000000\n",
              "mean       39.127476      39.016642\n",
              "std        21.336629      19.465974\n",
              "min         0.000000       0.000000\n",
              "25%        23.000000      37.000000\n",
              "50%        53.000000      49.000000\n",
              "75%        53.000000      52.000000\n",
              "max        53.000000      52.000000"
            ]
          },
          "metadata": {
            "tags": []
          },
          "execution_count": 3
        }
      ]
    },
    {
      "cell_type": "code",
      "metadata": {
        "colab": {
          "base_uri": "https://localhost:8080/",
          "height": 351
        },
        "id": "TjExeyRTe5fV",
        "outputId": "e0e9ed65-c156-47a7-c439-0757879810ee"
      },
      "source": [
        "# do a box plot of weeks worked in 2016 and 2017\r\n",
        "plt.boxplot([weeksworked.weeksworked16.dropna(),\r\n",
        "  weeksworked.weeksworked17.dropna()],\r\n",
        "  labels=['Weeks Worked 2016','Weeks Worked 2017'])\r\n",
        "plt.title(\"Boxplots of Weeks Worked\")\r\n",
        "plt.tight_layout()\r\n",
        "plt.show()"
      ],
      "execution_count": 4,
      "outputs": [
        {
          "output_type": "stream",
          "text": [
            "/usr/local/lib/python3.7/dist-packages/numpy/core/_asarray.py:83: VisibleDeprecationWarning: Creating an ndarray from ragged nested sequences (which is a list-or-tuple of lists-or-tuples-or ndarrays with different lengths or shapes) is deprecated. If you meant to do this, you must specify 'dtype=object' when creating the ndarray\n",
            "  return array(a, dtype, copy=False, order=order)\n"
          ],
          "name": "stderr"
        },
        {
          "output_type": "display_data",
          "data": {
            "image/png": "[encoded data removed]",
            "text/plain": [
              "<Figure size 432x288 with 1 Axes>"
            ]
          },
          "metadata": {
            "tags": [],
            "needs_background": "light"
          }
        }
      ]
    },
    {
      "cell_type": "code",
      "metadata": {
        "colab": {
          "base_uri": "https://localhost:8080/",
          "height": 297
        },
        "id": "6Z-M_PJHfNS0",
        "outputId": "512ea900-d7c4-4a8f-8508-501e198bee75"
      },
      "source": [
        " totvars = ['total_cases','total_deaths','total_cases_pm', 'total_deaths_pm']\r\n",
        " totvarslabels = ['cases','deaths','cases per million','deaths per million']\r\n",
        " covidtotalsonly = covidtotals[totvars]\r\n",
        " covidtotalsonly.describe()"
      ],
      "execution_count": 5,
      "outputs": [
        {
          "output_type": "execute_result",
          "data": {
            "text/html": [
              "<div>\n",
              "<style scoped>\n",
              "    .dataframe tbody tr th:only-of-type {\n",
              "        vertical-align: middle;\n",
              "    }\n",
              "\n",
              "    .dataframe tbody tr th {\n",
              "        vertical-align: top;\n",
              "    }\n",
              "\n",
              "    .dataframe thead th {\n",
              "        text-align: right;\n",
              "    }\n",
              "</style>\n",
              "<table border=\"1\" class=\"dataframe\">\n",
              "  <thead>\n",
              "    <tr style=\"text-align: right;\">\n",
              "      <th></th>\n",
              "      <th>total_cases</th>\n",
              "      <th>total_deaths</th>\n",
              "      <th>total_cases_pm</th>\n",
              "      <th>total_deaths_pm</th>\n",
              "    </tr>\n",
              "  </thead>\n",
              "  <tbody>\n",
              "    <tr>\n",
              "      <th>count</th>\n",
              "      <td>2.090000e+02</td>\n",
              "      <td>209.000000</td>\n",
              "      <td>209.000000</td>\n",
              "      <td>209.000000</td>\n",
              "    </tr>\n",
              "    <tr>\n",
              "      <th>mean</th>\n",
              "      <td>6.075741e+04</td>\n",
              "      <td>2702.952153</td>\n",
              "      <td>2297.022144</td>\n",
              "      <td>73.636522</td>\n",
              "    </tr>\n",
              "    <tr>\n",
              "      <th>std</th>\n",
              "      <td>2.724401e+05</td>\n",
              "      <td>11894.963052</td>\n",
              "      <td>4039.840203</td>\n",
              "      <td>156.341672</td>\n",
              "    </tr>\n",
              "    <tr>\n",
              "      <th>min</th>\n",
              "      <td>3.000000e+00</td>\n",
              "      <td>0.000000</td>\n",
              "      <td>1.229000</td>\n",
              "      <td>0.000000</td>\n",
              "    </tr>\n",
              "    <tr>\n",
              "      <th>25%</th>\n",
              "      <td>3.420000e+02</td>\n",
              "      <td>9.000000</td>\n",
              "      <td>202.834000</td>\n",
              "      <td>2.809000</td>\n",
              "    </tr>\n",
              "    <tr>\n",
              "      <th>50%</th>\n",
              "      <td>2.820000e+03</td>\n",
              "      <td>53.000000</td>\n",
              "      <td>868.866000</td>\n",
              "      <td>15.216000</td>\n",
              "    </tr>\n",
              "    <tr>\n",
              "      <th>75%</th>\n",
              "      <td>2.561100e+04</td>\n",
              "      <td>386.000000</td>\n",
              "      <td>2784.865000</td>\n",
              "      <td>58.374000</td>\n",
              "    </tr>\n",
              "    <tr>\n",
              "      <th>max</th>\n",
              "      <td>3.247684e+06</td>\n",
              "      <td>134814.000000</td>\n",
              "      <td>35795.159000</td>\n",
              "      <td>1237.551000</td>\n",
              "    </tr>\n",
              "  </tbody>\n",
              "</table>\n",
              "</div>"
            ],
            "text/plain": [
              "        total_cases   total_deaths  total_cases_pm  total_deaths_pm\n",
              "count  2.090000e+02     209.000000      209.000000       209.000000\n",
              "mean   6.075741e+04    2702.952153     2297.022144        73.636522\n",
              "std    2.724401e+05   11894.963052     4039.840203       156.341672\n",
              "min    3.000000e+00       0.000000        1.229000         0.000000\n",
              "25%    3.420000e+02       9.000000      202.834000         2.809000\n",
              "50%    2.820000e+03      53.000000      868.866000        15.216000\n",
              "75%    2.561100e+04     386.000000     2784.865000        58.374000\n",
              "max    3.247684e+06  134814.000000    35795.159000      1237.551000"
            ]
          },
          "metadata": {
            "tags": []
          },
          "execution_count": 5
        }
      ]
    },
    {
      "cell_type": "code",
      "metadata": {
        "colab": {
          "base_uri": "https://localhost:8080/",
          "height": 297
        },
        "id": "EIMdRtYdfYN_",
        "outputId": "dcaf8934-526c-4842-f8e3-59715a62c315"
      },
      "source": [
        "# do a box plot of cases and deaths per million\r\n",
        "fig, ax = plt.subplots()\r\n",
        "plt.title(\"Boxplots of Covid Cases and Deaths Per Million\")\r\n",
        "ax.boxplot([covidtotalsonly.total_cases_pm,covidtotalsonly.total_deaths_pm],\\\r\n",
        "  labels=['cases per million','deaths per million'])\r\n",
        "plt.tight_layout()\r\n",
        "plt.show()"
      ],
      "execution_count": 6,
      "outputs": [
        {
          "output_type": "display_data",
          "data": {
            "image/png": "[encoded data removed]",
            "text/plain": [
              "<Figure size 432x288 with 1 Axes>"
            ]
          },
          "metadata": {
            "tags": [],
            "needs_background": "light"
          }
        }
      ]
    },
    {
      "cell_type": "code",
      "metadata": {
        "colab": {
          "base_uri": "https://localhost:8080/",
          "height": 302
        },
        "id": "B2e5fd6wgHUD",
        "outputId": "982f7469-6b1d-443d-82af-9fa1e8c0079c"
      },
      "source": [
        "# show boxplots as separate sub plots on one figure\r\n",
        "fig, axes = plt.subplots(2, 2,)\r\n",
        "fig.suptitle(\"Boxplots of Covid Cases and Deaths\")\r\n",
        "axes = axes.ravel()\r\n",
        "\r\n",
        "for j, ax in enumerate(axes):\r\n",
        "  ax.boxplot(covidtotalsonly.iloc[:, j], labels=[totvarslabels[j]])\r\n",
        "\r\n",
        "plt.tight_layout()\r\n",
        "fig.subplots_adjust(top=0.94)\r\n",
        "plt.show()"
      ],
      "execution_count": 7,
      "outputs": [
        {
          "output_type": "display_data",
          "data": {
            "image/png": "[encoded data removed]",
            "text/plain": [
              "<Figure size 432x288 with 4 Axes>"
            ]
          },
          "metadata": {
            "tags": [],
            "needs_background": "light"
          }
        }
      ]
    }
  ]
}