{
  "nbformat": 4,
  "nbformat_minor": 0,
  "metadata": {
    "colab": {
      "name": "Untitled7.ipynb",
      "provenance": [],
      "authorship_tag": "ABX9TyMTfnkX8Hf5h1n9N3PrBj/4",
      "include_colab_link": true
    },
    "kernelspec": {
      "name": "python3",
      "display_name": "Python 3"
    }
  },
  "cells": [
    {
      "cell_type": "markdown",
      "metadata": {
        "id": "view-in-github",
        "colab_type": "text"
      },
      "source": [
        "<a href=\"https://colab.research.google.com/github/sandeep92134/PYTHON-Data-Cleaning/blob/master/Chapter%205/Exersize%201.%20Using%20histograms%20to%20examine%20the%20distribution%20of%20continuous%20variables.ipynb\" target=\"_parent\"><img src=\"https://colab.research.google.com/assets/colab-badge.svg\" alt=\"Open In Colab\"/></a>"
      ]
    },
    {
      "cell_type": "code",
      "metadata": {
        "colab": {
          "base_uri": "https://localhost:8080/"
        },
        "id": "sbdmYhU6jIfJ",
        "outputId": "4caa23fd-7410-4c74-b98b-252269a67653"
      },
      "source": [
        "import numpy as np\r\n",
        ">>> import pandas as pd\r\n",
        ">>> import matplotlib.pyplot as plt\r\n",
        ">>> import statsmodels.api as sm\r\n",
        ">>> landtemps = pd.read_csv(\"https://raw.githubusercontent.com/sandeep92134/PYTHON-Data-Cleaning/master/Chapter%205/datasets/landtemps2019avgs.csv\")\r\n",
        ">>> covidtotals = pd.read_csv(\"https://raw.githubusercontent.com/sandeep92134/PYTHON-Data-Cleaning/master/Chapter%205/datasets/covidtotals.csv\", parse_dates=[\"lastdate\"])\r\n",
        ">>> covidtotals.set_index(\"iso_code\", inplace=True)"
      ],
      "execution_count": 1,
      "outputs": [
        {
          "output_type": "stream",
          "text": [
            "/usr/local/lib/python3.7/dist-packages/statsmodels/tools/_testing.py:19: FutureWarning: pandas.util.testing is deprecated. Use the functions in the public API at pandas.testing instead.\n",
            "  import pandas.util.testing as tm\n"
          ],
          "name": "stderr"
        }
      ]
    },
    {
      "cell_type": "code",
      "metadata": {
        "colab": {
          "base_uri": "https://localhost:8080/",
          "height": 359
        },
        "id": "S4rQGmzplBg1",
        "outputId": "dae8b9b1-8d32-4bc6-99fc-b14d8e166a5e"
      },
      "source": [
        "# show some of the temperature rows \r\n",
        "landtemps[['station','country','latabs','elevation','avgtemp']].\\\r\n",
        "  sample(10, random_state=1)"
      ],
      "execution_count": 2,
      "outputs": [
        {
          "output_type": "execute_result",
          "data": {
            "text/html": [
              "<div>\n",
              "<style scoped>\n",
              "    .dataframe tbody tr th:only-of-type {\n",
              "        vertical-align: middle;\n",
              "    }\n",
              "\n",
              "    .dataframe tbody tr th {\n",
              "        vertical-align: top;\n",
              "    }\n",
              "\n",
              "    .dataframe thead th {\n",
              "        text-align: right;\n",
              "    }\n",
              "</style>\n",
              "<table border=\"1\" class=\"dataframe\">\n",
              "  <thead>\n",
              "    <tr style=\"text-align: right;\">\n",
              "      <th></th>\n",
              "      <th>station</th>\n",
              "      <th>country</th>\n",
              "      <th>latabs</th>\n",
              "      <th>elevation</th>\n",
              "      <th>avgtemp</th>\n",
              "    </tr>\n",
              "  </thead>\n",
              "  <tbody>\n",
              "    <tr>\n",
              "      <th>10526</th>\n",
              "      <td>NEW_FORK_LAKE</td>\n",
              "      <td>United States</td>\n",
              "      <td>43.1167</td>\n",
              "      <td>2542.0</td>\n",
              "      <td>1.864167</td>\n",
              "    </tr>\n",
              "    <tr>\n",
              "      <th>1416</th>\n",
              "      <td>NEIR_AGDM</td>\n",
              "      <td>Canada</td>\n",
              "      <td>51.3667</td>\n",
              "      <td>1145.0</td>\n",
              "      <td>2.185000</td>\n",
              "    </tr>\n",
              "    <tr>\n",
              "      <th>2230</th>\n",
              "      <td>CURICO</td>\n",
              "      <td>Chile</td>\n",
              "      <td>34.9670</td>\n",
              "      <td>225.0</td>\n",
              "      <td>15.504167</td>\n",
              "    </tr>\n",
              "    <tr>\n",
              "      <th>6002</th>\n",
              "      <td>LIFTON_PUMPING_STN</td>\n",
              "      <td>United States</td>\n",
              "      <td>42.1231</td>\n",
              "      <td>1809.0</td>\n",
              "      <td>4.385833</td>\n",
              "    </tr>\n",
              "    <tr>\n",
              "      <th>2106</th>\n",
              "      <td>HUAILAI</td>\n",
              "      <td>China</td>\n",
              "      <td>40.4170</td>\n",
              "      <td>538.0</td>\n",
              "      <td>11.020833</td>\n",
              "    </tr>\n",
              "    <tr>\n",
              "      <th>2090</th>\n",
              "      <td>MUDANJIANG</td>\n",
              "      <td>China</td>\n",
              "      <td>44.5670</td>\n",
              "      <td>242.0</td>\n",
              "      <td>5.816667</td>\n",
              "    </tr>\n",
              "    <tr>\n",
              "      <th>7781</th>\n",
              "      <td>CHEYENNE_6SW_MESONET</td>\n",
              "      <td>United States</td>\n",
              "      <td>35.5461</td>\n",
              "      <td>694.0</td>\n",
              "      <td>14.875833</td>\n",
              "    </tr>\n",
              "    <tr>\n",
              "      <th>10502</th>\n",
              "      <td>SHARKSTOOTH</td>\n",
              "      <td>United States</td>\n",
              "      <td>37.5000</td>\n",
              "      <td>3267.5</td>\n",
              "      <td>4.105833</td>\n",
              "    </tr>\n",
              "    <tr>\n",
              "      <th>11049</th>\n",
              "      <td>CHALLIS_AP</td>\n",
              "      <td>United States</td>\n",
              "      <td>44.5228</td>\n",
              "      <td>1534.1</td>\n",
              "      <td>6.510000</td>\n",
              "    </tr>\n",
              "    <tr>\n",
              "      <th>2820</th>\n",
              "      <td>METHONI</td>\n",
              "      <td>Greece</td>\n",
              "      <td>36.8331</td>\n",
              "      <td>52.0</td>\n",
              "      <td>18.200000</td>\n",
              "    </tr>\n",
              "  </tbody>\n",
              "</table>\n",
              "</div>"
            ],
            "text/plain": [
              "                    station        country   latabs  elevation    avgtemp\n",
              "10526         NEW_FORK_LAKE  United States  43.1167     2542.0   1.864167\n",
              "1416              NEIR_AGDM         Canada  51.3667     1145.0   2.185000\n",
              "2230                 CURICO          Chile  34.9670      225.0  15.504167\n",
              "6002     LIFTON_PUMPING_STN  United States  42.1231     1809.0   4.385833\n",
              "2106                HUAILAI          China  40.4170      538.0  11.020833\n",
              "2090             MUDANJIANG          China  44.5670      242.0   5.816667\n",
              "7781   CHEYENNE_6SW_MESONET  United States  35.5461      694.0  14.875833\n",
              "10502           SHARKSTOOTH  United States  37.5000     3267.5   4.105833\n",
              "11049            CHALLIS_AP  United States  44.5228     1534.1   6.510000\n",
              "2820                METHONI         Greece  36.8331       52.0  18.200000"
            ]
          },
          "metadata": {
            "tags": []
          },
          "execution_count": 2
        }
      ]
    },
    {
      "cell_type": "code",
      "metadata": {
        "colab": {
          "base_uri": "https://localhost:8080/",
          "height": 297
        },
        "id": "Wqg5UgM_lI4n",
        "outputId": "28692cbd-3a68-4c08-a398-a8ddc424d19c"
      },
      "source": [
        "# generate some descriptive statistics on the temperatures data\r\n",
        "landtemps.describe()"
      ],
      "execution_count": 3,
      "outputs": [
        {
          "output_type": "execute_result",
          "data": {
            "text/html": [
              "<div>\n",
              "<style scoped>\n",
              "    .dataframe tbody tr th:only-of-type {\n",
              "        vertical-align: middle;\n",
              "    }\n",
              "\n",
              "    .dataframe tbody tr th {\n",
              "        vertical-align: top;\n",
              "    }\n",
              "\n",
              "    .dataframe thead th {\n",
              "        text-align: right;\n",
              "    }\n",
              "</style>\n",
              "<table border=\"1\" class=\"dataframe\">\n",
              "  <thead>\n",
              "    <tr style=\"text-align: right;\">\n",
              "      <th></th>\n",
              "      <th>latabs</th>\n",
              "      <th>elevation</th>\n",
              "      <th>avgtemp</th>\n",
              "    </tr>\n",
              "  </thead>\n",
              "  <tbody>\n",
              "    <tr>\n",
              "      <th>count</th>\n",
              "      <td>12095.000000</td>\n",
              "      <td>12095.000000</td>\n",
              "      <td>12095.000000</td>\n",
              "    </tr>\n",
              "    <tr>\n",
              "      <th>mean</th>\n",
              "      <td>40.466791</td>\n",
              "      <td>589.330211</td>\n",
              "      <td>11.193542</td>\n",
              "    </tr>\n",
              "    <tr>\n",
              "      <th>std</th>\n",
              "      <td>12.611377</td>\n",
              "      <td>761.973468</td>\n",
              "      <td>8.563443</td>\n",
              "    </tr>\n",
              "    <tr>\n",
              "      <th>min</th>\n",
              "      <td>0.017000</td>\n",
              "      <td>-350.000000</td>\n",
              "      <td>-60.821000</td>\n",
              "    </tr>\n",
              "    <tr>\n",
              "      <th>25%</th>\n",
              "      <td>34.510300</td>\n",
              "      <td>78.000000</td>\n",
              "      <td>5.417917</td>\n",
              "    </tr>\n",
              "    <tr>\n",
              "      <th>50%</th>\n",
              "      <td>40.670300</td>\n",
              "      <td>271.300000</td>\n",
              "      <td>10.450000</td>\n",
              "    </tr>\n",
              "    <tr>\n",
              "      <th>75%</th>\n",
              "      <td>46.750550</td>\n",
              "      <td>817.500000</td>\n",
              "      <td>16.919583</td>\n",
              "    </tr>\n",
              "    <tr>\n",
              "      <th>max</th>\n",
              "      <td>90.000000</td>\n",
              "      <td>9999.000000</td>\n",
              "      <td>33.930000</td>\n",
              "    </tr>\n",
              "  </tbody>\n",
              "</table>\n",
              "</div>"
            ],
            "text/plain": [
              "             latabs     elevation       avgtemp\n",
              "count  12095.000000  12095.000000  12095.000000\n",
              "mean      40.466791    589.330211     11.193542\n",
              "std       12.611377    761.973468      8.563443\n",
              "min        0.017000   -350.000000    -60.821000\n",
              "25%       34.510300     78.000000      5.417917\n",
              "50%       40.670300    271.300000     10.450000\n",
              "75%       46.750550    817.500000     16.919583\n",
              "max       90.000000   9999.000000     33.930000"
            ]
          },
          "metadata": {
            "tags": []
          },
          "execution_count": 3
        }
      ]
    },
    {
      "cell_type": "code",
      "metadata": {
        "colab": {
          "base_uri": "https://localhost:8080/"
        },
        "id": "V2fhi7OklXva",
        "outputId": "ae9c8c16-892a-4fbe-9587-44eb86cbda3d"
      },
      "source": [
        "landtemps.avgtemp.skew()"
      ],
      "execution_count": 4,
      "outputs": [
        {
          "output_type": "execute_result",
          "data": {
            "text/plain": [
              "-0.2678382583481768"
            ]
          },
          "metadata": {
            "tags": []
          },
          "execution_count": 4
        }
      ]
    },
    {
      "cell_type": "code",
      "metadata": {
        "colab": {
          "base_uri": "https://localhost:8080/"
        },
        "id": "IPqIwe6XlaBv",
        "outputId": "5e9e652d-13d8-4ae3-b40d-2d71c6f7a5b2"
      },
      "source": [
        "landtemps.avgtemp.kurtosis()"
      ],
      "execution_count": 5,
      "outputs": [
        {
          "output_type": "execute_result",
          "data": {
            "text/plain": [
              "2.1698313707061074"
            ]
          },
          "metadata": {
            "tags": []
          },
          "execution_count": 5
        }
      ]
    },
    {
      "cell_type": "code",
      "metadata": {
        "colab": {
          "base_uri": "https://localhost:8080/",
          "height": 295
        },
        "id": "NbSm1uDIlaas",
        "outputId": "cf2bb9d8-06b3-43ae-b25b-1775d9be968a"
      },
      "source": [
        "# plot temperature averages\r\n",
        "plt.hist(landtemps.avgtemp)\r\n",
        "plt.axvline(landtemps.avgtemp.mean(), color='red', linestyle='dashed', linewidth=1)\r\n",
        "plt.title(\"Histogram of Average Temperatures (Celsius)\")\r\n",
        "plt.xlabel(\"Average Temperature\")\r\n",
        "plt.ylabel(\"Frequency\")\r\n",
        "plt.show()"
      ],
      "execution_count": 6,
      "outputs": [
        {
          "output_type": "display_data",
          "data": {
            "image/png": "[encoded data removed]",
            "text/plain": [
              "<Figure size 432x288 with 1 Axes>"
            ]
          },
          "metadata": {
            "tags": [],
            "needs_background": "light"
          }
        }
      ]
    },
    {
      "cell_type": "code",
      "metadata": {
        "colab": {
          "base_uri": "https://localhost:8080/",
          "height": 295
        },
        "id": "1543IKW-lhCq",
        "outputId": "d90cb482-fe97-4da4-eef3-50653e73135f"
      },
      "source": [
        "# run a qq-plot to examine where the distribution deviates from a normal distribution\r\n",
        "sm.qqplot(landtemps[['avgtemp']].sort_values(['avgtemp']), line='s')\r\n",
        "plt.title(\"QQ Plot of Average Temperatures\")\r\n",
        "plt.show()"
      ],
      "execution_count": 7,
      "outputs": [
        {
          "output_type": "display_data",
          "data": {
            "image/png": "[encoded data removed]",
            "text/plain": [
              "<Figure size 432x288 with 1 Axes>"
            ]
          },
          "metadata": {
            "tags": [],
            "needs_background": "light"
          }
        }
      ]
    },
    {
      "cell_type": "code",
      "metadata": {
        "colab": {
          "base_uri": "https://localhost:8080/"
        },
        "id": "Xr5lD9ivlwHN",
        "outputId": "16e97e0c-927b-4c4f-c7ce-8248950317f2"
      },
      "source": [
        "# show skewness and kurtosis for total_cases_pm\r\n",
        "covidtotals.total_cases_pm.skew()"
      ],
      "execution_count": 8,
      "outputs": [
        {
          "output_type": "execute_result",
          "data": {
            "text/plain": [
              "4.284484653881832"
            ]
          },
          "metadata": {
            "tags": []
          },
          "execution_count": 8
        }
      ]
    },
    {
      "cell_type": "code",
      "metadata": {
        "colab": {
          "base_uri": "https://localhost:8080/"
        },
        "id": "2N25egItlk2h",
        "outputId": "05eeb983-2dc0-49be-c717-e2b35efd49f8"
      },
      "source": [
        "covidtotals.total_cases_pm.kurtosis()"
      ],
      "execution_count": 9,
      "outputs": [
        {
          "output_type": "execute_result",
          "data": {
            "text/plain": [
              "26.137524276840445"
            ]
          },
          "metadata": {
            "tags": []
          },
          "execution_count": 9
        }
      ]
    },
    {
      "cell_type": "code",
      "metadata": {
        "colab": {
          "base_uri": "https://localhost:8080/",
          "height": 349
        },
        "id": "thuHPFallxBb",
        "outputId": "04b92054-11de-46a1-c922-052d4e77fb4e"
      },
      "source": [
        "# do a stacked histogram\r\n",
        "showregions = ['Oceania / Aus','East Asia','Southern Africa','Western Europe']\r\n",
        "\r\n",
        "def getcases(regiondesc):\r\n",
        "  return covidtotals.loc[covidtotals.region==regiondesc,\r\n",
        "    'total_cases_pm']\r\n",
        "\r\n",
        "plt.hist([getcases(k) for k in showregions],\\\r\n",
        "  color=['blue','mediumslateblue','plum','mediumvioletred'],\\\r\n",
        "  label=showregions,\\\r\n",
        "  stacked=True)\r\n",
        "\r\n",
        "plt.title(\"Stacked Histogram of Cases Per Million for Selected Regions\")\r\n",
        "plt.xlabel(\"Cases Per Million\")\r\n",
        "plt.ylabel(\"Frequency\")\r\n",
        "plt.xticks(np.arange(0, 22500, step=2500))\r\n",
        "plt.legend()\r\n",
        "plt.show()"
      ],
      "execution_count": 10,
      "outputs": [
        {
          "output_type": "stream",
          "text": [
            "/usr/local/lib/python3.7/dist-packages/numpy/core/_asarray.py:83: VisibleDeprecationWarning: Creating an ndarray from ragged nested sequences (which is a list-or-tuple of lists-or-tuples-or ndarrays with different lengths or shapes) is deprecated. If you meant to do this, you must specify 'dtype=object' when creating the ndarray\n",
            "  return array(a, dtype, copy=False, order=order)\n"
          ],
          "name": "stderr"
        },
        {
          "output_type": "display_data",
          "data": {
            "image/png": "[encoded data removed]",
            "text/plain": [
              "<Figure size 432x288 with 1 Axes>"
            ]
          },
          "metadata": {
            "tags": [],
            "needs_background": "light"
          }
        }
      ]
    },
    {
      "cell_type": "code",
      "metadata": {
        "colab": {
          "base_uri": "https://localhost:8080/",
          "height": 302
        },
        "id": "aQ81BeEnmwgS",
        "outputId": "67657b38-c358-4d4c-8e4a-30a230039594"
      },
      "source": [
        "# show multiple histograms on one figure\r\n",
        "fig, axes = plt.subplots(2, 2)\r\n",
        "fig.suptitle(\"Histograms of Covid Cases Per Million by Selected Regions\")\r\n",
        "axes = axes.ravel()\r\n",
        "\r\n",
        "for j, ax in enumerate(axes):\r\n",
        "  ax.hist(covidtotals.loc[covidtotals.region==showregions[j]].\\\r\n",
        "    total_cases_pm, bins=5)\r\n",
        "  ax.set_title(showregions[j], fontsize=10)\r\n",
        "  for tick in ax.get_xticklabels():\r\n",
        "    tick.set_rotation(45)\r\n",
        "\r\n",
        "plt.tight_layout()\r\n",
        "fig.subplots_adjust(top=0.88)\r\n",
        "plt.show()"
      ],
      "execution_count": 11,
      "outputs": [
        {
          "output_type": "display_data",
          "data": {
            "image/png": "[encoded data removed]",
            "text/plain": [
              "<Figure size 432x288 with 4 Axes>"
            ]
          },
          "metadata": {
            "tags": [],
            "needs_background": "light"
          }
        }
      ]
    }
  ]
}