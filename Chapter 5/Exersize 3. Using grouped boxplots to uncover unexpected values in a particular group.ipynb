{
  "nbformat": 4,
  "nbformat_minor": 0,
  "metadata": {
    "colab": {
      "name": "",
      "provenance": [],
      "authorship_tag": "ABX9TyMIfDhniS3DKVM24ERKduvA",
      "include_colab_link": true
    },
    "kernelspec": {
      "name": "python3",
      "display_name": "Python 3"
    }
  },
  "cells": [
    {
      "cell_type": "markdown",
      "metadata": {
        "id": "view-in-github",
        "colab_type": "text"
      },
      "source": [
        "<a href=\"https://colab.research.google.com/github/sandeep92134/PYTHON-Data-Cleaning/blob/master/Chapter%205/Exersize%203.%20Using%20grouped%20boxplots%20to%20uncover%20unexpected%20values%20in%20a%20particular%20group.ipynb\" target=\"_parent\"><img src=\"https://colab.research.google.com/assets/colab-badge.svg\" alt=\"Open In Colab\"/></a>"
      ]
    },
    {
      "cell_type": "code",
      "metadata": {
        "id": "PvypOsrKpXNl"
      },
      "source": [
        "import pandas as pd\n",
        "import matplotlib.pyplot as plt\n",
        "import seaborn as sns\n",
        "nls97 = pd.read_csv(\"https://raw.githubusercontent.com/sandeep92134/PYTHON-Data-Cleaning/master/Chapter%205/datasets/nls97.csv\")\n",
        "nls97.set_index(\"personid\", inplace=True)\n",
        "covidtotals = pd.read_csv(\"https://raw.githubusercontent.com/sandeep92134/PYTHON-Data-Cleaning/master/Chapter%205/datasets/covidtotals.csv\", parse_dates=[\"lastdate\"])\n",
        "covidtotals.set_index(\"iso_code\", inplace=True)"
      ],
      "execution_count": 1,
      "outputs": []
    },
    {
      "cell_type": "code",
      "metadata": {
        "id": "VJMvmhE6ovWh"
      },
      "source": [
        "def gettots(x):\n",
        "  out = {}\n",
        "  out['min'] = x.min()\n",
        "  out['qr1'] = x.quantile(0.25)\n",
        "  out['med'] = x.median()\n",
        "  out['qr3'] = x.quantile(0.75)\n",
        "  out['max'] = x.max()\n",
        "  out['count'] = x.count()\n",
        "  return pd.Series(out)\n"
      ],
      "execution_count": 2,
      "outputs": []
    },
    {
      "cell_type": "code",
      "metadata": {
        "colab": {
          "base_uri": "https://localhost:8080/",
          "height": 328
        },
        "id": "CroLfMKso65l",
        "outputId": "d138d26b-2a9a-4b65-f313-60386c786e9c"
      },
      "source": [
        "nls97.groupby(['highestdegree'])['weeksworked17'].\\\n",
        " apply(gettots).unstack()"
      ],
      "execution_count": 3,
      "outputs": [
        {
          "output_type": "execute_result",
          "data": {
            "text/html": [
              "<div>\n",
              "<style scoped>\n",
              "    .dataframe tbody tr th:only-of-type {\n",
              "        vertical-align: middle;\n",
              "    }\n",
              "\n",
              "    .dataframe tbody tr th {\n",
              "        vertical-align: top;\n",
              "    }\n",
              "\n",
              "    .dataframe thead th {\n",
              "        text-align: right;\n",
              "    }\n",
              "</style>\n",
              "<table border=\"1\" class=\"dataframe\">\n",
              "  <thead>\n",
              "    <tr style=\"text-align: right;\">\n",
              "      <th></th>\n",
              "      <th>min</th>\n",
              "      <th>qr1</th>\n",
              "      <th>med</th>\n",
              "      <th>qr3</th>\n",
              "      <th>max</th>\n",
              "      <th>count</th>\n",
              "    </tr>\n",
              "    <tr>\n",
              "      <th>highestdegree</th>\n",
              "      <th></th>\n",
              "      <th></th>\n",
              "      <th></th>\n",
              "      <th></th>\n",
              "      <th></th>\n",
              "      <th></th>\n",
              "    </tr>\n",
              "  </thead>\n",
              "  <tbody>\n",
              "    <tr>\n",
              "      <th>0. None</th>\n",
              "      <td>0.0</td>\n",
              "      <td>0.0</td>\n",
              "      <td>40.0</td>\n",
              "      <td>52.0</td>\n",
              "      <td>52.0</td>\n",
              "      <td>510.0</td>\n",
              "    </tr>\n",
              "    <tr>\n",
              "      <th>1. GED</th>\n",
              "      <td>0.0</td>\n",
              "      <td>8.0</td>\n",
              "      <td>47.0</td>\n",
              "      <td>52.0</td>\n",
              "      <td>52.0</td>\n",
              "      <td>848.0</td>\n",
              "    </tr>\n",
              "    <tr>\n",
              "      <th>2. High School</th>\n",
              "      <td>0.0</td>\n",
              "      <td>31.0</td>\n",
              "      <td>49.0</td>\n",
              "      <td>52.0</td>\n",
              "      <td>52.0</td>\n",
              "      <td>2665.0</td>\n",
              "    </tr>\n",
              "    <tr>\n",
              "      <th>3. Associates</th>\n",
              "      <td>0.0</td>\n",
              "      <td>42.0</td>\n",
              "      <td>49.0</td>\n",
              "      <td>52.0</td>\n",
              "      <td>52.0</td>\n",
              "      <td>593.0</td>\n",
              "    </tr>\n",
              "    <tr>\n",
              "      <th>4. Bachelors</th>\n",
              "      <td>0.0</td>\n",
              "      <td>45.0</td>\n",
              "      <td>50.0</td>\n",
              "      <td>52.0</td>\n",
              "      <td>52.0</td>\n",
              "      <td>1342.0</td>\n",
              "    </tr>\n",
              "    <tr>\n",
              "      <th>5. Masters</th>\n",
              "      <td>0.0</td>\n",
              "      <td>46.0</td>\n",
              "      <td>50.0</td>\n",
              "      <td>52.0</td>\n",
              "      <td>52.0</td>\n",
              "      <td>538.0</td>\n",
              "    </tr>\n",
              "    <tr>\n",
              "      <th>6. PhD</th>\n",
              "      <td>0.0</td>\n",
              "      <td>46.5</td>\n",
              "      <td>50.0</td>\n",
              "      <td>52.0</td>\n",
              "      <td>52.0</td>\n",
              "      <td>51.0</td>\n",
              "    </tr>\n",
              "    <tr>\n",
              "      <th>7. Professional</th>\n",
              "      <td>0.0</td>\n",
              "      <td>47.0</td>\n",
              "      <td>50.0</td>\n",
              "      <td>52.0</td>\n",
              "      <td>52.0</td>\n",
              "      <td>97.0</td>\n",
              "    </tr>\n",
              "  </tbody>\n",
              "</table>\n",
              "</div>"
            ],
            "text/plain": [
              "                 min   qr1   med   qr3   max   count\n",
              "highestdegree                                       \n",
              "0. None          0.0   0.0  40.0  52.0  52.0   510.0\n",
              "1. GED           0.0   8.0  47.0  52.0  52.0   848.0\n",
              "2. High School   0.0  31.0  49.0  52.0  52.0  2665.0\n",
              "3. Associates    0.0  42.0  49.0  52.0  52.0   593.0\n",
              "4. Bachelors     0.0  45.0  50.0  52.0  52.0  1342.0\n",
              "5. Masters       0.0  46.0  50.0  52.0  52.0   538.0\n",
              "6. PhD           0.0  46.5  50.0  52.0  52.0    51.0\n",
              "7. Professional  0.0  47.0  50.0  52.0  52.0    97.0"
            ]
          },
          "metadata": {
            "tags": []
          },
          "execution_count": 3
        }
      ]
    },
    {
      "cell_type": "code",
      "metadata": {
        "colab": {
          "base_uri": "https://localhost:8080/",
          "height": 351
        },
        "id": "sA6WySCPp6jM",
        "outputId": "4f99e87e-ef7d-4c1e-f239-88630f91a9bb"
      },
      "source": [
        "myplt = sns.boxplot('highestdegree','weeksworked17', data=nls97,\n",
        "  order=sorted(nls97.highestdegree.dropna().unique()))\n",
        "myplt.set_title(\"Boxplots of Weeks Worked by Highest Degree\")\n",
        "myplt.set_xlabel('Highest Degree Attained')\n",
        "myplt.set_ylabel('Weeks Worked 2017')\n",
        "myplt.set_xticklabels(myplt.get_xticklabels(), rotation=80, horizontalalignment='right')\n",
        "plt.tight_layout()\n",
        "plt.show()"
      ],
      "execution_count": 4,
      "outputs": [
        {
          "output_type": "stream",
          "text": [
            "/usr/local/lib/python3.7/dist-packages/seaborn/_decorators.py:43: FutureWarning: Pass the following variables as keyword args: x, y. From version 0.12, the only valid positional argument will be `data`, and passing other arguments without an explicit keyword will result in an error or misinterpretation.\n",
            "  FutureWarning\n"
          ],
          "name": "stderr"
        },
        {
          "output_type": "display_data",
          "data": {
            "image/png": "[encoded data removed]",
            "text/plain": [
              "<Figure size 432x288 with 1 Axes>"
            ]
          },
          "metadata": {
            "tags": [],
            "needs_background": "light"
          }
        }
      ]
    },
    {
      "cell_type": "code",
      "metadata": {
        "colab": {
          "base_uri": "https://localhost:8080/",
          "height": 576
        },
        "id": "OdH5sFHyqK5i",
        "outputId": "cedcc289-44b0-49cd-cc09-831b944b6892"
      },
      "source": [
        "covidtotals.groupby(['region'])['total_cases_pm'].\\\n",
        "   apply(gettots).unstack()\n"
      ],
      "execution_count": 5,
      "outputs": [
        {
          "output_type": "execute_result",
          "data": {
            "text/html": [
              "<div>\n",
              "<style scoped>\n",
              "    .dataframe tbody tr th:only-of-type {\n",
              "        vertical-align: middle;\n",
              "    }\n",
              "\n",
              "    .dataframe tbody tr th {\n",
              "        vertical-align: top;\n",
              "    }\n",
              "\n",
              "    .dataframe thead th {\n",
              "        text-align: right;\n",
              "    }\n",
              "</style>\n",
              "<table border=\"1\" class=\"dataframe\">\n",
              "  <thead>\n",
              "    <tr style=\"text-align: right;\">\n",
              "      <th></th>\n",
              "      <th>min</th>\n",
              "      <th>qr1</th>\n",
              "      <th>med</th>\n",
              "      <th>qr3</th>\n",
              "      <th>max</th>\n",
              "      <th>count</th>\n",
              "    </tr>\n",
              "    <tr>\n",
              "      <th>region</th>\n",
              "      <th></th>\n",
              "      <th></th>\n",
              "      <th></th>\n",
              "      <th></th>\n",
              "      <th></th>\n",
              "      <th></th>\n",
              "    </tr>\n",
              "  </thead>\n",
              "  <tbody>\n",
              "    <tr>\n",
              "      <th>Caribbean</th>\n",
              "      <td>95.035</td>\n",
              "      <td>251.51850</td>\n",
              "      <td>339.0095</td>\n",
              "      <td>1726.15975</td>\n",
              "      <td>4435.327</td>\n",
              "      <td>22.0</td>\n",
              "    </tr>\n",
              "    <tr>\n",
              "      <th>Central Africa</th>\n",
              "      <td>14.696</td>\n",
              "      <td>71.09900</td>\n",
              "      <td>367.5180</td>\n",
              "      <td>1538.36600</td>\n",
              "      <td>3317.196</td>\n",
              "      <td>11.0</td>\n",
              "    </tr>\n",
              "    <tr>\n",
              "      <th>Central America</th>\n",
              "      <td>93.053</td>\n",
              "      <td>924.54750</td>\n",
              "      <td>1447.8430</td>\n",
              "      <td>2190.56500</td>\n",
              "      <td>10274.481</td>\n",
              "      <td>7.0</td>\n",
              "    </tr>\n",
              "    <tr>\n",
              "      <th>Central Asia</th>\n",
              "      <td>373.866</td>\n",
              "      <td>918.89625</td>\n",
              "      <td>1974.4910</td>\n",
              "      <td>2906.75950</td>\n",
              "      <td>10593.831</td>\n",
              "      <td>6.0</td>\n",
              "    </tr>\n",
              "    <tr>\n",
              "      <th>East Africa</th>\n",
              "      <td>8.521</td>\n",
              "      <td>65.41800</td>\n",
              "      <td>190.1960</td>\n",
              "      <td>268.91700</td>\n",
              "      <td>5015.172</td>\n",
              "      <td>13.0</td>\n",
              "    </tr>\n",
              "    <tr>\n",
              "      <th>East Asia</th>\n",
              "      <td>2.611</td>\n",
              "      <td>15.98500</td>\n",
              "      <td>64.6315</td>\n",
              "      <td>269.34525</td>\n",
              "      <td>7825.695</td>\n",
              "      <td>16.0</td>\n",
              "    </tr>\n",
              "    <tr>\n",
              "      <th>Eastern Europe</th>\n",
              "      <td>346.726</td>\n",
              "      <td>882.72775</td>\n",
              "      <td>1189.8350</td>\n",
              "      <td>2317.46025</td>\n",
              "      <td>6854.143</td>\n",
              "      <td>22.0</td>\n",
              "    </tr>\n",
              "    <tr>\n",
              "      <th>North Africa</th>\n",
              "      <td>105.342</td>\n",
              "      <td>202.14600</td>\n",
              "      <td>421.0720</td>\n",
              "      <td>426.71700</td>\n",
              "      <td>793.067</td>\n",
              "      <td>5.0</td>\n",
              "    </tr>\n",
              "    <tr>\n",
              "      <th>North America</th>\n",
              "      <td>2290.093</td>\n",
              "      <td>2566.99750</td>\n",
              "      <td>2843.9020</td>\n",
              "      <td>6327.77900</td>\n",
              "      <td>9811.656</td>\n",
              "      <td>3.0</td>\n",
              "    </tr>\n",
              "    <tr>\n",
              "      <th>Oceania / Aus</th>\n",
              "      <td>1.229</td>\n",
              "      <td>61.02425</td>\n",
              "      <td>234.1595</td>\n",
              "      <td>424.30800</td>\n",
              "      <td>1848.527</td>\n",
              "      <td>8.0</td>\n",
              "    </tr>\n",
              "    <tr>\n",
              "      <th>South America</th>\n",
              "      <td>283.845</td>\n",
              "      <td>395.37200</td>\n",
              "      <td>2856.7960</td>\n",
              "      <td>4043.50900</td>\n",
              "      <td>16322.745</td>\n",
              "      <td>13.0</td>\n",
              "    </tr>\n",
              "    <tr>\n",
              "      <th>South Asia</th>\n",
              "      <td>106.271</td>\n",
              "      <td>573.81000</td>\n",
              "      <td>884.9850</td>\n",
              "      <td>1126.66700</td>\n",
              "      <td>19082.231</td>\n",
              "      <td>9.0</td>\n",
              "    </tr>\n",
              "    <tr>\n",
              "      <th>Southern Africa</th>\n",
              "      <td>36.314</td>\n",
              "      <td>85.89100</td>\n",
              "      <td>118.1920</td>\n",
              "      <td>262.89700</td>\n",
              "      <td>4454.389</td>\n",
              "      <td>9.0</td>\n",
              "    </tr>\n",
              "    <tr>\n",
              "      <th>West Africa</th>\n",
              "      <td>26.483</td>\n",
              "      <td>113.66600</td>\n",
              "      <td>202.8340</td>\n",
              "      <td>780.35700</td>\n",
              "      <td>2861.573</td>\n",
              "      <td>17.0</td>\n",
              "    </tr>\n",
              "    <tr>\n",
              "      <th>West Asia</th>\n",
              "      <td>22.513</td>\n",
              "      <td>273.49100</td>\n",
              "      <td>2191.4445</td>\n",
              "      <td>5777.13800</td>\n",
              "      <td>35795.159</td>\n",
              "      <td>16.0</td>\n",
              "    </tr>\n",
              "    <tr>\n",
              "      <th>Western Europe</th>\n",
              "      <td>199.973</td>\n",
              "      <td>2193.31750</td>\n",
              "      <td>3769.0545</td>\n",
              "      <td>5357.48100</td>\n",
              "      <td>21038.364</td>\n",
              "      <td>32.0</td>\n",
              "    </tr>\n",
              "  </tbody>\n",
              "</table>\n",
              "</div>"
            ],
            "text/plain": [
              "                      min         qr1        med         qr3        max  count\n",
              "region                                                                        \n",
              "Caribbean          95.035   251.51850   339.0095  1726.15975   4435.327   22.0\n",
              "Central Africa     14.696    71.09900   367.5180  1538.36600   3317.196   11.0\n",
              "Central America    93.053   924.54750  1447.8430  2190.56500  10274.481    7.0\n",
              "Central Asia      373.866   918.89625  1974.4910  2906.75950  10593.831    6.0\n",
              "East Africa         8.521    65.41800   190.1960   268.91700   5015.172   13.0\n",
              "East Asia           2.611    15.98500    64.6315   269.34525   7825.695   16.0\n",
              "Eastern Europe    346.726   882.72775  1189.8350  2317.46025   6854.143   22.0\n",
              "North Africa      105.342   202.14600   421.0720   426.71700    793.067    5.0\n",
              "North America    2290.093  2566.99750  2843.9020  6327.77900   9811.656    3.0\n",
              "Oceania / Aus       1.229    61.02425   234.1595   424.30800   1848.527    8.0\n",
              "South America     283.845   395.37200  2856.7960  4043.50900  16322.745   13.0\n",
              "South Asia        106.271   573.81000   884.9850  1126.66700  19082.231    9.0\n",
              "Southern Africa    36.314    85.89100   118.1920   262.89700   4454.389    9.0\n",
              "West Africa        26.483   113.66600   202.8340   780.35700   2861.573   17.0\n",
              "West Asia          22.513   273.49100  2191.4445  5777.13800  35795.159   16.0\n",
              "Western Europe    199.973  2193.31750  3769.0545  5357.48100  21038.364   32.0"
            ]
          },
          "metadata": {
            "tags": []
          },
          "execution_count": 5
        }
      ]
    },
    {
      "cell_type": "code",
      "metadata": {
        "colab": {
          "base_uri": "https://localhost:8080/",
          "height": 521
        },
        "id": "G_dIhHaPqeJ_",
        "outputId": "93748d09-fdf7-44c9-ca87-6968c46c7761"
      },
      "source": [
        "sns.boxplot('total_cases_pm', 'region', data=covidtotals)\n",
        "sns.swarmplot(y=\"region\", x=\"total_cases_pm\", data=covidtotals, size=2, color=\".3\", linewidth=0)\n",
        "plt.title(\"Boxplots of Total Cases Per Million by Region\")\n",
        "plt.xlabel(\"Cases Per Million\")\n",
        "plt.ylabel(\"Region\")\n",
        "plt.tight_layout()\n",
        "plt.show()"
      ],
      "execution_count": 6,
      "outputs": [
        {
          "output_type": "stream",
          "text": [
            "/usr/local/lib/python3.7/dist-packages/seaborn/_decorators.py:43: FutureWarning: Pass the following variables as keyword args: x, y. From version 0.12, the only valid positional argument will be `data`, and passing other arguments without an explicit keyword will result in an error or misinterpretation.\n",
            "  FutureWarning\n",
            "/usr/local/lib/python3.7/dist-packages/seaborn/categorical.py:1296: UserWarning: 27.3% of the points cannot be placed; you may want to decrease the size of the markers or use stripplot.\n",
            "  warnings.warn(msg, UserWarning)\n",
            "/usr/local/lib/python3.7/dist-packages/seaborn/categorical.py:1296: UserWarning: 23.5% of the points cannot be placed; you may want to decrease the size of the markers or use stripplot.\n",
            "  warnings.warn(msg, UserWarning)\n",
            "/usr/local/lib/python3.7/dist-packages/seaborn/categorical.py:1296: UserWarning: 11.1% of the points cannot be placed; you may want to decrease the size of the markers or use stripplot.\n",
            "  warnings.warn(msg, UserWarning)\n",
            "/usr/local/lib/python3.7/dist-packages/seaborn/categorical.py:1296: UserWarning: 31.2% of the points cannot be placed; you may want to decrease the size of the markers or use stripplot.\n",
            "  warnings.warn(msg, UserWarning)\n",
            "/usr/local/lib/python3.7/dist-packages/seaborn/categorical.py:1296: UserWarning: 23.1% of the points cannot be placed; you may want to decrease the size of the markers or use stripplot.\n",
            "  warnings.warn(msg, UserWarning)\n"
          ],
          "name": "stderr"
        },
        {
          "output_type": "display_data",
          "data": {
            "image/png": "[encoded data removed]",
            "text/plain": [
              "<Figure size 432x288 with 1 Axes>"
            ]
          },
          "metadata": {
            "tags": [],
            "needs_background": "light"
          }
        }
      ]
    },
    {
      "cell_type": "code",
      "metadata": {
        "colab": {
          "base_uri": "https://localhost:8080/",
          "height": 235
        },
        "id": "AVnyuCm6qqwk",
        "outputId": "25bcef37-0f98-4bf0-8b2b-84f172d5ffc5"
      },
      "source": [
        "# show the most extreme value for covid totals\n",
        "covidtotals.loc[covidtotals.total_cases_pm>=14000,\\\n",
        "  ['location','total_cases_pm']]"
      ],
      "execution_count": 7,
      "outputs": [
        {
          "output_type": "execute_result",
          "data": {
            "text/html": [
              "<div>\n",
              "<style scoped>\n",
              "    .dataframe tbody tr th:only-of-type {\n",
              "        vertical-align: middle;\n",
              "    }\n",
              "\n",
              "    .dataframe tbody tr th {\n",
              "        vertical-align: top;\n",
              "    }\n",
              "\n",
              "    .dataframe thead th {\n",
              "        text-align: right;\n",
              "    }\n",
              "</style>\n",
              "<table border=\"1\" class=\"dataframe\">\n",
              "  <thead>\n",
              "    <tr style=\"text-align: right;\">\n",
              "      <th></th>\n",
              "      <th>location</th>\n",
              "      <th>total_cases_pm</th>\n",
              "    </tr>\n",
              "    <tr>\n",
              "      <th>iso_code</th>\n",
              "      <th></th>\n",
              "      <th></th>\n",
              "    </tr>\n",
              "  </thead>\n",
              "  <tbody>\n",
              "    <tr>\n",
              "      <th>BHR</th>\n",
              "      <td>Bahrain</td>\n",
              "      <td>19082.231</td>\n",
              "    </tr>\n",
              "    <tr>\n",
              "      <th>CHL</th>\n",
              "      <td>Chile</td>\n",
              "      <td>16322.745</td>\n",
              "    </tr>\n",
              "    <tr>\n",
              "      <th>QAT</th>\n",
              "      <td>Qatar</td>\n",
              "      <td>35795.159</td>\n",
              "    </tr>\n",
              "    <tr>\n",
              "      <th>SMR</th>\n",
              "      <td>San Marino</td>\n",
              "      <td>21038.364</td>\n",
              "    </tr>\n",
              "    <tr>\n",
              "      <th>VAT</th>\n",
              "      <td>Vatican</td>\n",
              "      <td>14833.127</td>\n",
              "    </tr>\n",
              "  </tbody>\n",
              "</table>\n",
              "</div>"
            ],
            "text/plain": [
              "            location  total_cases_pm\n",
              "iso_code                            \n",
              "BHR          Bahrain       19082.231\n",
              "CHL            Chile       16322.745\n",
              "QAT            Qatar       35795.159\n",
              "SMR       San Marino       21038.364\n",
              "VAT          Vatican       14833.127"
            ]
          },
          "metadata": {
            "tags": []
          },
          "execution_count": 7
        }
      ]
    },
    {
      "cell_type": "code",
      "metadata": {
        "colab": {
          "base_uri": "https://localhost:8080/",
          "height": 521
        },
        "id": "QjrlBe-brMoD",
        "outputId": "fded7d4d-6b35-45d8-b5df-1b138d01392b"
      },
      "source": [
        "# do the same boxplots without the one extreme value in West Asia\n",
        "sns.boxplot('total_cases_pm', 'region', data=covidtotals.loc[covidtotals.total_cases_pm<14000])\n",
        "sns.swarmplot(y=\"region\", x=\"total_cases_pm\", data=covidtotals.loc[covidtotals.total_cases_pm<14000], size=3, color=\".3\", linewidth=0)\n",
        "plt.title(\"Total Cases Without Extreme Values\")\n",
        "plt.xlabel(\"Cases Per Million\")\n",
        "plt.ylabel(\"Region\")\n",
        "plt.tight_layout()\n",
        "plt.show()"
      ],
      "execution_count": 8,
      "outputs": [
        {
          "output_type": "stream",
          "text": [
            "/usr/local/lib/python3.7/dist-packages/seaborn/_decorators.py:43: FutureWarning: Pass the following variables as keyword args: x, y. From version 0.12, the only valid positional argument will be `data`, and passing other arguments without an explicit keyword will result in an error or misinterpretation.\n",
            "  FutureWarning\n",
            "/usr/local/lib/python3.7/dist-packages/seaborn/categorical.py:1296: UserWarning: 18.2% of the points cannot be placed; you may want to decrease the size of the markers or use stripplot.\n",
            "  warnings.warn(msg, UserWarning)\n",
            "/usr/local/lib/python3.7/dist-packages/seaborn/categorical.py:1296: UserWarning: 17.6% of the points cannot be placed; you may want to decrease the size of the markers or use stripplot.\n",
            "  warnings.warn(msg, UserWarning)\n",
            "/usr/local/lib/python3.7/dist-packages/seaborn/categorical.py:1296: UserWarning: 33.3% of the points cannot be placed; you may want to decrease the size of the markers or use stripplot.\n",
            "  warnings.warn(msg, UserWarning)\n",
            "/usr/local/lib/python3.7/dist-packages/seaborn/categorical.py:1296: UserWarning: 37.5% of the points cannot be placed; you may want to decrease the size of the markers or use stripplot.\n",
            "  warnings.warn(msg, UserWarning)\n",
            "/usr/local/lib/python3.7/dist-packages/seaborn/categorical.py:1296: UserWarning: 30.8% of the points cannot be placed; you may want to decrease the size of the markers or use stripplot.\n",
            "  warnings.warn(msg, UserWarning)\n"
          ],
          "name": "stderr"
        },
        {
          "output_type": "display_data",
          "data": {
            "image/png": "[encoded data removed]",
            "text/plain": [
              "<Figure size 432x288 with 1 Axes>"
            ]
          },
          "metadata": {
            "tags": [],
            "needs_background": "light"
          }
        }
      ]
    },
    {
      "cell_type": "code",
      "metadata": {
        "colab": {
          "base_uri": "https://localhost:8080/",
          "height": 328
        },
        "id": "vOOCvAj7ipJh",
        "outputId": "6c79c5c3-dab7-4f79-a2c2-3e9627fad069"
      },
      "source": [
        "nls97.groupby(['highestdegree'])['weeksworked17'].apply(gettots).unstack() "
      ],
      "execution_count": 9,
      "outputs": [
        {
          "output_type": "execute_result",
          "data": {
            "text/html": [
              "<div>\n",
              "<style scoped>\n",
              "    .dataframe tbody tr th:only-of-type {\n",
              "        vertical-align: middle;\n",
              "    }\n",
              "\n",
              "    .dataframe tbody tr th {\n",
              "        vertical-align: top;\n",
              "    }\n",
              "\n",
              "    .dataframe thead th {\n",
              "        text-align: right;\n",
              "    }\n",
              "</style>\n",
              "<table border=\"1\" class=\"dataframe\">\n",
              "  <thead>\n",
              "    <tr style=\"text-align: right;\">\n",
              "      <th></th>\n",
              "      <th>min</th>\n",
              "      <th>qr1</th>\n",
              "      <th>med</th>\n",
              "      <th>qr3</th>\n",
              "      <th>max</th>\n",
              "      <th>count</th>\n",
              "    </tr>\n",
              "    <tr>\n",
              "      <th>highestdegree</th>\n",
              "      <th></th>\n",
              "      <th></th>\n",
              "      <th></th>\n",
              "      <th></th>\n",
              "      <th></th>\n",
              "      <th></th>\n",
              "    </tr>\n",
              "  </thead>\n",
              "  <tbody>\n",
              "    <tr>\n",
              "      <th>0. None</th>\n",
              "      <td>0.0</td>\n",
              "      <td>0.0</td>\n",
              "      <td>40.0</td>\n",
              "      <td>52.0</td>\n",
              "      <td>52.0</td>\n",
              "      <td>510.0</td>\n",
              "    </tr>\n",
              "    <tr>\n",
              "      <th>1. GED</th>\n",
              "      <td>0.0</td>\n",
              "      <td>8.0</td>\n",
              "      <td>47.0</td>\n",
              "      <td>52.0</td>\n",
              "      <td>52.0</td>\n",
              "      <td>848.0</td>\n",
              "    </tr>\n",
              "    <tr>\n",
              "      <th>2. High School</th>\n",
              "      <td>0.0</td>\n",
              "      <td>31.0</td>\n",
              "      <td>49.0</td>\n",
              "      <td>52.0</td>\n",
              "      <td>52.0</td>\n",
              "      <td>2665.0</td>\n",
              "    </tr>\n",
              "    <tr>\n",
              "      <th>3. Associates</th>\n",
              "      <td>0.0</td>\n",
              "      <td>42.0</td>\n",
              "      <td>49.0</td>\n",
              "      <td>52.0</td>\n",
              "      <td>52.0</td>\n",
              "      <td>593.0</td>\n",
              "    </tr>\n",
              "    <tr>\n",
              "      <th>4. Bachelors</th>\n",
              "      <td>0.0</td>\n",
              "      <td>45.0</td>\n",
              "      <td>50.0</td>\n",
              "      <td>52.0</td>\n",
              "      <td>52.0</td>\n",
              "      <td>1342.0</td>\n",
              "    </tr>\n",
              "    <tr>\n",
              "      <th>5. Masters</th>\n",
              "      <td>0.0</td>\n",
              "      <td>46.0</td>\n",
              "      <td>50.0</td>\n",
              "      <td>52.0</td>\n",
              "      <td>52.0</td>\n",
              "      <td>538.0</td>\n",
              "    </tr>\n",
              "    <tr>\n",
              "      <th>6. PhD</th>\n",
              "      <td>0.0</td>\n",
              "      <td>46.5</td>\n",
              "      <td>50.0</td>\n",
              "      <td>52.0</td>\n",
              "      <td>52.0</td>\n",
              "      <td>51.0</td>\n",
              "    </tr>\n",
              "    <tr>\n",
              "      <th>7. Professional</th>\n",
              "      <td>0.0</td>\n",
              "      <td>47.0</td>\n",
              "      <td>50.0</td>\n",
              "      <td>52.0</td>\n",
              "      <td>52.0</td>\n",
              "      <td>97.0</td>\n",
              "    </tr>\n",
              "  </tbody>\n",
              "</table>\n",
              "</div>"
            ],
            "text/plain": [
              "                 min   qr1   med   qr3   max   count\n",
              "highestdegree                                       \n",
              "0. None          0.0   0.0  40.0  52.0  52.0   510.0\n",
              "1. GED           0.0   8.0  47.0  52.0  52.0   848.0\n",
              "2. High School   0.0  31.0  49.0  52.0  52.0  2665.0\n",
              "3. Associates    0.0  42.0  49.0  52.0  52.0   593.0\n",
              "4. Bachelors     0.0  45.0  50.0  52.0  52.0  1342.0\n",
              "5. Masters       0.0  46.0  50.0  52.0  52.0   538.0\n",
              "6. PhD           0.0  46.5  50.0  52.0  52.0    51.0\n",
              "7. Professional  0.0  47.0  50.0  52.0  52.0    97.0"
            ]
          },
          "metadata": {
            "tags": []
          },
          "execution_count": 9
        }
      ]
    }
  ]
}