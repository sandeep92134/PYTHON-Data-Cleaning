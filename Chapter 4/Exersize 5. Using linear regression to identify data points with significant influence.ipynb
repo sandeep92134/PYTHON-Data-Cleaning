{
  "nbformat": 4,
  "nbformat_minor": 0,
  "metadata": {
    "colab": {
      "name": "Untitled4.ipynb",
      "provenance": [],
      "authorship_tag": "ABX9TyP7TlsoBM0lXq78SJk7646X",
      "include_colab_link": true
    },
    "kernelspec": {
      "name": "python3",
      "display_name": "Python 3"
    }
  },
  "cells": [
    {
      "cell_type": "markdown",
      "metadata": {
        "id": "view-in-github",
        "colab_type": "text"
      },
      "source": [
        "<a href=\"https://colab.research.google.com/github/sandeep92134/PYTHON-Data-Cleaning/blob/master/Chapter%204/Exersize%205.%20Using%20linear%20regression%20to%20identify%20data%20points%20with%20significant%20influence.ipynb\" target=\"_parent\"><img src=\"https://colab.research.google.com/assets/colab-badge.svg\" alt=\"Open In Colab\"/></a>"
      ]
    },
    {
      "cell_type": "code",
      "metadata": {
        "colab": {
          "base_uri": "https://localhost:8080/"
        },
        "id": "HR-XGy9-YG0W",
        "outputId": "028d3831-41c4-4e49-ce3d-ee47522942ad"
      },
      "source": [
        ">>> import pandas as pd\r\n",
        ">>> import matplotlib.pyplot as plt\r\n",
        ">>> import statsmodels.api as sm\r\n",
        ">>> covidtotals = pd.read_csv(\"https://raw.githubusercontent.com/sandeep92134/PYTHON-Data-Cleaning/master/Chapter%204/datasets/covidtotals.csv\")\r\n",
        ">>> covidtotals.set_index(\"iso_code\", inplace=True)"
      ],
      "execution_count": 1,
      "outputs": [
        {
          "output_type": "stream",
          "text": [
            "/usr/local/lib/python3.7/dist-packages/statsmodels/tools/_testing.py:19: FutureWarning: pandas.util.testing is deprecated. Use the functions in the public API at pandas.testing instead.\n",
            "  import pandas.util.testing as tm\n"
          ],
          "name": "stderr"
        }
      ]
    },
    {
      "cell_type": "code",
      "metadata": {
        "colab": {
          "base_uri": "https://localhost:8080/",
          "height": 297
        },
        "id": "SXu4cAEiYYO4",
        "outputId": "2c4621e2-a426-4058-a929-479330735295"
      },
      "source": [
        "# create an analysis file\r\n",
        ">>> xvars = ['pop_density','median_age','gdp_per_capita']\r\n",
        ">>> covidanalysis = covidtotals.loc[:,['total_cases_pm'] + xvars].dropna()\r\n",
        ">>> covidanalysis.describe()"
      ],
      "execution_count": 2,
      "outputs": [
        {
          "output_type": "execute_result",
          "data": {
            "text/html": [
              "<div>\n",
              "<style scoped>\n",
              "    .dataframe tbody tr th:only-of-type {\n",
              "        vertical-align: middle;\n",
              "    }\n",
              "\n",
              "    .dataframe tbody tr th {\n",
              "        vertical-align: top;\n",
              "    }\n",
              "\n",
              "    .dataframe thead th {\n",
              "        text-align: right;\n",
              "    }\n",
              "</style>\n",
              "<table border=\"1\" class=\"dataframe\">\n",
              "  <thead>\n",
              "    <tr style=\"text-align: right;\">\n",
              "      <th></th>\n",
              "      <th>total_cases_pm</th>\n",
              "      <th>pop_density</th>\n",
              "      <th>median_age</th>\n",
              "      <th>gdp_per_capita</th>\n",
              "    </tr>\n",
              "  </thead>\n",
              "  <tbody>\n",
              "    <tr>\n",
              "      <th>count</th>\n",
              "      <td>175.000000</td>\n",
              "      <td>175.000000</td>\n",
              "      <td>175.000000</td>\n",
              "      <td>175.000000</td>\n",
              "    </tr>\n",
              "    <tr>\n",
              "      <th>mean</th>\n",
              "      <td>1134.015709</td>\n",
              "      <td>247.151863</td>\n",
              "      <td>30.537143</td>\n",
              "      <td>19008.385423</td>\n",
              "    </tr>\n",
              "    <tr>\n",
              "      <th>std</th>\n",
              "      <td>2101.363772</td>\n",
              "      <td>822.398967</td>\n",
              "      <td>9.117751</td>\n",
              "      <td>19673.386571</td>\n",
              "    </tr>\n",
              "    <tr>\n",
              "      <th>min</th>\n",
              "      <td>0.000000</td>\n",
              "      <td>1.980000</td>\n",
              "      <td>15.100000</td>\n",
              "      <td>661.240000</td>\n",
              "    </tr>\n",
              "    <tr>\n",
              "      <th>25%</th>\n",
              "      <td>67.448000</td>\n",
              "      <td>36.066000</td>\n",
              "      <td>22.300000</td>\n",
              "      <td>4458.202500</td>\n",
              "    </tr>\n",
              "    <tr>\n",
              "      <th>50%</th>\n",
              "      <td>263.413000</td>\n",
              "      <td>82.328000</td>\n",
              "      <td>29.700000</td>\n",
              "      <td>12951.839000</td>\n",
              "    </tr>\n",
              "    <tr>\n",
              "      <th>75%</th>\n",
              "      <td>1357.506000</td>\n",
              "      <td>207.960000</td>\n",
              "      <td>38.700000</td>\n",
              "      <td>27467.146000</td>\n",
              "    </tr>\n",
              "    <tr>\n",
              "      <th>max</th>\n",
              "      <td>19753.146000</td>\n",
              "      <td>7915.731000</td>\n",
              "      <td>48.200000</td>\n",
              "      <td>116935.600000</td>\n",
              "    </tr>\n",
              "  </tbody>\n",
              "</table>\n",
              "</div>"
            ],
            "text/plain": [
              "       total_cases_pm  pop_density  median_age  gdp_per_capita\n",
              "count      175.000000   175.000000  175.000000      175.000000\n",
              "mean      1134.015709   247.151863   30.537143    19008.385423\n",
              "std       2101.363772   822.398967    9.117751    19673.386571\n",
              "min          0.000000     1.980000   15.100000      661.240000\n",
              "25%         67.448000    36.066000   22.300000     4458.202500\n",
              "50%        263.413000    82.328000   29.700000    12951.839000\n",
              "75%       1357.506000   207.960000   38.700000    27467.146000\n",
              "max      19753.146000  7915.731000   48.200000   116935.600000"
            ]
          },
          "metadata": {
            "tags": []
          },
          "execution_count": 2
        }
      ]
    },
    {
      "cell_type": "code",
      "metadata": {
        "colab": {
          "base_uri": "https://localhost:8080/",
          "height": 520
        },
        "id": "_MExnb5cYjhc",
        "outputId": "5147c776-c093-4046-ec21-df4144135c81"
      },
      "source": [
        "# fit a linear regression model\r\n",
        "def getlm(df):\r\n",
        "  Y = df.total_cases_pm\r\n",
        "  X = df[['pop_density','median_age','gdp_per_capita']]\r\n",
        "  X = sm.add_constant(X)\r\n",
        "  return sm.OLS(Y, X).fit()\r\n",
        "\r\n",
        "lm = getlm(covidanalysis)\r\n",
        "lm.summary()"
      ],
      "execution_count": 3,
      "outputs": [
        {
          "output_type": "execute_result",
          "data": {
            "text/html": [
              "<table class=\"simpletable\">\n",
              "<caption>OLS Regression Results</caption>\n",
              "<tr>\n",
              "  <th>Dep. Variable:</th>     <td>total_cases_pm</td>  <th>  R-squared:         </th> <td>   0.520</td>\n",
              "</tr>\n",
              "<tr>\n",
              "  <th>Model:</th>                   <td>OLS</td>       <th>  Adj. R-squared:    </th> <td>   0.512</td>\n",
              "</tr>\n",
              "<tr>\n",
              "  <th>Method:</th>             <td>Least Squares</td>  <th>  F-statistic:       </th> <td>   61.81</td>\n",
              "</tr>\n",
              "<tr>\n",
              "  <th>Date:</th>             <td>Sat, 27 Feb 2021</td> <th>  Prob (F-statistic):</th> <td>4.06e-27</td>\n",
              "</tr>\n",
              "<tr>\n",
              "  <th>Time:</th>                 <td>12:07:20</td>     <th>  Log-Likelihood:    </th> <td> -1522.4</td>\n",
              "</tr>\n",
              "<tr>\n",
              "  <th>No. Observations:</th>      <td>   175</td>      <th>  AIC:               </th> <td>   3053.</td>\n",
              "</tr>\n",
              "<tr>\n",
              "  <th>Df Residuals:</th>          <td>   171</td>      <th>  BIC:               </th> <td>   3065.</td>\n",
              "</tr>\n",
              "<tr>\n",
              "  <th>Df Model:</th>              <td>     3</td>      <th>                     </th>     <td> </td>   \n",
              "</tr>\n",
              "<tr>\n",
              "  <th>Covariance Type:</th>      <td>nonrobust</td>    <th>                     </th>     <td> </td>   \n",
              "</tr>\n",
              "</table>\n",
              "<table class=\"simpletable\">\n",
              "<tr>\n",
              "         <td></td>           <th>coef</th>     <th>std err</th>      <th>t</th>      <th>P>|t|</th>  <th>[0.025</th>    <th>0.975]</th>  \n",
              "</tr>\n",
              "<tr>\n",
              "  <th>const</th>          <td>  944.4731</td> <td>  426.712</td> <td>    2.213</td> <td> 0.028</td> <td>  102.172</td> <td> 1786.774</td>\n",
              "</tr>\n",
              "<tr>\n",
              "  <th>pop_density</th>    <td>   -0.2057</td> <td>    0.142</td> <td>   -1.447</td> <td> 0.150</td> <td>   -0.486</td> <td>    0.075</td>\n",
              "</tr>\n",
              "<tr>\n",
              "  <th>median_age</th>     <td>  -49.4398</td> <td>   16.013</td> <td>   -3.088</td> <td> 0.002</td> <td>  -81.048</td> <td>  -17.832</td>\n",
              "</tr>\n",
              "<tr>\n",
              "  <th>gdp_per_capita</th> <td>    0.0921</td> <td>    0.008</td> <td>   12.015</td> <td> 0.000</td> <td>    0.077</td> <td>    0.107</td>\n",
              "</tr>\n",
              "</table>\n",
              "<table class=\"simpletable\">\n",
              "<tr>\n",
              "  <th>Omnibus:</th>       <td>105.361</td> <th>  Durbin-Watson:     </th> <td>   2.194</td> \n",
              "</tr>\n",
              "<tr>\n",
              "  <th>Prob(Omnibus):</th> <td> 0.000</td>  <th>  Jarque-Bera (JB):  </th> <td>1182.641</td> \n",
              "</tr>\n",
              "<tr>\n",
              "  <th>Skew:</th>          <td> 1.967</td>  <th>  Prob(JB):          </th> <td>1.56e-257</td>\n",
              "</tr>\n",
              "<tr>\n",
              "  <th>Kurtosis:</th>      <td>15.113</td>  <th>  Cond. No.          </th> <td>1.05e+05</td> \n",
              "</tr>\n",
              "</table><br/><br/>Warnings:<br/>[1] Standard Errors assume that the covariance matrix of the errors is correctly specified.<br/>[2] The condition number is large, 1.05e+05. This might indicate that there are<br/>strong multicollinearity or other numerical problems."
            ],
            "text/plain": [
              "<class 'statsmodels.iolib.summary.Summary'>\n",
              "\"\"\"\n",
              "                            OLS Regression Results                            \n",
              "==============================================================================\n",
              "Dep. Variable:         total_cases_pm   R-squared:                       0.520\n",
              "Model:                            OLS   Adj. R-squared:                  0.512\n",
              "Method:                 Least Squares   F-statistic:                     61.81\n",
              "Date:                Sat, 27 Feb 2021   Prob (F-statistic):           4.06e-27\n",
              "Time:                        12:07:20   Log-Likelihood:                -1522.4\n",
              "No. Observations:                 175   AIC:                             3053.\n",
              "Df Residuals:                     171   BIC:                             3065.\n",
              "Df Model:                           3                                         \n",
              "Covariance Type:            nonrobust                                         \n",
              "==================================================================================\n",
              "                     coef    std err          t      P>|t|      [0.025      0.975]\n",
              "----------------------------------------------------------------------------------\n",
              "const            944.4731    426.712      2.213      0.028     102.172    1786.774\n",
              "pop_density       -0.2057      0.142     -1.447      0.150      -0.486       0.075\n",
              "median_age       -49.4398     16.013     -3.088      0.002     -81.048     -17.832\n",
              "gdp_per_capita     0.0921      0.008     12.015      0.000       0.077       0.107\n",
              "==============================================================================\n",
              "Omnibus:                      105.361   Durbin-Watson:                   2.194\n",
              "Prob(Omnibus):                  0.000   Jarque-Bera (JB):             1182.641\n",
              "Skew:                           1.967   Prob(JB):                    1.56e-257\n",
              "Kurtosis:                      15.113   Cond. No.                     1.05e+05\n",
              "==============================================================================\n",
              "\n",
              "Warnings:\n",
              "[1] Standard Errors assume that the covariance matrix of the errors is correctly specified.\n",
              "[2] The condition number is large, 1.05e+05. This might indicate that there are\n",
              "strong multicollinearity or other numerical problems.\n",
              "\"\"\""
            ]
          },
          "metadata": {
            "tags": []
          },
          "execution_count": 3
        }
      ]
    },
    {
      "cell_type": "code",
      "metadata": {
        "colab": {
          "base_uri": "https://localhost:8080/",
          "height": 142
        },
        "id": "eGNRYGu5YtMN",
        "outputId": "036a9156-7203-4b9c-d0e6-29832b2145e8"
      },
      "source": [
        "# identify countries with an outsized influence on the model\r\n",
        "influence = lm.get_influence().summary_frame()\r\n",
        "influence.loc[influence.cooks_d>0.5, ['cooks_d']]"
      ],
      "execution_count": 4,
      "outputs": [
        {
          "output_type": "execute_result",
          "data": {
            "text/html": [
              "<div>\n",
              "<style scoped>\n",
              "    .dataframe tbody tr th:only-of-type {\n",
              "        vertical-align: middle;\n",
              "    }\n",
              "\n",
              "    .dataframe tbody tr th {\n",
              "        vertical-align: top;\n",
              "    }\n",
              "\n",
              "    .dataframe thead th {\n",
              "        text-align: right;\n",
              "    }\n",
              "</style>\n",
              "<table border=\"1\" class=\"dataframe\">\n",
              "  <thead>\n",
              "    <tr style=\"text-align: right;\">\n",
              "      <th></th>\n",
              "      <th>cooks_d</th>\n",
              "    </tr>\n",
              "    <tr>\n",
              "      <th>iso_code</th>\n",
              "      <th></th>\n",
              "    </tr>\n",
              "  </thead>\n",
              "  <tbody>\n",
              "    <tr>\n",
              "      <th>HKG</th>\n",
              "      <td>0.780662</td>\n",
              "    </tr>\n",
              "    <tr>\n",
              "      <th>QAT</th>\n",
              "      <td>5.080180</td>\n",
              "    </tr>\n",
              "  </tbody>\n",
              "</table>\n",
              "</div>"
            ],
            "text/plain": [
              "           cooks_d\n",
              "iso_code          \n",
              "HKG       0.780662\n",
              "QAT       5.080180"
            ]
          },
          "metadata": {
            "tags": []
          },
          "execution_count": 4
        }
      ]
    },
    {
      "cell_type": "code",
      "metadata": {
        "colab": {
          "base_uri": "https://localhost:8080/",
          "height": 142
        },
        "id": "J5-Gw3bKY7HL",
        "outputId": "3d4730c7-d6b3-468e-98d3-5e5c4e93acac"
      },
      "source": [
        "covidanalysis.loc[influence.cooks_d>0.5]"
      ],
      "execution_count": 5,
      "outputs": [
        {
          "output_type": "execute_result",
          "data": {
            "text/html": [
              "<div>\n",
              "<style scoped>\n",
              "    .dataframe tbody tr th:only-of-type {\n",
              "        vertical-align: middle;\n",
              "    }\n",
              "\n",
              "    .dataframe tbody tr th {\n",
              "        vertical-align: top;\n",
              "    }\n",
              "\n",
              "    .dataframe thead th {\n",
              "        text-align: right;\n",
              "    }\n",
              "</style>\n",
              "<table border=\"1\" class=\"dataframe\">\n",
              "  <thead>\n",
              "    <tr style=\"text-align: right;\">\n",
              "      <th></th>\n",
              "      <th>total_cases_pm</th>\n",
              "      <th>pop_density</th>\n",
              "      <th>median_age</th>\n",
              "      <th>gdp_per_capita</th>\n",
              "    </tr>\n",
              "    <tr>\n",
              "      <th>iso_code</th>\n",
              "      <th></th>\n",
              "      <th></th>\n",
              "      <th></th>\n",
              "      <th></th>\n",
              "    </tr>\n",
              "  </thead>\n",
              "  <tbody>\n",
              "    <tr>\n",
              "      <th>HKG</th>\n",
              "      <td>0.000</td>\n",
              "      <td>7039.714</td>\n",
              "      <td>44.8</td>\n",
              "      <td>56054.92</td>\n",
              "    </tr>\n",
              "    <tr>\n",
              "      <th>QAT</th>\n",
              "      <td>19753.146</td>\n",
              "      <td>227.322</td>\n",
              "      <td>31.9</td>\n",
              "      <td>116935.60</td>\n",
              "    </tr>\n",
              "  </tbody>\n",
              "</table>\n",
              "</div>"
            ],
            "text/plain": [
              "          total_cases_pm  pop_density  median_age  gdp_per_capita\n",
              "iso_code                                                         \n",
              "HKG                0.000     7039.714        44.8        56054.92\n",
              "QAT            19753.146      227.322        31.9       116935.60"
            ]
          },
          "metadata": {
            "tags": []
          },
          "execution_count": 5
        }
      ]
    },
    {
      "cell_type": "code",
      "metadata": {
        "colab": {
          "base_uri": "https://localhost:8080/",
          "height": 319
        },
        "id": "XN1m09JNZDK2",
        "outputId": "82b81aec-1273-44f6-ed4e-6065920e671e"
      },
      "source": [
        "# do an influence plot\r\n",
        "fig, ax = plt.subplots()\r\n",
        "sm.graphics.influence_plot(lm, ax = ax, criterion=\"cooks\")\r\n",
        "plt.show()"
      ],
      "execution_count": 8,
      "outputs": [
        {
          "output_type": "display_data",
          "data": {
            "image/png": "[encoded data removed]",
            "text/plain": [
              "<Figure size 432x288 with 1 Axes>"
            ]
          },
          "metadata": {
            "tags": [],
            "needs_background": "light"
          }
        }
      ]
    },
    {
      "cell_type": "code",
      "metadata": {
        "colab": {
          "base_uri": "https://localhost:8080/",
          "height": 520
        },
        "id": "BaJE5T8NZTQ4",
        "outputId": "13040299-bce0-4241-fb9d-5b33d840414e"
      },
      "source": [
        "# show a model without the outliers\r\n",
        "covidanalysisminusoutliers = covidanalysis.loc[influence.cooks_d<0.5]\r\n",
        "\r\n",
        "lm = getlm(covidanalysisminusoutliers)\r\n",
        "lm.summary()"
      ],
      "execution_count": 9,
      "outputs": [
        {
          "output_type": "execute_result",
          "data": {
            "text/html": [
              "<table class=\"simpletable\">\n",
              "<caption>OLS Regression Results</caption>\n",
              "<tr>\n",
              "  <th>Dep. Variable:</th>     <td>total_cases_pm</td>  <th>  R-squared:         </th> <td>   0.453</td>\n",
              "</tr>\n",
              "<tr>\n",
              "  <th>Model:</th>                   <td>OLS</td>       <th>  Adj. R-squared:    </th> <td>   0.443</td>\n",
              "</tr>\n",
              "<tr>\n",
              "  <th>Method:</th>             <td>Least Squares</td>  <th>  F-statistic:       </th> <td>   46.56</td>\n",
              "</tr>\n",
              "<tr>\n",
              "  <th>Date:</th>             <td>Sat, 27 Feb 2021</td> <th>  Prob (F-statistic):</th> <td>5.52e-22</td>\n",
              "</tr>\n",
              "<tr>\n",
              "  <th>Time:</th>                 <td>12:10:32</td>     <th>  Log-Likelihood:    </th> <td> -1464.8</td>\n",
              "</tr>\n",
              "<tr>\n",
              "  <th>No. Observations:</th>      <td>   173</td>      <th>  AIC:               </th> <td>   2938.</td>\n",
              "</tr>\n",
              "<tr>\n",
              "  <th>Df Residuals:</th>          <td>   169</td>      <th>  BIC:               </th> <td>   2950.</td>\n",
              "</tr>\n",
              "<tr>\n",
              "  <th>Df Model:</th>              <td>     3</td>      <th>                     </th>     <td> </td>   \n",
              "</tr>\n",
              "<tr>\n",
              "  <th>Covariance Type:</th>      <td>nonrobust</td>    <th>                     </th>     <td> </td>   \n",
              "</tr>\n",
              "</table>\n",
              "<table class=\"simpletable\">\n",
              "<tr>\n",
              "         <td></td>           <th>coef</th>     <th>std err</th>      <th>t</th>      <th>P>|t|</th>  <th>[0.025</th>    <th>0.975]</th>  \n",
              "</tr>\n",
              "<tr>\n",
              "  <th>const</th>          <td>   44.0854</td> <td>  349.924</td> <td>    0.126</td> <td> 0.900</td> <td> -646.700</td> <td>  734.870</td>\n",
              "</tr>\n",
              "<tr>\n",
              "  <th>pop_density</th>    <td>    0.2423</td> <td>    0.145</td> <td>    1.666</td> <td> 0.098</td> <td>   -0.045</td> <td>    0.529</td>\n",
              "</tr>\n",
              "<tr>\n",
              "  <th>median_age</th>     <td>   -2.5165</td> <td>   13.526</td> <td>   -0.186</td> <td> 0.853</td> <td>  -29.217</td> <td>   24.184</td>\n",
              "</tr>\n",
              "<tr>\n",
              "  <th>gdp_per_capita</th> <td>    0.0557</td> <td>    0.007</td> <td>    7.875</td> <td> 0.000</td> <td>    0.042</td> <td>    0.070</td>\n",
              "</tr>\n",
              "</table>\n",
              "<table class=\"simpletable\">\n",
              "<tr>\n",
              "  <th>Omnibus:</th>       <td>53.262</td> <th>  Durbin-Watson:     </th> <td>   2.166</td>\n",
              "</tr>\n",
              "<tr>\n",
              "  <th>Prob(Omnibus):</th> <td> 0.000</td> <th>  Jarque-Bera (JB):  </th> <td> 123.935</td>\n",
              "</tr>\n",
              "<tr>\n",
              "  <th>Skew:</th>          <td> 1.347</td> <th>  Prob(JB):          </th> <td>1.22e-27</td>\n",
              "</tr>\n",
              "<tr>\n",
              "  <th>Kurtosis:</th>      <td> 6.152</td> <th>  Cond. No.          </th> <td>1.01e+05</td>\n",
              "</tr>\n",
              "</table><br/><br/>Warnings:<br/>[1] Standard Errors assume that the covariance matrix of the errors is correctly specified.<br/>[2] The condition number is large, 1.01e+05. This might indicate that there are<br/>strong multicollinearity or other numerical problems."
            ],
            "text/plain": [
              "<class 'statsmodels.iolib.summary.Summary'>\n",
              "\"\"\"\n",
              "                            OLS Regression Results                            \n",
              "==============================================================================\n",
              "Dep. Variable:         total_cases_pm   R-squared:                       0.453\n",
              "Model:                            OLS   Adj. R-squared:                  0.443\n",
              "Method:                 Least Squares   F-statistic:                     46.56\n",
              "Date:                Sat, 27 Feb 2021   Prob (F-statistic):           5.52e-22\n",
              "Time:                        12:10:32   Log-Likelihood:                -1464.8\n",
              "No. Observations:                 173   AIC:                             2938.\n",
              "Df Residuals:                     169   BIC:                             2950.\n",
              "Df Model:                           3                                         \n",
              "Covariance Type:            nonrobust                                         \n",
              "==================================================================================\n",
              "                     coef    std err          t      P>|t|      [0.025      0.975]\n",
              "----------------------------------------------------------------------------------\n",
              "const             44.0854    349.924      0.126      0.900    -646.700     734.870\n",
              "pop_density        0.2423      0.145      1.666      0.098      -0.045       0.529\n",
              "median_age        -2.5165     13.526     -0.186      0.853     -29.217      24.184\n",
              "gdp_per_capita     0.0557      0.007      7.875      0.000       0.042       0.070\n",
              "==============================================================================\n",
              "Omnibus:                       53.262   Durbin-Watson:                   2.166\n",
              "Prob(Omnibus):                  0.000   Jarque-Bera (JB):              123.935\n",
              "Skew:                           1.347   Prob(JB):                     1.22e-27\n",
              "Kurtosis:                       6.152   Cond. No.                     1.01e+05\n",
              "==============================================================================\n",
              "\n",
              "Warnings:\n",
              "[1] Standard Errors assume that the covariance matrix of the errors is correctly specified.\n",
              "[2] The condition number is large, 1.01e+05. This might indicate that there are\n",
              "strong multicollinearity or other numerical problems.\n",
              "\"\"\""
            ]
          },
          "metadata": {
            "tags": []
          },
          "execution_count": 9
        }
      ]
    }
  ]
}