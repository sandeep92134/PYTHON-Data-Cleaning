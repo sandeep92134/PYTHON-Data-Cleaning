{
  "nbformat": 4,
  "nbformat_minor": 0,
  "metadata": {
    "colab": {
      "name": "Untitled5.ipynb",
      "provenance": [],
      "authorship_tag": "ABX9TyOdsq8QkyJcr0JtDqmQoviI",
      "include_colab_link": true
    },
    "kernelspec": {
      "name": "python3",
      "display_name": "Python 3"
    }
  },
  "cells": [
    {
      "cell_type": "markdown",
      "metadata": {
        "id": "view-in-github",
        "colab_type": "text"
      },
      "source": [
        "<a href=\"https://colab.research.google.com/github/sandeep92134/PYTHON-Data-Cleaning/blob/master/Chapter%204/Exersize%206.%20Using%20k-nearest%20neighbor%20to%20find%20outliers.ipynb\" target=\"_parent\"><img src=\"https://colab.research.google.com/assets/colab-badge.svg\" alt=\"Open In Colab\"/></a>"
      ]
    },
    {
      "cell_type": "code",
      "metadata": {
        "colab": {
          "base_uri": "https://localhost:8080/"
        },
        "id": "Ah4sEYeSalMH",
        "outputId": "d29ef1aa-53a8-479d-db52-ae08034eb8a1"
      },
      "source": [
        "pip install pyod"
      ],
      "execution_count": 1,
      "outputs": [
        {
          "output_type": "stream",
          "text": [
            "Collecting pyod\n",
            "\u001b[?25l  Downloading https://files.pythonhosted.org/packages/37/50/94ac3c301b06e291ce52938e4a037b147cf01b40ff458dea5441ac42addf/pyod-0.8.7.tar.gz (101kB)\n",
            "\r\u001b[K     |███▎                            | 10kB 16.3MB/s eta 0:00:01\r\u001b[K     |██████▌                         | 20kB 21.6MB/s eta 0:00:01\r\u001b[K     |█████████▊                      | 30kB 11.9MB/s eta 0:00:01\r\u001b[K     |█████████████                   | 40kB 8.8MB/s eta 0:00:01\r\u001b[K     |████████████████▏               | 51kB 6.0MB/s eta 0:00:01\r\u001b[K     |███████████████████▍            | 61kB 6.4MB/s eta 0:00:01\r\u001b[K     |██████████████████████▊         | 71kB 6.8MB/s eta 0:00:01\r\u001b[K     |██████████████████████████      | 81kB 7.1MB/s eta 0:00:01\r\u001b[K     |█████████████████████████████▏  | 92kB 7.4MB/s eta 0:00:01\r\u001b[K     |████████████████████████████████| 102kB 4.5MB/s \n",
            "\u001b[?25hRequirement already satisfied: joblib in /usr/local/lib/python3.7/dist-packages (from pyod) (1.0.1)\n",
            "Requirement already satisfied: matplotlib in /usr/local/lib/python3.7/dist-packages (from pyod) (3.2.2)\n",
            "Requirement already satisfied: numpy>=1.13 in /usr/local/lib/python3.7/dist-packages (from pyod) (1.19.5)\n",
            "Requirement already satisfied: numba>=0.35 in /usr/local/lib/python3.7/dist-packages (from pyod) (0.51.2)\n",
            "Requirement already satisfied: pandas>=0.25 in /usr/local/lib/python3.7/dist-packages (from pyod) (1.1.5)\n",
            "Requirement already satisfied: scipy>=0.19.1 in /usr/local/lib/python3.7/dist-packages (from pyod) (1.4.1)\n",
            "Requirement already satisfied: scikit_learn>=0.19.1 in /usr/local/lib/python3.7/dist-packages (from pyod) (0.22.2.post1)\n",
            "Requirement already satisfied: six in /usr/local/lib/python3.7/dist-packages (from pyod) (1.15.0)\n",
            "Requirement already satisfied: statsmodels in /usr/local/lib/python3.7/dist-packages (from pyod) (0.10.2)\n",
            "Requirement already satisfied: python-dateutil>=2.1 in /usr/local/lib/python3.7/dist-packages (from matplotlib->pyod) (2.8.1)\n",
            "Requirement already satisfied: kiwisolver>=1.0.1 in /usr/local/lib/python3.7/dist-packages (from matplotlib->pyod) (1.3.1)\n",
            "Requirement already satisfied: pyparsing!=2.0.4,!=2.1.2,!=2.1.6,>=2.0.1 in /usr/local/lib/python3.7/dist-packages (from matplotlib->pyod) (2.4.7)\n",
            "Requirement already satisfied: cycler>=0.10 in /usr/local/lib/python3.7/dist-packages (from matplotlib->pyod) (0.10.0)\n",
            "Requirement already satisfied: setuptools in /usr/local/lib/python3.7/dist-packages (from numba>=0.35->pyod) (53.0.0)\n",
            "Requirement already satisfied: llvmlite<0.35,>=0.34.0.dev0 in /usr/local/lib/python3.7/dist-packages (from numba>=0.35->pyod) (0.34.0)\n",
            "Requirement already satisfied: pytz>=2017.2 in /usr/local/lib/python3.7/dist-packages (from pandas>=0.25->pyod) (2018.9)\n",
            "Requirement already satisfied: patsy>=0.4.0 in /usr/local/lib/python3.7/dist-packages (from statsmodels->pyod) (0.5.1)\n",
            "Building wheels for collected packages: pyod\n",
            "  Building wheel for pyod (setup.py) ... \u001b[?25l\u001b[?25hdone\n",
            "  Created wheel for pyod: filename=pyod-0.8.7-cp37-none-any.whl size=115979 sha256=efa28f00e3f327c1c6211a88df0a880883af94c9bf04d28e712d35614b5020ca\n",
            "  Stored in directory: /root/.cache/pip/wheels/b7/8a/c9/5fe3f32692ad445fe573cf5b953d7a0d55dc1f7c8e229ebda0\n",
            "Successfully built pyod\n",
            "Installing collected packages: pyod\n",
            "Successfully installed pyod-0.8.7\n"
          ],
          "name": "stdout"
        }
      ]
    },
    {
      "cell_type": "code",
      "metadata": {
        "id": "AQIZ9RcvaRZY"
      },
      "source": [
        "# import pandas, pyod, and sklearn\r\n",
        "import pandas as pd\r\n",
        "from pyod.models.knn import KNN\r\n",
        "from sklearn.preprocessing import StandardScaler\r\n",
        "pd.set_option('display.width', 80)\r\n",
        "pd.set_option('display.max_columns', 7)\r\n",
        "pd.set_option('display.max_rows', 20)\r\n",
        "pd.options.display.float_format = '{:,.2f}'.format\r\n",
        "covidtotals = pd.read_csv(\"https://raw.githubusercontent.com/sandeep92134/PYTHON-Data-Cleaning/master/Chapter%204/datasets/covidtotals.csv\")\r\n",
        "covidtotals.set_index(\"iso_code\", inplace=True)"
      ],
      "execution_count": 2,
      "outputs": []
    },
    {
      "cell_type": "code",
      "metadata": {
        "id": "Nbq8tZruaWoy"
      },
      "source": [
        "# create a standardized dataset of the analysis variables\r\n",
        "standardizer = StandardScaler()\r\n",
        "analysisvars = ['location','total_cases_pm','total_deaths_pm',\\\r\n",
        "  'pop_density','median_age','gdp_per_capita']\r\n",
        "covidanalysis = covidtotals.loc[:, analysisvars].dropna()\r\n",
        "covidanalysisstand = standardizer.fit_transform(covidanalysis.iloc[:, 1:])"
      ],
      "execution_count": 3,
      "outputs": []
    },
    {
      "cell_type": "code",
      "metadata": {
        "id": "HLwwuxKzav00"
      },
      "source": [
        "# run the KNN model and generate anomaly scores\r\n",
        "clf_name = 'KNN'\r\n",
        "clf = KNN(contamination=0.1)\r\n",
        "clf.fit(covidanalysisstand)\r\n",
        "y_pred = clf.labels_\r\n",
        "y_scores = clf.decision_scores_"
      ],
      "execution_count": 4,
      "outputs": []
    },
    {
      "cell_type": "code",
      "metadata": {
        "colab": {
          "base_uri": "https://localhost:8080/",
          "height": 390
        },
        "id": "a3wRQp3ta2Hi",
        "outputId": "cf1f4f5f-4216-48e2-f6ac-73a1bf4d472e"
      },
      "source": [
        "# show the predictions from the model\r\n",
        "pred = pd.DataFrame(zip(y_pred, y_scores), \r\n",
        "  columns=['outlier','scores'], \r\n",
        "  index=covidanalysis.index)\r\n",
        "pred.sample(10, random_state=1)"
      ],
      "execution_count": 5,
      "outputs": [
        {
          "output_type": "execute_result",
          "data": {
            "text/html": [
              "<div>\n",
              "<style scoped>\n",
              "    .dataframe tbody tr th:only-of-type {\n",
              "        vertical-align: middle;\n",
              "    }\n",
              "\n",
              "    .dataframe tbody tr th {\n",
              "        vertical-align: top;\n",
              "    }\n",
              "\n",
              "    .dataframe thead th {\n",
              "        text-align: right;\n",
              "    }\n",
              "</style>\n",
              "<table border=\"1\" class=\"dataframe\">\n",
              "  <thead>\n",
              "    <tr style=\"text-align: right;\">\n",
              "      <th></th>\n",
              "      <th>outlier</th>\n",
              "      <th>scores</th>\n",
              "    </tr>\n",
              "    <tr>\n",
              "      <th>iso_code</th>\n",
              "      <th></th>\n",
              "      <th></th>\n",
              "    </tr>\n",
              "  </thead>\n",
              "  <tbody>\n",
              "    <tr>\n",
              "      <th>LBY</th>\n",
              "      <td>0</td>\n",
              "      <td>0.37</td>\n",
              "    </tr>\n",
              "    <tr>\n",
              "      <th>NLD</th>\n",
              "      <td>1</td>\n",
              "      <td>1.56</td>\n",
              "    </tr>\n",
              "    <tr>\n",
              "      <th>BTN</th>\n",
              "      <td>0</td>\n",
              "      <td>0.19</td>\n",
              "    </tr>\n",
              "    <tr>\n",
              "      <th>HTI</th>\n",
              "      <td>0</td>\n",
              "      <td>0.43</td>\n",
              "    </tr>\n",
              "    <tr>\n",
              "      <th>EST</th>\n",
              "      <td>0</td>\n",
              "      <td>0.46</td>\n",
              "    </tr>\n",
              "    <tr>\n",
              "      <th>LCA</th>\n",
              "      <td>0</td>\n",
              "      <td>0.43</td>\n",
              "    </tr>\n",
              "    <tr>\n",
              "      <th>PER</th>\n",
              "      <td>0</td>\n",
              "      <td>1.41</td>\n",
              "    </tr>\n",
              "    <tr>\n",
              "      <th>BRB</th>\n",
              "      <td>0</td>\n",
              "      <td>0.77</td>\n",
              "    </tr>\n",
              "    <tr>\n",
              "      <th>MDA</th>\n",
              "      <td>0</td>\n",
              "      <td>0.91</td>\n",
              "    </tr>\n",
              "    <tr>\n",
              "      <th>NAM</th>\n",
              "      <td>0</td>\n",
              "      <td>0.31</td>\n",
              "    </tr>\n",
              "  </tbody>\n",
              "</table>\n",
              "</div>"
            ],
            "text/plain": [
              "          outlier  scores\n",
              "iso_code                 \n",
              "LBY             0    0.37\n",
              "NLD             1    1.56\n",
              "BTN             0    0.19\n",
              "HTI             0    0.43\n",
              "EST             0    0.46\n",
              "LCA             0    0.43\n",
              "PER             0    1.41\n",
              "BRB             0    0.77\n",
              "MDA             0    0.91\n",
              "NAM             0    0.31"
            ]
          },
          "metadata": {
            "tags": []
          },
          "execution_count": 5
        }
      ]
    },
    {
      "cell_type": "code",
      "metadata": {
        "colab": {
          "base_uri": "https://localhost:8080/"
        },
        "id": "Tt2riFT9a73R",
        "outputId": "6efef89e-95e8-4cb4-f4ec-d354822112aa"
      },
      "source": [
        "pred.outlier.value_counts()"
      ],
      "execution_count": 6,
      "outputs": [
        {
          "output_type": "execute_result",
          "data": {
            "text/plain": [
              "0    157\n",
              "1     18\n",
              "Name: outlier, dtype: int64"
            ]
          },
          "metadata": {
            "tags": []
          },
          "execution_count": 6
        }
      ]
    },
    {
      "cell_type": "code",
      "metadata": {
        "colab": {
          "base_uri": "https://localhost:8080/",
          "height": 173
        },
        "id": "g2JFaT2DbAha",
        "outputId": "422816f4-d2d8-42d4-d556-bd1d9a7433ef"
      },
      "source": [
        "pred.groupby(['outlier'])[['scores']].agg(['min','median','max'])"
      ],
      "execution_count": 7,
      "outputs": [
        {
          "output_type": "execute_result",
          "data": {
            "text/html": [
              "<div>\n",
              "<style scoped>\n",
              "    .dataframe tbody tr th:only-of-type {\n",
              "        vertical-align: middle;\n",
              "    }\n",
              "\n",
              "    .dataframe tbody tr th {\n",
              "        vertical-align: top;\n",
              "    }\n",
              "\n",
              "    .dataframe thead tr th {\n",
              "        text-align: left;\n",
              "    }\n",
              "\n",
              "    .dataframe thead tr:last-of-type th {\n",
              "        text-align: right;\n",
              "    }\n",
              "</style>\n",
              "<table border=\"1\" class=\"dataframe\">\n",
              "  <thead>\n",
              "    <tr>\n",
              "      <th></th>\n",
              "      <th colspan=\"3\" halign=\"left\">scores</th>\n",
              "    </tr>\n",
              "    <tr>\n",
              "      <th></th>\n",
              "      <th>min</th>\n",
              "      <th>median</th>\n",
              "      <th>max</th>\n",
              "    </tr>\n",
              "    <tr>\n",
              "      <th>outlier</th>\n",
              "      <th></th>\n",
              "      <th></th>\n",
              "      <th></th>\n",
              "    </tr>\n",
              "  </thead>\n",
              "  <tbody>\n",
              "    <tr>\n",
              "      <th>0</th>\n",
              "      <td>0.08</td>\n",
              "      <td>0.36</td>\n",
              "      <td>1.52</td>\n",
              "    </tr>\n",
              "    <tr>\n",
              "      <th>1</th>\n",
              "      <td>1.55</td>\n",
              "      <td>2.10</td>\n",
              "      <td>9.48</td>\n",
              "    </tr>\n",
              "  </tbody>\n",
              "</table>\n",
              "</div>"
            ],
            "text/plain": [
              "        scores            \n",
              "           min median  max\n",
              "outlier                   \n",
              "0         0.08   0.36 1.52\n",
              "1         1.55   2.10 9.48"
            ]
          },
          "metadata": {
            "tags": []
          },
          "execution_count": 7
        }
      ]
    },
    {
      "cell_type": "code",
      "metadata": {
        "colab": {
          "base_uri": "https://localhost:8080/",
          "height": 638
        },
        "id": "8km93QhzbJBf",
        "outputId": "77b84f2d-5d18-4832-c2e2-5cdd84b9992b"
      },
      "source": [
        "# show covid data for the outliers\r\n",
        "covidanalysis.join(pred).loc[pred.outlier==1,\\\r\n",
        "  ['location','total_cases_pm','total_deaths_pm','scores']].\\\r\n",
        "  sort_values(['scores'], ascending=False)"
      ],
      "execution_count": 8,
      "outputs": [
        {
          "output_type": "execute_result",
          "data": {
            "text/html": [
              "<div>\n",
              "<style scoped>\n",
              "    .dataframe tbody tr th:only-of-type {\n",
              "        vertical-align: middle;\n",
              "    }\n",
              "\n",
              "    .dataframe tbody tr th {\n",
              "        vertical-align: top;\n",
              "    }\n",
              "\n",
              "    .dataframe thead th {\n",
              "        text-align: right;\n",
              "    }\n",
              "</style>\n",
              "<table border=\"1\" class=\"dataframe\">\n",
              "  <thead>\n",
              "    <tr style=\"text-align: right;\">\n",
              "      <th></th>\n",
              "      <th>location</th>\n",
              "      <th>total_cases_pm</th>\n",
              "      <th>total_deaths_pm</th>\n",
              "      <th>scores</th>\n",
              "    </tr>\n",
              "    <tr>\n",
              "      <th>iso_code</th>\n",
              "      <th></th>\n",
              "      <th></th>\n",
              "      <th></th>\n",
              "      <th></th>\n",
              "    </tr>\n",
              "  </thead>\n",
              "  <tbody>\n",
              "    <tr>\n",
              "      <th>SGP</th>\n",
              "      <td>Singapore</td>\n",
              "      <td>5,962.73</td>\n",
              "      <td>3.93</td>\n",
              "      <td>9.48</td>\n",
              "    </tr>\n",
              "    <tr>\n",
              "      <th>QAT</th>\n",
              "      <td>Qatar</td>\n",
              "      <td>19,753.15</td>\n",
              "      <td>13.19</td>\n",
              "      <td>8.00</td>\n",
              "    </tr>\n",
              "    <tr>\n",
              "      <th>HKG</th>\n",
              "      <td>Hong Kong</td>\n",
              "      <td>0.00</td>\n",
              "      <td>0.00</td>\n",
              "      <td>7.77</td>\n",
              "    </tr>\n",
              "    <tr>\n",
              "      <th>BEL</th>\n",
              "      <td>Belgium</td>\n",
              "      <td>5,037.35</td>\n",
              "      <td>816.85</td>\n",
              "      <td>3.54</td>\n",
              "    </tr>\n",
              "    <tr>\n",
              "      <th>BHR</th>\n",
              "      <td>Bahrain</td>\n",
              "      <td>6,698.47</td>\n",
              "      <td>11.17</td>\n",
              "      <td>2.84</td>\n",
              "    </tr>\n",
              "    <tr>\n",
              "      <th>LUX</th>\n",
              "      <td>Luxembourg</td>\n",
              "      <td>6,418.78</td>\n",
              "      <td>175.73</td>\n",
              "      <td>2.44</td>\n",
              "    </tr>\n",
              "    <tr>\n",
              "      <th>ESP</th>\n",
              "      <td>Spain</td>\n",
              "      <td>5,120.95</td>\n",
              "      <td>580.20</td>\n",
              "      <td>2.18</td>\n",
              "    </tr>\n",
              "    <tr>\n",
              "      <th>KWT</th>\n",
              "      <td>Kuwait</td>\n",
              "      <td>6,332.42</td>\n",
              "      <td>49.64</td>\n",
              "      <td>2.13</td>\n",
              "    </tr>\n",
              "    <tr>\n",
              "      <th>GBR</th>\n",
              "      <td>United Kingdom</td>\n",
              "      <td>4,047.40</td>\n",
              "      <td>566.97</td>\n",
              "      <td>2.10</td>\n",
              "    </tr>\n",
              "    <tr>\n",
              "      <th>ITA</th>\n",
              "      <td>Italy</td>\n",
              "      <td>3,853.99</td>\n",
              "      <td>552.66</td>\n",
              "      <td>2.09</td>\n",
              "    </tr>\n",
              "    <tr>\n",
              "      <th>IRL</th>\n",
              "      <td>Ireland</td>\n",
              "      <td>5,060.96</td>\n",
              "      <td>334.56</td>\n",
              "      <td>2.07</td>\n",
              "    </tr>\n",
              "    <tr>\n",
              "      <th>BRN</th>\n",
              "      <td>Brunei</td>\n",
              "      <td>322.30</td>\n",
              "      <td>4.57</td>\n",
              "      <td>1.92</td>\n",
              "    </tr>\n",
              "    <tr>\n",
              "      <th>USA</th>\n",
              "      <td>United States</td>\n",
              "      <td>5,408.39</td>\n",
              "      <td>315.35</td>\n",
              "      <td>1.89</td>\n",
              "    </tr>\n",
              "    <tr>\n",
              "      <th>FRA</th>\n",
              "      <td>France</td>\n",
              "      <td>2,324.88</td>\n",
              "      <td>441.25</td>\n",
              "      <td>1.86</td>\n",
              "    </tr>\n",
              "    <tr>\n",
              "      <th>MDV</th>\n",
              "      <td>Maldives</td>\n",
              "      <td>3,280.04</td>\n",
              "      <td>9.25</td>\n",
              "      <td>1.82</td>\n",
              "    </tr>\n",
              "    <tr>\n",
              "      <th>ISL</th>\n",
              "      <td>Iceland</td>\n",
              "      <td>5,292.31</td>\n",
              "      <td>29.30</td>\n",
              "      <td>1.58</td>\n",
              "    </tr>\n",
              "    <tr>\n",
              "      <th>NLD</th>\n",
              "      <td>Netherlands</td>\n",
              "      <td>2,710.38</td>\n",
              "      <td>347.60</td>\n",
              "      <td>1.56</td>\n",
              "    </tr>\n",
              "    <tr>\n",
              "      <th>ARE</th>\n",
              "      <td>United Arab Emirates</td>\n",
              "      <td>3,493.99</td>\n",
              "      <td>26.69</td>\n",
              "      <td>1.55</td>\n",
              "    </tr>\n",
              "  </tbody>\n",
              "</table>\n",
              "</div>"
            ],
            "text/plain": [
              "                      location  total_cases_pm  total_deaths_pm  scores\n",
              "iso_code                                                               \n",
              "SGP                  Singapore        5,962.73             3.93    9.48\n",
              "QAT                      Qatar       19,753.15            13.19    8.00\n",
              "HKG                  Hong Kong            0.00             0.00    7.77\n",
              "BEL                    Belgium        5,037.35           816.85    3.54\n",
              "BHR                    Bahrain        6,698.47            11.17    2.84\n",
              "LUX                 Luxembourg        6,418.78           175.73    2.44\n",
              "ESP                      Spain        5,120.95           580.20    2.18\n",
              "KWT                     Kuwait        6,332.42            49.64    2.13\n",
              "GBR             United Kingdom        4,047.40           566.97    2.10\n",
              "ITA                      Italy        3,853.99           552.66    2.09\n",
              "IRL                    Ireland        5,060.96           334.56    2.07\n",
              "BRN                     Brunei          322.30             4.57    1.92\n",
              "USA              United States        5,408.39           315.35    1.89\n",
              "FRA                     France        2,324.88           441.25    1.86\n",
              "MDV                   Maldives        3,280.04             9.25    1.82\n",
              "ISL                    Iceland        5,292.31            29.30    1.58\n",
              "NLD                Netherlands        2,710.38           347.60    1.56\n",
              "ARE       United Arab Emirates        3,493.99            26.69    1.55"
            ]
          },
          "metadata": {
            "tags": []
          },
          "execution_count": 8
        }
      ]
    }
  ]
}