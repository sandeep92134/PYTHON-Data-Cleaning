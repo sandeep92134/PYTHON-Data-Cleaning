{
  "nbformat": 4,
  "nbformat_minor": 0,
  "metadata": {
    "colab": {
      "name": "Untitled1.ipynb",
      "provenance": [],
      "authorship_tag": "ABX9TyOWee14XCljeDmbrB/o4hBc",
      "include_colab_link": true
    },
    "kernelspec": {
      "name": "python3",
      "display_name": "Python 3"
    }
  },
  "cells": [
    {
      "cell_type": "markdown",
      "metadata": {
        "id": "view-in-github",
        "colab_type": "text"
      },
      "source": [
        "<a href=\"https://colab.research.google.com/github/sandeep92134/PYTHON-Data-Cleaning/blob/master/chapter%204/Exersize%202.%20Identifying%20outliers%20with%20one%20variable.ipynb\" target=\"_parent\"><img src=\"https://colab.research.google.com/assets/colab-badge.svg\" alt=\"Open In Colab\"/></a>"
      ]
    },
    {
      "cell_type": "code",
      "metadata": {
        "colab": {
          "base_uri": "https://localhost:8080/"
        },
        "id": "4oOGR8DiZfbo",
        "outputId": "210a9f74-00d4-435a-9977-493e7cae7241"
      },
      "source": [
        "# import pandas, numpy, and matplotlib\r\n",
        "import pandas as pd\r\n",
        "import numpy as np\r\n",
        "import matplotlib.pyplot as plt\r\n",
        "import statsmodels.api as sm\r\n",
        "from statsmodels.graphics.gofplots import qqline\r\n",
        "import scipy.stats as scistat\r\n",
        "pd.set_option('display.width', 85)\r\n",
        "pd.set_option('display.max_columns', 6)\r\n",
        "pd.set_option('display.max_rows', 20)\r\n",
        "pd.options.display.float_format = '{:,.0f}'.format\r\n",
        "covidtotals = pd.read_csv(\"https://raw.githubusercontent.com/sandeep92134/PYTHON-Data-Cleaning/master/Chapter%204/datasets/covidtotals.csv\")\r\n",
        "covidtotals.set_index(\"iso_code\", inplace=True)\r\n",
        "\r\n",
        "# set up the cumulative and demographic columns\r\n",
        "totvars = ['location','total_cases','total_deaths','total_cases_pm',\r\n",
        "  'total_deaths_pm']\r\n",
        "demovars = ['population','pop_density','median_age','gdp_per_capita',\r\n",
        "  'hosp_beds']"
      ],
      "execution_count": 1,
      "outputs": [
        {
          "output_type": "stream",
          "text": [
            "/usr/local/lib/python3.7/dist-packages/statsmodels/tools/_testing.py:19: FutureWarning: pandas.util.testing is deprecated. Use the functions in the public API at pandas.testing instead.\n",
            "  import pandas.util.testing as tm\n"
          ],
          "name": "stderr"
        }
      ]
    },
    {
      "cell_type": "code",
      "metadata": {
        "colab": {
          "base_uri": "https://localhost:8080/",
          "height": 297
        },
        "id": "BK7c8W8faHnJ",
        "outputId": "1265cf60-745f-4d5c-a2d8-0c6371f792a5"
      },
      "source": [
        "# get descriptive statistics on the cumulative values\r\n",
        "covidtotalsonly = covidtotals.loc[:, totvars]\r\n",
        "covidtotalsonly.describe()"
      ],
      "execution_count": 2,
      "outputs": [
        {
          "output_type": "execute_result",
          "data": {
            "text/html": [
              "<div>\n",
              "<style scoped>\n",
              "    .dataframe tbody tr th:only-of-type {\n",
              "        vertical-align: middle;\n",
              "    }\n",
              "\n",
              "    .dataframe tbody tr th {\n",
              "        vertical-align: top;\n",
              "    }\n",
              "\n",
              "    .dataframe thead th {\n",
              "        text-align: right;\n",
              "    }\n",
              "</style>\n",
              "<table border=\"1\" class=\"dataframe\">\n",
              "  <thead>\n",
              "    <tr style=\"text-align: right;\">\n",
              "      <th></th>\n",
              "      <th>total_cases</th>\n",
              "      <th>total_deaths</th>\n",
              "      <th>total_cases_pm</th>\n",
              "      <th>total_deaths_pm</th>\n",
              "    </tr>\n",
              "  </thead>\n",
              "  <tbody>\n",
              "    <tr>\n",
              "      <th>count</th>\n",
              "      <td>210</td>\n",
              "      <td>210</td>\n",
              "      <td>210</td>\n",
              "      <td>210</td>\n",
              "    </tr>\n",
              "    <tr>\n",
              "      <th>mean</th>\n",
              "      <td>29,216</td>\n",
              "      <td>1,771</td>\n",
              "      <td>1,355</td>\n",
              "      <td>56</td>\n",
              "    </tr>\n",
              "    <tr>\n",
              "      <th>std</th>\n",
              "      <td>136,398</td>\n",
              "      <td>8,706</td>\n",
              "      <td>2,625</td>\n",
              "      <td>145</td>\n",
              "    </tr>\n",
              "    <tr>\n",
              "      <th>min</th>\n",
              "      <td>0</td>\n",
              "      <td>0</td>\n",
              "      <td>0</td>\n",
              "      <td>0</td>\n",
              "    </tr>\n",
              "    <tr>\n",
              "      <th>25%</th>\n",
              "      <td>176</td>\n",
              "      <td>4</td>\n",
              "      <td>93</td>\n",
              "      <td>1</td>\n",
              "    </tr>\n",
              "    <tr>\n",
              "      <th>50%</th>\n",
              "      <td>1,242</td>\n",
              "      <td>26</td>\n",
              "      <td>281</td>\n",
              "      <td>6</td>\n",
              "    </tr>\n",
              "    <tr>\n",
              "      <th>75%</th>\n",
              "      <td>10,117</td>\n",
              "      <td>241</td>\n",
              "      <td>1,801</td>\n",
              "      <td>32</td>\n",
              "    </tr>\n",
              "    <tr>\n",
              "      <th>max</th>\n",
              "      <td>1,790,191</td>\n",
              "      <td>104,383</td>\n",
              "      <td>19,771</td>\n",
              "      <td>1,238</td>\n",
              "    </tr>\n",
              "  </tbody>\n",
              "</table>\n",
              "</div>"
            ],
            "text/plain": [
              "       total_cases  total_deaths  total_cases_pm  total_deaths_pm\n",
              "count          210           210             210              210\n",
              "mean        29,216         1,771           1,355               56\n",
              "std        136,398         8,706           2,625              145\n",
              "min              0             0               0                0\n",
              "25%            176             4              93                1\n",
              "50%          1,242            26             281                6\n",
              "75%         10,117           241           1,801               32\n",
              "max      1,790,191       104,383          19,771            1,238"
            ]
          },
          "metadata": {
            "tags": []
          },
          "execution_count": 2
        }
      ]
    },
    {
      "cell_type": "code",
      "metadata": {
        "colab": {
          "base_uri": "https://localhost:8080/",
          "height": 390
        },
        "id": "D-Ud_xHbaWLI",
        "outputId": "90938862-457c-47b6-bcf1-82c55f46a0b0"
      },
      "source": [
        "pd.options.display.float_format = '{:,.2f}'.format\r\n",
        "covidtotalsonly.quantile(np.arange(0.0, 1.1, 0.1))"
      ],
      "execution_count": 3,
      "outputs": [
        {
          "output_type": "execute_result",
          "data": {
            "text/html": [
              "<div>\n",
              "<style scoped>\n",
              "    .dataframe tbody tr th:only-of-type {\n",
              "        vertical-align: middle;\n",
              "    }\n",
              "\n",
              "    .dataframe tbody tr th {\n",
              "        vertical-align: top;\n",
              "    }\n",
              "\n",
              "    .dataframe thead th {\n",
              "        text-align: right;\n",
              "    }\n",
              "</style>\n",
              "<table border=\"1\" class=\"dataframe\">\n",
              "  <thead>\n",
              "    <tr style=\"text-align: right;\">\n",
              "      <th></th>\n",
              "      <th>total_cases</th>\n",
              "      <th>total_deaths</th>\n",
              "      <th>total_cases_pm</th>\n",
              "      <th>total_deaths_pm</th>\n",
              "    </tr>\n",
              "  </thead>\n",
              "  <tbody>\n",
              "    <tr>\n",
              "      <th>0.00</th>\n",
              "      <td>0.00</td>\n",
              "      <td>0.00</td>\n",
              "      <td>0.00</td>\n",
              "      <td>0.00</td>\n",
              "    </tr>\n",
              "    <tr>\n",
              "      <th>0.10</th>\n",
              "      <td>22.90</td>\n",
              "      <td>0.00</td>\n",
              "      <td>18.00</td>\n",
              "      <td>0.00</td>\n",
              "    </tr>\n",
              "    <tr>\n",
              "      <th>0.20</th>\n",
              "      <td>105.20</td>\n",
              "      <td>2.00</td>\n",
              "      <td>56.29</td>\n",
              "      <td>0.38</td>\n",
              "    </tr>\n",
              "    <tr>\n",
              "      <th>0.30</th>\n",
              "      <td>302.00</td>\n",
              "      <td>6.70</td>\n",
              "      <td>115.43</td>\n",
              "      <td>1.72</td>\n",
              "    </tr>\n",
              "    <tr>\n",
              "      <th>0.40</th>\n",
              "      <td>762.00</td>\n",
              "      <td>12.00</td>\n",
              "      <td>213.97</td>\n",
              "      <td>3.96</td>\n",
              "    </tr>\n",
              "    <tr>\n",
              "      <th>0.50</th>\n",
              "      <td>1,242.50</td>\n",
              "      <td>25.50</td>\n",
              "      <td>280.93</td>\n",
              "      <td>6.15</td>\n",
              "    </tr>\n",
              "    <tr>\n",
              "      <th>0.60</th>\n",
              "      <td>2,514.60</td>\n",
              "      <td>54.60</td>\n",
              "      <td>543.96</td>\n",
              "      <td>12.25</td>\n",
              "    </tr>\n",
              "    <tr>\n",
              "      <th>0.70</th>\n",
              "      <td>6,959.80</td>\n",
              "      <td>137.20</td>\n",
              "      <td>1,071.24</td>\n",
              "      <td>25.95</td>\n",
              "    </tr>\n",
              "    <tr>\n",
              "      <th>0.80</th>\n",
              "      <td>16,847.20</td>\n",
              "      <td>323.20</td>\n",
              "      <td>2,206.30</td>\n",
              "      <td>49.97</td>\n",
              "    </tr>\n",
              "    <tr>\n",
              "      <th>0.90</th>\n",
              "      <td>46,513.10</td>\n",
              "      <td>1,616.90</td>\n",
              "      <td>3,765.14</td>\n",
              "      <td>138.90</td>\n",
              "    </tr>\n",
              "    <tr>\n",
              "      <th>1.00</th>\n",
              "      <td>1,790,191.00</td>\n",
              "      <td>104,383.00</td>\n",
              "      <td>19,771.35</td>\n",
              "      <td>1,237.55</td>\n",
              "    </tr>\n",
              "  </tbody>\n",
              "</table>\n",
              "</div>"
            ],
            "text/plain": [
              "      total_cases  total_deaths  total_cases_pm  total_deaths_pm\n",
              "0.00         0.00          0.00            0.00             0.00\n",
              "0.10        22.90          0.00           18.00             0.00\n",
              "0.20       105.20          2.00           56.29             0.38\n",
              "0.30       302.00          6.70          115.43             1.72\n",
              "0.40       762.00         12.00          213.97             3.96\n",
              "0.50     1,242.50         25.50          280.93             6.15\n",
              "0.60     2,514.60         54.60          543.96            12.25\n",
              "0.70     6,959.80        137.20        1,071.24            25.95\n",
              "0.80    16,847.20        323.20        2,206.30            49.97\n",
              "0.90    46,513.10      1,616.90        3,765.14           138.90\n",
              "1.00 1,790,191.00    104,383.00       19,771.35         1,237.55"
            ]
          },
          "metadata": {
            "tags": []
          },
          "execution_count": 3
        }
      ]
    },
    {
      "cell_type": "code",
      "metadata": {
        "colab": {
          "base_uri": "https://localhost:8080/"
        },
        "id": "HO3bdnVgaf3a",
        "outputId": "8cf345af-8b29-4c59-f65f-76cd34a4fd93"
      },
      "source": [
        "covidtotalsonly.skew()"
      ],
      "execution_count": 4,
      "outputs": [
        {
          "output_type": "execute_result",
          "data": {
            "text/plain": [
              "total_cases       10.80\n",
              "total_deaths       8.93\n",
              "total_cases_pm     4.40\n",
              "total_deaths_pm    4.67\n",
              "dtype: float64"
            ]
          },
          "metadata": {
            "tags": []
          },
          "execution_count": 4
        }
      ]
    },
    {
      "cell_type": "code",
      "metadata": {
        "colab": {
          "base_uri": "https://localhost:8080/"
        },
        "id": "HBYAkzP8al3H",
        "outputId": "cac16ec6-6e4d-495e-cb85-3d2c1d8f135d"
      },
      "source": [
        "covidtotalsonly.kurtosis()"
      ],
      "execution_count": 5,
      "outputs": [
        {
          "output_type": "execute_result",
          "data": {
            "text/plain": [
              "total_cases       134.98\n",
              "total_deaths       95.74\n",
              "total_cases_pm     25.24\n",
              "total_deaths_pm    27.24\n",
              "dtype: float64"
            ]
          },
          "metadata": {
            "tags": []
          },
          "execution_count": 5
        }
      ]
    },
    {
      "cell_type": "code",
      "metadata": {
        "id": "j0mICbp5a6Q2"
      },
      "source": [
        "# test for normality\r\n",
        "def testnorm(var, df):\r\n",
        "  stat, p = scistat.shapiro(df[var])\r\n",
        "  return p"
      ],
      "execution_count": 6,
      "outputs": []
    },
    {
      "cell_type": "code",
      "metadata": {
        "colab": {
          "base_uri": "https://localhost:8080/"
        },
        "id": "l3eTlbRta-o5",
        "outputId": "36584f69-f71e-4437-c99f-b559bf8e1042"
      },
      "source": [
        "testnorm(\"total_cases\", covidtotalsonly)"
      ],
      "execution_count": 7,
      "outputs": [
        {
          "output_type": "execute_result",
          "data": {
            "text/plain": [
              "3.753789128593843e-29"
            ]
          },
          "metadata": {
            "tags": []
          },
          "execution_count": 7
        }
      ]
    },
    {
      "cell_type": "code",
      "metadata": {
        "colab": {
          "base_uri": "https://localhost:8080/"
        },
        "id": "LXcGOZIIbHFM",
        "outputId": "6c46d622-57e8-44ea-86b5-2877ce5b8085"
      },
      "source": [
        "testnorm(\"total_deaths\", covidtotalsonly)"
      ],
      "execution_count": 8,
      "outputs": [
        {
          "output_type": "execute_result",
          "data": {
            "text/plain": [
              "4.3427896631016077e-29"
            ]
          },
          "metadata": {
            "tags": []
          },
          "execution_count": 8
        }
      ]
    },
    {
      "cell_type": "code",
      "metadata": {
        "colab": {
          "base_uri": "https://localhost:8080/"
        },
        "id": "7-H7sqzSbJMw",
        "outputId": "e5b82bc3-a844-417d-fc95-3aab3b659c46"
      },
      "source": [
        "testnorm(\"total_cases_pm\", covidtotalsonly)"
      ],
      "execution_count": 9,
      "outputs": [
        {
          "output_type": "execute_result",
          "data": {
            "text/plain": [
              "1.3972683006509067e-23"
            ]
          },
          "metadata": {
            "tags": []
          },
          "execution_count": 9
        }
      ]
    },
    {
      "cell_type": "code",
      "metadata": {
        "colab": {
          "base_uri": "https://localhost:8080/"
        },
        "id": "hPqWoBdVbLiX",
        "outputId": "b97222b8-8f6d-4aa8-e578-a924ee22b3b3"
      },
      "source": [
        "testnorm(\"total_deaths_pm\", covidtotalsonly)"
      ],
      "execution_count": 10,
      "outputs": [
        {
          "output_type": "execute_result",
          "data": {
            "text/plain": [
              "1.361060423265974e-25"
            ]
          },
          "metadata": {
            "tags": []
          },
          "execution_count": 10
        }
      ]
    },
    {
      "cell_type": "code",
      "metadata": {
        "colab": {
          "base_uri": "https://localhost:8080/",
          "height": 312
        },
        "id": "PotSvOUabMHh",
        "outputId": "419708b5-a1e8-4938-e23e-ee2450b38708"
      },
      "source": [
        "# show a qqplot for total cases and total cases per million\r\n",
        "sm.qqplot(covidtotalsonly[['total_cases']]. \\\r\n",
        "  sort_values(['total_cases']), line='s')\r\n",
        "plt.title(\"QQ Plot of Total Cases\")"
      ],
      "execution_count": 11,
      "outputs": [
        {
          "output_type": "execute_result",
          "data": {
            "text/plain": [
              "Text(0.5, 1.0, 'QQ Plot of Total Cases')"
            ]
          },
          "metadata": {
            "tags": []
          },
          "execution_count": 11
        },
        {
          "output_type": "display_data",
          "data": {
            "image/png": "[encoded data removed]",
            "text/plain": [
              "<Figure size 432x288 with 1 Axes>"
            ]
          },
          "metadata": {
            "tags": [],
            "needs_background": "light"
          }
        }
      ]
    },
    {
      "cell_type": "code",
      "metadata": {
        "colab": {
          "base_uri": "https://localhost:8080/",
          "height": 295
        },
        "id": "3swOUAezbYEM",
        "outputId": "292362f2-8b4b-41dd-fd2a-067827ca8a37"
      },
      "source": [
        "sm.qqplot(covidtotals[['total_cases_pm']]. \\\r\n",
        "  sort_values(['total_cases_pm']), line='s')\r\n",
        "plt.title(\"QQ Plot of Total Cases Per Million\")\r\n",
        "plt.show()"
      ],
      "execution_count": 12,
      "outputs": [
        {
          "output_type": "display_data",
          "data": {
            "image/png": "[encoded data removed]",
            "text/plain": [
              "<Figure size 432x288 with 1 Axes>"
            ]
          },
          "metadata": {
            "tags": [],
            "needs_background": "light"
          }
        }
      ]
    },
    {
      "cell_type": "code",
      "metadata": {
        "colab": {
          "base_uri": "https://localhost:8080/"
        },
        "id": "qFpgIv_ZbYvU",
        "outputId": "f9ab20e9-6dd8-4dbc-93d6-bdc66d39e094"
      },
      "source": [
        "# show outliers for total cases\r\n",
        "thirdq, firstq = covidtotalsonly.total_cases.quantile(0.75), covidtotalsonly.total_cases.quantile(0.25)\r\n",
        "interquartilerange = 1.5*(thirdq-firstq)\r\n",
        "outlierhigh, outlierlow = interquartilerange+thirdq, firstq-interquartilerange\r\n",
        "print(outlierlow, outlierhigh, sep=\" <--> \")"
      ],
      "execution_count": 13,
      "outputs": [
        {
          "output_type": "stream",
          "text": [
            "-14736.125 <--> 25028.875\n"
          ],
          "name": "stdout"
        }
      ]
    },
    {
      "cell_type": "code",
      "metadata": {
        "colab": {
          "base_uri": "https://localhost:8080/"
        },
        "id": "9Mv1p3hPbgGf",
        "outputId": "6bbdbbf3-1950-4feb-bc52-c1c5a896f157"
      },
      "source": [
        "# generate a table of outliers and save it to Excel\r\n",
        "def getoutliers():\r\n",
        "  dfout = pd.DataFrame(columns=covidtotals.columns, data=None)\r\n",
        "  for col in covidtotalsonly.columns[1:]:\r\n",
        "    thirdq, firstq = covidtotalsonly[col].quantile(0.75),\\\r\n",
        "      covidtotalsonly[col].quantile(0.25)\r\n",
        "    interquartilerange = 1.5*(thirdq-firstq)\r\n",
        "    outlierhigh, outlierlow = interquartilerange+thirdq,\\\r\n",
        "      firstq-interquartilerange\r\n",
        "    df = covidtotals.loc[(covidtotals[col]>outlierhigh) | \\\r\n",
        "      (covidtotals[col]<outlierlow)]\r\n",
        "    df = df.assign(varname = col, threshlow = outlierlow,\\\r\n",
        "       threshhigh = outlierhigh)\r\n",
        "    dfout = pd.concat([dfout, df])\r\n",
        "  return dfout\r\n",
        "\r\n",
        "outliers = getoutliers()\r\n",
        "outliers.varname.value_counts()"
      ],
      "execution_count": 14,
      "outputs": [
        {
          "output_type": "execute_result",
          "data": {
            "text/plain": [
              "total_deaths       36\n",
              "total_cases        33\n",
              "total_deaths_pm    28\n",
              "total_cases_pm     17\n",
              "Name: varname, dtype: int64"
            ]
          },
          "metadata": {
            "tags": []
          },
          "execution_count": 14
        }
      ]
    },
    {
      "cell_type": "code",
      "metadata": {
        "id": "5D3TrKtbbqmQ"
      },
      "source": [
        "outliers.to_excel(\"/content/outlierscases.xlsx\")"
      ],
      "execution_count": 15,
      "outputs": []
    },
    {
      "cell_type": "code",
      "metadata": {
        "colab": {
          "base_uri": "https://localhost:8080/",
          "height": 576
        },
        "id": "rbPUyOO9cDWe",
        "outputId": "fe18d8df-67ea-47ec-f3c5-5f1d73d33077"
      },
      "source": [
        "# look a little more closely at outliers for cases per million\r\n",
        "outliers.loc[outliers.varname==\"total_cases_pm\",\\\r\n",
        "  ['location','total_cases_pm','pop_density','gdp_per_capita']].\\\r\n",
        "  sort_values(['total_cases_pm'], ascending=False)"
      ],
      "execution_count": 16,
      "outputs": [
        {
          "output_type": "execute_result",
          "data": {
            "text/html": [
              "<div>\n",
              "<style scoped>\n",
              "    .dataframe tbody tr th:only-of-type {\n",
              "        vertical-align: middle;\n",
              "    }\n",
              "\n",
              "    .dataframe tbody tr th {\n",
              "        vertical-align: top;\n",
              "    }\n",
              "\n",
              "    .dataframe thead th {\n",
              "        text-align: right;\n",
              "    }\n",
              "</style>\n",
              "<table border=\"1\" class=\"dataframe\">\n",
              "  <thead>\n",
              "    <tr style=\"text-align: right;\">\n",
              "      <th></th>\n",
              "      <th>location</th>\n",
              "      <th>total_cases_pm</th>\n",
              "      <th>pop_density</th>\n",
              "      <th>gdp_per_capita</th>\n",
              "    </tr>\n",
              "  </thead>\n",
              "  <tbody>\n",
              "    <tr>\n",
              "      <th>SMR</th>\n",
              "      <td>San Marino</td>\n",
              "      <td>19,771.35</td>\n",
              "      <td>556.67</td>\n",
              "      <td>56,861.47</td>\n",
              "    </tr>\n",
              "    <tr>\n",
              "      <th>QAT</th>\n",
              "      <td>Qatar</td>\n",
              "      <td>19,753.15</td>\n",
              "      <td>227.32</td>\n",
              "      <td>116,935.60</td>\n",
              "    </tr>\n",
              "    <tr>\n",
              "      <th>VAT</th>\n",
              "      <td>Vatican</td>\n",
              "      <td>14,833.13</td>\n",
              "      <td>nan</td>\n",
              "      <td>nan</td>\n",
              "    </tr>\n",
              "    <tr>\n",
              "      <th>AND</th>\n",
              "      <td>Andorra</td>\n",
              "      <td>9,888.05</td>\n",
              "      <td>163.75</td>\n",
              "      <td>nan</td>\n",
              "    </tr>\n",
              "    <tr>\n",
              "      <th>BHR</th>\n",
              "      <td>Bahrain</td>\n",
              "      <td>6,698.47</td>\n",
              "      <td>1,935.91</td>\n",
              "      <td>43,290.71</td>\n",
              "    </tr>\n",
              "    <tr>\n",
              "      <th>LUX</th>\n",
              "      <td>Luxembourg</td>\n",
              "      <td>6,418.78</td>\n",
              "      <td>231.45</td>\n",
              "      <td>94,277.96</td>\n",
              "    </tr>\n",
              "    <tr>\n",
              "      <th>KWT</th>\n",
              "      <td>Kuwait</td>\n",
              "      <td>6,332.42</td>\n",
              "      <td>232.13</td>\n",
              "      <td>65,530.54</td>\n",
              "    </tr>\n",
              "    <tr>\n",
              "      <th>SGP</th>\n",
              "      <td>Singapore</td>\n",
              "      <td>5,962.73</td>\n",
              "      <td>7,915.73</td>\n",
              "      <td>85,535.38</td>\n",
              "    </tr>\n",
              "    <tr>\n",
              "      <th>USA</th>\n",
              "      <td>United States</td>\n",
              "      <td>5,408.39</td>\n",
              "      <td>35.61</td>\n",
              "      <td>54,225.45</td>\n",
              "    </tr>\n",
              "    <tr>\n",
              "      <th>ISL</th>\n",
              "      <td>Iceland</td>\n",
              "      <td>5,292.31</td>\n",
              "      <td>3.40</td>\n",
              "      <td>46,482.96</td>\n",
              "    </tr>\n",
              "    <tr>\n",
              "      <th>CHL</th>\n",
              "      <td>Chile</td>\n",
              "      <td>5,214.84</td>\n",
              "      <td>24.28</td>\n",
              "      <td>22,767.04</td>\n",
              "    </tr>\n",
              "    <tr>\n",
              "      <th>ESP</th>\n",
              "      <td>Spain</td>\n",
              "      <td>5,120.95</td>\n",
              "      <td>93.11</td>\n",
              "      <td>34,272.36</td>\n",
              "    </tr>\n",
              "    <tr>\n",
              "      <th>IRL</th>\n",
              "      <td>Ireland</td>\n",
              "      <td>5,060.96</td>\n",
              "      <td>69.87</td>\n",
              "      <td>67,335.29</td>\n",
              "    </tr>\n",
              "    <tr>\n",
              "      <th>BEL</th>\n",
              "      <td>Belgium</td>\n",
              "      <td>5,037.35</td>\n",
              "      <td>375.56</td>\n",
              "      <td>42,658.58</td>\n",
              "    </tr>\n",
              "    <tr>\n",
              "      <th>GIB</th>\n",
              "      <td>Gibraltar</td>\n",
              "      <td>5,016.18</td>\n",
              "      <td>3,457.10</td>\n",
              "      <td>nan</td>\n",
              "    </tr>\n",
              "    <tr>\n",
              "      <th>PER</th>\n",
              "      <td>Peru</td>\n",
              "      <td>4,988.38</td>\n",
              "      <td>25.13</td>\n",
              "      <td>12,236.71</td>\n",
              "    </tr>\n",
              "    <tr>\n",
              "      <th>BLR</th>\n",
              "      <td>Belarus</td>\n",
              "      <td>4,503.60</td>\n",
              "      <td>46.86</td>\n",
              "      <td>17,167.97</td>\n",
              "    </tr>\n",
              "  </tbody>\n",
              "</table>\n",
              "</div>"
            ],
            "text/plain": [
              "          location  total_cases_pm  pop_density  gdp_per_capita\n",
              "SMR     San Marino       19,771.35       556.67       56,861.47\n",
              "QAT          Qatar       19,753.15       227.32      116,935.60\n",
              "VAT        Vatican       14,833.13          nan             nan\n",
              "AND        Andorra        9,888.05       163.75             nan\n",
              "BHR        Bahrain        6,698.47     1,935.91       43,290.71\n",
              "LUX     Luxembourg        6,418.78       231.45       94,277.96\n",
              "KWT         Kuwait        6,332.42       232.13       65,530.54\n",
              "SGP      Singapore        5,962.73     7,915.73       85,535.38\n",
              "USA  United States        5,408.39        35.61       54,225.45\n",
              "ISL        Iceland        5,292.31         3.40       46,482.96\n",
              "CHL          Chile        5,214.84        24.28       22,767.04\n",
              "ESP          Spain        5,120.95        93.11       34,272.36\n",
              "IRL        Ireland        5,060.96        69.87       67,335.29\n",
              "BEL        Belgium        5,037.35       375.56       42,658.58\n",
              "GIB      Gibraltar        5,016.18     3,457.10             nan\n",
              "PER           Peru        4,988.38        25.13       12,236.71\n",
              "BLR        Belarus        4,503.60        46.86       17,167.97"
            ]
          },
          "metadata": {
            "tags": []
          },
          "execution_count": 16
        }
      ]
    },
    {
      "cell_type": "code",
      "metadata": {
        "colab": {
          "base_uri": "https://localhost:8080/",
          "height": 142
        },
        "id": "pXL8gOjxcPr-",
        "outputId": "38819cbb-a185-4573-fb43-b1eb4123698a"
      },
      "source": [
        "covidtotals[['pop_density','gdp_per_capita']].quantile([0.25,0.5,0.75])"
      ],
      "execution_count": 17,
      "outputs": [
        {
          "output_type": "execute_result",
          "data": {
            "text/html": [
              "<div>\n",
              "<style scoped>\n",
              "    .dataframe tbody tr th:only-of-type {\n",
              "        vertical-align: middle;\n",
              "    }\n",
              "\n",
              "    .dataframe tbody tr th {\n",
              "        vertical-align: top;\n",
              "    }\n",
              "\n",
              "    .dataframe thead th {\n",
              "        text-align: right;\n",
              "    }\n",
              "</style>\n",
              "<table border=\"1\" class=\"dataframe\">\n",
              "  <thead>\n",
              "    <tr style=\"text-align: right;\">\n",
              "      <th></th>\n",
              "      <th>pop_density</th>\n",
              "      <th>gdp_per_capita</th>\n",
              "    </tr>\n",
              "  </thead>\n",
              "  <tbody>\n",
              "    <tr>\n",
              "      <th>0.25</th>\n",
              "      <td>37.42</td>\n",
              "      <td>4,485.33</td>\n",
              "    </tr>\n",
              "    <tr>\n",
              "      <th>0.50</th>\n",
              "      <td>87.25</td>\n",
              "      <td>13,183.08</td>\n",
              "    </tr>\n",
              "    <tr>\n",
              "      <th>0.75</th>\n",
              "      <td>214.12</td>\n",
              "      <td>28,556.53</td>\n",
              "    </tr>\n",
              "  </tbody>\n",
              "</table>\n",
              "</div>"
            ],
            "text/plain": [
              "      pop_density  gdp_per_capita\n",
              "0.25        37.42        4,485.33\n",
              "0.50        87.25       13,183.08\n",
              "0.75       214.12       28,556.53"
            ]
          },
          "metadata": {
            "tags": []
          },
          "execution_count": 17
        }
      ]
    },
    {
      "cell_type": "code",
      "metadata": {
        "colab": {
          "base_uri": "https://localhost:8080/",
          "height": 295
        },
        "id": "wVSG7cYRcQhZ",
        "outputId": "8e492397-6b25-46ef-97e5-0f7a3e9f382e"
      },
      "source": [
        "# show the total cases histogram again\r\n",
        "plt.hist(covidtotalsonly['total_cases']/1000, bins=7)\r\n",
        "plt.title(\"Total Covid Cases (thousands)\")\r\n",
        "plt.xlabel('Cases')\r\n",
        "plt.ylabel(\"Number of Countries\")\r\n",
        "plt.show()"
      ],
      "execution_count": 18,
      "outputs": [
        {
          "output_type": "display_data",
          "data": {
            "image/png": "[encoded data removed]",
            "text/plain": [
              "<Figure size 432x288 with 1 Axes>"
            ]
          },
          "metadata": {
            "tags": [],
            "needs_background": "light"
          }
        }
      ]
    },
    {
      "cell_type": "code",
      "metadata": {
        "colab": {
          "base_uri": "https://localhost:8080/",
          "height": 295
        },
        "id": "XskOAp2hcW7V",
        "outputId": "dbdede31-d364-4fc6-c909-d9c22d18b127"
      },
      "source": [
        "# do a log transformation of the covid data\r\n",
        "covidlogs = covidtotalsonly.copy()\r\n",
        "for col in covidtotalsonly.columns[1:]:\r\n",
        "  covidlogs[col] = np.log1p(covidlogs[col])\r\n",
        "\r\n",
        "plt.hist(covidlogs['total_cases'], bins=7)\r\n",
        "plt.title(\"Total Covid Cases (log)\")\r\n",
        "plt.xlabel('Cases')\r\n",
        "plt.ylabel(\"Number of Countries\")\r\n",
        "plt.show()"
      ],
      "execution_count": 19,
      "outputs": [
        {
          "output_type": "display_data",
          "data": {
            "image/png": "[encoded data removed]",
            "text/plain": [
              "<Figure size 432x288 with 1 Axes>"
            ]
          },
          "metadata": {
            "tags": [],
            "needs_background": "light"
          }
        }
      ]
    }
  ]
}
