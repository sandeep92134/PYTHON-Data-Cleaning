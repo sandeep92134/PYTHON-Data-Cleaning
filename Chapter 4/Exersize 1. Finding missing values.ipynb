{
  "nbformat": 4,
  "nbformat_minor": 0,
  "metadata": {
    "colab": {
      "name": "Untitled0.ipynb",
      "provenance": [],
      "authorship_tag": "ABX9TyM2VjXRwcWB3icQ91/eJCD0",
      "include_colab_link": true
    },
    "kernelspec": {
      "name": "python3",
      "display_name": "Python 3"
    }
  },
  "cells": [
    {
      "cell_type": "markdown",
      "metadata": {
        "id": "view-in-github",
        "colab_type": "text"
      },
      "source": [
        "<a href=\"https://colab.research.google.com/github/sandeep92134/PYTHON-Data-Cleaning/blob/master/Chapter%204/Exersize%201.%20Finding%20missing%20values.ipynb\" target=\"_parent\"><img src=\"https://colab.research.google.com/assets/colab-badge.svg\" alt=\"Open In Colab\"/></a>"
      ]
    },
    {
      "cell_type": "code",
      "metadata": {
        "id": "KWdSM8thGU_q"
      },
      "source": [
        "# import pandas, numpy, and matplotlib\r\n",
        "import pandas as pd\r\n",
        "import numpy as np\r\n",
        "import matplotlib.pyplot as plt\r\n",
        "pd.set_option('display.width', 80)\r\n",
        "pd.set_option('display.max_columns', 7)\r\n",
        "pd.set_option('display.max_rows', 20)\r\n",
        "pd.options.display.float_format = '{:,.0f}'.format\r\n",
        "covidtotals = pd.read_csv(\"https://raw.githubusercontent.com/sandeep92134/PYTHON-Data-Cleaning/master/Chapter%204/datasets/covidtotalswithmissings.csv\")\r\n",
        "covidtotals.set_index(\"iso_code\", inplace=True)"
      ],
      "execution_count": 6,
      "outputs": []
    },
    {
      "cell_type": "code",
      "metadata": {
        "id": "bH227I8oJLN0"
      },
      "source": [
        "# set up the cumulative and demographic columns\r\n",
        "totvars = ['location','total_cases','total_deaths','total_cases_pm',\r\n",
        "  'total_deaths_pm']\r\n",
        "demovars = ['population','pop_density','median_age','gdp_per_capita',\r\n",
        "  'hosp_beds']"
      ],
      "execution_count": 7,
      "outputs": []
    },
    {
      "cell_type": "code",
      "metadata": {
        "colab": {
          "base_uri": "https://localhost:8080/"
        },
        "id": "XrJgzyD7KjB-",
        "outputId": "36f883f2-c0fc-46b4-b6d5-a7790ae8be9a"
      },
      "source": [
        "# check the demographic columns for missing\r\n",
        "covidtotals[demovars].isnull().sum(axis=0)"
      ],
      "execution_count": 8,
      "outputs": [
        {
          "output_type": "execute_result",
          "data": {
            "text/plain": [
              "population         0\n",
              "pop_density       12\n",
              "median_age        24\n",
              "gdp_per_capita    28\n",
              "hosp_beds         46\n",
              "dtype: int64"
            ]
          },
          "metadata": {
            "tags": []
          },
          "execution_count": 8
        }
      ]
    },
    {
      "cell_type": "code",
      "metadata": {
        "colab": {
          "base_uri": "https://localhost:8080/"
        },
        "id": "EOgB4-x_KnD3",
        "outputId": "4f9b9c1a-feed-426f-9454-0f4e02d046ab"
      },
      "source": [
        "demovarsmisscnt = covidtotals[demovars].isnull().sum(axis=1)\r\n",
        "demovarsmisscnt.value_counts()"
      ],
      "execution_count": 9,
      "outputs": [
        {
          "output_type": "execute_result",
          "data": {
            "text/plain": [
              "0    156\n",
              "1     24\n",
              "2     12\n",
              "3     10\n",
              "4      8\n",
              "dtype: int64"
            ]
          },
          "metadata": {
            "tags": []
          },
          "execution_count": 9
        }
      ]
    },
    {
      "cell_type": "code",
      "metadata": {
        "colab": {
          "base_uri": "https://localhost:8080/",
          "height": 235
        },
        "id": "HxCt87o9KxTQ",
        "outputId": "2f9a9160-0be6-4bcd-9290-7f3df2db70b4"
      },
      "source": [
        "covidtotals.loc[demovarsmisscnt>=3, ['location'] + demovars].head(5).T"
      ],
      "execution_count": 10,
      "outputs": [
        {
          "output_type": "execute_result",
          "data": {
            "text/html": [
              "<div>\n",
              "<style scoped>\n",
              "    .dataframe tbody tr th:only-of-type {\n",
              "        vertical-align: middle;\n",
              "    }\n",
              "\n",
              "    .dataframe tbody tr th {\n",
              "        vertical-align: top;\n",
              "    }\n",
              "\n",
              "    .dataframe thead th {\n",
              "        text-align: right;\n",
              "    }\n",
              "</style>\n",
              "<table border=\"1\" class=\"dataframe\">\n",
              "  <thead>\n",
              "    <tr style=\"text-align: right;\">\n",
              "      <th>iso_code</th>\n",
              "      <th>AND</th>\n",
              "      <th>AIA</th>\n",
              "      <th>BES</th>\n",
              "      <th>VGB</th>\n",
              "      <th>FRO</th>\n",
              "    </tr>\n",
              "  </thead>\n",
              "  <tbody>\n",
              "    <tr>\n",
              "      <th>location</th>\n",
              "      <td>Andorra</td>\n",
              "      <td>Anguilla</td>\n",
              "      <td>Bonaire Sint Eustatius and Saba</td>\n",
              "      <td>British Virgin Islands</td>\n",
              "      <td>Faeroe Islands</td>\n",
              "    </tr>\n",
              "    <tr>\n",
              "      <th>population</th>\n",
              "      <td>77,265</td>\n",
              "      <td>15,002</td>\n",
              "      <td>26,221</td>\n",
              "      <td>30,237</td>\n",
              "      <td>48,865</td>\n",
              "    </tr>\n",
              "    <tr>\n",
              "      <th>pop_density</th>\n",
              "      <td>164</td>\n",
              "      <td>NaN</td>\n",
              "      <td>NaN</td>\n",
              "      <td>208</td>\n",
              "      <td>35</td>\n",
              "    </tr>\n",
              "    <tr>\n",
              "      <th>median_age</th>\n",
              "      <td>NaN</td>\n",
              "      <td>NaN</td>\n",
              "      <td>NaN</td>\n",
              "      <td>NaN</td>\n",
              "      <td>NaN</td>\n",
              "    </tr>\n",
              "    <tr>\n",
              "      <th>gdp_per_capita</th>\n",
              "      <td>NaN</td>\n",
              "      <td>NaN</td>\n",
              "      <td>NaN</td>\n",
              "      <td>NaN</td>\n",
              "      <td>NaN</td>\n",
              "    </tr>\n",
              "    <tr>\n",
              "      <th>hosp_beds</th>\n",
              "      <td>NaN</td>\n",
              "      <td>NaN</td>\n",
              "      <td>NaN</td>\n",
              "      <td>NaN</td>\n",
              "      <td>NaN</td>\n",
              "    </tr>\n",
              "  </tbody>\n",
              "</table>\n",
              "</div>"
            ],
            "text/plain": [
              "iso_code            AND       AIA                              BES  \\\n",
              "location        Andorra  Anguilla  Bonaire Sint Eustatius and Saba   \n",
              "population       77,265    15,002                           26,221   \n",
              "pop_density         164       NaN                              NaN   \n",
              "median_age          NaN       NaN                              NaN   \n",
              "gdp_per_capita      NaN       NaN                              NaN   \n",
              "hosp_beds           NaN       NaN                              NaN   \n",
              "\n",
              "iso_code                           VGB             FRO  \n",
              "location        British Virgin Islands  Faeroe Islands  \n",
              "population                      30,237          48,865  \n",
              "pop_density                        208              35  \n",
              "median_age                         NaN             NaN  \n",
              "gdp_per_capita                     NaN             NaN  \n",
              "hosp_beds                          NaN             NaN  "
            ]
          },
          "metadata": {
            "tags": []
          },
          "execution_count": 10
        }
      ]
    },
    {
      "cell_type": "code",
      "metadata": {
        "colab": {
          "base_uri": "https://localhost:8080/"
        },
        "id": "QuXcUBboLBtj",
        "outputId": "c98d9f4d-2ce3-40ae-9aa3-e0e27662afba"
      },
      "source": [
        "type(demovarsmisscnt)"
      ],
      "execution_count": 11,
      "outputs": [
        {
          "output_type": "execute_result",
          "data": {
            "text/plain": [
              "pandas.core.series.Series"
            ]
          },
          "metadata": {
            "tags": []
          },
          "execution_count": 11
        }
      ]
    },
    {
      "cell_type": "code",
      "metadata": {
        "colab": {
          "base_uri": "https://localhost:8080/"
        },
        "id": "oZ2YYU0xYePt",
        "outputId": "147eaaeb-6f03-4dc5-edbc-a1cc25f6c761"
      },
      "source": [
        "# check the cumulative columns for missing\r\n",
        "covidtotals[totvars].isnull().sum(axis=0)"
      ],
      "execution_count": 12,
      "outputs": [
        {
          "output_type": "execute_result",
          "data": {
            "text/plain": [
              "location           0\n",
              "total_cases        0\n",
              "total_deaths       0\n",
              "total_cases_pm     1\n",
              "total_deaths_pm    1\n",
              "dtype: int64"
            ]
          },
          "metadata": {
            "tags": []
          },
          "execution_count": 12
        }
      ]
    },
    {
      "cell_type": "code",
      "metadata": {
        "colab": {
          "base_uri": "https://localhost:8080/"
        },
        "id": "otqnGOqgYpgL",
        "outputId": "97497244-3add-473f-8daa-2b5ad32966dc"
      },
      "source": [
        "totvarsmisscnt = covidtotals[totvars].isnull().sum(axis=1)\r\n",
        "totvarsmisscnt.value_counts()"
      ],
      "execution_count": 13,
      "outputs": [
        {
          "output_type": "execute_result",
          "data": {
            "text/plain": [
              "0    209\n",
              "2      1\n",
              "dtype: int64"
            ]
          },
          "metadata": {
            "tags": []
          },
          "execution_count": 13
        }
      ]
    },
    {
      "cell_type": "code",
      "metadata": {
        "colab": {
          "base_uri": "https://localhost:8080/",
          "height": 390
        },
        "id": "GeTdCdY9YvpC",
        "outputId": "ed143d38-1b0e-43dc-9677-c9a7f1b1d518"
      },
      "source": [
        "covidtotals.loc[totvarsmisscnt>0].T"
      ],
      "execution_count": 14,
      "outputs": [
        {
          "output_type": "execute_result",
          "data": {
            "text/html": [
              "<div>\n",
              "<style scoped>\n",
              "    .dataframe tbody tr th:only-of-type {\n",
              "        vertical-align: middle;\n",
              "    }\n",
              "\n",
              "    .dataframe tbody tr th {\n",
              "        vertical-align: top;\n",
              "    }\n",
              "\n",
              "    .dataframe thead th {\n",
              "        text-align: right;\n",
              "    }\n",
              "</style>\n",
              "<table border=\"1\" class=\"dataframe\">\n",
              "  <thead>\n",
              "    <tr style=\"text-align: right;\">\n",
              "      <th>iso_code</th>\n",
              "      <th>HKG</th>\n",
              "    </tr>\n",
              "  </thead>\n",
              "  <tbody>\n",
              "    <tr>\n",
              "      <th>lastdate</th>\n",
              "      <td>2020-05-26</td>\n",
              "    </tr>\n",
              "    <tr>\n",
              "      <th>location</th>\n",
              "      <td>Hong Kong</td>\n",
              "    </tr>\n",
              "    <tr>\n",
              "      <th>total_cases</th>\n",
              "      <td>0</td>\n",
              "    </tr>\n",
              "    <tr>\n",
              "      <th>total_deaths</th>\n",
              "      <td>0</td>\n",
              "    </tr>\n",
              "    <tr>\n",
              "      <th>total_cases_pm</th>\n",
              "      <td>NaN</td>\n",
              "    </tr>\n",
              "    <tr>\n",
              "      <th>total_deaths_pm</th>\n",
              "      <td>NaN</td>\n",
              "    </tr>\n",
              "    <tr>\n",
              "      <th>population</th>\n",
              "      <td>7,496,988</td>\n",
              "    </tr>\n",
              "    <tr>\n",
              "      <th>pop_density</th>\n",
              "      <td>7,040</td>\n",
              "    </tr>\n",
              "    <tr>\n",
              "      <th>median_age</th>\n",
              "      <td>45</td>\n",
              "    </tr>\n",
              "    <tr>\n",
              "      <th>gdp_per_capita</th>\n",
              "      <td>56,055</td>\n",
              "    </tr>\n",
              "    <tr>\n",
              "      <th>hosp_beds</th>\n",
              "      <td>NaN</td>\n",
              "    </tr>\n",
              "  </tbody>\n",
              "</table>\n",
              "</div>"
            ],
            "text/plain": [
              "iso_code                HKG\n",
              "lastdate         2020-05-26\n",
              "location          Hong Kong\n",
              "total_cases               0\n",
              "total_deaths              0\n",
              "total_cases_pm          NaN\n",
              "total_deaths_pm         NaN\n",
              "population        7,496,988\n",
              "pop_density           7,040\n",
              "median_age               45\n",
              "gdp_per_capita       56,055\n",
              "hosp_beds               NaN"
            ]
          },
          "metadata": {
            "tags": []
          },
          "execution_count": 14
        }
      ]
    },
    {
      "cell_type": "code",
      "metadata": {
        "colab": {
          "base_uri": "https://localhost:8080/"
        },
        "id": "oa4faiEhYydD",
        "outputId": "3efce34c-e871-4d9a-efd0-d832860a0bdb"
      },
      "source": [
        "# use the fillna method to fix the mixing case data\r\n",
        "covidtotals.total_cases_pm.fillna(covidtotals.total_cases/\r\n",
        "  (covidtotals.population/1000000), inplace=True)\r\n",
        "covidtotals.total_deaths_pm.fillna(covidtotals.total_deaths/\r\n",
        "  (covidtotals.population/1000000), inplace=True)\r\n",
        "covidtotals[totvars].isnull().sum(axis=0)"
      ],
      "execution_count": 15,
      "outputs": [
        {
          "output_type": "execute_result",
          "data": {
            "text/plain": [
              "location           0\n",
              "total_cases        0\n",
              "total_deaths       0\n",
              "total_cases_pm     0\n",
              "total_deaths_pm    0\n",
              "dtype: int64"
            ]
          },
          "metadata": {
            "tags": []
          },
          "execution_count": 15
        }
      ]
    },
    {
      "cell_type": "code",
      "metadata": {
        "id": "ska_hpr3Y7oi"
      },
      "source": [
        ""
      ],
      "execution_count": null,
      "outputs": []
    }
  ]
}