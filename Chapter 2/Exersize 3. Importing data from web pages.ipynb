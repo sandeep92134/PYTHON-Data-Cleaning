{
  "nbformat": 4,
  "nbformat_minor": 0,
  "metadata": {
    "colab": {
      "name": "Copy of Untitled1.ipynb",
      "provenance": [],
      "authorship_tag": "ABX9TyM9dwas3lscJhYOTtqjNJyr",
      "include_colab_link": true
    },
    "kernelspec": {
      "name": "python3",
      "display_name": "Python 3"
    }
  },
  "cells": [
    {
      "cell_type": "markdown",
      "metadata": {
        "id": "view-in-github",
        "colab_type": "text"
      },
      "source": [
        "<a href=\"https://colab.research.google.com/github/sandeep92134/PYTHON-Data-Cleaning/blob/master/Chapter%202/Exersize%203.%20Importing%20data%20from%20web%20pages.ipynb\" target=\"_parent\"><img src=\"https://colab.research.google.com/assets/colab-badge.svg\" alt=\"Open In Colab\"/></a>"
      ]
    },
    {
      "cell_type": "code",
      "metadata": {
        "id": "13aKfuI287om"
      },
      "source": [
        "import pandas as pd\r\n",
        "import numpy as np\r\n",
        "import json\r\n",
        "import pprint\r\n",
        "import requests\r\n",
        "from bs4 import BeautifulSoup\r\n",
        "\r\n",
        "pd.set_option('display.width', 80)\r\n",
        "pd.set_option('display.max_columns',6)"
      ],
      "execution_count": 1,
      "outputs": []
    },
    {
      "cell_type": "code",
      "metadata": {
        "colab": {
          "base_uri": "https://localhost:8080/"
        },
        "id": "-axjeN169l4U",
        "outputId": "b9be2042-1b1d-40c9-ff56-d82ab31db0b7"
      },
      "source": [
        "webpage = requests.get(\"http://www.alrb.org/datacleaning/covidcaseoutliers.html\")\r\n",
        "bs = BeautifulSoup(webpage.text, 'html.parser')\r\n",
        "theadrows = bs.find('table', {'id':'tblDeaths'}).thead.find_all('th')\r\n",
        "type(theadrows)"
      ],
      "execution_count": 2,
      "outputs": [
        {
          "output_type": "execute_result",
          "data": {
            "text/plain": [
              "bs4.element.ResultSet"
            ]
          },
          "metadata": {
            "tags": []
          },
          "execution_count": 2
        }
      ]
    },
    {
      "cell_type": "code",
      "metadata": {
        "colab": {
          "base_uri": "https://localhost:8080/"
        },
        "id": "-Lz_o1Ar9xxK",
        "outputId": "dcf2cf0b-782b-4f8f-8248-257474b0cada"
      },
      "source": [
        "labelcols = [j.get_text() for j in theadrows]\r\n",
        "labelcols[0] = \"rowheadings\"\r\n",
        "labelcols"
      ],
      "execution_count": 3,
      "outputs": [
        {
          "output_type": "execute_result",
          "data": {
            "text/plain": [
              "['rowheadings',\n",
              " 'Cases',\n",
              " 'Deaths',\n",
              " 'Cases per Million',\n",
              " 'Deaths per Million',\n",
              " 'population',\n",
              " 'population_density',\n",
              " 'median_age',\n",
              " 'gdp_per_capita',\n",
              " 'hospital_beds_per_100k']"
            ]
          },
          "metadata": {
            "tags": []
          },
          "execution_count": 3
        }
      ]
    },
    {
      "cell_type": "code",
      "metadata": {
        "colab": {
          "base_uri": "https://localhost:8080/"
        },
        "id": "jLxVYPQX-EzG",
        "outputId": "ce2f5671-095c-4235-fcd9-27fdde169bf9"
      },
      "source": [
        "# get the data from the table cells\r\n",
        "rows = bs.find('table', {'id':'tblDeaths'}).tbody.find_all('tr')\r\n",
        "datarows = []\r\n",
        "labelrows = []\r\n",
        "for row in rows:\r\n",
        "  rowlabels = row.find('th').get_text()\r\n",
        "  cells = row.find_all('td', {'class':'data'})\r\n",
        "  if (len(rowlabels)>3):\r\n",
        "    labelrows.append(rowlabels)\r\n",
        "  if (len(cells)>0):\r\n",
        "    cellvalues = [j.get_text() for j in cells]\r\n",
        "    datarows.append(cellvalues)\r\n",
        "\r\n",
        "pprint.pprint(datarows[0:2])"
      ],
      "execution_count": 4,
      "outputs": [
        {
          "output_type": "stream",
          "text": [
            "[['9,394', '653', '214', '15', '43,851,043', '17', '29', '13,914', '1.9'],\n",
            " ['16,642', '668', '1848', '74', '9,006,400', '107', '44', '45,437', '7.4']]\n"
          ],
          "name": "stdout"
        }
      ]
    },
    {
      "cell_type": "code",
      "metadata": {
        "colab": {
          "base_uri": "https://localhost:8080/"
        },
        "id": "0nxIA0Jy-R_f",
        "outputId": "72ca54ae-cdd2-4201-9fca-6c18b81a727a"
      },
      "source": [
        "pprint.pprint(labelrows[0:2])"
      ],
      "execution_count": 5,
      "outputs": [
        {
          "output_type": "stream",
          "text": [
            "['Algeria', 'Austria']\n"
          ],
          "name": "stdout"
        }
      ]
    },
    {
      "cell_type": "code",
      "metadata": {
        "colab": {
          "base_uri": "https://localhost:8080/"
        },
        "id": "lxQtcrGe-q6H",
        "outputId": "4a7e7742-97c2-4951-e315-604e61c3a112"
      },
      "source": [
        "for i in range(len(datarows)):\r\n",
        "  datarows[i].insert(0, labelrows[i])\r\n",
        "\r\n",
        "pprint.pprint(datarows[0:2])"
      ],
      "execution_count": 6,
      "outputs": [
        {
          "output_type": "stream",
          "text": [
            "[['Algeria',\n",
            "  '9,394',\n",
            "  '653',\n",
            "  '214',\n",
            "  '15',\n",
            "  '43,851,043',\n",
            "  '17',\n",
            "  '29',\n",
            "  '13,914',\n",
            "  '1.9'],\n",
            " ['Austria',\n",
            "  '16,642',\n",
            "  '668',\n",
            "  '1848',\n",
            "  '74',\n",
            "  '9,006,400',\n",
            "  '107',\n",
            "  '44',\n",
            "  '45,437',\n",
            "  '7.4']]\n"
          ],
          "name": "stdout"
        }
      ]
    },
    {
      "cell_type": "code",
      "metadata": {
        "colab": {
          "base_uri": "https://localhost:8080/",
          "height": 204
        },
        "id": "SvQjjQne-zZH",
        "outputId": "8e1877d7-b48c-4eee-99e8-3f030660e742"
      },
      "source": [
        "# load the data into pandas\r\n",
        "totaldeaths = pd.DataFrame(datarows, columns=labelcols)\r\n",
        "totaldeaths.iloc[:,1:5].head()"
      ],
      "execution_count": 7,
      "outputs": [
        {
          "output_type": "execute_result",
          "data": {
            "text/html": [
              "<div>\n",
              "<style scoped>\n",
              "    .dataframe tbody tr th:only-of-type {\n",
              "        vertical-align: middle;\n",
              "    }\n",
              "\n",
              "    .dataframe tbody tr th {\n",
              "        vertical-align: top;\n",
              "    }\n",
              "\n",
              "    .dataframe thead th {\n",
              "        text-align: right;\n",
              "    }\n",
              "</style>\n",
              "<table border=\"1\" class=\"dataframe\">\n",
              "  <thead>\n",
              "    <tr style=\"text-align: right;\">\n",
              "      <th></th>\n",
              "      <th>Cases</th>\n",
              "      <th>Deaths</th>\n",
              "      <th>Cases per Million</th>\n",
              "      <th>Deaths per Million</th>\n",
              "    </tr>\n",
              "  </thead>\n",
              "  <tbody>\n",
              "    <tr>\n",
              "      <th>0</th>\n",
              "      <td>9,394</td>\n",
              "      <td>653</td>\n",
              "      <td>214</td>\n",
              "      <td>15</td>\n",
              "    </tr>\n",
              "    <tr>\n",
              "      <th>1</th>\n",
              "      <td>16,642</td>\n",
              "      <td>668</td>\n",
              "      <td>1848</td>\n",
              "      <td>74</td>\n",
              "    </tr>\n",
              "    <tr>\n",
              "      <th>2</th>\n",
              "      <td>47,153</td>\n",
              "      <td>650</td>\n",
              "      <td>286</td>\n",
              "      <td>4</td>\n",
              "    </tr>\n",
              "    <tr>\n",
              "      <th>3</th>\n",
              "      <td>58,381</td>\n",
              "      <td>9467</td>\n",
              "      <td>5037</td>\n",
              "      <td>817</td>\n",
              "    </tr>\n",
              "    <tr>\n",
              "      <th>4</th>\n",
              "      <td>514,849</td>\n",
              "      <td>29314</td>\n",
              "      <td>2422</td>\n",
              "      <td>138</td>\n",
              "    </tr>\n",
              "  </tbody>\n",
              "</table>\n",
              "</div>"
            ],
            "text/plain": [
              "     Cases Deaths Cases per Million Deaths per Million\n",
              "0    9,394    653               214                 15\n",
              "1   16,642    668              1848                 74\n",
              "2   47,153    650               286                  4\n",
              "3   58,381   9467              5037                817\n",
              "4  514,849  29314              2422                138"
            ]
          },
          "metadata": {
            "tags": []
          },
          "execution_count": 7
        }
      ]
    },
    {
      "cell_type": "code",
      "metadata": {
        "colab": {
          "base_uri": "https://localhost:8080/"
        },
        "id": "CMrEzZ2V_AQZ",
        "outputId": "9ae8fdef-0c16-4c28-87a5-1490c3293282"
      },
      "source": [
        "totaldeaths.dtypes"
      ],
      "execution_count": 8,
      "outputs": [
        {
          "output_type": "execute_result",
          "data": {
            "text/plain": [
              "rowheadings               object\n",
              "Cases                     object\n",
              "Deaths                    object\n",
              "Cases per Million         object\n",
              "Deaths per Million        object\n",
              "population                object\n",
              "population_density        object\n",
              "median_age                object\n",
              "gdp_per_capita            object\n",
              "hospital_beds_per_100k    object\n",
              "dtype: object"
            ]
          },
          "metadata": {
            "tags": []
          },
          "execution_count": 8
        }
      ]
    },
    {
      "cell_type": "code",
      "metadata": {
        "colab": {
          "base_uri": "https://localhost:8080/",
          "height": 233
        },
        "id": "_E-0pREo_BJB",
        "outputId": "cfcf25d5-4293-4440-bbe3-98e6fe60257f"
      },
      "source": [
        "totaldeaths.columns = totaldeaths.columns.str.replace(\" \", \"_\").str.lower()\r\n",
        "\r\n",
        "for col in totaldeaths.columns[1:-1]:\r\n",
        "  totaldeaths[col] = totaldeaths[col].\\\r\n",
        "    str.replace(\"[^0-9]\",\"\").astype('int64')\r\n",
        "\r\n",
        "totaldeaths['hospital_beds_per_100k'] = totaldeaths['hospital_beds_per_100k'].astype('float')\r\n",
        "totaldeaths.head()"
      ],
      "execution_count": 9,
      "outputs": [
        {
          "output_type": "execute_result",
          "data": {
            "text/html": [
              "<div>\n",
              "<style scoped>\n",
              "    .dataframe tbody tr th:only-of-type {\n",
              "        vertical-align: middle;\n",
              "    }\n",
              "\n",
              "    .dataframe tbody tr th {\n",
              "        vertical-align: top;\n",
              "    }\n",
              "\n",
              "    .dataframe thead th {\n",
              "        text-align: right;\n",
              "    }\n",
              "</style>\n",
              "<table border=\"1\" class=\"dataframe\">\n",
              "  <thead>\n",
              "    <tr style=\"text-align: right;\">\n",
              "      <th></th>\n",
              "      <th>rowheadings</th>\n",
              "      <th>cases</th>\n",
              "      <th>deaths</th>\n",
              "      <th>...</th>\n",
              "      <th>median_age</th>\n",
              "      <th>gdp_per_capita</th>\n",
              "      <th>hospital_beds_per_100k</th>\n",
              "    </tr>\n",
              "  </thead>\n",
              "  <tbody>\n",
              "    <tr>\n",
              "      <th>0</th>\n",
              "      <td>Algeria</td>\n",
              "      <td>9394</td>\n",
              "      <td>653</td>\n",
              "      <td>...</td>\n",
              "      <td>29</td>\n",
              "      <td>13914</td>\n",
              "      <td>1.9</td>\n",
              "    </tr>\n",
              "    <tr>\n",
              "      <th>1</th>\n",
              "      <td>Austria</td>\n",
              "      <td>16642</td>\n",
              "      <td>668</td>\n",
              "      <td>...</td>\n",
              "      <td>44</td>\n",
              "      <td>45437</td>\n",
              "      <td>7.4</td>\n",
              "    </tr>\n",
              "    <tr>\n",
              "      <th>2</th>\n",
              "      <td>Bangladesh</td>\n",
              "      <td>47153</td>\n",
              "      <td>650</td>\n",
              "      <td>...</td>\n",
              "      <td>28</td>\n",
              "      <td>3524</td>\n",
              "      <td>0.8</td>\n",
              "    </tr>\n",
              "    <tr>\n",
              "      <th>3</th>\n",
              "      <td>Belgium</td>\n",
              "      <td>58381</td>\n",
              "      <td>9467</td>\n",
              "      <td>...</td>\n",
              "      <td>42</td>\n",
              "      <td>42659</td>\n",
              "      <td>5.6</td>\n",
              "    </tr>\n",
              "    <tr>\n",
              "      <th>4</th>\n",
              "      <td>Brazil</td>\n",
              "      <td>514849</td>\n",
              "      <td>29314</td>\n",
              "      <td>...</td>\n",
              "      <td>34</td>\n",
              "      <td>14103</td>\n",
              "      <td>2.2</td>\n",
              "    </tr>\n",
              "  </tbody>\n",
              "</table>\n",
              "<p>5 rows × 10 columns</p>\n",
              "</div>"
            ],
            "text/plain": [
              "  rowheadings   cases  deaths  ...  median_age  gdp_per_capita  \\\n",
              "0     Algeria    9394     653  ...          29           13914   \n",
              "1     Austria   16642     668  ...          44           45437   \n",
              "2  Bangladesh   47153     650  ...          28            3524   \n",
              "3     Belgium   58381    9467  ...          42           42659   \n",
              "4      Brazil  514849   29314  ...          34           14103   \n",
              "\n",
              "   hospital_beds_per_100k  \n",
              "0                     1.9  \n",
              "1                     7.4  \n",
              "2                     0.8  \n",
              "3                     5.6  \n",
              "4                     2.2  \n",
              "\n",
              "[5 rows x 10 columns]"
            ]
          },
          "metadata": {
            "tags": []
          },
          "execution_count": 9
        }
      ]
    },
    {
      "cell_type": "code",
      "metadata": {
        "colab": {
          "base_uri": "https://localhost:8080/"
        },
        "id": "CapNAVRe_MsU",
        "outputId": "ee3a803e-f003-4bf0-9734-9033b3b02bdf"
      },
      "source": [
        "totaldeaths.dtypes"
      ],
      "execution_count": 10,
      "outputs": [
        {
          "output_type": "execute_result",
          "data": {
            "text/plain": [
              "rowheadings                object\n",
              "cases                       int64\n",
              "deaths                      int64\n",
              "cases_per_million           int64\n",
              "deaths_per_million          int64\n",
              "population                  int64\n",
              "population_density          int64\n",
              "median_age                  int64\n",
              "gdp_per_capita              int64\n",
              "hospital_beds_per_100k    float64\n",
              "dtype: object"
            ]
          },
          "metadata": {
            "tags": []
          },
          "execution_count": 10
        }
      ]
    }
  ]
}