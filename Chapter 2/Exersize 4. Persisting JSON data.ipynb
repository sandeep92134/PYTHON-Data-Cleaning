{
  "nbformat": 4,
  "nbformat_minor": 0,
  "metadata": {
    "colab": {
      "name": "Untitled2.ipynb",
      "provenance": [],
      "authorship_tag": "ABX9TyP/hDlG+orvmmsTybPV1snK",
      "include_colab_link": true
    },
    "kernelspec": {
      "name": "python3",
      "display_name": "Python 3"
    }
  },
  "cells": [
    {
      "cell_type": "markdown",
      "metadata": {
        "id": "view-in-github",
        "colab_type": "text"
      },
      "source": [
        "<a href=\"https://colab.research.google.com/github/sandeep92134/PYTHON-Data-Cleaning/blob/master/Chapter%202/Exersize%204.%20Persisting%20JSON%20data.ipynb\" target=\"_parent\"><img src=\"https://colab.research.google.com/assets/colab-badge.svg\" alt=\"Open In Colab\"/></a>"
      ]
    },
    {
      "cell_type": "code",
      "metadata": {
        "id": "HJo1mpxjAChn"
      },
      "source": [
        ">>> import pandas as pd\r\n",
        ">>> import json\r\n",
        ">>> import pprint\r\n",
        ">>> import requests\r\n",
        ">>> import msgpack"
      ],
      "execution_count": 1,
      "outputs": []
    },
    {
      "cell_type": "code",
      "metadata": {
        "id": "KE1oNiMbAEOT"
      },
      "source": [
        "pd.set_option('display.width', 85)\r\n",
        "pd.set_option('display.max_columns', 8)\r\n"
      ],
      "execution_count": 2,
      "outputs": []
    },
    {
      "cell_type": "code",
      "metadata": {
        "colab": {
          "base_uri": "https://localhost:8080/"
        },
        "id": "jIm4aeYgAIth",
        "outputId": "e0ef8201-caff-453d-9534-f32f26a341c7"
      },
      "source": [
        "# load complicated JSON data from an API\r\n",
        "response = requests.get(\"https://openaccess-api.clevelandart.org/api/artworks/?african_american_artists\")\r\n",
        "camcollections = json.loads(response.text)\r\n",
        "len(camcollections['data'])"
      ],
      "execution_count": 3,
      "outputs": [
        {
          "output_type": "execute_result",
          "data": {
            "text/plain": [
              "796"
            ]
          },
          "metadata": {
            "tags": []
          },
          "execution_count": 3
        }
      ]
    },
    {
      "cell_type": "code",
      "metadata": {
        "colab": {
          "base_uri": "https://localhost:8080/"
        },
        "id": "V9JEYftjAZtL",
        "outputId": "93923840-73e3-4b69-ac37-bebf6290450a"
      },
      "source": [
        "print(len(camcollections['data']))"
      ],
      "execution_count": 4,
      "outputs": [
        {
          "output_type": "stream",
          "text": [
            "796\n"
          ],
          "name": "stdout"
        }
      ]
    },
    {
      "cell_type": "code",
      "metadata": {
        "colab": {
          "base_uri": "https://localhost:8080/"
        },
        "id": "vj3xQ11uAiM6",
        "outputId": "a00d0e1e-f3fd-461f-8086-56c2dc670904"
      },
      "source": [
        "pprint.pprint(camcollections['data'][0])"
      ],
      "execution_count": 5,
      "outputs": [
        {
          "output_type": "stream",
          "text": [
            "{'accession_number': '2007.158',\n",
            " 'catalogue_raisonne': None,\n",
            " 'citations': [{'citation': 'Annual Exhibition: Sculpture, Paintings, '\n",
            "                            'Watercolors, Drawings (New York: Whitney Museum '\n",
            "                            'of American Art, 1958).',\n",
            "                'page_number': 'Unpaginated, [8],[12]',\n",
            "                'url': None},\n",
            "               {'citation': '\"Moscow to See Modern U.S. Art,\"<em> New York '\n",
            "                            'Times</em> (May 31, 1959).',\n",
            "                'page_number': 'P. 60',\n",
            "                'url': None},\n",
            "               {'citation': 'Baur, John I. H. <em>Between the Fairs: 25 Years '\n",
            "                            'of America Art, 1939-1964.</em> New York. Whitney '\n",
            "                            'Museum. Catalogues. 1962-64. New York: Published '\n",
            "                            'for the Whitney Museum of American Art by F.A. '\n",
            "                            'Praeger, 1964.',\n",
            "                'page_number': 'P. 88',\n",
            "                'url': None},\n",
            "               {'citation': 'Kramer,Hilton. \"In the Museums,\" <em>Art in '\n",
            "                            'America</em> 52 (April 1964).',\n",
            "                'page_number': 'P. 42',\n",
            "                'url': None},\n",
            "               {'citation': 'Illustration for Victor S. Navasky, \"With Malice '\n",
            "                            'Toward All,\" <em>New York Times Book Review '\n",
            "                            '</em>(February 27, 1966).',\n",
            "                'page_number': 'P. 4',\n",
            "                'url': None},\n",
            "               {'citation': 'Chwast, Seymour, and Steven Heller. <em>The Art '\n",
            "                            'of New York</em>. New York: H.N. Abrams, 1983.',\n",
            "                'page_number': 'P. 18, 76',\n",
            "                'url': None},\n",
            "               {'citation': 'Berman,Avis. \"Jacob Lawrence and the Making of '\n",
            "                            'Americans,\" <em>ARTnews</em> 83 (February 1984).',\n",
            "                'page_number': 'P. 82',\n",
            "                'url': None},\n",
            "               {'citation': 'Wheat, Ellen Harkins, Jacob Lawrence, and '\n",
            "                            'Patricia Hills. <em>Jacob Lawrence, American '\n",
            "                            'Painter.</em> Seattle: University of Washington '\n",
            "                            'Press in association with the Seattle Art Museum, '\n",
            "                            '1986.',\n",
            "                'page_number': 'P. 107,129',\n",
            "                'url': None},\n",
            "               {'citation': \"Sotheby's (Firm). <em>American Impressionist \"\n",
            "                            '&amp; 20th Century Paintings, Drawings, '\n",
            "                            'Watercolors &amp; Sculpture</em>. May 29, 1981. '\n",
            "                            'Lot 182.',\n",
            "                'page_number': None,\n",
            "                'url': None},\n",
            "               {'citation': 'Glueck, Grace. <em>New York: The Painted '\n",
            "                            'City</em>. Salt Lake City: Peregrine Smith Books, '\n",
            "                            '1992.',\n",
            "                'page_number': 'P. 54',\n",
            "                'url': None},\n",
            "               {'citation': 'Stern, Robert A.M. et al., <em>New York 1960 '\n",
            "                            '</em>(New York: Monacelli Press, 1995).',\n",
            "                'page_number': 'P. 1164',\n",
            "                'url': None},\n",
            "               {'citation': 'Richard J. Powell, \"Harmonizer of Chaos,\" in '\n",
            "                            'Peter T. Nesbett and Michelle DuBois, eds., Over '\n",
            "                            'the Line: The Art and Life of Jacob Lawrence '\n",
            "                            '(Seattle: University of Washington, 2000).',\n",
            "                'page_number': 'P. 148-49',\n",
            "                'url': None},\n",
            "               {'citation': 'Nesbett, Peter T. and Michelle DuBois, <em>Jacob '\n",
            "                            'Lawrence: Paintings, Drawings, and Murals '\n",
            "                            '(1935-1999)</em>: <em>A Catalogue Raisonné.</em> '\n",
            "                            'Seattle: University of Washington, 2000.',\n",
            "                'page_number': 'P. 141',\n",
            "                'url': None},\n",
            "               {'citation': 'Wright, Gwendolyn. \"Permable Boundaries,\" in '\n",
            "                            'Peter Madsen and Richard Plunz, eds., <em>The '\n",
            "                            'Urban Lifeworld</em> (London: Routledge, 2002).',\n",
            "                'page_number': 'Reproduced p. 210',\n",
            "                'url': None},\n",
            "               {'citation': 'Kushner, Marilyn S.\"Exhibiting Art at the '\n",
            "                            'American National Exhibition in Moscow, 1959: '\n",
            "                            'Domestic Politics and Cultural Diplomacy,\" '\n",
            "                            '<em>Journal of Cold War Studies</em> 4 (Winter '\n",
            "                            '2002), 24.',\n",
            "                'page_number': 'P. 24',\n",
            "                'url': None},\n",
            "               {'citation': 'Hills, Patricia, and Melissa Renn. Syncopated '\n",
            "                            'Rhythms: 20th-Century African American Art from '\n",
            "                            'the George and Joyce Wein Collection. Boston: '\n",
            "                            'Boston University Art Gallery, 2005.',\n",
            "                'page_number': 'P. 64-65',\n",
            "                'url': None},\n",
            "               {'citation': '\"Harlem\\'s Knights: Extraordinary $2 Million '\n",
            "                            'Bequest for Lawrence Scholars Program,\"<em> '\n",
            "                            'Parsons re:D</em> 22 (May 2005).',\n",
            "                'page_number': 'P. 22',\n",
            "                'url': None},\n",
            "               {'citation': 'The Cleveland Museum of Art Annual Report (July '\n",
            "                            '1,2006- June 30, 2007).',\n",
            "                'page_number': 'P. 26-7, 32',\n",
            "                'url': None},\n",
            "               {'citation': \"Adams, Henry.<em> What's American About American \"\n",
            "                            'Art?: A Gallery Tour in the Cleveland Museum of '\n",
            "                            'Art.</em> Cleveland: Cleveland Museum of Art, '\n",
            "                            '2008.',\n",
            "                'page_number': 'P. 8,13, 144-145',\n",
            "                'url': None},\n",
            "               {'citation': 'Cole, Mark. \"Jacob Lawrence\\'s Fulton and '\n",
            "                            'Nostrand,\" <em>Cleveland Art</em> 48 (February '\n",
            "                            '2008).',\n",
            "                'page_number': 'P. 6-7; Reproduced p. 6.',\n",
            "                'url': None},\n",
            "               {'citation': 'Gordon, Margery. \"Eyes on the Prizes,\" Art + '\n",
            "                            'Auction 31 (February 2008).',\n",
            "                'page_number': 'Reproduced p. 117',\n",
            "                'url': None},\n",
            "               {'citation': 'Cleveland Museum of Art, David Franklin, and C. '\n",
            "                            'Griffith Mann. <em>Treasures from the Cleveland '\n",
            "                            'Museum of Art</em>. Cleveland, OH: Cleveland '\n",
            "                            'Museum of Art, 2012.',\n",
            "                'page_number': 'P. 322-23',\n",
            "                'url': None},\n",
            "               {'citation': 'Cole, Mark, Amy Sparks, and Rebecca Michaels.<em> '\n",
            "                            'African American Art: The Cleveland Museum of '\n",
            "                            'Art.</em> [Cleveland, Ohio]: Cleveland Museum of '\n",
            "                            'Art, 2013.',\n",
            "                'page_number': 'P. 3,18; Reproduced p. 22',\n",
            "                'url': None},\n",
            "               {'citation': 'Cole, Mark. \"American Art of the 1930s to 1950s,\" '\n",
            "                            '<em>Cleveland Art</em> 54 (January/February '\n",
            "                            '2014).',\n",
            "                'page_number': 'P. 21',\n",
            "                'url': None}],\n",
            " 'collection': 'American - Painting',\n",
            " 'copyright': '© The Jacob and Gwendolyn Knight Lawrence Foundation, Seattle / '\n",
            "              'Artists Rights Society (ARS), New York.',\n",
            " 'creation_date': '1958',\n",
            " 'creation_date_earliest': 1958,\n",
            " 'creation_date_latest': 1958,\n",
            " 'creators': [{'biography': 'Jacob Lawrence (born 1917) has been a prominent '\n",
            "                            'artist since 1941 when, at age 24, he became the '\n",
            "                            'first African American to have a work in the '\n",
            "                            'permanent collection of the Museum of Modern Art '\n",
            "                            'in New York. His career, now spanning seven '\n",
            "                            'decades, has been devoted to documenting '\n",
            "                            'African-American life and history, from everyday '\n",
            "                            'scenes to the universal struggle for freedom, '\n",
            "                            'social justice, and human dignity. Moving to '\n",
            "                            'Harlem as a teenager in 1930, Lawrence was '\n",
            "                            'influenced by the artists, writers, and '\n",
            "                            'philosophers of the Harlem Renaissance-among them '\n",
            "                            'Romare Bearden, Langston Hughes, and W.E.B. '\n",
            "                            'DuBois-who fostered pride in African-American '\n",
            "                            \"culture. Lawrence's subjects include the \"\n",
            "                            'legendary abolitionist heroes Frederick Douglass, '\n",
            "                            'Harriet Tubman, and John Brown, and the story of '\n",
            "                            'the massive migration of African Americans from '\n",
            "                            'the rural South to the industrialized, urban '\n",
            "                            'North during the early decades of the 20th '\n",
            "                            'century. After thorough research, Lawrence '\n",
            "                            'chronicles the crucial events of each saga by '\n",
            "                            'creating a series of small paintings on paper in '\n",
            "                            'a modernist style of flat, brightly-colored '\n",
            "                            'forms.',\n",
            "               'birth_year': '1917',\n",
            "               'death_year': '2000',\n",
            "               'description': 'Jacob Lawrence (American, 1917-2000)',\n",
            "               'extent': None,\n",
            "               'id': 4050,\n",
            "               'name_in_original_language': None,\n",
            "               'qualifier': None,\n",
            "               'role': 'artist'}],\n",
            " 'creditline': 'Mr. and Mrs. William H. Marlatt Fund',\n",
            " 'culture': ['America, 20th century'],\n",
            " 'current_location': '226B American Modern',\n",
            " 'department': 'American Painting and Sculpture',\n",
            " 'digital_description': 'Jacob Lawrence, who lived near this intersection of '\n",
            "                        'Fulton Street and Nostrand Avenue in Brooklyn, '\n",
            "                        'captured a dynamic scene of New York City life. He '\n",
            "                        'uses boldly colored, jagged shapes to present people '\n",
            "                        'rushing around this busy evening.',\n",
            " 'dimensions': {'unframed': {'height': 0.609, 'width': 0.762}},\n",
            " 'edition_of_the_work': None,\n",
            " 'exhibitions': {'current': [],\n",
            "                 'legacy': ['Annual Exhibition: Sculpture, Paintings, '\n",
            "                            'Watercolors, Drawings, Whitney Museum of American '\n",
            "                            'Art, New York, November 19. 1958-January 4, '\n",
            "                            '1959.<br><br>American Sculpture and Painting: '\n",
            "                            'American National Exhibition in Moscow, The '\n",
            "                            'Pushkin Museum of Fine Arts, Moscow, July '\n",
            "                            '25-September 5, 1959; Whitney Museum of American '\n",
            "                            'Art, New York, October 28-November 15, '\n",
            "                            '1959.<br><br>Between the Fairs: Twenty-Five Years '\n",
            "                            'of American Art, 1939-1964, Whitney Museum of '\n",
            "                            'American Art, New York, June 24-September 23, '\n",
            "                            '1964.<br><br>Contemporary Urban Visions, Wollman '\n",
            "                            'Hall, New School Art Center, New School for '\n",
            "                            'Social Research, New York, January 25-February '\n",
            "                            '24, 1966.<br><br>Crossing State Lines: '\n",
            "                            'Twentieth-Century Art from Private Collections in '\n",
            "                            'Westchester and Fairfield Counties, Neuberger '\n",
            "                            'Museum of Art, Purchase College, State University '\n",
            "                            'of New York, March 26-June 18, 1995.<br><br>Jacob '\n",
            "                            'Lawrence Memorial Exhibition: Paintings, '\n",
            "                            '1937-1999, DC Moore Gallery, New York, February '\n",
            "                            '6-March 3, 2001.<br><br>Syncopated Rhythms: '\n",
            "                            '20th-Century African American Art from the George '\n",
            "                            'and Joyce Wein Collection, Boston University Art '\n",
            "                            'Gallery, November 18, 2005-January 22, 2006.']},\n",
            " 'external_resources': {'internet_archive': [], 'wikidata': []},\n",
            " 'find_spot': None,\n",
            " 'former_accession_numbers': [],\n",
            " 'fun_fact': 'Lawrence was teaching art at the Pratt Institute in Brooklyn '\n",
            "             'when he created this painting.',\n",
            " 'id': 165157,\n",
            " 'images': None,\n",
            " 'inscriptions': [{'inscription': 'signed lower right \"Jacob Lawrence 58\"',\n",
            "                   'inscription_remark': None,\n",
            "                   'inscription_translation': None}],\n",
            " 'measurements': 'Unframed: 60.9 x 76.2 cm (24 x 30 in.)',\n",
            " 'provenance': [{'citations': [],\n",
            "                 'date': '1958',\n",
            "                 'description': '(The Alan Stone Gallery, New York, NY,  sold '\n",
            "                                'to Alexander and Sylvian Rittmaster)',\n",
            "                 'footnotes': ['Jacob Lawrence sold the painting directly to '\n",
            "                               'the Alan Gallery in 1958.']},\n",
            "                {'citations': [],\n",
            "                 'date': '1958-1981',\n",
            "                 'description': 'Alexander [1916-1969] and Sylvian Rittmaster '\n",
            "                                '[1917-1978], Woodmere, NY',\n",
            "                 'footnotes': ['Although Slyvian Rittmaster died in 1978, the '\n",
            "                               '1981 Sotheby Parke Bernet catalogue lists the '\n",
            "                               'painting as coming from their collection, '\n",
            "                               \"hence listing the painting's dates with the \"\n",
            "                               'Rittmasters as ending with 1981 rather than '\n",
            "                               '1978.']},\n",
            "                {'citations': [],\n",
            "                 'date': '1981-1983?',\n",
            "                 'description': '(Sotheby Park Bernet, New York, NY, May '\n",
            "                                '29,1981, lot 182, sold to the Terry '\n",
            "                                'Dintenfass Gallery)',\n",
            "                 'footnotes': None},\n",
            "                {'citations': [],\n",
            "                 'date': '1983',\n",
            "                 'description': '(Terry Dintenfass Gallery, New York, NY, sold '\n",
            "                                'to George and Joyce Wein)',\n",
            "                 'footnotes': []},\n",
            "                {'citations': [],\n",
            "                 'date': '1983-2007',\n",
            "                 'description': 'George [b. 1925] and Joyce [1928-2005] Wein, '\n",
            "                                'New York, NY, consigned to the Michael '\n",
            "                                'Rosenfeld Gallery',\n",
            "                 'footnotes': []},\n",
            "                {'citations': [],\n",
            "                 'date': '2007',\n",
            "                 'description': '(Michael Rosenfeld Gallery, New York, NY, '\n",
            "                                'sold to the Cleveland Museum of Art)',\n",
            "                 'footnotes': None},\n",
            "                {'citations': [],\n",
            "                 'date': '2007-',\n",
            "                 'description': 'The Cleveland Museum of Art, Cleveland, OH',\n",
            "                 'footnotes': []}],\n",
            " 'related_works': [],\n",
            " 'series': None,\n",
            " 'series_in_original_language': None,\n",
            " 'share_license_status': 'Copyrighted',\n",
            " 'state_of_the_work': None,\n",
            " 'support_materials': [],\n",
            " 'technique': 'tempera on Masonite',\n",
            " 'title': 'Fulton and Nostrand',\n",
            " 'title_in_original_language': None,\n",
            " 'tombstone': 'Fulton and Nostrand, 1958. Jacob Lawrence (American, '\n",
            "              '1917-2000). Tempera on Masonite; unframed: 60.9 x 76.2 cm (24 x '\n",
            "              '30 in.). The Cleveland Museum of Art, Mr. and Mrs. William H. '\n",
            "              'Marlatt Fund 2007.158 © The Jacob and Gwendolyn Knight Lawrence '\n",
            "              'Foundation, Seattle / Artists Rights Society (ARS), New York.',\n",
            " 'type': 'Painting',\n",
            " 'updated_at': '2020-11-04 21:59:24.646000',\n",
            " 'url': 'https://clevelandart.org/art/2007.158',\n",
            " 'wall_description': 'Having moved to Harlem as a teenager, Lawrence would '\n",
            "                     'become the first major artist trained entirely within '\n",
            "                     'the neighborhood’s African American community. '\n",
            "                     'Throughout his long career he believed art should be a '\n",
            "                     'quest for both self and social identity, a notion '\n",
            "                     'reflected in this work, one of his liveliest and largest '\n",
            "                     'paintings. Teeming with more than forty figures, it '\n",
            "                     'depicts the vibrant streetscape at the intersection of '\n",
            "                     'Fulton Street (now Harriet Tubman Avenue) and Nostrand '\n",
            "                     'Avenue in Brooklyn, near where the artist lived at the '\n",
            "                     'time.'}\n"
          ],
          "name": "stdout"
        }
      ]
    },
    {
      "cell_type": "code",
      "metadata": {
        "id": "g5NirWaLAo9D"
      },
      "source": [
        "# save to a json file\r\n",
        "with open(\"/content/camcollections.json\",\"w\") as f:\r\n",
        "  json.dump(camcollections, f)"
      ],
      "execution_count": 6,
      "outputs": []
    },
    {
      "cell_type": "code",
      "metadata": {
        "colab": {
          "base_uri": "https://localhost:8080/"
        },
        "id": "4IhG0zBIA8cv",
        "outputId": "e4d64254-841c-47d7-fb6b-102060c3a18d"
      },
      "source": [
        "# read the json file\r\n",
        "with open(\"/content/camcollections.json\",\"r\") as f:\r\n",
        "  camcollections = json.load(f)\r\n",
        "\r\n",
        "pprint.pprint(camcollections['data'][0]['creators'])"
      ],
      "execution_count": 7,
      "outputs": [
        {
          "output_type": "stream",
          "text": [
            "[{'biography': 'Jacob Lawrence (born 1917) has been a prominent artist since '\n",
            "               '1941 when, at age 24, he became the first African American to '\n",
            "               'have a work in the permanent collection of the Museum of '\n",
            "               'Modern Art in New York. His career, now spanning seven '\n",
            "               'decades, has been devoted to documenting African-American life '\n",
            "               'and history, from everyday scenes to the universal struggle '\n",
            "               'for freedom, social justice, and human dignity. Moving to '\n",
            "               'Harlem as a teenager in 1930, Lawrence was influenced by the '\n",
            "               'artists, writers, and philosophers of the Harlem '\n",
            "               'Renaissance-among them Romare Bearden, Langston Hughes, and '\n",
            "               'W.E.B. DuBois-who fostered pride in African-American culture. '\n",
            "               \"Lawrence's subjects include the legendary abolitionist heroes \"\n",
            "               'Frederick Douglass, Harriet Tubman, and John Brown, and the '\n",
            "               'story of the massive migration of African Americans from the '\n",
            "               'rural South to the industrialized, urban North during the '\n",
            "               'early decades of the 20th century. After thorough research, '\n",
            "               'Lawrence chronicles the crucial events of each saga by '\n",
            "               'creating a series of small paintings on paper in a modernist '\n",
            "               'style of flat, brightly-colored forms.',\n",
            "  'birth_year': '1917',\n",
            "  'death_year': '2000',\n",
            "  'description': 'Jacob Lawrence (American, 1917-2000)',\n",
            "  'extent': None,\n",
            "  'id': 4050,\n",
            "  'name_in_original_language': None,\n",
            "  'qualifier': None,\n",
            "  'role': 'artist'}]\n"
          ],
          "name": "stdout"
        }
      ]
    },
    {
      "cell_type": "code",
      "metadata": {
        "id": "70K8J-Z_Bq3-"
      },
      "source": [
        "# Write msgpack file\r\n",
        "with open(\"/content/camcollections.msgpack\", \"wb\") as outfile:\r\n",
        "    packed = msgpack.packb(camcollections)\r\n",
        "    outfile.write(packed)"
      ],
      "execution_count": 8,
      "outputs": []
    },
    {
      "cell_type": "code",
      "metadata": {
        "id": "Da_T0Py7B8b5"
      },
      "source": [
        "# Read msgpack file\r\n",
        "with open(\"/content/camcollections.msgpack\", \"rb\") as data_file:\r\n",
        "    msgbytes = data_file.read()"
      ],
      "execution_count": 9,
      "outputs": []
    },
    {
      "cell_type": "code",
      "metadata": {
        "id": "T2xbhq93B_U7"
      },
      "source": [
        "camcollections = msgpack.unpackb(msgbytes)"
      ],
      "execution_count": 10,
      "outputs": []
    },
    {
      "cell_type": "code",
      "metadata": {
        "colab": {
          "base_uri": "https://localhost:8080/"
        },
        "id": "YnWZk2czCImq",
        "outputId": "6f0b1724-b3bf-4088-88ed-635d3fdc10d3"
      },
      "source": [
        "pprint.pprint(camcollections['data'][0]['creators'])"
      ],
      "execution_count": 11,
      "outputs": [
        {
          "output_type": "stream",
          "text": [
            "[{'biography': 'Jacob Lawrence (born 1917) has been a prominent artist since '\n",
            "               '1941 when, at age 24, he became the first African American to '\n",
            "               'have a work in the permanent collection of the Museum of '\n",
            "               'Modern Art in New York. His career, now spanning seven '\n",
            "               'decades, has been devoted to documenting African-American life '\n",
            "               'and history, from everyday scenes to the universal struggle '\n",
            "               'for freedom, social justice, and human dignity. Moving to '\n",
            "               'Harlem as a teenager in 1930, Lawrence was influenced by the '\n",
            "               'artists, writers, and philosophers of the Harlem '\n",
            "               'Renaissance-among them Romare Bearden, Langston Hughes, and '\n",
            "               'W.E.B. DuBois-who fostered pride in African-American culture. '\n",
            "               \"Lawrence's subjects include the legendary abolitionist heroes \"\n",
            "               'Frederick Douglass, Harriet Tubman, and John Brown, and the '\n",
            "               'story of the massive migration of African Americans from the '\n",
            "               'rural South to the industrialized, urban North during the '\n",
            "               'early decades of the 20th century. After thorough research, '\n",
            "               'Lawrence chronicles the crucial events of each saga by '\n",
            "               'creating a series of small paintings on paper in a modernist '\n",
            "               'style of flat, brightly-colored forms.',\n",
            "  'birth_year': '1917',\n",
            "  'death_year': '2000',\n",
            "  'description': 'Jacob Lawrence (American, 1917-2000)',\n",
            "  'extent': None,\n",
            "  'id': 4050,\n",
            "  'name_in_original_language': None,\n",
            "  'qualifier': None,\n",
            "  'role': 'artist'}]\n"
          ],
          "name": "stdout"
        }
      ]
    }
  ]
}