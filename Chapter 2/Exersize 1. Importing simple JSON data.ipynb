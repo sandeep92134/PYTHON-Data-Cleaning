{
  "nbformat": 4,
  "nbformat_minor": 0,
  "metadata": {
    "colab": {
      "name": "Copy of Untitled11.ipynb",
      "provenance": [],
      "authorship_tag": "ABX9TyNbQ1vb39g3G+PAPYGND/uE",
      "include_colab_link": true
    },
    "kernelspec": {
      "name": "python3",
      "display_name": "Python 3"
    }
  },
  "cells": [
    {
      "cell_type": "markdown",
      "metadata": {
        "id": "view-in-github",
        "colab_type": "text"
      },
      "source": [
        "<a href=\"https://colab.research.google.com/github/sandeep92134/PYTHON-Data-Cleaning/blob/master/Chapter%202/Exersize%201.%20Importing%20simple%20JSON%20data.ipynb\" target=\"_parent\"><img src=\"https://colab.research.google.com/assets/colab-badge.svg\" alt=\"Open In Colab\"/></a>"
      ]
    },
    {
      "cell_type": "code",
      "metadata": {
        "id": "uBwMdRksrqho"
      },
      "source": [
        "import pandas as pd\r\n",
        "import numpy as np\r\n",
        "import json\r\n",
        "import pprint\r\n",
        "from collections import Counter\r\n",
        "\r\n",
        "pd.set_option('display.width', 85)\r\n",
        "pd.set_option('display.max_columns', 8)"
      ],
      "execution_count": 1,
      "outputs": []
    },
    {
      "cell_type": "code",
      "metadata": {
        "colab": {
          "base_uri": "https://localhost:8080/"
        },
        "id": "lbU0_CDbr7ZT",
        "outputId": "51c3baa4-8c63-41e8-d574-c3489c666684"
      },
      "source": [
        "# load tabular structure JSON data\r\n",
        "with open('/content/allcandidatenewssample.json') as f:\r\n",
        "  candidatenews = json.load(f)\r\n",
        "\r\n",
        "len(candidatenews)"
      ],
      "execution_count": 2,
      "outputs": [
        {
          "output_type": "execute_result",
          "data": {
            "text/plain": [
              "60000"
            ]
          },
          "metadata": {
            "tags": []
          },
          "execution_count": 2
        }
      ]
    },
    {
      "cell_type": "code",
      "metadata": {
        "id": "oyJbcLlzsGan",
        "colab": {
          "base_uri": "https://localhost:8080/"
        },
        "outputId": "fa0b572f-e788-48e9-ac52-8399df1f293f"
      },
      "source": [
        "pprint.pprint(candidatenews[0:2])"
      ],
      "execution_count": 3,
      "outputs": [
        {
          "output_type": "stream",
          "text": [
            "[{'date': '2019-12-25 10:00:00',\n",
            "  'domain': 'www.nbcnews.com',\n",
            "  'panel_position': 1,\n",
            "  'query': 'Michael Bloomberg',\n",
            "  'source': 'NBC News',\n",
            "  'story_position': 6,\n",
            "  'time': '18 hours ago',\n",
            "  'title': 'Bloomberg cuts ties with company using prison inmates to make '\n",
            "           'campaign calls',\n",
            "  'url': 'https://www.nbcnews.com/politics/2020-election/bloomberg-cuts-ties-company-using-prison-inmates-make-campaign-calls-n1106971'},\n",
            " {'date': '2019-11-09 08:00:00',\n",
            "  'domain': 'www.townandcountrymag.com',\n",
            "  'panel_position': 1,\n",
            "  'query': 'Amy Klobuchar',\n",
            "  'source': 'Town & Country Magazine',\n",
            "  'story_position': 3,\n",
            "  'time': '18 hours ago',\n",
            "  'title': \"Democratic Candidates React to Michael Bloomberg's Potential Run\",\n",
            "  'url': 'https://www.townandcountrymag.com/society/politics/a29739854/michael-bloomberg-democratic-candidates-campaign-reactions/'}]\n"
          ],
          "name": "stdout"
        }
      ]
    },
    {
      "cell_type": "code",
      "metadata": {
        "id": "tGwYLmCwzsNX",
        "colab": {
          "base_uri": "https://localhost:8080/"
        },
        "outputId": "a4dbdf97-c36b-4ae3-a978-91c79c268dbb"
      },
      "source": [
        "pprint.pprint(candidatenews[0]['source'])"
      ],
      "execution_count": 4,
      "outputs": [
        {
          "output_type": "stream",
          "text": [
            "'NBC News'\n"
          ],
          "name": "stdout"
        }
      ]
    },
    {
      "cell_type": "code",
      "metadata": {
        "id": "7B2N4AyqztLg",
        "colab": {
          "base_uri": "https://localhost:8080/"
        },
        "outputId": "e2db9145-0721-430f-913c-079b764ea7b0"
      },
      "source": [
        "Counter([len(item) for item in candidatenews])\r\n",
        "pprint.pprint(next(item for item in candidatenews if len(item)<9))"
      ],
      "execution_count": 5,
      "outputs": [
        {
          "output_type": "stream",
          "text": [
            "{'date': '2019-09-11 18:00:00', 'reason': 'Not collected'}\n"
          ],
          "name": "stdout"
        }
      ]
    },
    {
      "cell_type": "code",
      "metadata": {
        "id": "4ucSu3mq0D1s",
        "colab": {
          "base_uri": "https://localhost:8080/"
        },
        "outputId": "2de43f26-e2fd-420e-96e3-228939331f21"
      },
      "source": [
        "pprint.pprint(next(item for item in candidatenews if len(item)>9))"
      ],
      "execution_count": 6,
      "outputs": [
        {
          "output_type": "stream",
          "text": [
            "{'category': 'Satire',\n",
            " 'date': '2019-08-21 04:00:00',\n",
            " 'domain': 'politics.theonion.com',\n",
            " 'panel_position': 1,\n",
            " 'query': 'John Hickenlooper',\n",
            " 'source': 'Politics | The Onion',\n",
            " 'story_position': 8,\n",
            " 'time': '4 days ago',\n",
            " 'title': '‘And Then There Were 23,’ Says Wayne Messam Crossing Out '\n",
            "          'Hickenlooper Photo \\n'\n",
            "          'In Elaborate Grid Of Rivals',\n",
            " 'url': 'https://politics.theonion.com/and-then-there-were-23-says-wayne-messam-crossing-ou-1837311060'}\n"
          ],
          "name": "stdout"
        }
      ]
    },
    {
      "cell_type": "code",
      "metadata": {
        "id": "hoByA0yp0KT8",
        "colab": {
          "base_uri": "https://localhost:8080/"
        },
        "outputId": "746d0e26-b5de-462f-c7a6-2e4d34fa46c7"
      },
      "source": [
        "pprint.pprint([item for item in candidatenews if len(item)==2][0:10])"
      ],
      "execution_count": 8,
      "outputs": [
        {
          "output_type": "stream",
          "text": [
            "[{'date': '2019-09-11 18:00:00', 'reason': 'Not collected'},\n",
            " {'date': '2019-07-24 00:00:00', 'reason': 'No Top stories'},\n",
            " {'date': '2019-08-19 20:00:00', 'reason': 'Not collected'},\n",
            " {'date': '2019-09-13 16:00:00', 'reason': 'Not collected'},\n",
            " {'date': '2019-10-16 20:00:00', 'reason': 'No Top stories'},\n",
            " {'date': '2019-10-17 18:00:00', 'reason': 'Not collected'},\n",
            " {'date': '2019-08-02 14:00:00', 'reason': 'Not collected'},\n",
            " {'date': '2019-05-27 12:00:00', 'reason': 'Not collected'},\n",
            " {'date': '2019-12-03 12:00:00', 'reason': 'No Top stories'},\n",
            " {'date': '2019-01-03 00:00:00', 'reason': 'No Top stories'}]\n"
          ],
          "name": "stdout"
        }
      ]
    },
    {
      "cell_type": "code",
      "metadata": {
        "id": "WxxpHSFA0MlK",
        "colab": {
          "base_uri": "https://localhost:8080/"
        },
        "outputId": "859b145b-1f62-46ca-e1e7-909bb6310de4"
      },
      "source": [
        "candidatenews = [item for item in candidatenews if len(item)>2]\r\n",
        "len(candidatenews)"
      ],
      "execution_count": 9,
      "outputs": [
        {
          "output_type": "execute_result",
          "data": {
            "text/plain": [
              "57618"
            ]
          },
          "metadata": {
            "tags": []
          },
          "execution_count": 9
        }
      ]
    },
    {
      "cell_type": "code",
      "metadata": {
        "id": "31zlgQK00VaF",
        "colab": {
          "base_uri": "https://localhost:8080/"
        },
        "outputId": "cc8f25e3-4af2-4dea-afed-79bbe000f27c"
      },
      "source": [
        "# generate counts from JSON data\r\n",
        "politico = [item for item in candidatenews if item[\"source\"] == \"Politico\"]\r\n",
        "len(politico)"
      ],
      "execution_count": 10,
      "outputs": [
        {
          "output_type": "execute_result",
          "data": {
            "text/plain": [
              "2732"
            ]
          },
          "metadata": {
            "tags": []
          },
          "execution_count": 10
        }
      ]
    },
    {
      "cell_type": "code",
      "metadata": {
        "id": "yFHMeTyP0c5E",
        "colab": {
          "base_uri": "https://localhost:8080/"
        },
        "outputId": "56cdb336-85fa-4eec-b107-c384e1f1297b"
      },
      "source": [
        "pprint.pprint(politico[0:2])"
      ],
      "execution_count": 11,
      "outputs": [
        {
          "output_type": "stream",
          "text": [
            "[{'date': '2019-05-18 18:00:00',\n",
            "  'domain': 'www.politico.com',\n",
            "  'panel_position': 1,\n",
            "  'query': 'Marianne Williamson',\n",
            "  'source': 'Politico',\n",
            "  'story_position': 7,\n",
            "  'time': '1 week ago',\n",
            "  'title': 'Marianne Williamson reaches donor threshold for Dem debates',\n",
            "  'url': 'https://www.politico.com/story/2019/05/09/marianne-williamson-2020-election-1315133'},\n",
            " {'date': '2018-12-27 06:00:00',\n",
            "  'domain': 'www.politico.com',\n",
            "  'panel_position': 1,\n",
            "  'query': 'Julian Castro',\n",
            "  'source': 'Politico',\n",
            "  'story_position': 1,\n",
            "  'time': '1 hour ago',\n",
            "  'title': \"O'Rourke and Castro on collision course in Texas\",\n",
            "  'url': 'https://www.politico.com/story/2018/12/27/orourke-julian-castro-collision-texas-election-1073720'}]\n"
          ],
          "name": "stdout"
        }
      ]
    },
    {
      "cell_type": "code",
      "metadata": {
        "id": "ouc6g8ne0f1g",
        "colab": {
          "base_uri": "https://localhost:8080/"
        },
        "outputId": "164081d5-5781-4452-da0e-1c3dd48a00f9"
      },
      "source": [
        "sources = [item.get('source') for item in candidatenews]\r\n",
        "type(sources)"
      ],
      "execution_count": 12,
      "outputs": [
        {
          "output_type": "execute_result",
          "data": {
            "text/plain": [
              "list"
            ]
          },
          "metadata": {
            "tags": []
          },
          "execution_count": 12
        }
      ]
    },
    {
      "cell_type": "code",
      "metadata": {
        "id": "1Rc5Jsg00qFl",
        "colab": {
          "base_uri": "https://localhost:8080/"
        },
        "outputId": "9db94fa5-8a14-45ea-ce2f-f678398c0237"
      },
      "source": [
        "len(sources)"
      ],
      "execution_count": 13,
      "outputs": [
        {
          "output_type": "execute_result",
          "data": {
            "text/plain": [
              "57618"
            ]
          },
          "metadata": {
            "tags": []
          },
          "execution_count": 13
        }
      ]
    },
    {
      "cell_type": "code",
      "metadata": {
        "id": "HGXmMvni0tM0",
        "colab": {
          "base_uri": "https://localhost:8080/"
        },
        "outputId": "7d461d2e-3942-47df-846c-de8a16b62a04"
      },
      "source": [
        "sources[0:5]\r\n",
        "pprint.pprint(Counter(sources).most_common(10))"
      ],
      "execution_count": 14,
      "outputs": [
        {
          "output_type": "stream",
          "text": [
            "[('Fox News', 3530),\n",
            " ('CNN.com', 2750),\n",
            " ('Politico', 2732),\n",
            " ('TheHill', 2383),\n",
            " ('The New York Times', 1804),\n",
            " ('Washington Post', 1770),\n",
            " ('Washington Examiner', 1655),\n",
            " ('The Hill', 1342),\n",
            " ('New York Post', 1275),\n",
            " ('Vox', 941)]\n"
          ],
          "name": "stdout"
        }
      ]
    },
    {
      "cell_type": "code",
      "metadata": {
        "id": "0WUI8kpr0wdx",
        "colab": {
          "base_uri": "https://localhost:8080/"
        },
        "outputId": "80b0efde-1f0f-40cc-bc4c-a822878c816e"
      },
      "source": [
        "# fix errors in values in dictionary\r\n",
        "for newsdict in candidatenews:\r\n",
        "    newsdict.update((k, \"The Hill\") for k, v in newsdict.items()\r\n",
        "     if k == \"source\" and v == \"TheHill\")\r\n",
        "\r\n",
        "sources = [item.get('source') for item in candidatenews]\r\n",
        "pprint.pprint(Counter(sources).most_common(10))"
      ],
      "execution_count": 15,
      "outputs": [
        {
          "output_type": "stream",
          "text": [
            "[('The Hill', 3725),\n",
            " ('Fox News', 3530),\n",
            " ('CNN.com', 2750),\n",
            " ('Politico', 2732),\n",
            " ('The New York Times', 1804),\n",
            " ('Washington Post', 1770),\n",
            " ('Washington Examiner', 1655),\n",
            " ('New York Post', 1275),\n",
            " ('Vox', 941),\n",
            " ('Breitbart', 799)]\n"
          ],
          "name": "stdout"
        }
      ]
    },
    {
      "cell_type": "code",
      "metadata": {
        "id": "WBV-k0Kk1HsO",
        "colab": {
          "base_uri": "https://localhost:8080/"
        },
        "outputId": "729586e2-3963-4072-b0fb-585212883c37"
      },
      "source": [
        "# create a pandas data frame\r\n",
        "candidatenewsdf = pd.DataFrame(candidatenews)\r\n",
        "candidatenewsdf.dtypes"
      ],
      "execution_count": 16,
      "outputs": [
        {
          "output_type": "execute_result",
          "data": {
            "text/plain": [
              "title             object\n",
              "url               object\n",
              "source            object\n",
              "time              object\n",
              "date              object\n",
              "query             object\n",
              "story_position     int64\n",
              "panel_position    object\n",
              "domain            object\n",
              "category          object\n",
              "dtype: object"
            ]
          },
          "metadata": {
            "tags": []
          },
          "execution_count": 16
        }
      ]
    },
    {
      "cell_type": "code",
      "metadata": {
        "id": "mA9_Eezc1405",
        "colab": {
          "base_uri": "https://localhost:8080/"
        },
        "outputId": "256f602f-3107-4747-c700-ba1a8ad20a59"
      },
      "source": [
        "candidatenewsdf.rename(columns={'date':'storydate'}, inplace=True)\r\n",
        "candidatenewsdf.storydate = candidatenewsdf.storydate.astype('datetime64[ns]')\r\n",
        "candidatenewsdf.shape"
      ],
      "execution_count": 17,
      "outputs": [
        {
          "output_type": "execute_result",
          "data": {
            "text/plain": [
              "(57618, 10)"
            ]
          },
          "metadata": {
            "tags": []
          },
          "execution_count": 17
        }
      ]
    },
    {
      "cell_type": "code",
      "metadata": {
        "id": "Zi5Op4vP19sn",
        "colab": {
          "base_uri": "https://localhost:8080/"
        },
        "outputId": "055182fe-8f89-4d0e-945f-96b4fba8d1d1"
      },
      "source": [
        "candidatenewsdf.source.value_counts(sort=True).head(10)"
      ],
      "execution_count": 18,
      "outputs": [
        {
          "output_type": "execute_result",
          "data": {
            "text/plain": [
              "The Hill               3725\n",
              "Fox News               3530\n",
              "CNN.com                2750\n",
              "Politico               2732\n",
              "The New York Times     1804\n",
              "Washington Post        1770\n",
              "Washington Examiner    1655\n",
              "New York Post          1275\n",
              "Vox                     941\n",
              "Breitbart               799\n",
              "Name: source, dtype: int64"
            ]
          },
          "metadata": {
            "tags": []
          },
          "execution_count": 18
        }
      ]
    }
  ]
}