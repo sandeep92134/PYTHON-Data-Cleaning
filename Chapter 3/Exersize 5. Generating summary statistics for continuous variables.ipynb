{
  "nbformat": 4,
  "nbformat_minor": 0,
  "metadata": {
    "colab": {
      "name": "Untitled8.ipynb",
      "provenance": [],
      "authorship_tag": "ABX9TyN9wrJ9B2sBclw8Px7Q6va/",
      "include_colab_link": true
    },
    "kernelspec": {
      "name": "python3",
      "display_name": "Python 3"
    }
  },
  "cells": [
    {
      "cell_type": "markdown",
      "metadata": {
        "id": "view-in-github",
        "colab_type": "text"
      },
      "source": [
        "<a href=\"https://colab.research.google.com/github/sandeep92134/PYTHON-Data-Cleaning/blob/master/Chapter%203/Exersize%205.%20Generating%20summary%20statistics%20for%20continuous%20variables.ipynb\" target=\"_parent\"><img src=\"https://colab.research.google.com/assets/colab-badge.svg\" alt=\"Open In Colab\"/></a>"
      ]
    },
    {
      "cell_type": "code",
      "metadata": {
        "id": "5BAG3pXFuElv"
      },
      "source": [
        "# import pandas, numpy, and matplotlib\r\n",
        "import pandas as pd\r\n",
        "import numpy as np\r\n",
        "import matplotlib.pyplot as plt\r\n",
        "pd.set_option('display.width', 75)\r\n",
        "pd.set_option('display.max_columns', 7)\r\n",
        "pd.set_option('display.max_rows', 20)\r\n",
        "pd.options.display.float_format = '{:,.2f}'.format\r\n",
        "covidtotals = pd.read_csv(\"https://raw.githubusercontent.com/sandeep92134/PYTHON-Data-Cleaning/master/Chapter%203/datasets/covidtotals.csv\",\r\n",
        "  parse_dates=['lastdate'])\r\n",
        "covidtotals.set_index(\"iso_code\", inplace=True)"
      ],
      "execution_count": 1,
      "outputs": []
    },
    {
      "cell_type": "code",
      "metadata": {
        "colab": {
          "base_uri": "https://localhost:8080/"
        },
        "id": "8R3kF9OHuRry",
        "outputId": "b2e00bf5-8819-4ccc-a2fe-99d917e0fff1"
      },
      "source": [
        "covidtotals.shape"
      ],
      "execution_count": 2,
      "outputs": [
        {
          "output_type": "execute_result",
          "data": {
            "text/plain": [
              "(210, 11)"
            ]
          },
          "metadata": {
            "tags": []
          },
          "execution_count": 2
        }
      ]
    },
    {
      "cell_type": "code",
      "metadata": {
        "colab": {
          "base_uri": "https://localhost:8080/",
          "height": 390
        },
        "id": "dAZLXIU0z7HG",
        "outputId": "ba00374f-3dd6-4006-d1a5-1284c5adfd4e"
      },
      "source": [
        "covidtotals.sample(2, random_state=1).T"
      ],
      "execution_count": 3,
      "outputs": [
        {
          "output_type": "execute_result",
          "data": {
            "text/html": [
              "<div>\n",
              "<style scoped>\n",
              "    .dataframe tbody tr th:only-of-type {\n",
              "        vertical-align: middle;\n",
              "    }\n",
              "\n",
              "    .dataframe tbody tr th {\n",
              "        vertical-align: top;\n",
              "    }\n",
              "\n",
              "    .dataframe thead th {\n",
              "        text-align: right;\n",
              "    }\n",
              "</style>\n",
              "<table border=\"1\" class=\"dataframe\">\n",
              "  <thead>\n",
              "    <tr style=\"text-align: right;\">\n",
              "      <th>iso_code</th>\n",
              "      <th>COG</th>\n",
              "      <th>THA</th>\n",
              "    </tr>\n",
              "  </thead>\n",
              "  <tbody>\n",
              "    <tr>\n",
              "      <th>lastdate</th>\n",
              "      <td>2020-06-01 00:00:00</td>\n",
              "      <td>2020-06-01 00:00:00</td>\n",
              "    </tr>\n",
              "    <tr>\n",
              "      <th>location</th>\n",
              "      <td>Congo</td>\n",
              "      <td>Thailand</td>\n",
              "    </tr>\n",
              "    <tr>\n",
              "      <th>total_cases</th>\n",
              "      <td>611</td>\n",
              "      <td>3081</td>\n",
              "    </tr>\n",
              "    <tr>\n",
              "      <th>total_deaths</th>\n",
              "      <td>20</td>\n",
              "      <td>57</td>\n",
              "    </tr>\n",
              "    <tr>\n",
              "      <th>total_cases_pm</th>\n",
              "      <td>110.73</td>\n",
              "      <td>44.14</td>\n",
              "    </tr>\n",
              "    <tr>\n",
              "      <th>total_deaths_pm</th>\n",
              "      <td>3.62</td>\n",
              "      <td>0.82</td>\n",
              "    </tr>\n",
              "    <tr>\n",
              "      <th>population</th>\n",
              "      <td>5,518,092.00</td>\n",
              "      <td>69,799,978.00</td>\n",
              "    </tr>\n",
              "    <tr>\n",
              "      <th>pop_density</th>\n",
              "      <td>15.40</td>\n",
              "      <td>135.13</td>\n",
              "    </tr>\n",
              "    <tr>\n",
              "      <th>median_age</th>\n",
              "      <td>19.00</td>\n",
              "      <td>40.10</td>\n",
              "    </tr>\n",
              "    <tr>\n",
              "      <th>gdp_per_capita</th>\n",
              "      <td>4,881.41</td>\n",
              "      <td>16,277.67</td>\n",
              "    </tr>\n",
              "    <tr>\n",
              "      <th>hosp_beds</th>\n",
              "      <td>NaN</td>\n",
              "      <td>2.10</td>\n",
              "    </tr>\n",
              "  </tbody>\n",
              "</table>\n",
              "</div>"
            ],
            "text/plain": [
              "iso_code                         COG                  THA\n",
              "lastdate         2020-06-01 00:00:00  2020-06-01 00:00:00\n",
              "location                       Congo             Thailand\n",
              "total_cases                      611                 3081\n",
              "total_deaths                      20                   57\n",
              "total_cases_pm                110.73                44.14\n",
              "total_deaths_pm                 3.62                 0.82\n",
              "population              5,518,092.00        69,799,978.00\n",
              "pop_density                    15.40               135.13\n",
              "median_age                     19.00                40.10\n",
              "gdp_per_capita              4,881.41            16,277.67\n",
              "hosp_beds                        NaN                 2.10"
            ]
          },
          "metadata": {
            "tags": []
          },
          "execution_count": 3
        }
      ]
    },
    {
      "cell_type": "code",
      "metadata": {
        "colab": {
          "base_uri": "https://localhost:8080/"
        },
        "id": "xu6KUwL40DTC",
        "outputId": "7a2c9ad2-1e15-4eab-d0d1-d5d4d37741d5"
      },
      "source": [
        "covidtotals.dtypes"
      ],
      "execution_count": 4,
      "outputs": [
        {
          "output_type": "execute_result",
          "data": {
            "text/plain": [
              "lastdate           datetime64[ns]\n",
              "location                   object\n",
              "total_cases                 int64\n",
              "total_deaths                int64\n",
              "total_cases_pm            float64\n",
              "total_deaths_pm           float64\n",
              "population                float64\n",
              "pop_density               float64\n",
              "median_age                float64\n",
              "gdp_per_capita            float64\n",
              "hosp_beds                 float64\n",
              "dtype: object"
            ]
          },
          "metadata": {
            "tags": []
          },
          "execution_count": 4
        }
      ]
    },
    {
      "cell_type": "code",
      "metadata": {
        "colab": {
          "base_uri": "https://localhost:8080/",
          "height": 326
        },
        "id": "6aNIVCN00D-N",
        "outputId": "3539a8ad-3fc4-4f91-e370-67f857c68103"
      },
      "source": [
        "covidtotals.describe()"
      ],
      "execution_count": 5,
      "outputs": [
        {
          "output_type": "execute_result",
          "data": {
            "text/html": [
              "<div>\n",
              "<style scoped>\n",
              "    .dataframe tbody tr th:only-of-type {\n",
              "        vertical-align: middle;\n",
              "    }\n",
              "\n",
              "    .dataframe tbody tr th {\n",
              "        vertical-align: top;\n",
              "    }\n",
              "\n",
              "    .dataframe thead th {\n",
              "        text-align: right;\n",
              "    }\n",
              "</style>\n",
              "<table border=\"1\" class=\"dataframe\">\n",
              "  <thead>\n",
              "    <tr style=\"text-align: right;\">\n",
              "      <th></th>\n",
              "      <th>total_cases</th>\n",
              "      <th>total_deaths</th>\n",
              "      <th>total_cases_pm</th>\n",
              "      <th>...</th>\n",
              "      <th>median_age</th>\n",
              "      <th>gdp_per_capita</th>\n",
              "      <th>hosp_beds</th>\n",
              "    </tr>\n",
              "  </thead>\n",
              "  <tbody>\n",
              "    <tr>\n",
              "      <th>count</th>\n",
              "      <td>210.00</td>\n",
              "      <td>210.00</td>\n",
              "      <td>209.00</td>\n",
              "      <td>...</td>\n",
              "      <td>186.00</td>\n",
              "      <td>182.00</td>\n",
              "      <td>164.00</td>\n",
              "    </tr>\n",
              "    <tr>\n",
              "      <th>mean</th>\n",
              "      <td>29,216.14</td>\n",
              "      <td>1,770.71</td>\n",
              "      <td>1,361.84</td>\n",
              "      <td>...</td>\n",
              "      <td>30.63</td>\n",
              "      <td>19,539.15</td>\n",
              "      <td>3.01</td>\n",
              "    </tr>\n",
              "    <tr>\n",
              "      <th>std</th>\n",
              "      <td>136,397.80</td>\n",
              "      <td>8,705.57</td>\n",
              "      <td>2,629.89</td>\n",
              "      <td>...</td>\n",
              "      <td>9.13</td>\n",
              "      <td>19,862.35</td>\n",
              "      <td>2.46</td>\n",
              "    </tr>\n",
              "    <tr>\n",
              "      <th>min</th>\n",
              "      <td>0.00</td>\n",
              "      <td>0.00</td>\n",
              "      <td>0.89</td>\n",
              "      <td>...</td>\n",
              "      <td>15.10</td>\n",
              "      <td>661.24</td>\n",
              "      <td>0.10</td>\n",
              "    </tr>\n",
              "    <tr>\n",
              "      <th>25%</th>\n",
              "      <td>175.75</td>\n",
              "      <td>4.00</td>\n",
              "      <td>96.78</td>\n",
              "      <td>...</td>\n",
              "      <td>22.25</td>\n",
              "      <td>4,485.33</td>\n",
              "      <td>1.30</td>\n",
              "    </tr>\n",
              "    <tr>\n",
              "      <th>50%</th>\n",
              "      <td>1,242.50</td>\n",
              "      <td>25.50</td>\n",
              "      <td>282.00</td>\n",
              "      <td>...</td>\n",
              "      <td>30.25</td>\n",
              "      <td>13,183.08</td>\n",
              "      <td>2.36</td>\n",
              "    </tr>\n",
              "    <tr>\n",
              "      <th>75%</th>\n",
              "      <td>10,117.00</td>\n",
              "      <td>241.25</td>\n",
              "      <td>1,803.32</td>\n",
              "      <td>...</td>\n",
              "      <td>39.00</td>\n",
              "      <td>28,556.53</td>\n",
              "      <td>3.90</td>\n",
              "    </tr>\n",
              "    <tr>\n",
              "      <th>max</th>\n",
              "      <td>1,790,191.00</td>\n",
              "      <td>104,383.00</td>\n",
              "      <td>19,771.35</td>\n",
              "      <td>...</td>\n",
              "      <td>48.20</td>\n",
              "      <td>116,935.60</td>\n",
              "      <td>13.80</td>\n",
              "    </tr>\n",
              "  </tbody>\n",
              "</table>\n",
              "<p>8 rows × 9 columns</p>\n",
              "</div>"
            ],
            "text/plain": [
              "       total_cases  total_deaths  total_cases_pm  ...  median_age  \\\n",
              "count       210.00        210.00          209.00  ...      186.00   \n",
              "mean     29,216.14      1,770.71        1,361.84  ...       30.63   \n",
              "std     136,397.80      8,705.57        2,629.89  ...        9.13   \n",
              "min           0.00          0.00            0.89  ...       15.10   \n",
              "25%         175.75          4.00           96.78  ...       22.25   \n",
              "50%       1,242.50         25.50          282.00  ...       30.25   \n",
              "75%      10,117.00        241.25        1,803.32  ...       39.00   \n",
              "max   1,790,191.00    104,383.00       19,771.35  ...       48.20   \n",
              "\n",
              "       gdp_per_capita  hosp_beds  \n",
              "count          182.00     164.00  \n",
              "mean        19,539.15       3.01  \n",
              "std         19,862.35       2.46  \n",
              "min            661.24       0.10  \n",
              "25%          4,485.33       1.30  \n",
              "50%         13,183.08       2.36  \n",
              "75%         28,556.53       3.90  \n",
              "max        116,935.60      13.80  \n",
              "\n",
              "[8 rows x 9 columns]"
            ]
          },
          "metadata": {
            "tags": []
          },
          "execution_count": 5
        }
      ]
    },
    {
      "cell_type": "code",
      "metadata": {
        "colab": {
          "base_uri": "https://localhost:8080/",
          "height": 390
        },
        "id": "Sy3OfFSa0eiG",
        "outputId": "b5a30c0f-21ff-4d4c-e312-95de91a4d5fe"
      },
      "source": [
        "totvars = ['location','total_cases','total_deaths',\r\n",
        "  'total_cases_pm','total_deaths_pm']\r\n",
        "covidtotals[totvars].quantile(np.arange(0.0, 1.1, 0.1))"
      ],
      "execution_count": 6,
      "outputs": [
        {
          "output_type": "execute_result",
          "data": {
            "text/html": [
              "<div>\n",
              "<style scoped>\n",
              "    .dataframe tbody tr th:only-of-type {\n",
              "        vertical-align: middle;\n",
              "    }\n",
              "\n",
              "    .dataframe tbody tr th {\n",
              "        vertical-align: top;\n",
              "    }\n",
              "\n",
              "    .dataframe thead th {\n",
              "        text-align: right;\n",
              "    }\n",
              "</style>\n",
              "<table border=\"1\" class=\"dataframe\">\n",
              "  <thead>\n",
              "    <tr style=\"text-align: right;\">\n",
              "      <th></th>\n",
              "      <th>total_cases</th>\n",
              "      <th>total_deaths</th>\n",
              "      <th>total_cases_pm</th>\n",
              "      <th>total_deaths_pm</th>\n",
              "    </tr>\n",
              "  </thead>\n",
              "  <tbody>\n",
              "    <tr>\n",
              "      <th>0.00</th>\n",
              "      <td>0.00</td>\n",
              "      <td>0.00</td>\n",
              "      <td>0.89</td>\n",
              "      <td>0.00</td>\n",
              "    </tr>\n",
              "    <tr>\n",
              "      <th>0.10</th>\n",
              "      <td>22.90</td>\n",
              "      <td>0.00</td>\n",
              "      <td>18.49</td>\n",
              "      <td>0.00</td>\n",
              "    </tr>\n",
              "    <tr>\n",
              "      <th>0.20</th>\n",
              "      <td>105.20</td>\n",
              "      <td>2.00</td>\n",
              "      <td>56.74</td>\n",
              "      <td>0.40</td>\n",
              "    </tr>\n",
              "    <tr>\n",
              "      <th>0.30</th>\n",
              "      <td>302.00</td>\n",
              "      <td>6.70</td>\n",
              "      <td>118.23</td>\n",
              "      <td>1.73</td>\n",
              "    </tr>\n",
              "    <tr>\n",
              "      <th>0.40</th>\n",
              "      <td>762.00</td>\n",
              "      <td>12.00</td>\n",
              "      <td>214.92</td>\n",
              "      <td>3.97</td>\n",
              "    </tr>\n",
              "    <tr>\n",
              "      <th>0.50</th>\n",
              "      <td>1,242.50</td>\n",
              "      <td>25.50</td>\n",
              "      <td>282.00</td>\n",
              "      <td>6.21</td>\n",
              "    </tr>\n",
              "    <tr>\n",
              "      <th>0.60</th>\n",
              "      <td>2,514.60</td>\n",
              "      <td>54.60</td>\n",
              "      <td>546.05</td>\n",
              "      <td>12.56</td>\n",
              "    </tr>\n",
              "    <tr>\n",
              "      <th>0.70</th>\n",
              "      <td>6,959.80</td>\n",
              "      <td>137.20</td>\n",
              "      <td>1,074.03</td>\n",
              "      <td>26.06</td>\n",
              "    </tr>\n",
              "    <tr>\n",
              "      <th>0.80</th>\n",
              "      <td>16,847.20</td>\n",
              "      <td>323.20</td>\n",
              "      <td>2,208.74</td>\n",
              "      <td>50.29</td>\n",
              "    </tr>\n",
              "    <tr>\n",
              "      <th>0.90</th>\n",
              "      <td>46,513.10</td>\n",
              "      <td>1,616.90</td>\n",
              "      <td>3,772.00</td>\n",
              "      <td>139.53</td>\n",
              "    </tr>\n",
              "    <tr>\n",
              "      <th>1.00</th>\n",
              "      <td>1,790,191.00</td>\n",
              "      <td>104,383.00</td>\n",
              "      <td>19,771.35</td>\n",
              "      <td>1,237.55</td>\n",
              "    </tr>\n",
              "  </tbody>\n",
              "</table>\n",
              "</div>"
            ],
            "text/plain": [
              "      total_cases  total_deaths  total_cases_pm  total_deaths_pm\n",
              "0.00         0.00          0.00            0.89             0.00\n",
              "0.10        22.90          0.00           18.49             0.00\n",
              "0.20       105.20          2.00           56.74             0.40\n",
              "0.30       302.00          6.70          118.23             1.73\n",
              "0.40       762.00         12.00          214.92             3.97\n",
              "0.50     1,242.50         25.50          282.00             6.21\n",
              "0.60     2,514.60         54.60          546.05            12.56\n",
              "0.70     6,959.80        137.20        1,074.03            26.06\n",
              "0.80    16,847.20        323.20        2,208.74            50.29\n",
              "0.90    46,513.10      1,616.90        3,772.00           139.53\n",
              "1.00 1,790,191.00    104,383.00       19,771.35         1,237.55"
            ]
          },
          "metadata": {
            "tags": []
          },
          "execution_count": 6
        }
      ]
    },
    {
      "cell_type": "code",
      "metadata": {
        "colab": {
          "base_uri": "https://localhost:8080/",
          "height": 295
        },
        "id": "RykytD9z0nD0",
        "outputId": "b05f8529-4d32-4840-d882-eedc68dec946"
      },
      "source": [
        "# view the distribution of total cases\r\n",
        "plt.hist(covidtotals['total_cases']/1000, bins=12)\r\n",
        "plt.title(\"Total Covid Cases (in thousands)\")\r\n",
        "plt.xlabel('Cases')\r\n",
        "plt.ylabel(\"Number of Countries\")\r\n",
        "plt.show()"
      ],
      "execution_count": 7,
      "outputs": [
        {
          "output_type": "display_data",
          "data": {
            "image/png": "[encoded data removed]",
            "text/plain": [
              "<Figure size 432x288 with 1 Axes>"
            ]
          },
          "metadata": {
            "tags": [],
            "needs_background": "light"
          }
        }
      ]
    }
  ]
}