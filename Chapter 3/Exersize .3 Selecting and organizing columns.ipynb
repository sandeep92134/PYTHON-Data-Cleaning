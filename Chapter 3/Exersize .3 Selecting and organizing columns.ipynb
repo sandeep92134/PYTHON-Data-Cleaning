{
  "nbformat": 4,
  "nbformat_minor": 0,
  "metadata": {
    "colab": {
      "name": "Untitled5.ipynb",
      "provenance": [],
      "authorship_tag": "ABX9TyMDN0k/wfezRqHmrwIzTYEe",
      "include_colab_link": true
    },
    "kernelspec": {
      "name": "python3",
      "display_name": "Python 3"
    }
  },
  "cells": [
    {
      "cell_type": "markdown",
      "metadata": {
        "id": "view-in-github",
        "colab_type": "text"
      },
      "source": [
        "<a href=\"https://colab.research.google.com/github/sandeep92134/PYTHON-Data-Cleaning/blob/master/Chapter%203/Exersize%20.3%20Selecting%20and%20organizing%20columns.ipynb\" target=\"_parent\"><img src=\"https://colab.research.google.com/assets/colab-badge.svg\" alt=\"Open In Colab\"/></a>"
      ]
    },
    {
      "cell_type": "code",
      "metadata": {
        "id": "yBPARyJChxCh"
      },
      "source": [
        "import pandas as pd\r\n",
        "import numpy as np"
      ],
      "execution_count": 1,
      "outputs": []
    },
    {
      "cell_type": "code",
      "metadata": {
        "id": "18kbVraLh4F5"
      },
      "source": [
        "nls97 = pd.read_csv(\"https://raw.githubusercontent.com/sandeep92134/PYTHON-Data-Cleaning/master/Chapter%203/datasets/nls97.csv\")\r\n",
        "nls97.set_index(\"personid\", inplace=True)\r\n",
        "nls97.loc[:, nls97.dtypes == 'object'] = \\\r\n",
        "  nls97.select_dtypes(['object']). \\\r\n",
        "  apply(lambda x: x.astype('category'))"
      ],
      "execution_count": 4,
      "outputs": []
    },
    {
      "cell_type": "code",
      "metadata": {
        "colab": {
          "base_uri": "https://localhost:8080/"
        },
        "id": "5IRGCmsKjDob",
        "outputId": "b2c4e2af-6998-4c01-a988-d421d5416530"
      },
      "source": [
        "# select a column using the pandas index operator\r\n",
        "analysisdemo = nls97['gender']\r\n",
        "type(analysisdemo)"
      ],
      "execution_count": 5,
      "outputs": [
        {
          "output_type": "execute_result",
          "data": {
            "text/plain": [
              "pandas.core.series.Series"
            ]
          },
          "metadata": {
            "tags": []
          },
          "execution_count": 5
        }
      ]
    },
    {
      "cell_type": "code",
      "metadata": {
        "colab": {
          "base_uri": "https://localhost:8080/"
        },
        "id": "oUti2yEoiiF9",
        "outputId": "b18b81e3-0159-4776-fc9f-62df266b135e"
      },
      "source": [
        "analysisdemo = nls97[['gender']]\r\n",
        "type(analysisdemo)"
      ],
      "execution_count": 6,
      "outputs": [
        {
          "output_type": "execute_result",
          "data": {
            "text/plain": [
              "pandas.core.frame.DataFrame"
            ]
          },
          "metadata": {
            "tags": []
          },
          "execution_count": 6
        }
      ]
    },
    {
      "cell_type": "code",
      "metadata": {
        "colab": {
          "base_uri": "https://localhost:8080/"
        },
        "id": "XgzhoNcCjR3s",
        "outputId": "b8adb24f-1fa6-4940-c8ad-27570da242b9"
      },
      "source": [
        "analysisdemo.dtypes"
      ],
      "execution_count": 7,
      "outputs": [
        {
          "output_type": "execute_result",
          "data": {
            "text/plain": [
              "gender    category\n",
              "dtype: object"
            ]
          },
          "metadata": {
            "tags": []
          },
          "execution_count": 7
        }
      ]
    },
    {
      "cell_type": "code",
      "metadata": {
        "colab": {
          "base_uri": "https://localhost:8080/"
        },
        "id": "AKkphCbXjAcL",
        "outputId": "9f813b4b-db55-4a88-de87-5115f434b89d"
      },
      "source": [
        "analysisdemo = nls97.loc[:,['gender']]\r\n",
        "type(analysisdemo)"
      ],
      "execution_count": 8,
      "outputs": [
        {
          "output_type": "execute_result",
          "data": {
            "text/plain": [
              "pandas.core.frame.DataFrame"
            ]
          },
          "metadata": {
            "tags": []
          },
          "execution_count": 8
        }
      ]
    },
    {
      "cell_type": "code",
      "metadata": {
        "colab": {
          "base_uri": "https://localhost:8080/"
        },
        "id": "jVrfPI0jjULJ",
        "outputId": "c040e920-807c-4cb4-fd5e-c9120ddcc6fa"
      },
      "source": [
        "analysisdemo.dtypes"
      ],
      "execution_count": 9,
      "outputs": [
        {
          "output_type": "execute_result",
          "data": {
            "text/plain": [
              "gender    category\n",
              "dtype: object"
            ]
          },
          "metadata": {
            "tags": []
          },
          "execution_count": 9
        }
      ]
    },
    {
      "cell_type": "code",
      "metadata": {
        "colab": {
          "base_uri": "https://localhost:8080/"
        },
        "id": "-lL5lSoci7aK",
        "outputId": "029cdd9b-8a81-435c-8ef0-80a159f1ff23"
      },
      "source": [
        "analysisdemo = nls97.iloc[:,[0]]\r\n",
        "type(analysisdemo)"
      ],
      "execution_count": 10,
      "outputs": [
        {
          "output_type": "execute_result",
          "data": {
            "text/plain": [
              "pandas.core.frame.DataFrame"
            ]
          },
          "metadata": {
            "tags": []
          },
          "execution_count": 10
        }
      ]
    },
    {
      "cell_type": "code",
      "metadata": {
        "colab": {
          "base_uri": "https://localhost:8080/"
        },
        "id": "Uy1KJEMJjXSH",
        "outputId": "f4a9e252-dae3-4128-95b9-61ae0ef06fc7"
      },
      "source": [
        "analysisdemo.dtypes"
      ],
      "execution_count": 11,
      "outputs": [
        {
          "output_type": "execute_result",
          "data": {
            "text/plain": [
              "gender    category\n",
              "dtype: object"
            ]
          },
          "metadata": {
            "tags": []
          },
          "execution_count": 11
        }
      ]
    },
    {
      "cell_type": "code",
      "metadata": {
        "colab": {
          "base_uri": "https://localhost:8080/"
        },
        "id": "SPHBcac9j5ZX",
        "outputId": "19e44855-d824-4116-efca-7bcf5e793ac0"
      },
      "source": [
        "# select multiple columns from a pandas data frame\r\n",
        "analysisdemo = nls97[['gender','maritalstatus',\r\n",
        " 'highestgradecompleted']]\r\n",
        "analysisdemo.shape"
      ],
      "execution_count": 12,
      "outputs": [
        {
          "output_type": "execute_result",
          "data": {
            "text/plain": [
              "(8984, 3)"
            ]
          },
          "metadata": {
            "tags": []
          },
          "execution_count": 12
        }
      ]
    },
    {
      "cell_type": "code",
      "metadata": {
        "colab": {
          "base_uri": "https://localhost:8080/",
          "height": 235
        },
        "id": "wzwHbqM2kDK5",
        "outputId": "461fa544-e8a0-4c95-9eb8-c32f5bad1d66"
      },
      "source": [
        "analysisdemo.head()"
      ],
      "execution_count": 13,
      "outputs": [
        {
          "output_type": "execute_result",
          "data": {
            "text/html": [
              "<div>\n",
              "<style scoped>\n",
              "    .dataframe tbody tr th:only-of-type {\n",
              "        vertical-align: middle;\n",
              "    }\n",
              "\n",
              "    .dataframe tbody tr th {\n",
              "        vertical-align: top;\n",
              "    }\n",
              "\n",
              "    .dataframe thead th {\n",
              "        text-align: right;\n",
              "    }\n",
              "</style>\n",
              "<table border=\"1\" class=\"dataframe\">\n",
              "  <thead>\n",
              "    <tr style=\"text-align: right;\">\n",
              "      <th></th>\n",
              "      <th>gender</th>\n",
              "      <th>maritalstatus</th>\n",
              "      <th>highestgradecompleted</th>\n",
              "    </tr>\n",
              "    <tr>\n",
              "      <th>personid</th>\n",
              "      <th></th>\n",
              "      <th></th>\n",
              "      <th></th>\n",
              "    </tr>\n",
              "  </thead>\n",
              "  <tbody>\n",
              "    <tr>\n",
              "      <th>100061</th>\n",
              "      <td>Female</td>\n",
              "      <td>Married</td>\n",
              "      <td>13.0</td>\n",
              "    </tr>\n",
              "    <tr>\n",
              "      <th>100139</th>\n",
              "      <td>Male</td>\n",
              "      <td>Married</td>\n",
              "      <td>12.0</td>\n",
              "    </tr>\n",
              "    <tr>\n",
              "      <th>100284</th>\n",
              "      <td>Male</td>\n",
              "      <td>Never-married</td>\n",
              "      <td>7.0</td>\n",
              "    </tr>\n",
              "    <tr>\n",
              "      <th>100292</th>\n",
              "      <td>Male</td>\n",
              "      <td>NaN</td>\n",
              "      <td>NaN</td>\n",
              "    </tr>\n",
              "    <tr>\n",
              "      <th>100583</th>\n",
              "      <td>Male</td>\n",
              "      <td>Married</td>\n",
              "      <td>13.0</td>\n",
              "    </tr>\n",
              "  </tbody>\n",
              "</table>\n",
              "</div>"
            ],
            "text/plain": [
              "          gender  maritalstatus  highestgradecompleted\n",
              "personid                                              \n",
              "100061    Female        Married                   13.0\n",
              "100139      Male        Married                   12.0\n",
              "100284      Male  Never-married                    7.0\n",
              "100292      Male            NaN                    NaN\n",
              "100583      Male        Married                   13.0"
            ]
          },
          "metadata": {
            "tags": []
          },
          "execution_count": 13
        }
      ]
    },
    {
      "cell_type": "code",
      "metadata": {
        "colab": {
          "base_uri": "https://localhost:8080/"
        },
        "id": "Nl5a-Vh1kJw4",
        "outputId": "4ebe534e-b229-4e39-eebf-85b31c7a6cd4"
      },
      "source": [
        "analysisdemo = nls97.loc[:,['gender','maritalstatus',\r\n",
        " 'highestgradecompleted']]\r\n",
        "analysisdemo.shape"
      ],
      "execution_count": 14,
      "outputs": [
        {
          "output_type": "execute_result",
          "data": {
            "text/plain": [
              "(8984, 3)"
            ]
          },
          "metadata": {
            "tags": []
          },
          "execution_count": 14
        }
      ]
    },
    {
      "cell_type": "code",
      "metadata": {
        "colab": {
          "base_uri": "https://localhost:8080/",
          "height": 235
        },
        "id": "37dFrXvEkTGh",
        "outputId": "a63e72af-805c-4403-8638-1d7852cbd43e"
      },
      "source": [
        "analysisdemo.head()"
      ],
      "execution_count": 15,
      "outputs": [
        {
          "output_type": "execute_result",
          "data": {
            "text/html": [
              "<div>\n",
              "<style scoped>\n",
              "    .dataframe tbody tr th:only-of-type {\n",
              "        vertical-align: middle;\n",
              "    }\n",
              "\n",
              "    .dataframe tbody tr th {\n",
              "        vertical-align: top;\n",
              "    }\n",
              "\n",
              "    .dataframe thead th {\n",
              "        text-align: right;\n",
              "    }\n",
              "</style>\n",
              "<table border=\"1\" class=\"dataframe\">\n",
              "  <thead>\n",
              "    <tr style=\"text-align: right;\">\n",
              "      <th></th>\n",
              "      <th>gender</th>\n",
              "      <th>maritalstatus</th>\n",
              "      <th>highestgradecompleted</th>\n",
              "    </tr>\n",
              "    <tr>\n",
              "      <th>personid</th>\n",
              "      <th></th>\n",
              "      <th></th>\n",
              "      <th></th>\n",
              "    </tr>\n",
              "  </thead>\n",
              "  <tbody>\n",
              "    <tr>\n",
              "      <th>100061</th>\n",
              "      <td>Female</td>\n",
              "      <td>Married</td>\n",
              "      <td>13.0</td>\n",
              "    </tr>\n",
              "    <tr>\n",
              "      <th>100139</th>\n",
              "      <td>Male</td>\n",
              "      <td>Married</td>\n",
              "      <td>12.0</td>\n",
              "    </tr>\n",
              "    <tr>\n",
              "      <th>100284</th>\n",
              "      <td>Male</td>\n",
              "      <td>Never-married</td>\n",
              "      <td>7.0</td>\n",
              "    </tr>\n",
              "    <tr>\n",
              "      <th>100292</th>\n",
              "      <td>Male</td>\n",
              "      <td>NaN</td>\n",
              "      <td>NaN</td>\n",
              "    </tr>\n",
              "    <tr>\n",
              "      <th>100583</th>\n",
              "      <td>Male</td>\n",
              "      <td>Married</td>\n",
              "      <td>13.0</td>\n",
              "    </tr>\n",
              "  </tbody>\n",
              "</table>\n",
              "</div>"
            ],
            "text/plain": [
              "          gender  maritalstatus  highestgradecompleted\n",
              "personid                                              \n",
              "100061    Female        Married                   13.0\n",
              "100139      Male        Married                   12.0\n",
              "100284      Male  Never-married                    7.0\n",
              "100292      Male            NaN                    NaN\n",
              "100583      Male        Married                   13.0"
            ]
          },
          "metadata": {
            "tags": []
          },
          "execution_count": 15
        }
      ]
    },
    {
      "cell_type": "code",
      "metadata": {
        "colab": {
          "base_uri": "https://localhost:8080/"
        },
        "id": "uMO0AG8Ckdy4",
        "outputId": "ed01f882-2432-4b95-c986-294ea8e00e28"
      },
      "source": [
        "# use lists to select multiple columns\r\n",
        "keyvars = ['gender','maritalstatus',\r\n",
        " 'highestgradecompleted','wageincome',\r\n",
        " 'gpaoverall','weeksworked17','colenroct17']\r\n",
        "analysiskeys = nls97[keyvars]\r\n",
        "analysiskeys.info()"
      ],
      "execution_count": 16,
      "outputs": [
        {
          "output_type": "stream",
          "text": [
            "<class 'pandas.core.frame.DataFrame'>\n",
            "Int64Index: 8984 entries, 100061 to 999963\n",
            "Data columns (total 7 columns):\n",
            " #   Column                 Non-Null Count  Dtype   \n",
            "---  ------                 --------------  -----   \n",
            " 0   gender                 8984 non-null   category\n",
            " 1   maritalstatus          6672 non-null   category\n",
            " 2   highestgradecompleted  6663 non-null   float64 \n",
            " 3   wageincome             5091 non-null   float64 \n",
            " 4   gpaoverall             6004 non-null   float64 \n",
            " 5   weeksworked17          6670 non-null   float64 \n",
            " 6   colenroct17            6734 non-null   category\n",
            "dtypes: category(3), float64(4)\n",
            "memory usage: 377.7 KB\n"
          ],
          "name": "stdout"
        }
      ]
    },
    {
      "cell_type": "code",
      "metadata": {
        "colab": {
          "base_uri": "https://localhost:8080/"
        },
        "id": "zB-MffyAkoiR",
        "outputId": "89214f82-9950-41a3-e148-64a16410748e"
      },
      "source": [
        "# select multiple columns using the filter operator\r\n",
        "analysiswork = nls97.filter(like=\"weeksworked\")\r\n",
        "analysiswork.info()"
      ],
      "execution_count": 17,
      "outputs": [
        {
          "output_type": "stream",
          "text": [
            "<class 'pandas.core.frame.DataFrame'>\n",
            "Int64Index: 8984 entries, 100061 to 999963\n",
            "Data columns (total 18 columns):\n",
            " #   Column         Non-Null Count  Dtype  \n",
            "---  ------         --------------  -----  \n",
            " 0   weeksworked00  8603 non-null   float64\n",
            " 1   weeksworked01  8564 non-null   float64\n",
            " 2   weeksworked02  8556 non-null   float64\n",
            " 3   weeksworked03  8490 non-null   float64\n",
            " 4   weeksworked04  8458 non-null   float64\n",
            " 5   weeksworked05  8403 non-null   float64\n",
            " 6   weeksworked06  8340 non-null   float64\n",
            " 7   weeksworked07  8272 non-null   float64\n",
            " 8   weeksworked08  8186 non-null   float64\n",
            " 9   weeksworked09  8146 non-null   float64\n",
            " 10  weeksworked10  8054 non-null   float64\n",
            " 11  weeksworked11  7968 non-null   float64\n",
            " 12  weeksworked12  7747 non-null   float64\n",
            " 13  weeksworked13  7680 non-null   float64\n",
            " 14  weeksworked14  7612 non-null   float64\n",
            " 15  weeksworked15  7389 non-null   float64\n",
            " 16  weeksworked16  7068 non-null   float64\n",
            " 17  weeksworked17  6670 non-null   float64\n",
            "dtypes: float64(18)\n",
            "memory usage: 1.3 MB\n"
          ],
          "name": "stdout"
        }
      ]
    },
    {
      "cell_type": "code",
      "metadata": {
        "colab": {
          "base_uri": "https://localhost:8080/"
        },
        "id": "D8MFt2jekzWP",
        "outputId": "f3893c7d-2fe9-49fa-97fc-b1cf1eab4a8d"
      },
      "source": [
        "# select multiple columns based on data types\r\n",
        "analysiscats = nls97.select_dtypes(include=[\"category\"])\r\n",
        "analysiscats.info()"
      ],
      "execution_count": 18,
      "outputs": [
        {
          "output_type": "stream",
          "text": [
            "<class 'pandas.core.frame.DataFrame'>\n",
            "Int64Index: 8984 entries, 100061 to 999963\n",
            "Data columns (total 57 columns):\n",
            " #   Column                 Non-Null Count  Dtype   \n",
            "---  ------                 --------------  -----   \n",
            " 0   gender                 8984 non-null   category\n",
            " 1   maritalstatus          6672 non-null   category\n",
            " 2   weeklyhrscomputer      6710 non-null   category\n",
            " 3   weeklyhrstv            6711 non-null   category\n",
            " 4   highestdegree          8953 non-null   category\n",
            " 5   govprovidejobs         1833 non-null   category\n",
            " 6   govpricecontrols       1859 non-null   category\n",
            " 7   govhealthcare          1874 non-null   category\n",
            " 8   govelderliving         1872 non-null   category\n",
            " 9   govindhelp             1815 non-null   category\n",
            " 10  govunemp               1811 non-null   category\n",
            " 11  govincomediff          1775 non-null   category\n",
            " 12  govcollegefinance      1875 non-null   category\n",
            " 13  govdecenthousing       1847 non-null   category\n",
            " 14  govprotectenvironment  1860 non-null   category\n",
            " 15  colenrfeb97            1250 non-null   category\n",
            " 16  colenroct97            8501 non-null   category\n",
            " 17  colenrfeb98            8501 non-null   category\n",
            " 18  colenroct98            8888 non-null   category\n",
            " 19  colenrfeb99            8865 non-null   category\n",
            " 20  colenroct99            8851 non-null   category\n",
            " 21  colenrfeb00            8820 non-null   category\n",
            " 22  colenroct00            8805 non-null   category\n",
            " 23  colenrfeb01            8786 non-null   category\n",
            " 24  colenroct01            8758 non-null   category\n",
            " 25  colenrfeb02            8732 non-null   category\n",
            " 26  colenroct02            8698 non-null   category\n",
            " 27  colenrfeb03            8658 non-null   category\n",
            " 28  colenroct03            8622 non-null   category\n",
            " 29  colenrfeb04            8578 non-null   category\n",
            " 30  colenroct04            8546 non-null   category\n",
            " 31  colenrfeb05            8508 non-null   category\n",
            " 32  colenroct05            8471 non-null   category\n",
            " 33  colenrfeb06            8426 non-null   category\n",
            " 34  colenroct06            8407 non-null   category\n",
            " 35  colenrfeb07            8352 non-null   category\n",
            " 36  colenroct07            8331 non-null   category\n",
            " 37  colenrfeb08            8289 non-null   category\n",
            " 38  colenroct08            8280 non-null   category\n",
            " 39  colenrfeb09            8236 non-null   category\n",
            " 40  colenroct09            8193 non-null   category\n",
            " 41  colenrfeb10            8116 non-null   category\n",
            " 42  colenroct10            8091 non-null   category\n",
            " 43  colenrfeb11            8037 non-null   category\n",
            " 44  colenroct11            7972 non-null   category\n",
            " 45  colenrfeb12            7794 non-null   category\n",
            " 46  colenroct12            7754 non-null   category\n",
            " 47  colenrfeb13            7754 non-null   category\n",
            " 48  colenroct13            7754 non-null   category\n",
            " 49  colenrfeb14            7624 non-null   category\n",
            " 50  colenroct14            7469 non-null   category\n",
            " 51  colenrfeb15            7469 non-null   category\n",
            " 52  colenroct15            7469 non-null   category\n",
            " 53  colenrfeb16            7036 non-null   category\n",
            " 54  colenroct16            6733 non-null   category\n",
            " 55  colenrfeb17            6733 non-null   category\n",
            " 56  colenroct17            6734 non-null   category\n",
            "dtypes: category(57)\n",
            "memory usage: 580.0 KB\n"
          ],
          "name": "stdout"
        }
      ]
    },
    {
      "cell_type": "code",
      "metadata": {
        "colab": {
          "base_uri": "https://localhost:8080/"
        },
        "id": "V7zUeCDDk-RD",
        "outputId": "22899bcf-af7b-43ce-dcc1-70fb61f8da01"
      },
      "source": [
        "analysisnums = nls97.select_dtypes(include=[\"number\"])\r\n",
        "analysisnums.info()"
      ],
      "execution_count": 19,
      "outputs": [
        {
          "output_type": "stream",
          "text": [
            "<class 'pandas.core.frame.DataFrame'>\n",
            "Int64Index: 8984 entries, 100061 to 999963\n",
            "Data columns (total 31 columns):\n",
            " #   Column                 Non-Null Count  Dtype  \n",
            "---  ------                 --------------  -----  \n",
            " 0   birthmonth             8984 non-null   int64  \n",
            " 1   birthyear              8984 non-null   int64  \n",
            " 2   highestgradecompleted  6663 non-null   float64\n",
            " 3   childathome            4791 non-null   float64\n",
            " 4   childnotathome         4791 non-null   float64\n",
            " 5   wageincome             5091 non-null   float64\n",
            " 6   nightlyhrssleep        6706 non-null   float64\n",
            " 7   satverbal              1406 non-null   float64\n",
            " 8   satmath                1407 non-null   float64\n",
            " 9   gpaoverall             6004 non-null   float64\n",
            " 10  gpaenglish             5798 non-null   float64\n",
            " 11  gpamath                5766 non-null   float64\n",
            " 12  gpascience             5684 non-null   float64\n",
            " 13  weeksworked00          8603 non-null   float64\n",
            " 14  weeksworked01          8564 non-null   float64\n",
            " 15  weeksworked02          8556 non-null   float64\n",
            " 16  weeksworked03          8490 non-null   float64\n",
            " 17  weeksworked04          8458 non-null   float64\n",
            " 18  weeksworked05          8403 non-null   float64\n",
            " 19  weeksworked06          8340 non-null   float64\n",
            " 20  weeksworked07          8272 non-null   float64\n",
            " 21  weeksworked08          8186 non-null   float64\n",
            " 22  weeksworked09          8146 non-null   float64\n",
            " 23  weeksworked10          8054 non-null   float64\n",
            " 24  weeksworked11          7968 non-null   float64\n",
            " 25  weeksworked12          7747 non-null   float64\n",
            " 26  weeksworked13          7680 non-null   float64\n",
            " 27  weeksworked14          7612 non-null   float64\n",
            " 28  weeksworked15          7389 non-null   float64\n",
            " 29  weeksworked16          7068 non-null   float64\n",
            " 30  weeksworked17          6670 non-null   float64\n",
            "dtypes: float64(29), int64(2)\n",
            "memory usage: 2.2 MB\n"
          ],
          "name": "stdout"
        }
      ]
    },
    {
      "cell_type": "code",
      "metadata": {
        "id": "cgFPn7lBlEyj"
      },
      "source": [
        "# organize columns\r\n",
        "demo = ['gender','birthmonth','birthyear']\r\n",
        "highschoolrecord = ['satverbal','satmath','gpaoverall',\r\n",
        " 'gpaenglish','gpamath','gpascience']\r\n",
        "govresp = ['govprovidejobs','govpricecontrols',\r\n",
        "  'govhealthcare','govelderliving','govindhelp',\r\n",
        "  'govunemp','govincomediff','govcollegefinance',\r\n",
        "  'govdecenthousing','govprotectenvironment']\r\n",
        "demoadult = ['highestgradecompleted','maritalstatus',\r\n",
        "  'childathome','childnotathome','wageincome',\r\n",
        "  'weeklyhrscomputer','weeklyhrstv','nightlyhrssleep',\r\n",
        "  'highestdegree']\r\n",
        "weeksworked = ['weeksworked00','weeksworked01',\r\n",
        "  'weeksworked02','weeksworked03','weeksworked04',\r\n",
        "  'weeksworked05','weeksworked06',  'weeksworked07',\r\n",
        "  'weeksworked08','weeksworked09','weeksworked10',\r\n",
        "  'weeksworked11','weeksworked12','weeksworked13',\r\n",
        "  'weeksworked14','weeksworked15','weeksworked16',\r\n",
        "  'weeksworked17']\r\n",
        "colenr = ['colenrfeb97','colenroct97','colenrfeb98',\r\n",
        "  'colenroct98','colenrfeb99',  'colenroct99',\r\n",
        "  'colenrfeb00','colenroct00','colenrfeb01',\r\n",
        "  'colenroct01','colenrfeb02','colenroct02',\r\n",
        "  'colenrfeb03','colenroct03','colenrfeb04',\r\n",
        "  'colenroct04','colenrfeb05','colenroct05',\r\n",
        "  'colenrfeb06','colenroct06','colenrfeb07',\r\n",
        "  'colenroct07','colenrfeb08','colenroct08',\r\n",
        "  'colenrfeb09','colenroct09','colenrfeb10',\r\n",
        "  'colenroct10','colenrfeb11','colenroct11',\r\n",
        "  'colenrfeb12','colenroct12','colenrfeb13',\r\n",
        "  'colenroct13',  'colenrfeb14','colenroct14',\r\n",
        "  'colenrfeb15','colenroct15','colenrfeb16',\r\n",
        "  'colenroct16','colenrfeb17','colenroct17']"
      ],
      "execution_count": 20,
      "outputs": []
    },
    {
      "cell_type": "code",
      "metadata": {
        "colab": {
          "base_uri": "https://localhost:8080/"
        },
        "id": "s6HcgCmelTgt",
        "outputId": "16de9993-f912-4642-8eac-0899e4dfb054"
      },
      "source": [
        "nls97 = nls97[demoadult + demo + highschoolrecord + \\\r\n",
        "  govresp + weeksworked + colenr]\r\n",
        "nls97.dtypes"
      ],
      "execution_count": 21,
      "outputs": [
        {
          "output_type": "execute_result",
          "data": {
            "text/plain": [
              "highestgradecompleted     float64\n",
              "maritalstatus            category\n",
              "childathome               float64\n",
              "childnotathome            float64\n",
              "wageincome                float64\n",
              "                           ...   \n",
              "colenroct15              category\n",
              "colenrfeb16              category\n",
              "colenroct16              category\n",
              "colenrfeb17              category\n",
              "colenroct17              category\n",
              "Length: 88, dtype: object"
            ]
          },
          "metadata": {
            "tags": []
          },
          "execution_count": 21
        }
      ]
    },
    {
      "cell_type": "code",
      "metadata": {
        "colab": {
          "base_uri": "https://localhost:8080/"
        },
        "id": "5dzNiILrlbZT",
        "outputId": "db16b175-6e47-425f-c5e7-901a7c56350c"
      },
      "source": [
        "nls97.select_dtypes(exclude=[\"category\"]).info()"
      ],
      "execution_count": 22,
      "outputs": [
        {
          "output_type": "stream",
          "text": [
            "<class 'pandas.core.frame.DataFrame'>\n",
            "Int64Index: 8984 entries, 100061 to 999963\n",
            "Data columns (total 31 columns):\n",
            " #   Column                 Non-Null Count  Dtype  \n",
            "---  ------                 --------------  -----  \n",
            " 0   highestgradecompleted  6663 non-null   float64\n",
            " 1   childathome            4791 non-null   float64\n",
            " 2   childnotathome         4791 non-null   float64\n",
            " 3   wageincome             5091 non-null   float64\n",
            " 4   nightlyhrssleep        6706 non-null   float64\n",
            " 5   birthmonth             8984 non-null   int64  \n",
            " 6   birthyear              8984 non-null   int64  \n",
            " 7   satverbal              1406 non-null   float64\n",
            " 8   satmath                1407 non-null   float64\n",
            " 9   gpaoverall             6004 non-null   float64\n",
            " 10  gpaenglish             5798 non-null   float64\n",
            " 11  gpamath                5766 non-null   float64\n",
            " 12  gpascience             5684 non-null   float64\n",
            " 13  weeksworked00          8603 non-null   float64\n",
            " 14  weeksworked01          8564 non-null   float64\n",
            " 15  weeksworked02          8556 non-null   float64\n",
            " 16  weeksworked03          8490 non-null   float64\n",
            " 17  weeksworked04          8458 non-null   float64\n",
            " 18  weeksworked05          8403 non-null   float64\n",
            " 19  weeksworked06          8340 non-null   float64\n",
            " 20  weeksworked07          8272 non-null   float64\n",
            " 21  weeksworked08          8186 non-null   float64\n",
            " 22  weeksworked09          8146 non-null   float64\n",
            " 23  weeksworked10          8054 non-null   float64\n",
            " 24  weeksworked11          7968 non-null   float64\n",
            " 25  weeksworked12          7747 non-null   float64\n",
            " 26  weeksworked13          7680 non-null   float64\n",
            " 27  weeksworked14          7612 non-null   float64\n",
            " 28  weeksworked15          7389 non-null   float64\n",
            " 29  weeksworked16          7068 non-null   float64\n",
            " 30  weeksworked17          6670 non-null   float64\n",
            "dtypes: float64(29), int64(2)\n",
            "memory usage: 2.2 MB\n"
          ],
          "name": "stdout"
        }
      ]
    },
    {
      "cell_type": "code",
      "metadata": {
        "colab": {
          "base_uri": "https://localhost:8080/",
          "height": 450
        },
        "id": "Kj4lq1jSl3ky",
        "outputId": "15f9024a-4969-4109-b588-d8b79972b82a"
      },
      "source": [
        "nls97.filter(regex='income')"
      ],
      "execution_count": 23,
      "outputs": [
        {
          "output_type": "execute_result",
          "data": {
            "text/html": [
              "<div>\n",
              "<style scoped>\n",
              "    .dataframe tbody tr th:only-of-type {\n",
              "        vertical-align: middle;\n",
              "    }\n",
              "\n",
              "    .dataframe tbody tr th {\n",
              "        vertical-align: top;\n",
              "    }\n",
              "\n",
              "    .dataframe thead th {\n",
              "        text-align: right;\n",
              "    }\n",
              "</style>\n",
              "<table border=\"1\" class=\"dataframe\">\n",
              "  <thead>\n",
              "    <tr style=\"text-align: right;\">\n",
              "      <th></th>\n",
              "      <th>wageincome</th>\n",
              "      <th>govincomediff</th>\n",
              "    </tr>\n",
              "    <tr>\n",
              "      <th>personid</th>\n",
              "      <th></th>\n",
              "      <th></th>\n",
              "    </tr>\n",
              "  </thead>\n",
              "  <tbody>\n",
              "    <tr>\n",
              "      <th>100061</th>\n",
              "      <td>12500.0</td>\n",
              "      <td>NaN</td>\n",
              "    </tr>\n",
              "    <tr>\n",
              "      <th>100139</th>\n",
              "      <td>120000.0</td>\n",
              "      <td>NaN</td>\n",
              "    </tr>\n",
              "    <tr>\n",
              "      <th>100284</th>\n",
              "      <td>58000.0</td>\n",
              "      <td>NaN</td>\n",
              "    </tr>\n",
              "    <tr>\n",
              "      <th>100292</th>\n",
              "      <td>NaN</td>\n",
              "      <td>NaN</td>\n",
              "    </tr>\n",
              "    <tr>\n",
              "      <th>100583</th>\n",
              "      <td>30000.0</td>\n",
              "      <td>NaN</td>\n",
              "    </tr>\n",
              "    <tr>\n",
              "      <th>...</th>\n",
              "      <td>...</td>\n",
              "      <td>...</td>\n",
              "    </tr>\n",
              "    <tr>\n",
              "      <th>999291</th>\n",
              "      <td>35000.0</td>\n",
              "      <td>NaN</td>\n",
              "    </tr>\n",
              "    <tr>\n",
              "      <th>999406</th>\n",
              "      <td>116000.0</td>\n",
              "      <td>NaN</td>\n",
              "    </tr>\n",
              "    <tr>\n",
              "      <th>999543</th>\n",
              "      <td>NaN</td>\n",
              "      <td>NaN</td>\n",
              "    </tr>\n",
              "    <tr>\n",
              "      <th>999698</th>\n",
              "      <td>NaN</td>\n",
              "      <td>NaN</td>\n",
              "    </tr>\n",
              "    <tr>\n",
              "      <th>999963</th>\n",
              "      <td>50000.0</td>\n",
              "      <td>NaN</td>\n",
              "    </tr>\n",
              "  </tbody>\n",
              "</table>\n",
              "<p>8984 rows × 2 columns</p>\n",
              "</div>"
            ],
            "text/plain": [
              "          wageincome govincomediff\n",
              "personid                          \n",
              "100061       12500.0           NaN\n",
              "100139      120000.0           NaN\n",
              "100284       58000.0           NaN\n",
              "100292           NaN           NaN\n",
              "100583       30000.0           NaN\n",
              "...              ...           ...\n",
              "999291       35000.0           NaN\n",
              "999406      116000.0           NaN\n",
              "999543           NaN           NaN\n",
              "999698           NaN           NaN\n",
              "999963       50000.0           NaN\n",
              "\n",
              "[8984 rows x 2 columns]"
            ]
          },
          "metadata": {
            "tags": []
          },
          "execution_count": 23
        }
      ]
    }
  ]
}