{
  "nbformat": 4,
  "nbformat_minor": 0,
  "metadata": {
    "colab": {
      "name": "Untitled4.ipynb",
      "provenance": [],
      "authorship_tag": "ABX9TyOMKUnHcZ1KFW0a5X31QdZF",
      "include_colab_link": true
    },
    "kernelspec": {
      "name": "python3",
      "display_name": "Python 3"
    }
  },
  "cells": [
    {
      "cell_type": "markdown",
      "metadata": {
        "id": "view-in-github",
        "colab_type": "text"
      },
      "source": [
        "<a href=\"https://colab.research.google.com/github/sandeep92134/PYTHON-Data-Cleaning/blob/master/Chapter%203/Exersize%201.%20Getting%20a%20first%20look%20at%20your%20data.ipynb\" target=\"_parent\"><img src=\"https://colab.research.google.com/assets/colab-badge.svg\" alt=\"Open In Colab\"/></a>"
      ]
    },
    {
      "cell_type": "code",
      "metadata": {
        "id": "AytnxwYdHX3V"
      },
      "source": [
        "import pandas as pd\r\n",
        "import numpy as np\r\n",
        "\r\n",
        "pd.set_option('display.width', 70)\r\n",
        "pd.set_option('display.max_columns', 5)\r\n",
        "pd.set_option('display.max_rows', 20)\r\n",
        "pd.options.display.float_format = '{:,.0f}'.format\r\n",
        "\r\n",
        "nls97 = pd.read_csv(\"https://raw.githubusercontent.com/sandeep92134/PYTHON-Data-Cleaning/master/Chapter%203/datasets/nls97.csv\")"
      ],
      "execution_count": 1,
      "outputs": []
    },
    {
      "cell_type": "code",
      "metadata": {
        "id": "kE3Kt_L-L-TD"
      },
      "source": [
        "covidtotals = pd.read_csv(\"https://raw.githubusercontent.com/sandeep92134/PYTHON-Data-Cleaning/master/Chapter%203/datasets/covidtotals.csv\", parse_dates=['lastdate'])"
      ],
      "execution_count": 3,
      "outputs": []
    },
    {
      "cell_type": "code",
      "metadata": {
        "colab": {
          "base_uri": "https://localhost:8080/"
        },
        "id": "DJ04JDKgMRkW",
        "outputId": "b58986bc-bf0f-4c41-d5b7-e6f468262ff9"
      },
      "source": [
        "# Get basic stats on the nls dataset\r\n",
        "nls97.set_index(\"personid\", inplace=True)\r\n",
        "nls97.index"
      ],
      "execution_count": 4,
      "outputs": [
        {
          "output_type": "execute_result",
          "data": {
            "text/plain": [
              "Int64Index([100061, 100139, 100284, 100292, 100583, 100833, 100931,\n",
              "            101089, 101122, 101132,\n",
              "            ...\n",
              "            998997, 999031, 999053, 999087, 999103, 999291, 999406,\n",
              "            999543, 999698, 999963],\n",
              "           dtype='int64', name='personid', length=8984)"
            ]
          },
          "metadata": {
            "tags": []
          },
          "execution_count": 4
        }
      ]
    },
    {
      "cell_type": "code",
      "metadata": {
        "colab": {
          "base_uri": "https://localhost:8080/"
        },
        "id": "MrzpUUNnMatk",
        "outputId": "b87a9038-973c-4a03-ff67-9bda550e5fd2"
      },
      "source": [
        "nls97.shape"
      ],
      "execution_count": 5,
      "outputs": [
        {
          "output_type": "execute_result",
          "data": {
            "text/plain": [
              "(8984, 88)"
            ]
          },
          "metadata": {
            "tags": []
          },
          "execution_count": 5
        }
      ]
    },
    {
      "cell_type": "code",
      "metadata": {
        "colab": {
          "base_uri": "https://localhost:8080/"
        },
        "id": "ITG4vkdzMaqY",
        "outputId": "5239149a-f904-4df9-a557-dbf385917c8b"
      },
      "source": [
        "nls97.index.nunique()"
      ],
      "execution_count": 6,
      "outputs": [
        {
          "output_type": "execute_result",
          "data": {
            "text/plain": [
              "8984"
            ]
          },
          "metadata": {
            "tags": []
          },
          "execution_count": 6
        }
      ]
    },
    {
      "cell_type": "code",
      "metadata": {
        "colab": {
          "base_uri": "https://localhost:8080/"
        },
        "id": "AtabjckeMan1",
        "outputId": "8d580194-e63d-4eb3-f4c4-0823f71a9010"
      },
      "source": [
        "nls97.info()"
      ],
      "execution_count": 7,
      "outputs": [
        {
          "output_type": "stream",
          "text": [
            "<class 'pandas.core.frame.DataFrame'>\n",
            "Int64Index: 8984 entries, 100061 to 999963\n",
            "Data columns (total 88 columns):\n",
            " #   Column                 Non-Null Count  Dtype  \n",
            "---  ------                 --------------  -----  \n",
            " 0   gender                 8984 non-null   object \n",
            " 1   birthmonth             8984 non-null   int64  \n",
            " 2   birthyear              8984 non-null   int64  \n",
            " 3   highestgradecompleted  6663 non-null   float64\n",
            " 4   maritalstatus          6672 non-null   object \n",
            " 5   childathome            4791 non-null   float64\n",
            " 6   childnotathome         4791 non-null   float64\n",
            " 7   wageincome             5091 non-null   float64\n",
            " 8   weeklyhrscomputer      6710 non-null   object \n",
            " 9   weeklyhrstv            6711 non-null   object \n",
            " 10  nightlyhrssleep        6706 non-null   float64\n",
            " 11  satverbal              1406 non-null   float64\n",
            " 12  satmath                1407 non-null   float64\n",
            " 13  gpaoverall             6004 non-null   float64\n",
            " 14  gpaenglish             5798 non-null   float64\n",
            " 15  gpamath                5766 non-null   float64\n",
            " 16  gpascience             5684 non-null   float64\n",
            " 17  highestdegree          8953 non-null   object \n",
            " 18  govprovidejobs         1833 non-null   object \n",
            " 19  govpricecontrols       1859 non-null   object \n",
            " 20  govhealthcare          1874 non-null   object \n",
            " 21  govelderliving         1872 non-null   object \n",
            " 22  govindhelp             1815 non-null   object \n",
            " 23  govunemp               1811 non-null   object \n",
            " 24  govincomediff          1775 non-null   object \n",
            " 25  govcollegefinance      1875 non-null   object \n",
            " 26  govdecenthousing       1847 non-null   object \n",
            " 27  govprotectenvironment  1860 non-null   object \n",
            " 28  weeksworked00          8603 non-null   float64\n",
            " 29  weeksworked01          8564 non-null   float64\n",
            " 30  weeksworked02          8556 non-null   float64\n",
            " 31  weeksworked03          8490 non-null   float64\n",
            " 32  weeksworked04          8458 non-null   float64\n",
            " 33  weeksworked05          8403 non-null   float64\n",
            " 34  weeksworked06          8340 non-null   float64\n",
            " 35  weeksworked07          8272 non-null   float64\n",
            " 36  weeksworked08          8186 non-null   float64\n",
            " 37  weeksworked09          8146 non-null   float64\n",
            " 38  weeksworked10          8054 non-null   float64\n",
            " 39  weeksworked11          7968 non-null   float64\n",
            " 40  weeksworked12          7747 non-null   float64\n",
            " 41  weeksworked13          7680 non-null   float64\n",
            " 42  weeksworked14          7612 non-null   float64\n",
            " 43  weeksworked15          7389 non-null   float64\n",
            " 44  weeksworked16          7068 non-null   float64\n",
            " 45  weeksworked17          6670 non-null   float64\n",
            " 46  colenrfeb97            1250 non-null   object \n",
            " 47  colenroct97            8501 non-null   object \n",
            " 48  colenrfeb98            8501 non-null   object \n",
            " 49  colenroct98            8888 non-null   object \n",
            " 50  colenrfeb99            8865 non-null   object \n",
            " 51  colenroct99            8851 non-null   object \n",
            " 52  colenrfeb00            8820 non-null   object \n",
            " 53  colenroct00            8805 non-null   object \n",
            " 54  colenrfeb01            8786 non-null   object \n",
            " 55  colenroct01            8758 non-null   object \n",
            " 56  colenrfeb02            8732 non-null   object \n",
            " 57  colenroct02            8698 non-null   object \n",
            " 58  colenrfeb03            8658 non-null   object \n",
            " 59  colenroct03            8622 non-null   object \n",
            " 60  colenrfeb04            8578 non-null   object \n",
            " 61  colenroct04            8546 non-null   object \n",
            " 62  colenrfeb05            8508 non-null   object \n",
            " 63  colenroct05            8471 non-null   object \n",
            " 64  colenrfeb06            8426 non-null   object \n",
            " 65  colenroct06            8407 non-null   object \n",
            " 66  colenrfeb07            8352 non-null   object \n",
            " 67  colenroct07            8331 non-null   object \n",
            " 68  colenrfeb08            8289 non-null   object \n",
            " 69  colenroct08            8280 non-null   object \n",
            " 70  colenrfeb09            8236 non-null   object \n",
            " 71  colenroct09            8193 non-null   object \n",
            " 72  colenrfeb10            8116 non-null   object \n",
            " 73  colenroct10            8091 non-null   object \n",
            " 74  colenrfeb11            8037 non-null   object \n",
            " 75  colenroct11            7972 non-null   object \n",
            " 76  colenrfeb12            7794 non-null   object \n",
            " 77  colenroct12            7754 non-null   object \n",
            " 78  colenrfeb13            7754 non-null   object \n",
            " 79  colenroct13            7754 non-null   object \n",
            " 80  colenrfeb14            7624 non-null   object \n",
            " 81  colenroct14            7469 non-null   object \n",
            " 82  colenrfeb15            7469 non-null   object \n",
            " 83  colenroct15            7469 non-null   object \n",
            " 84  colenrfeb16            7036 non-null   object \n",
            " 85  colenroct16            6733 non-null   object \n",
            " 86  colenrfeb17            6733 non-null   object \n",
            " 87  colenroct17            6734 non-null   object \n",
            "dtypes: float64(29), int64(2), object(57)\n",
            "memory usage: 6.1+ MB\n"
          ],
          "name": "stdout"
        }
      ]
    },
    {
      "cell_type": "code",
      "metadata": {
        "colab": {
          "base_uri": "https://localhost:8080/",
          "height": 419
        },
        "id": "H6LtZXz0Mak7",
        "outputId": "c8122ab1-9d4a-4661-bd80-f3179cd39725"
      },
      "source": [
        "nls97.head(2).T"
      ],
      "execution_count": 8,
      "outputs": [
        {
          "output_type": "execute_result",
          "data": {
            "text/html": [
              "<div>\n",
              "<style scoped>\n",
              "    .dataframe tbody tr th:only-of-type {\n",
              "        vertical-align: middle;\n",
              "    }\n",
              "\n",
              "    .dataframe tbody tr th {\n",
              "        vertical-align: top;\n",
              "    }\n",
              "\n",
              "    .dataframe thead th {\n",
              "        text-align: right;\n",
              "    }\n",
              "</style>\n",
              "<table border=\"1\" class=\"dataframe\">\n",
              "  <thead>\n",
              "    <tr style=\"text-align: right;\">\n",
              "      <th>personid</th>\n",
              "      <th>100061</th>\n",
              "      <th>100139</th>\n",
              "    </tr>\n",
              "  </thead>\n",
              "  <tbody>\n",
              "    <tr>\n",
              "      <th>gender</th>\n",
              "      <td>Female</td>\n",
              "      <td>Male</td>\n",
              "    </tr>\n",
              "    <tr>\n",
              "      <th>birthmonth</th>\n",
              "      <td>5</td>\n",
              "      <td>9</td>\n",
              "    </tr>\n",
              "    <tr>\n",
              "      <th>birthyear</th>\n",
              "      <td>1980</td>\n",
              "      <td>1983</td>\n",
              "    </tr>\n",
              "    <tr>\n",
              "      <th>highestgradecompleted</th>\n",
              "      <td>13</td>\n",
              "      <td>12</td>\n",
              "    </tr>\n",
              "    <tr>\n",
              "      <th>maritalstatus</th>\n",
              "      <td>Married</td>\n",
              "      <td>Married</td>\n",
              "    </tr>\n",
              "    <tr>\n",
              "      <th>...</th>\n",
              "      <td>...</td>\n",
              "      <td>...</td>\n",
              "    </tr>\n",
              "    <tr>\n",
              "      <th>colenroct15</th>\n",
              "      <td>1. Not enrolled</td>\n",
              "      <td>1. Not enrolled</td>\n",
              "    </tr>\n",
              "    <tr>\n",
              "      <th>colenrfeb16</th>\n",
              "      <td>1. Not enrolled</td>\n",
              "      <td>1. Not enrolled</td>\n",
              "    </tr>\n",
              "    <tr>\n",
              "      <th>colenroct16</th>\n",
              "      <td>1. Not enrolled</td>\n",
              "      <td>1. Not enrolled</td>\n",
              "    </tr>\n",
              "    <tr>\n",
              "      <th>colenrfeb17</th>\n",
              "      <td>1. Not enrolled</td>\n",
              "      <td>1. Not enrolled</td>\n",
              "    </tr>\n",
              "    <tr>\n",
              "      <th>colenroct17</th>\n",
              "      <td>1. Not enrolled</td>\n",
              "      <td>1. Not enrolled</td>\n",
              "    </tr>\n",
              "  </tbody>\n",
              "</table>\n",
              "<p>88 rows × 2 columns</p>\n",
              "</div>"
            ],
            "text/plain": [
              "personid                        100061           100139\n",
              "gender                          Female             Male\n",
              "birthmonth                           5                9\n",
              "birthyear                         1980             1983\n",
              "highestgradecompleted               13               12\n",
              "maritalstatus                  Married          Married\n",
              "...                                ...              ...\n",
              "colenroct15            1. Not enrolled  1. Not enrolled\n",
              "colenrfeb16            1. Not enrolled  1. Not enrolled\n",
              "colenroct16            1. Not enrolled  1. Not enrolled\n",
              "colenrfeb17            1. Not enrolled  1. Not enrolled\n",
              "colenroct17            1. Not enrolled  1. Not enrolled\n",
              "\n",
              "[88 rows x 2 columns]"
            ]
          },
          "metadata": {
            "tags": []
          },
          "execution_count": 8
        }
      ]
    },
    {
      "cell_type": "code",
      "metadata": {
        "colab": {
          "base_uri": "https://localhost:8080/"
        },
        "id": "hP_jvbwVM-_4",
        "outputId": "2059a6ed-f51d-49ea-d627-6d682e400e51"
      },
      "source": [
        "#  Get basic stats on the covid cases dataset\r\n",
        "covidtotals.set_index(\"iso_code\", inplace=True)\r\n",
        "covidtotals.index"
      ],
      "execution_count": 9,
      "outputs": [
        {
          "output_type": "execute_result",
          "data": {
            "text/plain": [
              "Index(['AFG', 'ALB', 'DZA', 'AND', 'AGO', 'AIA', 'ATG', 'ARG', 'ARM',\n",
              "       'ABW',\n",
              "       ...\n",
              "       'VIR', 'URY', 'UZB', 'VAT', 'VEN', 'VNM', 'ESH', 'YEM', 'ZMB',\n",
              "       'ZWE'],\n",
              "      dtype='object', name='iso_code', length=210)"
            ]
          },
          "metadata": {
            "tags": []
          },
          "execution_count": 9
        }
      ]
    },
    {
      "cell_type": "code",
      "metadata": {
        "colab": {
          "base_uri": "https://localhost:8080/"
        },
        "id": "8OEH26M3M-8w",
        "outputId": "c2478507-f59c-49ec-c38f-76e66b17ed38"
      },
      "source": [
        "covidtotals.shape"
      ],
      "execution_count": 10,
      "outputs": [
        {
          "output_type": "execute_result",
          "data": {
            "text/plain": [
              "(210, 11)"
            ]
          },
          "metadata": {
            "tags": []
          },
          "execution_count": 10
        }
      ]
    },
    {
      "cell_type": "code",
      "metadata": {
        "colab": {
          "base_uri": "https://localhost:8080/"
        },
        "id": "nsSNq3onM-6P",
        "outputId": "9f0f1852-79ad-436d-99a0-ab4d6d8ffc9d"
      },
      "source": [
        "covidtotals.index.nunique()"
      ],
      "execution_count": 11,
      "outputs": [
        {
          "output_type": "execute_result",
          "data": {
            "text/plain": [
              "210"
            ]
          },
          "metadata": {
            "tags": []
          },
          "execution_count": 11
        }
      ]
    },
    {
      "cell_type": "code",
      "metadata": {
        "colab": {
          "base_uri": "https://localhost:8080/"
        },
        "id": "yIh38PRtM-3t",
        "outputId": "cf040da0-bf82-4fd4-e166-e81a216e21e3"
      },
      "source": [
        "covidtotals.info()"
      ],
      "execution_count": 12,
      "outputs": [
        {
          "output_type": "stream",
          "text": [
            "<class 'pandas.core.frame.DataFrame'>\n",
            "Index: 210 entries, AFG to ZWE\n",
            "Data columns (total 11 columns):\n",
            " #   Column           Non-Null Count  Dtype         \n",
            "---  ------           --------------  -----         \n",
            " 0   lastdate         210 non-null    datetime64[ns]\n",
            " 1   location         210 non-null    object        \n",
            " 2   total_cases      210 non-null    int64         \n",
            " 3   total_deaths     210 non-null    int64         \n",
            " 4   total_cases_pm   209 non-null    float64       \n",
            " 5   total_deaths_pm  209 non-null    float64       \n",
            " 6   population       210 non-null    float64       \n",
            " 7   pop_density      198 non-null    float64       \n",
            " 8   median_age       186 non-null    float64       \n",
            " 9   gdp_per_capita   182 non-null    float64       \n",
            " 10  hosp_beds        164 non-null    float64       \n",
            "dtypes: datetime64[ns](1), float64(7), int64(2), object(1)\n",
            "memory usage: 19.7+ KB\n"
          ],
          "name": "stdout"
        }
      ]
    },
    {
      "cell_type": "code",
      "metadata": {
        "colab": {
          "base_uri": "https://localhost:8080/",
          "height": 390
        },
        "id": "80cHpVmaM-yj",
        "outputId": "73b10bbe-ba97-43fd-8de2-401d67ff912a"
      },
      "source": [
        "covidtotals.sample(2, random_state=1).T"
      ],
      "execution_count": 13,
      "outputs": [
        {
          "output_type": "execute_result",
          "data": {
            "text/html": [
              "<div>\n",
              "<style scoped>\n",
              "    .dataframe tbody tr th:only-of-type {\n",
              "        vertical-align: middle;\n",
              "    }\n",
              "\n",
              "    .dataframe tbody tr th {\n",
              "        vertical-align: top;\n",
              "    }\n",
              "\n",
              "    .dataframe thead th {\n",
              "        text-align: right;\n",
              "    }\n",
              "</style>\n",
              "<table border=\"1\" class=\"dataframe\">\n",
              "  <thead>\n",
              "    <tr style=\"text-align: right;\">\n",
              "      <th>iso_code</th>\n",
              "      <th>COG</th>\n",
              "      <th>THA</th>\n",
              "    </tr>\n",
              "  </thead>\n",
              "  <tbody>\n",
              "    <tr>\n",
              "      <th>lastdate</th>\n",
              "      <td>2020-06-01 00:00:00</td>\n",
              "      <td>2020-06-01 00:00:00</td>\n",
              "    </tr>\n",
              "    <tr>\n",
              "      <th>location</th>\n",
              "      <td>Congo</td>\n",
              "      <td>Thailand</td>\n",
              "    </tr>\n",
              "    <tr>\n",
              "      <th>total_cases</th>\n",
              "      <td>611</td>\n",
              "      <td>3081</td>\n",
              "    </tr>\n",
              "    <tr>\n",
              "      <th>total_deaths</th>\n",
              "      <td>20</td>\n",
              "      <td>57</td>\n",
              "    </tr>\n",
              "    <tr>\n",
              "      <th>total_cases_pm</th>\n",
              "      <td>111</td>\n",
              "      <td>44</td>\n",
              "    </tr>\n",
              "    <tr>\n",
              "      <th>total_deaths_pm</th>\n",
              "      <td>4</td>\n",
              "      <td>1</td>\n",
              "    </tr>\n",
              "    <tr>\n",
              "      <th>population</th>\n",
              "      <td>5,518,092</td>\n",
              "      <td>69,799,978</td>\n",
              "    </tr>\n",
              "    <tr>\n",
              "      <th>pop_density</th>\n",
              "      <td>15</td>\n",
              "      <td>135</td>\n",
              "    </tr>\n",
              "    <tr>\n",
              "      <th>median_age</th>\n",
              "      <td>19</td>\n",
              "      <td>40</td>\n",
              "    </tr>\n",
              "    <tr>\n",
              "      <th>gdp_per_capita</th>\n",
              "      <td>4,881</td>\n",
              "      <td>16,278</td>\n",
              "    </tr>\n",
              "    <tr>\n",
              "      <th>hosp_beds</th>\n",
              "      <td>NaN</td>\n",
              "      <td>2</td>\n",
              "    </tr>\n",
              "  </tbody>\n",
              "</table>\n",
              "</div>"
            ],
            "text/plain": [
              "iso_code                         COG                  THA\n",
              "lastdate         2020-06-01 00:00:00  2020-06-01 00:00:00\n",
              "location                       Congo             Thailand\n",
              "total_cases                      611                 3081\n",
              "total_deaths                      20                   57\n",
              "total_cases_pm                   111                   44\n",
              "total_deaths_pm                    4                    1\n",
              "population                 5,518,092           69,799,978\n",
              "pop_density                       15                  135\n",
              "median_age                        19                   40\n",
              "gdp_per_capita                 4,881               16,278\n",
              "hosp_beds                        NaN                    2"
            ]
          },
          "metadata": {
            "tags": []
          },
          "execution_count": 13
        }
      ]
    }
  ]
}