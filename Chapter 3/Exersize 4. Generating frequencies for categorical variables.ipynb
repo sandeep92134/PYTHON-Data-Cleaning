{
  "nbformat": 4,
  "nbformat_minor": 0,
  "metadata": {
    "colab": {
      "name": "Untitled7.ipynb",
      "provenance": [],
      "authorship_tag": "ABX9TyNo7JUU49qZzNaxgsHdyjI/",
      "include_colab_link": true
    },
    "kernelspec": {
      "name": "python3",
      "display_name": "Python 3"
    }
  },
  "cells": [
    {
      "cell_type": "markdown",
      "metadata": {
        "id": "view-in-github",
        "colab_type": "text"
      },
      "source": [
        "<a href=\"https://colab.research.google.com/github/sandeep92134/PYTHON-Data-Cleaning/blob/master/Chapter%203/Exersize%204.%20Generating%20frequencies%20for%20categorical%20variables.ipynb\" target=\"_parent\"><img src=\"https://colab.research.google.com/assets/colab-badge.svg\" alt=\"Open In Colab\"/></a>"
      ]
    },
    {
      "cell_type": "code",
      "metadata": {
        "id": "ULUoClXRqRw4"
      },
      "source": [
        "# import pandas, numpy\r\n",
        "import pandas as pd\r\n",
        "pd.set_option('display.width', 75)\r\n",
        "pd.set_option('display.max_columns', 5)\r\n",
        "pd.set_option('display.max_rows', 20)\r\n",
        "pd.options.display.float_format = '{:,.2f}'.format\r\n",
        "nls97 = pd.read_csv(\"https://raw.githubusercontent.com/sandeep92134/PYTHON-Data-Cleaning/master/Chapter%203/datasets/nls97.csv\")\r\n",
        "nls97.set_index(\"personid\", inplace=True)\r\n",
        "nls97.loc[:, nls97.dtypes == 'object'] = \\\r\n",
        "  nls97.select_dtypes(['object']). \\\r\n",
        "  apply(lambda x: x.astype('category'))"
      ],
      "execution_count": 1,
      "outputs": []
    },
    {
      "cell_type": "code",
      "metadata": {
        "colab": {
          "base_uri": "https://localhost:8080/"
        },
        "id": "oLBOs7-aqhQ2",
        "outputId": "179a3311-d918-44e7-faf3-633f365f135b"
      },
      "source": [
        "# show the names of columns with category data type and check for number of missings\r\n",
        "catcols = nls97.select_dtypes(include=[\"category\"]).columns\r\n",
        "nls97[catcols].isnull().sum()"
      ],
      "execution_count": 2,
      "outputs": [
        {
          "output_type": "execute_result",
          "data": {
            "text/plain": [
              "gender                  0\n",
              "maritalstatus        2312\n",
              "weeklyhrscomputer    2274\n",
              "weeklyhrstv          2273\n",
              "highestdegree          31\n",
              "                     ... \n",
              "colenroct15          1515\n",
              "colenrfeb16          1948\n",
              "colenroct16          2251\n",
              "colenrfeb17          2251\n",
              "colenroct17          2250\n",
              "Length: 57, dtype: int64"
            ]
          },
          "metadata": {
            "tags": []
          },
          "execution_count": 2
        }
      ]
    },
    {
      "cell_type": "code",
      "metadata": {
        "colab": {
          "base_uri": "https://localhost:8080/"
        },
        "id": "PaUD3Am9q4L2",
        "outputId": "b43ab6ca-0a3b-444a-8bcc-444c9d433976"
      },
      "source": [
        "# show frequencies for marital status\r\n",
        "nls97.maritalstatus.value_counts()"
      ],
      "execution_count": 3,
      "outputs": [
        {
          "output_type": "execute_result",
          "data": {
            "text/plain": [
              "Married          3066\n",
              "Never-married    2766\n",
              "Divorced          663\n",
              "Separated         154\n",
              "Widowed            23\n",
              "Name: maritalstatus, dtype: int64"
            ]
          },
          "metadata": {
            "tags": []
          },
          "execution_count": 3
        }
      ]
    },
    {
      "cell_type": "code",
      "metadata": {
        "colab": {
          "base_uri": "https://localhost:8080/"
        },
        "id": "ZjA0olqHq8XN",
        "outputId": "2e1ddfe2-53ec-45bb-f4e2-59e5de5702a3"
      },
      "source": [
        "# turn off sorting by frequency\r\n",
        "nls97.maritalstatus.value_counts(sort=False)"
      ],
      "execution_count": 4,
      "outputs": [
        {
          "output_type": "execute_result",
          "data": {
            "text/plain": [
              "Divorced          663\n",
              "Married          3066\n",
              "Never-married    2766\n",
              "Separated         154\n",
              "Widowed            23\n",
              "Name: maritalstatus, dtype: int64"
            ]
          },
          "metadata": {
            "tags": []
          },
          "execution_count": 4
        }
      ]
    },
    {
      "cell_type": "code",
      "metadata": {
        "colab": {
          "base_uri": "https://localhost:8080/"
        },
        "id": "Sx3M0DgwrjBL",
        "outputId": "4709784b-f84d-43f5-aa6c-01d714c4f0a8"
      },
      "source": [
        "# show percentages instead of counts\r\n",
        "nls97.maritalstatus.value_counts(sort=False, normalize=True)"
      ],
      "execution_count": 5,
      "outputs": [
        {
          "output_type": "execute_result",
          "data": {
            "text/plain": [
              "Divorced        0.10\n",
              "Married         0.46\n",
              "Never-married   0.41\n",
              "Separated       0.02\n",
              "Widowed         0.00\n",
              "Name: maritalstatus, dtype: float64"
            ]
          },
          "metadata": {
            "tags": []
          },
          "execution_count": 5
        }
      ]
    },
    {
      "cell_type": "code",
      "metadata": {
        "colab": {
          "base_uri": "https://localhost:8080/",
          "height": 202
        },
        "id": "c9YNl-UZrrDt",
        "outputId": "7ec14e95-f953-4cfb-ab7e-a6659542aef2"
      },
      "source": [
        "# do percentages for all government responsibility variables\r\n",
        "nls97.filter(like=\"gov\").apply(pd.value_counts, normalize=True)"
      ],
      "execution_count": 6,
      "outputs": [
        {
          "output_type": "execute_result",
          "data": {
            "text/html": [
              "<div>\n",
              "<style scoped>\n",
              "    .dataframe tbody tr th:only-of-type {\n",
              "        vertical-align: middle;\n",
              "    }\n",
              "\n",
              "    .dataframe tbody tr th {\n",
              "        vertical-align: top;\n",
              "    }\n",
              "\n",
              "    .dataframe thead th {\n",
              "        text-align: right;\n",
              "    }\n",
              "</style>\n",
              "<table border=\"1\" class=\"dataframe\">\n",
              "  <thead>\n",
              "    <tr style=\"text-align: right;\">\n",
              "      <th></th>\n",
              "      <th>govprovidejobs</th>\n",
              "      <th>govpricecontrols</th>\n",
              "      <th>...</th>\n",
              "      <th>govdecenthousing</th>\n",
              "      <th>govprotectenvironment</th>\n",
              "    </tr>\n",
              "  </thead>\n",
              "  <tbody>\n",
              "    <tr>\n",
              "      <th>1. Definitely</th>\n",
              "      <td>0.25</td>\n",
              "      <td>0.54</td>\n",
              "      <td>...</td>\n",
              "      <td>0.44</td>\n",
              "      <td>0.67</td>\n",
              "    </tr>\n",
              "    <tr>\n",
              "      <th>2. Probably</th>\n",
              "      <td>0.34</td>\n",
              "      <td>0.33</td>\n",
              "      <td>...</td>\n",
              "      <td>0.43</td>\n",
              "      <td>0.29</td>\n",
              "    </tr>\n",
              "    <tr>\n",
              "      <th>3. Probably not</th>\n",
              "      <td>0.25</td>\n",
              "      <td>0.09</td>\n",
              "      <td>...</td>\n",
              "      <td>0.10</td>\n",
              "      <td>0.03</td>\n",
              "    </tr>\n",
              "    <tr>\n",
              "      <th>4. Definitely not</th>\n",
              "      <td>0.16</td>\n",
              "      <td>0.04</td>\n",
              "      <td>...</td>\n",
              "      <td>0.02</td>\n",
              "      <td>0.02</td>\n",
              "    </tr>\n",
              "  </tbody>\n",
              "</table>\n",
              "<p>4 rows × 10 columns</p>\n",
              "</div>"
            ],
            "text/plain": [
              "                   govprovidejobs  govpricecontrols  ...  \\\n",
              "1. Definitely                0.25              0.54  ...   \n",
              "2. Probably                  0.34              0.33  ...   \n",
              "3. Probably not              0.25              0.09  ...   \n",
              "4. Definitely not            0.16              0.04  ...   \n",
              "\n",
              "                   govdecenthousing  govprotectenvironment  \n",
              "1. Definitely                  0.44                   0.67  \n",
              "2. Probably                    0.43                   0.29  \n",
              "3. Probably not                0.10                   0.03  \n",
              "4. Definitely not              0.02                   0.02  \n",
              "\n",
              "[4 rows x 10 columns]"
            ]
          },
          "metadata": {
            "tags": []
          },
          "execution_count": 6
        }
      ]
    },
    {
      "cell_type": "code",
      "metadata": {
        "colab": {
          "base_uri": "https://localhost:8080/",
          "height": 202
        },
        "id": "dfGrou-7ryE6",
        "outputId": "8b95e989-c085-47c1-df1c-678ec5fcf3ea"
      },
      "source": [
        "# do percentages for all government responsibility variables for people who are married\r\n",
        "nls97[nls97.maritalstatus==\"Married\"].\\\r\n",
        "filter(like=\"gov\").\\\r\n",
        "apply(pd.value_counts, normalize=True)"
      ],
      "execution_count": 7,
      "outputs": [
        {
          "output_type": "execute_result",
          "data": {
            "text/html": [
              "<div>\n",
              "<style scoped>\n",
              "    .dataframe tbody tr th:only-of-type {\n",
              "        vertical-align: middle;\n",
              "    }\n",
              "\n",
              "    .dataframe tbody tr th {\n",
              "        vertical-align: top;\n",
              "    }\n",
              "\n",
              "    .dataframe thead th {\n",
              "        text-align: right;\n",
              "    }\n",
              "</style>\n",
              "<table border=\"1\" class=\"dataframe\">\n",
              "  <thead>\n",
              "    <tr style=\"text-align: right;\">\n",
              "      <th></th>\n",
              "      <th>govprovidejobs</th>\n",
              "      <th>govpricecontrols</th>\n",
              "      <th>...</th>\n",
              "      <th>govdecenthousing</th>\n",
              "      <th>govprotectenvironment</th>\n",
              "    </tr>\n",
              "  </thead>\n",
              "  <tbody>\n",
              "    <tr>\n",
              "      <th>1. Definitely</th>\n",
              "      <td>0.17</td>\n",
              "      <td>0.46</td>\n",
              "      <td>...</td>\n",
              "      <td>0.36</td>\n",
              "      <td>0.64</td>\n",
              "    </tr>\n",
              "    <tr>\n",
              "      <th>2. Probably</th>\n",
              "      <td>0.33</td>\n",
              "      <td>0.38</td>\n",
              "      <td>...</td>\n",
              "      <td>0.49</td>\n",
              "      <td>0.31</td>\n",
              "    </tr>\n",
              "    <tr>\n",
              "      <th>3. Probably not</th>\n",
              "      <td>0.31</td>\n",
              "      <td>0.11</td>\n",
              "      <td>...</td>\n",
              "      <td>0.12</td>\n",
              "      <td>0.03</td>\n",
              "    </tr>\n",
              "    <tr>\n",
              "      <th>4. Definitely not</th>\n",
              "      <td>0.18</td>\n",
              "      <td>0.05</td>\n",
              "      <td>...</td>\n",
              "      <td>0.03</td>\n",
              "      <td>0.01</td>\n",
              "    </tr>\n",
              "  </tbody>\n",
              "</table>\n",
              "<p>4 rows × 10 columns</p>\n",
              "</div>"
            ],
            "text/plain": [
              "                   govprovidejobs  govpricecontrols  ...  \\\n",
              "1. Definitely                0.17              0.46  ...   \n",
              "2. Probably                  0.33              0.38  ...   \n",
              "3. Probably not              0.31              0.11  ...   \n",
              "4. Definitely not            0.18              0.05  ...   \n",
              "\n",
              "                   govdecenthousing  govprotectenvironment  \n",
              "1. Definitely                  0.36                   0.64  \n",
              "2. Probably                    0.49                   0.31  \n",
              "3. Probably not                0.12                   0.03  \n",
              "4. Definitely not              0.03                   0.01  \n",
              "\n",
              "[4 rows x 10 columns]"
            ]
          },
          "metadata": {
            "tags": []
          },
          "execution_count": 7
        }
      ]
    },
    {
      "cell_type": "code",
      "metadata": {
        "id": "8T2OMLgZsDzH"
      },
      "source": [
        "# do frequencies and percentages for all category variables in data frame\r\n",
        "freqout = open('/content/frequencies.txt', 'w') \r\n",
        "for col in nls97.select_dtypes(include=[\"category\"]):\r\n",
        "  print(col, \"----------------------\", \"frequencies\",\r\n",
        "  nls97[col].value_counts(sort=False),\"percentages\",\r\n",
        "  nls97[col].value_counts(normalize=True, sort=False),\r\n",
        "  sep=\"\\n\\n\", end=\"\\n\\n\\n\", file=freqout)\r\n",
        "\r\n",
        "freqout.close()"
      ],
      "execution_count": 8,
      "outputs": []
    }
  ]
}